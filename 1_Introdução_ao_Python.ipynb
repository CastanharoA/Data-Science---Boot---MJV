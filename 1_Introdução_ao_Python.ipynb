{
  "nbformat": 4,
  "nbformat_minor": 0,
  "metadata": {
    "kernelspec": {
      "display_name": "Python 3",
      "language": "python",
      "name": "python3"
    },
    "language_info": {
      "codemirror_mode": {
        "name": "ipython",
        "version": 3
      },
      "file_extension": ".py",
      "mimetype": "text/x-python",
      "name": "python",
      "nbconvert_exporter": "python",
      "pygments_lexer": "ipython3",
      "version": "3.5.6"
    },
    "colab": {
      "name": "1_Introdução_ao_Python.ipynb",
      "provenance": [],
      "collapsed_sections": [],
      "toc_visible": true,
      "include_colab_link": true
    },
    "accelerator": "GPU"
  },
  "cells": [
    {
      "cell_type": "markdown",
      "metadata": {
        "id": "view-in-github",
        "colab_type": "text"
      },
      "source": [
        "<a href=\"https://colab.research.google.com/github/CastanharoA/Data-Science---Boot---MJV/blob/main/1_Introdu%C3%A7%C3%A3o_ao_Python.ipynb\" target=\"_parent\"><img src=\"https://colab.research.google.com/assets/colab-badge.svg\" alt=\"Open In Colab\"/></a>"
      ]
    },
    {
      "cell_type": "markdown",
      "metadata": {
        "id": "u7RVOHksfU3L"
      },
      "source": [
        "# Introdução ao Python\n",
        "\n",
        "Autor: Natanael Moura Junior (natanael.junior@mjv.com.br)\n",
        "\n",
        "<img align=\"center\" width=\"200\" src=\"https://raw.githubusercontent.com/natmourajr/data/main/mjv-tecnologia.png?raw=1\">"
      ]
    },
    {
      "cell_type": "markdown",
      "metadata": {
        "id": "ximAQcJlfU3M"
      },
      "source": [
        "# Objetivos\n",
        "1 - Iniciar os usuários em python <br>\n",
        "2 - Mostrar exemplos <br>\n",
        "3 - Ser referência para futuras dúvidas<br>\n",
        "\n"
      ]
    },
    {
      "cell_type": "markdown",
      "metadata": {
        "id": "mGF0lySvtBZP"
      },
      "source": [
        "# Comando ```help```"
      ]
    },
    {
      "cell_type": "markdown",
      "metadata": {
        "id": "WhzlyjpPFhEX"
      },
      "source": [
        "Python tem sido uma das linguagens de programação mais utilizadas em todo o mundo, por isso, a sua documentação tem sido farta na internet, bem como o seu suporte de desenvolvedores. Ainda assim, um dos comandos mais úteis durante o desenvolvimento é o help\n",
        "\n",
        "```python\n",
        "help(func)\n",
        "```\n",
        "\n"
      ]
    },
    {
      "cell_type": "code",
      "metadata": {
        "id": "hsP4ZWKafU3N",
        "colab": {
          "base_uri": "https://localhost:8080/"
        },
        "outputId": "c993532b-7b24-451b-89d8-eb09da9326e5"
      },
      "source": [
        "help(print)"
      ],
      "execution_count": null,
      "outputs": [
        {
          "output_type": "stream",
          "name": "stdout",
          "text": [
            "Help on built-in function print in module builtins:\n",
            "\n",
            "print(...)\n",
            "    print(value, ..., sep=' ', end='\\n', file=sys.stdout, flush=False)\n",
            "    \n",
            "    Prints the values to a stream, or to sys.stdout by default.\n",
            "    Optional keyword arguments:\n",
            "    file:  a file-like object (stream); defaults to the current sys.stdout.\n",
            "    sep:   string inserted between values, default a space.\n",
            "    end:   string appended after the last value, default a newline.\n",
            "    flush: whether to forcibly flush the stream.\n",
            "\n"
          ]
        }
      ]
    },
    {
      "cell_type": "markdown",
      "metadata": {
        "id": "NLPxAruzDsGx"
      },
      "source": [
        "O que é uma *built-in function*?<br>\n",
        "O interpretador do Python possui várias funções e tipos incorporados que sempre estão disponíveis. A seguir listamos todas as funções em ordem alfabética.\n",
        "\n",
        "|               |             | Built-in Functions |              |                |\n",
        "|---------------|-------------|:------------------:|--------------|----------------|\n",
        "| abs()         | delattr()   | hash()             | memoryview() | set()          |\n",
        "| all()         | dict()      | help()             | min()        | setattr()      |\n",
        "| any()         | dir()       | hex()              | next()       | slice()        |\n",
        "| ascii()       | divmod()    | id()               | object()     | sorted()       |\n",
        "| bin()         | enumerate() | input()            | oct()        | staticmethod() |\n",
        "| bool()        | eval()      | int()              | open()       | str()          |\n",
        "| breakpoint()  | exec()      | isinstance()       | ord()        | sum()          |\n",
        "| bytearray()   | filter()    | issubclass()       | pow()        | super()        |\n",
        "| bytes()       | float()     | iter()             | print()      | tuple()        |\n",
        "| callable()    | format()    | len()              | property()   | type()         |\n",
        "| chr()         | frozenset() | list()             | range()      | vars()         |\n",
        "| classmethod() | getattr()   | locals()           | repr()       | zip()          |\n",
        "| compile()     | globals()   | map()              | reversed()   | \\__import__()   |\n",
        "| complex()     | hasattr()   | max()              | round()      |                |\n"
      ]
    },
    {
      "cell_type": "markdown",
      "metadata": {
        "id": "mfM_YZ3kGCxN"
      },
      "source": [
        "Uma outra maneira de se visualizar os comandados e a sua documentação é com o caracter ```?```\n",
        "\n",
        "```python\n",
        "func?\n",
        "```"
      ]
    },
    {
      "cell_type": "code",
      "metadata": {
        "id": "vK58NKWfFY0I"
      },
      "source": [
        "print?"
      ],
      "execution_count": null,
      "outputs": []
    },
    {
      "cell_type": "markdown",
      "metadata": {
        "id": "kTG39ug4Gg19"
      },
      "source": [
        "Caso você queira acessar diretamente o código-fonte de uma determinada função, basta que você adicione ao lado da mesma duas vezes o caracter ```??```\n",
        "\n",
        " ```python\n",
        " func??\n",
        " ```"
      ]
    },
    {
      "cell_type": "code",
      "metadata": {
        "id": "cGWRgh6SGWFq"
      },
      "source": [
        "def add(a,b):\n",
        "  return a+b\n",
        "add??"
      ],
      "execution_count": null,
      "outputs": []
    },
    {
      "cell_type": "code",
      "metadata": {
        "id": "QB15QjUO4sm4"
      },
      "source": [
        "import math\n",
        "math.cos??"
      ],
      "execution_count": null,
      "outputs": []
    },
    {
      "cell_type": "markdown",
      "metadata": {
        "id": "dwDOZh6r5sZk"
      },
      "source": [
        "O comando ```import math``` importa a biblioteca de matemática do python\n",
        "\n",
        "O comando ```math.cos??``` abre a documentação da função cos da biblioteca math do python"
      ]
    },
    {
      "cell_type": "markdown",
      "metadata": {
        "id": "elRD8QzWHXNT"
      },
      "source": [
        "# Comando ```print```"
      ]
    },
    {
      "cell_type": "markdown",
      "metadata": {
        "id": "0oUu3AGJHlGe"
      },
      "source": [
        "Outro dos comandandos mais utilizados em Python é o comandando ```print```\n",
        "\n",
        "```python\n",
        "print(string_a_ser_impressa_na_tela)\n",
        "```"
      ]
    },
    {
      "cell_type": "code",
      "metadata": {
        "colab": {
          "base_uri": "https://localhost:8080/"
        },
        "id": "LI6naX9OviMh",
        "outputId": "256eeeb3-ab60-4bd1-aa56-fc0e11094602"
      },
      "source": [
        "print(10.0)"
      ],
      "execution_count": null,
      "outputs": [
        {
          "output_type": "stream",
          "name": "stdout",
          "text": [
            "10.0\n"
          ]
        }
      ]
    },
    {
      "cell_type": "code",
      "metadata": {
        "colab": {
          "base_uri": "https://localhost:8080/"
        },
        "id": "rR4uF4DsH0J3",
        "outputId": "83c1dd88-c58a-4a7f-f445-77c8ff3776cc"
      },
      "source": [
        "print('10.0')"
      ],
      "execution_count": null,
      "outputs": [
        {
          "output_type": "stream",
          "name": "stdout",
          "text": [
            "10.0\n"
          ]
        }
      ]
    },
    {
      "cell_type": "code",
      "metadata": {
        "id": "_ruFZZnnfU3T",
        "colab": {
          "base_uri": "https://localhost:8080/"
        },
        "outputId": "2dde663f-f908-4924-f9b2-a7aafa5b171d"
      },
      "source": [
        "if 5 > 2:\n",
        "  print(\"Five is greater than two!\")"
      ],
      "execution_count": null,
      "outputs": [
        {
          "output_type": "stream",
          "name": "stdout",
          "text": [
            "Five is greater than two!\n"
          ]
        }
      ]
    },
    {
      "cell_type": "code",
      "metadata": {
        "colab": {
          "base_uri": "https://localhost:8080/"
        },
        "id": "VB_5-d1E9ClI",
        "outputId": "8a366519-6304-4daa-f424-4d6cee838487"
      },
      "source": [
        "if False:\n",
        "  print('estou dentro do if')\n",
        "  print('continuo dentro do if')\n",
        "print('estou fora do if')"
      ],
      "execution_count": null,
      "outputs": [
        {
          "output_type": "stream",
          "name": "stdout",
          "text": [
            "estou fora do if\n"
          ]
        }
      ]
    },
    {
      "cell_type": "markdown",
      "metadata": {
        "id": "C8OaKfq1dDkK"
      },
      "source": [
        "**Escopo**: Região do código de programação sobre influência de uma determinada entidade (controle de fluxo, função, ou outros)"
      ]
    },
    {
      "cell_type": "code",
      "metadata": {
        "colab": {
          "base_uri": "https://localhost:8080/",
          "height": 248
        },
        "id": "ojgJ6DaOeNlq",
        "outputId": "f54cc8a5-85fa-4b34-e42d-2b80cb2a2567"
      },
      "source": [
        "condicional = True\n",
        "if condicional:\n",
        "  print('Condição verdadeira')"
      ],
      "execution_count": null,
      "outputs": [
        {
          "output_type": "stream",
          "name": "stdout",
          "text": [
            "Condição verdadeira\n"
          ]
        },
        {
          "output_type": "error",
          "ename": "NameError",
          "evalue": "ignored",
          "traceback": [
            "\u001b[0;31m---------------------------------------------------------------------------\u001b[0m",
            "\u001b[0;31mNameError\u001b[0m                                 Traceback (most recent call last)",
            "\u001b[0;32m<ipython-input-1-c62e17c62380>\u001b[0m in \u001b[0;36m<module>\u001b[0;34m()\u001b[0m\n\u001b[1;32m      2\u001b[0m \u001b[0;32mif\u001b[0m \u001b[0mcondicional\u001b[0m\u001b[0;34m:\u001b[0m\u001b[0;34m\u001b[0m\u001b[0;34m\u001b[0m\u001b[0m\n\u001b[1;32m      3\u001b[0m   \u001b[0mprint\u001b[0m\u001b[0;34m(\u001b[0m\u001b[0;34m'Condição verdadeira'\u001b[0m\u001b[0;34m)\u001b[0m\u001b[0;34m\u001b[0m\u001b[0;34m\u001b[0m\u001b[0m\n\u001b[0;32m----> 4\u001b[0;31m \u001b[0mprint\u001b[0m\u001b[0;34m(\u001b[0m\u001b[0mvariavel\u001b[0m\u001b[0;34m)\u001b[0m\u001b[0;34m\u001b[0m\u001b[0;34m\u001b[0m\u001b[0m\n\u001b[0m",
            "\u001b[0;31mNameError\u001b[0m: name 'variavel' is not defined"
          ]
        }
      ]
    },
    {
      "cell_type": "markdown",
      "metadata": {
        "id": "TegvOMbpLRQA"
      },
      "source": [
        "Perceba que python é uma linguagem de programação que leva em consideração a identação do código. Ou seja, caso fizéssemos:\n",
        "\n",
        "```python\n",
        "if (5>2):\n",
        "print(\"Five is greater than two!\")\n",
        "```\n",
        "Encontrariamos um erro na execução do código devido a falta de identação depois do ```if```\n"
      ]
    },
    {
      "cell_type": "code",
      "metadata": {
        "id": "HuGLokx4fU3W",
        "colab": {
          "base_uri": "https://localhost:8080/"
        },
        "outputId": "b0052c90-cd57-4ecd-8fd5-e13764d25b6b"
      },
      "source": [
        "x = 5\n",
        "y = \"Hello, World!\"\n",
        "\n",
        "print(x,y)"
      ],
      "execution_count": null,
      "outputs": [
        {
          "output_type": "stream",
          "name": "stdout",
          "text": [
            "5 Hello, World!\n"
          ]
        }
      ]
    },
    {
      "cell_type": "code",
      "metadata": {
        "id": "Kif6esCgfU3a",
        "colab": {
          "base_uri": "https://localhost:8080/"
        },
        "outputId": "eebf3b73-c0d0-4ef4-8168-4170e142d8c4"
      },
      "source": [
        "#This is a comment.\n",
        "print(\"This is a comment.\")"
      ],
      "execution_count": null,
      "outputs": [
        {
          "output_type": "stream",
          "name": "stdout",
          "text": [
            "This is a comment.\n"
          ]
        }
      ]
    },
    {
      "cell_type": "markdown",
      "metadata": {
        "id": "z8A8fDMjgjsu"
      },
      "source": [
        "**Comentário**: é um conjunto de informações que não é interpretado pelo interpretador nem pelo compilador."
      ]
    },
    {
      "cell_type": "code",
      "metadata": {
        "colab": {
          "base_uri": "https://localhost:8080/"
        },
        "id": "RcuORVz0g1Sz",
        "outputId": "caa54d52-6f73-4134-b01e-cff22bdc2719"
      },
      "source": [
        "# Falar com os alunos sobre algumas informações importantes!\n",
        "print(\"Depois do comentário\")"
      ],
      "execution_count": null,
      "outputs": [
        {
          "output_type": "stream",
          "name": "stdout",
          "text": [
            "Depois do comentário\n"
          ]
        }
      ]
    },
    {
      "cell_type": "code",
      "metadata": {
        "id": "Tnuh0txefU3e",
        "colab": {
          "base_uri": "https://localhost:8080/"
        },
        "outputId": "bdaebbba-4480-4309-ad3e-447169cb65b9"
      },
      "source": [
        "\"\"\"\n",
        "This is a comment\n",
        "written in \n",
        "more than just one line\n",
        "\"\"\"\n",
        "print(\"This is a comment.\")"
      ],
      "execution_count": null,
      "outputs": [
        {
          "output_type": "stream",
          "name": "stdout",
          "text": [
            "This is a comment.\n"
          ]
        }
      ]
    },
    {
      "cell_type": "markdown",
      "metadata": {
        "id": "9lctKxQyNho7"
      },
      "source": [
        "#Histórico de mensagens de entrada e saída"
      ]
    },
    {
      "cell_type": "markdown",
      "metadata": {
        "id": "zsv8EnZlNpej"
      },
      "source": [
        "Por ser uma linguagem interpretada, assim como o MatLab, o Python tem um histórico de saídas armazenadas. Assim sendo, vamos a alguns exemplos:\n"
      ]
    },
    {
      "cell_type": "markdown",
      "metadata": {
        "id": "aQzp66u_QFSw"
      },
      "source": [
        "**Carga da biblioteca** ```math```<br>\n",
        "Este biblioteca tem algumas das funções de matemática trigonométrica já implementada"
      ]
    },
    {
      "cell_type": "code",
      "metadata": {
        "id": "WkzzGjxqabjB"
      },
      "source": [
        "import math"
      ],
      "execution_count": null,
      "outputs": []
    },
    {
      "cell_type": "code",
      "metadata": {
        "colab": {
          "base_uri": "https://localhost:8080/"
        },
        "id": "FOAU9GqlOOXP",
        "outputId": "66a32200-54b9-4cc7-b825-80fc61e77861"
      },
      "source": [
        "math.sin(2) # seno de 2"
      ],
      "execution_count": null,
      "outputs": [
        {
          "output_type": "execute_result",
          "data": {
            "text/plain": [
              "0.9092974268256817"
            ]
          },
          "metadata": {},
          "execution_count": 6
        }
      ]
    },
    {
      "cell_type": "code",
      "metadata": {
        "colab": {
          "base_uri": "https://localhost:8080/"
        },
        "id": "Ex4a77f1OR89",
        "outputId": "110f29d8-fcad-4829-c146-6517055812b0"
      },
      "source": [
        "math.cos(2) # cosseno de 2"
      ],
      "execution_count": null,
      "outputs": [
        {
          "output_type": "execute_result",
          "data": {
            "text/plain": [
              "-0.4161468365471424"
            ]
          },
          "metadata": {},
          "execution_count": 7
        }
      ]
    },
    {
      "cell_type": "code",
      "metadata": {
        "colab": {
          "base_uri": "https://localhost:8080/"
        },
        "id": "n0bg10ESOx5R",
        "outputId": "1f0603e7-7400-4a4e-a70c-066ee8768e07"
      },
      "source": [
        "print(In)"
      ],
      "execution_count": null,
      "outputs": [
        {
          "output_type": "stream",
          "name": "stdout",
          "text": [
            "['', 'help(print)', \"get_ipython().magic('pinfo print')\", \"def add(a,b):\\n  return a+b\\nget_ipython().magic('pinfo2 add')\", 'print(10.0)', \"print('10.0')\", 'if 5 > 2:\\n  print(\"Five is greater than two!\")', 'x = 5\\ny = \"Hello, World!\"\\n\\nprint(x,y)', '#This is a comment.\\nprint(\"This is a comment.\")', '\"\"\"\\nThis is a comment\\nwritten in \\nmore than just one line\\n\"\"\"\\nprint(\"This is a comment.\")', 'import math', 'math.sin(2) # seno de 2', 'math.cos(2) # cosseno de 2', 'print(In)']\n"
          ]
        }
      ]
    },
    {
      "cell_type": "markdown",
      "metadata": {
        "id": "4ggOUhT3O0Mh"
      },
      "source": [
        "Podemos ver aqui que as entradas que foram processadas pelo interpretador do Python estão impressas por este comando (```print(In)```). Perceba que a ordem de cada uma das entradas é a mesma com as quais estas foram introduzidas para interpretação."
      ]
    },
    {
      "cell_type": "code",
      "metadata": {
        "colab": {
          "base_uri": "https://localhost:8080/"
        },
        "id": "Dh2CvI1APKlJ",
        "outputId": "f172ae43-b772-4d46-cf45-30852a92d865"
      },
      "source": [
        "print(Out)"
      ],
      "execution_count": null,
      "outputs": [
        {
          "output_type": "stream",
          "name": "stdout",
          "text": [
            "{11: 0.9092974268256817, 12: -0.4161468365471424}\n"
          ]
        }
      ]
    },
    {
      "cell_type": "markdown",
      "metadata": {
        "id": "1-6sGaD5PP7a"
      },
      "source": [
        "Repare que da mesma maneira que o comando anterior, o comando ```print(Out)``` também imprime as saídas de cada um dos comandos que foram adicionados para processamento."
      ]
    },
    {
      "cell_type": "markdown",
      "metadata": {
        "id": "pv8G4EQpQbIG"
      },
      "source": [
        "Vamos a uma outra forma de acessar o histórico de saida em Python. <br>\n",
        "Existe uma variável de execução (escondida durante a execução) que pode ser acessada facilmente dentro do código, a variável se chama ```_```"
      ]
    },
    {
      "cell_type": "code",
      "metadata": {
        "colab": {
          "base_uri": "https://localhost:8080/"
        },
        "id": "kb5rSleCQ2wk",
        "outputId": "87b6dfdc-934a-4f7e-b2af-9b488cf09120"
      },
      "source": [
        "print(_) # mostra a "
      ],
      "execution_count": null,
      "outputs": [
        {
          "output_type": "stream",
          "name": "stdout",
          "text": [
            "-0.4161468365471424\n"
          ]
        }
      ]
    },
    {
      "cell_type": "markdown",
      "metadata": {
        "id": "JX7sKeGSfU3h"
      },
      "source": [
        "# Variáveis em Python\n",
        "\n",
        "Variáveis são contêineres para armazenar valores de dados. <br>\n",
        "\n",
        "Ao contrário de outras linguagens de programação, o Python não possui comando para declarar uma variável.\n",
        "\n",
        "Uma variável é criada no momento em que você atribui um valor a ela."
      ]
    },
    {
      "cell_type": "code",
      "metadata": {
        "id": "okdongzsfU3i",
        "colab": {
          "base_uri": "https://localhost:8080/"
        },
        "outputId": "094019b1-64e0-47f1-e840-5dc356a23aea"
      },
      "source": [
        "x = 5\n",
        "y = \"John\"\n",
        "print(x)\n",
        "print(y)"
      ],
      "execution_count": null,
      "outputs": [
        {
          "output_type": "stream",
          "name": "stdout",
          "text": [
            "5\n",
            "John\n"
          ]
        }
      ]
    },
    {
      "cell_type": "code",
      "metadata": {
        "id": "qktFlmqhfU3m",
        "colab": {
          "base_uri": "https://localhost:8080/"
        },
        "outputId": "84575505-a812-40ce-fd5d-ad92a163277a"
      },
      "source": [
        "x = 4 # x is of type int\n",
        "print(x, type(x))\n",
        "x = \"Sally\" # x is now of type str\n",
        "print(x, type(x))"
      ],
      "execution_count": null,
      "outputs": [
        {
          "output_type": "stream",
          "name": "stdout",
          "text": [
            "4 <class 'int'>\n",
            "Sally <class 'str'>\n"
          ]
        }
      ]
    },
    {
      "cell_type": "code",
      "metadata": {
        "id": "d0iE8RsNfU3q",
        "colab": {
          "base_uri": "https://localhost:8080/"
        },
        "outputId": "dbf8adb1-e2e3-4e7c-fa56-b1d421d9cae5"
      },
      "source": [
        "x = \"John\"\n",
        "print(x)\n",
        "# is the same as\n",
        "x = 'John'\n",
        "print(x)"
      ],
      "execution_count": null,
      "outputs": [
        {
          "output_type": "stream",
          "name": "stdout",
          "text": [
            "John\n",
            "John\n"
          ]
        }
      ]
    },
    {
      "cell_type": "markdown",
      "metadata": {
        "id": "-H3F0vZ6fU3t"
      },
      "source": [
        "# Boas práticas em python\n",
        "\n",
        "Uma variável pode ter um nome abreviado (como x  e y) ou um nome mais descritivo (age, carname, total_volume). Regras para variáveis do Python:<br>\n",
        " 1 - Um nome de variável deve começar com uma letra ou o caractere de sublinhado<br>\n",
        " 2 - O nome de variável não deve começar com um número<br>\n",
        " 3 - Um nome de variável só deve conter caracteres alfanuméricos e sublinhados (A-z, 0-9 e _)<br>\n",
        " 4 - Os nomes das variáveis fazem distinção entre maiúsculas e minúsculas (Idade, idade e IDADE são três variáveis diferentes)<br>"
      ]
    },
    {
      "cell_type": "code",
      "metadata": {
        "id": "1dmImlJqfU3t",
        "colab": {
          "base_uri": "https://localhost:8080/"
        },
        "outputId": "e241a230-e6f7-4a55-8aa7-d6393fb1548d"
      },
      "source": [
        "x, y, z = \"Orange\", \"Banana\", \"Cherry\"\n",
        "print(x)\n",
        "print(y)\n",
        "print(z)"
      ],
      "execution_count": null,
      "outputs": [
        {
          "output_type": "stream",
          "name": "stdout",
          "text": [
            "Orange\n",
            "Banana\n",
            "Cherry\n"
          ]
        }
      ]
    },
    {
      "cell_type": "code",
      "metadata": {
        "colab": {
          "base_uri": "https://localhost:8080/"
        },
        "id": "Xq80QctSjz75",
        "outputId": "ac989bf4-c8fb-41c0-ab54-8f6d1e00580f"
      },
      "source": [
        "idade, sexo, altura = 33,'MASCULINO', 1.93\n",
        "print(idade, type(idade))\n",
        "print(sexo, type(sexo))\n",
        "print(altura, type(altura))"
      ],
      "execution_count": null,
      "outputs": [
        {
          "output_type": "stream",
          "name": "stdout",
          "text": [
            "33 <class 'int'>\n",
            "MASCULINO <class 'str'>\n",
            "1.93 <class 'float'>\n"
          ]
        }
      ]
    },
    {
      "cell_type": "code",
      "metadata": {
        "id": "Fuzyvb3hfU3w",
        "colab": {
          "base_uri": "https://localhost:8080/"
        },
        "outputId": "729d0d97-a757-4ef8-cbd0-38e701b1a7cb"
      },
      "source": [
        "x = y = z = \"Orange\"\n",
        "print(x)\n",
        "print(y)\n",
        "print(z)"
      ],
      "execution_count": null,
      "outputs": [
        {
          "output_type": "stream",
          "name": "stdout",
          "text": [
            "Orange\n",
            "Orange\n",
            "Orange\n"
          ]
        }
      ]
    },
    {
      "cell_type": "code",
      "metadata": {
        "id": "pMq5EvAMfU30",
        "colab": {
          "base_uri": "https://localhost:8080/"
        },
        "outputId": "300a5abb-a805-4bbc-af59-cdc0c697a93f"
      },
      "source": [
        "x = \"awesome\"\n",
        "print(\"Python is \" + x)"
      ],
      "execution_count": null,
      "outputs": [
        {
          "output_type": "stream",
          "name": "stdout",
          "text": [
            "Python is awesome\n"
          ]
        }
      ]
    },
    {
      "cell_type": "code",
      "metadata": {
        "colab": {
          "base_uri": "https://localhost:8080/",
          "height": 248
        },
        "id": "movHi0qcksrB",
        "outputId": "1334a5f9-a080-4285-a6cb-e6cc80e71729"
      },
      "source": [
        "x = 2\n",
        "variavel = 'Minha variável é '\n",
        "print(variavel, type(variavel))\n",
        "print(variavel + x)"
      ],
      "execution_count": null,
      "outputs": [
        {
          "output_type": "stream",
          "name": "stdout",
          "text": [
            "Minha variável é  <class 'str'>\n"
          ]
        },
        {
          "output_type": "error",
          "ename": "TypeError",
          "evalue": "ignored",
          "traceback": [
            "\u001b[0;31m---------------------------------------------------------------------------\u001b[0m",
            "\u001b[0;31mTypeError\u001b[0m                                 Traceback (most recent call last)",
            "\u001b[0;32m<ipython-input-21-8a7f4a2277e8>\u001b[0m in \u001b[0;36m<module>\u001b[0;34m()\u001b[0m\n\u001b[1;32m      2\u001b[0m \u001b[0mvariavel\u001b[0m \u001b[0;34m=\u001b[0m \u001b[0;34m'Minha variável é '\u001b[0m\u001b[0;34m\u001b[0m\u001b[0;34m\u001b[0m\u001b[0m\n\u001b[1;32m      3\u001b[0m \u001b[0mprint\u001b[0m\u001b[0;34m(\u001b[0m\u001b[0mvariavel\u001b[0m\u001b[0;34m,\u001b[0m \u001b[0mtype\u001b[0m\u001b[0;34m(\u001b[0m\u001b[0mvariavel\u001b[0m\u001b[0;34m)\u001b[0m\u001b[0;34m)\u001b[0m\u001b[0;34m\u001b[0m\u001b[0;34m\u001b[0m\u001b[0m\n\u001b[0;32m----> 4\u001b[0;31m \u001b[0mprint\u001b[0m\u001b[0;34m(\u001b[0m\u001b[0mvariavel\u001b[0m \u001b[0;34m+\u001b[0m \u001b[0mx\u001b[0m\u001b[0;34m)\u001b[0m\u001b[0;34m\u001b[0m\u001b[0;34m\u001b[0m\u001b[0m\n\u001b[0m",
            "\u001b[0;31mTypeError\u001b[0m: can only concatenate str (not \"int\") to str"
          ]
        }
      ]
    },
    {
      "cell_type": "markdown",
      "metadata": {
        "id": "Hbl9Cvy2ltxs"
      },
      "source": [
        "Obs: não podemos misturar tipos de variáveis diferentes em uma mesma posição de memória (mesma variável)"
      ]
    },
    {
      "cell_type": "code",
      "metadata": {
        "colab": {
          "base_uri": "https://localhost:8080/",
          "height": 231
        },
        "id": "2YoexIC9l6XU",
        "outputId": "a4b13df1-490b-4e03-824b-aa8a4093d0bd"
      },
      "source": [
        "variavel_str = \"A minha variável é\"\n",
        "variavel_int = 2\n",
        "variavel_mistura = variavel_str + variavel_int"
      ],
      "execution_count": null,
      "outputs": [
        {
          "output_type": "error",
          "ename": "TypeError",
          "evalue": "ignored",
          "traceback": [
            "\u001b[0;31m---------------------------------------------------------------------------\u001b[0m",
            "\u001b[0;31mTypeError\u001b[0m                                 Traceback (most recent call last)",
            "\u001b[0;32m<ipython-input-22-baf09f27d93b>\u001b[0m in \u001b[0;36m<module>\u001b[0;34m()\u001b[0m\n\u001b[1;32m      1\u001b[0m \u001b[0mvariavel_str\u001b[0m \u001b[0;34m=\u001b[0m \u001b[0;34m\"A minha variável é\"\u001b[0m\u001b[0;34m\u001b[0m\u001b[0;34m\u001b[0m\u001b[0m\n\u001b[1;32m      2\u001b[0m \u001b[0mvariavel_int\u001b[0m \u001b[0;34m=\u001b[0m \u001b[0;36m2\u001b[0m\u001b[0;34m\u001b[0m\u001b[0;34m\u001b[0m\u001b[0m\n\u001b[0;32m----> 3\u001b[0;31m \u001b[0mvariavel_mistura\u001b[0m \u001b[0;34m=\u001b[0m \u001b[0mvariavel_str\u001b[0m \u001b[0;34m+\u001b[0m \u001b[0mvariavel_int\u001b[0m\u001b[0;34m\u001b[0m\u001b[0;34m\u001b[0m\u001b[0m\n\u001b[0m",
            "\u001b[0;31mTypeError\u001b[0m: can only concatenate str (not \"int\") to str"
          ]
        }
      ]
    },
    {
      "cell_type": "code",
      "metadata": {
        "id": "6eC80ANefU33",
        "colab": {
          "base_uri": "https://localhost:8080/"
        },
        "outputId": "f9385500-fae4-4ae2-b69b-9486e5d0fb22"
      },
      "source": [
        "x = \"awesome\"\n",
        "y = 10\n",
        "z = 100.2313131\n",
        "print(\"Python is %s, %i, %1.5f\"%(x,y,z))"
      ],
      "execution_count": null,
      "outputs": [
        {
          "output_type": "stream",
          "name": "stdout",
          "text": [
            "Python is awesome, 10, 100.23131\n"
          ]
        }
      ]
    },
    {
      "cell_type": "code",
      "metadata": {
        "id": "Ddwo78f1fU36",
        "colab": {
          "base_uri": "https://localhost:8080/"
        },
        "outputId": "e9aa2661-08e2-493e-c9ee-16f9be649b50"
      },
      "source": [
        "x = \"Python is \"\n",
        "y = \"awesome\"\n",
        "z =  x + y\n",
        "print(z)"
      ],
      "execution_count": null,
      "outputs": [
        {
          "output_type": "stream",
          "name": "stdout",
          "text": [
            "Python is awesome\n"
          ]
        }
      ]
    },
    {
      "cell_type": "code",
      "metadata": {
        "id": "YJ366s34fU39",
        "colab": {
          "base_uri": "https://localhost:8080/"
        },
        "outputId": "8f3f32bc-9aff-403f-cebf-49e372e08d6c"
      },
      "source": [
        "x = 5\n",
        "y = 10\n",
        "print(x + y)"
      ],
      "execution_count": null,
      "outputs": [
        {
          "output_type": "stream",
          "name": "stdout",
          "text": [
            "15\n"
          ]
        }
      ]
    },
    {
      "cell_type": "code",
      "metadata": {
        "id": "dDVHLoW6fU4A",
        "colab": {
          "base_uri": "https://localhost:8080/"
        },
        "outputId": "4035c7dd-eac3-4bab-9100-bb8cbcd5ea2a"
      },
      "source": [
        "x = 8\n",
        "y = 5\n",
        "print('%i'%(y/x))"
      ],
      "execution_count": null,
      "outputs": [
        {
          "output_type": "stream",
          "name": "stdout",
          "text": [
            "0\n"
          ]
        }
      ]
    },
    {
      "cell_type": "code",
      "metadata": {
        "colab": {
          "base_uri": "https://localhost:8080/"
        },
        "id": "tpDA4EzNnmKj",
        "outputId": "73df7672-0443-44a9-f60b-49727c34f39d"
      },
      "source": [
        "x = 8\n",
        "y = 5\n",
        "print('%f'%(y/x))"
      ],
      "execution_count": null,
      "outputs": [
        {
          "output_type": "stream",
          "name": "stdout",
          "text": [
            "0.625000\n"
          ]
        }
      ]
    },
    {
      "cell_type": "markdown",
      "metadata": {
        "id": "Pl370OVRfU4D"
      },
      "source": [
        "# Tipos Numéricos em Python\n",
        "Existem três tipos numéricos no Python:\n",
        "\n",
        "int <br>\n",
        "float <br>\n",
        "complexo <br> <br>\n",
        "Variáveis de tipos numéricos são criadas quando você atribui um valor a elas!"
      ]
    },
    {
      "cell_type": "code",
      "metadata": {
        "id": "wT26H51XfU4D",
        "colab": {
          "base_uri": "https://localhost:8080/"
        },
        "outputId": "a5a20810-5a03-41be-9b4c-fa56d5a9be43"
      },
      "source": [
        "x = 1    # int\n",
        "y = 2.8  # float\n",
        "z = 1j   # complex\n",
        "\n",
        "print(type(x))\n",
        "print(type(y))\n",
        "print(type(z))"
      ],
      "execution_count": null,
      "outputs": [
        {
          "output_type": "stream",
          "name": "stdout",
          "text": [
            "<class 'int'>\n",
            "<class 'float'>\n",
            "<class 'complex'>\n"
          ]
        }
      ]
    },
    {
      "cell_type": "code",
      "metadata": {
        "id": "NIudYu6OfU4H",
        "colab": {
          "base_uri": "https://localhost:8080/"
        },
        "outputId": "3a3bbe01-6a3b-4b05-a4df-32855469f68b"
      },
      "source": [
        "x = 1\n",
        "y = 35656222554887711\n",
        "z = -3255522\n",
        "\n",
        "print(type(x))\n",
        "print(type(y))\n",
        "print(type(z))"
      ],
      "execution_count": null,
      "outputs": [
        {
          "output_type": "stream",
          "name": "stdout",
          "text": [
            "<class 'int'>\n",
            "<class 'int'>\n",
            "<class 'int'>\n"
          ]
        }
      ]
    },
    {
      "cell_type": "code",
      "metadata": {
        "id": "x0q8ehIzfU4J",
        "colab": {
          "base_uri": "https://localhost:8080/"
        },
        "outputId": "4c9fe281-2bac-4419-aed2-3852714b6d69"
      },
      "source": [
        "x = 1.10\n",
        "y = 1.0\n",
        "z = -35.59\n",
        "\n",
        "print(type(x))\n",
        "print(type(y))\n",
        "print(type(z))"
      ],
      "execution_count": null,
      "outputs": [
        {
          "output_type": "stream",
          "name": "stdout",
          "text": [
            "<class 'float'>\n",
            "<class 'float'>\n",
            "<class 'float'>\n"
          ]
        }
      ]
    },
    {
      "cell_type": "markdown",
      "metadata": {
        "id": "Nok1Bb37fU4M"
      },
      "source": [
        "Float também pode ser um número científico com um \"e\" para indicar a potência de 10."
      ]
    },
    {
      "cell_type": "code",
      "metadata": {
        "id": "aGgJFa9gfU4N",
        "colab": {
          "base_uri": "https://localhost:8080/"
        },
        "outputId": "dd171c65-01fc-4fb5-d8d9-02079be3d109"
      },
      "source": [
        "x = 35e3\n",
        "y = 12E4\n",
        "z = -87.7e100\n",
        "\n",
        "print(type(x))\n",
        "print(type(y))\n",
        "print(type(z))"
      ],
      "execution_count": null,
      "outputs": [
        {
          "output_type": "stream",
          "name": "stdout",
          "text": [
            "<class 'float'>\n",
            "<class 'float'>\n",
            "<class 'float'>\n"
          ]
        }
      ]
    },
    {
      "cell_type": "markdown",
      "metadata": {
        "id": "8GuaNjUqfU4Q"
      },
      "source": [
        "Números complexos são escritos com um \"j\" como a parte imaginária:"
      ]
    },
    {
      "cell_type": "code",
      "metadata": {
        "id": "kty285cZfU4Q",
        "colab": {
          "base_uri": "https://localhost:8080/"
        },
        "outputId": "8d0b87df-5f72-4ad2-a8a0-129995d1e7cf"
      },
      "source": [
        "x = 3+5j\n",
        "y = 5j\n",
        "z = -5j\n",
        "\n",
        "print(type(x))\n",
        "print(type(y))\n",
        "print(type(z))"
      ],
      "execution_count": null,
      "outputs": [
        {
          "output_type": "stream",
          "name": "stdout",
          "text": [
            "<class 'complex'>\n",
            "<class 'complex'>\n",
            "<class 'complex'>\n"
          ]
        }
      ]
    },
    {
      "cell_type": "markdown",
      "metadata": {
        "id": "z5eoRJiDfU4T"
      },
      "source": [
        "Você pode converter de um tipo para outro com os métodos ```int()```, ```float()``` e ```complex()```:"
      ]
    },
    {
      "cell_type": "code",
      "metadata": {
        "id": "zha6oTfcfU4U",
        "colab": {
          "base_uri": "https://localhost:8080/"
        },
        "outputId": "c36bc897-901c-41b6-8085-dadf3dea4d03"
      },
      "source": [
        "x = 1 # int\n",
        "y = 2.8 # float\n",
        "z = 1j # complex\n",
        "\n",
        "#convert from int to float:\n",
        "a = float(x)\n",
        "\n",
        "#convert from float to int:\n",
        "b = int(y)\n",
        "\n",
        "#convert from int to complex:\n",
        "c = complex(x)\n",
        "\n",
        "print(a)\n",
        "print(b)\n",
        "print(c)\n",
        "\n",
        "print(type(a))\n",
        "print(type(b))\n",
        "print(type(c))"
      ],
      "execution_count": null,
      "outputs": [
        {
          "output_type": "stream",
          "name": "stdout",
          "text": [
            "1.0\n",
            "2\n",
            "(1+0j)\n",
            "<class 'float'>\n",
            "<class 'int'>\n",
            "<class 'complex'>\n"
          ]
        }
      ]
    },
    {
      "cell_type": "code",
      "metadata": {
        "id": "yLTl2pIgfU4X",
        "colab": {
          "base_uri": "https://localhost:8080/"
        },
        "outputId": "a7eee6b2-a193-4715-f314-49a5f290945b"
      },
      "source": [
        "a = 10\n",
        "print('a'+str(a))"
      ],
      "execution_count": null,
      "outputs": [
        {
          "output_type": "stream",
          "name": "stdout",
          "text": [
            "a10\n"
          ]
        }
      ]
    },
    {
      "cell_type": "markdown",
      "metadata": {
        "id": "mS2ybjycfU4a"
      },
      "source": [
        "O Python não possui uma função ```random()``` para fazer um número aleatório, mas possui um módulo interno chamado random que pode ser usado para fazer números aleatórios:"
      ]
    },
    {
      "cell_type": "code",
      "metadata": {
        "id": "xjhmZsjLfU4a",
        "colab": {
          "base_uri": "https://localhost:8080/"
        },
        "outputId": "2b0cf2d4-fec3-4e28-a005-a8ddb3cff2a2"
      },
      "source": [
        "import random\n",
        "\n",
        "print(random.randrange(0,2,1))"
      ],
      "execution_count": null,
      "outputs": [
        {
          "output_type": "stream",
          "name": "stdout",
          "text": [
            "0\n"
          ]
        }
      ]
    },
    {
      "cell_type": "code",
      "metadata": {
        "colab": {
          "base_uri": "https://localhost:8080/"
        },
        "id": "iuclkWBCo1Vb",
        "outputId": "9d1b40b0-fd1d-4f03-a67c-7150bfad79a1"
      },
      "source": [
        "help(random.randrange)"
      ],
      "execution_count": null,
      "outputs": [
        {
          "output_type": "stream",
          "name": "stdout",
          "text": [
            "Help on method randrange in module random:\n",
            "\n",
            "randrange(start, stop=None, step=1, _int=<class 'int'>) method of random.Random instance\n",
            "    Choose a random item from range(start, stop[, step]).\n",
            "    \n",
            "    This fixes the problem with randint() which includes the\n",
            "    endpoint; in Python this is usually not what you want.\n",
            "\n"
          ]
        }
      ]
    },
    {
      "cell_type": "markdown",
      "metadata": {
        "id": "DzYYU3F2fU4d"
      },
      "source": [
        "Pode haver momentos em que você deseja especificar um tipo em uma variável. Isso pode ser feito com um conjuntos de funções de type casting (mudança de tipos). O Python é uma linguagem orientada a objetos e, como tal, usa classes para definir tipos de dados, incluindo seus tipos primitivos. <br>\n",
        "\n",
        "Casting em python é feito usando funções de construtor: <br>\n",
        "\n",
        "```int()``` - constrói um número inteiro a partir de um literal inteiro, um literal float (arredondando para baixo para o número inteiro anterior), ou uma string (fornecendo a string representa um número inteiro) <br>\n",
        "```float()``` - constrói um número float a partir de um literal inteiro, um literal float ou um literal string (desde que a string represente um float ou um inteiro)<br>\n",
        "```str()``` - constrói uma string a partir de uma ampla variedade de tipos de dados, incluindo strings, literais de inteiros e literais de float"
      ]
    },
    {
      "cell_type": "code",
      "metadata": {
        "id": "haAUiUoNfU4e",
        "colab": {
          "base_uri": "https://localhost:8080/"
        },
        "outputId": "7cc0dada-4677-4784-bcb5-490f291386ab"
      },
      "source": [
        "x = int(1)   # x will be 1\n",
        "y = int(2.8) # y will be 2\n",
        "z = int(\"3\") # z will be 3\n",
        "\n",
        "print(x)\n",
        "print(y)\n",
        "print(z)\n",
        "\n",
        "print(type(x))\n",
        "print(type(y))\n",
        "print(type(z))"
      ],
      "execution_count": null,
      "outputs": [
        {
          "output_type": "stream",
          "name": "stdout",
          "text": [
            "1\n",
            "2\n",
            "3\n",
            "<class 'int'>\n",
            "<class 'int'>\n",
            "<class 'int'>\n"
          ]
        }
      ]
    },
    {
      "cell_type": "code",
      "metadata": {
        "id": "--P9IWQsfU4i",
        "colab": {
          "base_uri": "https://localhost:8080/"
        },
        "outputId": "d63fccd7-b64c-4ad0-856b-0a1f106b231f"
      },
      "source": [
        "a = '10+1j'\n",
        "print(complex(a))"
      ],
      "execution_count": null,
      "outputs": [
        {
          "output_type": "stream",
          "name": "stdout",
          "text": [
            "(10+1j)\n"
          ]
        }
      ]
    },
    {
      "cell_type": "code",
      "metadata": {
        "id": "krCCdc9HfU4l",
        "colab": {
          "base_uri": "https://localhost:8080/"
        },
        "outputId": "370caa1c-715b-41a5-81ca-4c470fd15908"
      },
      "source": [
        "x = float(1)     # x will be 1.0\n",
        "y = float(2.8)   # y will be 2.8\n",
        "z = float(\"3\")   # z will be 3.0\n",
        "w = float(\"4.2\") # w will be 4.2\n",
        "\n",
        "print(x)\n",
        "print(y)\n",
        "print(z)\n",
        "print(w)\n",
        "\n",
        "print(type(x))\n",
        "print(type(y))\n",
        "print(type(z))\n",
        "print(type(w))"
      ],
      "execution_count": null,
      "outputs": [
        {
          "output_type": "stream",
          "name": "stdout",
          "text": [
            "1.0\n",
            "2.8\n",
            "3.0\n",
            "4.2\n",
            "<class 'float'>\n",
            "<class 'float'>\n",
            "<class 'float'>\n",
            "<class 'float'>\n"
          ]
        }
      ]
    },
    {
      "cell_type": "code",
      "metadata": {
        "id": "tHe7vP0AfU4n",
        "colab": {
          "base_uri": "https://localhost:8080/"
        },
        "outputId": "6ca352ef-ac63-4bc9-9ded-17164ed75fea"
      },
      "source": [
        "x = str(\"s1\") # x will be 's1'\n",
        "y = str(2)    # y will be '2'\n",
        "z = str(3.0)  # z will be '3.0'\n",
        "\n",
        "print(x)\n",
        "print(y)\n",
        "print(z)\n",
        "\n",
        "print(type(x))\n",
        "print(type(y))\n",
        "print(type(z))"
      ],
      "execution_count": null,
      "outputs": [
        {
          "output_type": "stream",
          "name": "stdout",
          "text": [
            "s1\n",
            "2\n",
            "3.0\n",
            "<class 'str'>\n",
            "<class 'str'>\n",
            "<class 'str'>\n"
          ]
        }
      ]
    },
    {
      "cell_type": "markdown",
      "metadata": {
        "id": "cSYsaWcsfU4q"
      },
      "source": [
        "# Strings em Python\n"
      ]
    },
    {
      "cell_type": "code",
      "metadata": {
        "id": "VpSGbkItfU4r",
        "colab": {
          "base_uri": "https://localhost:8080/"
        },
        "outputId": "9cb659f5-a150-48c9-ab20-a1b19834ddbb"
      },
      "source": [
        "a = \"\"\"Lorem ipsum dolor sit amet,\n",
        "consectetur adipiscing elit,\n",
        "sed do eiusmod tempor incididunt\n",
        "ut labore et dolore magna aliqua.\"\"\"\n",
        "print(a)"
      ],
      "execution_count": null,
      "outputs": [
        {
          "output_type": "stream",
          "name": "stdout",
          "text": [
            "Lorem ipsum dolor sit amet,\n",
            "consectetur adipiscing elit,\n",
            "sed do eiusmod tempor incididunt\n",
            "ut labore et dolore magna aliqua.\n"
          ]
        }
      ]
    },
    {
      "cell_type": "code",
      "metadata": {
        "colab": {
          "base_uri": "https://localhost:8080/",
          "height": 129
        },
        "id": "QIROgR1hqa2i",
        "outputId": "f723405f-faed-4fd8-8bd8-a56eb9b1cad6"
      },
      "source": [
        "a = # comentario"
      ],
      "execution_count": null,
      "outputs": [
        {
          "output_type": "error",
          "ename": "SyntaxError",
          "evalue": "ignored",
          "traceback": [
            "\u001b[0;36m  File \u001b[0;32m\"<ipython-input-107-2a28bad86fc3>\"\u001b[0;36m, line \u001b[0;32m1\u001b[0m\n\u001b[0;31m    a = # comentario\u001b[0m\n\u001b[0m                    ^\u001b[0m\n\u001b[0;31mSyntaxError\u001b[0m\u001b[0;31m:\u001b[0m invalid syntax\n"
          ]
        }
      ]
    },
    {
      "cell_type": "code",
      "metadata": {
        "id": "YfdiTlKWfU4t",
        "colab": {
          "base_uri": "https://localhost:8080/"
        },
        "outputId": "d2323f41-2c7b-4a57-c16d-943b06065fdd"
      },
      "source": [
        "a = '''Lorem ipsum dolor sit amet,\n",
        "consectetur adipiscing elit,\n",
        "sed do eiusmod tempor incididunt\n",
        "ut labore et dolore magna aliqua.'''\n",
        "print(a)"
      ],
      "execution_count": null,
      "outputs": [
        {
          "output_type": "stream",
          "name": "stdout",
          "text": [
            "Lorem ipsum dolor sit amet,\n",
            "consectetur adipiscing elit,\n",
            "sed do eiusmod tempor incididunt\n",
            "ut labore et dolore magna aliqua.\n"
          ]
        }
      ]
    },
    {
      "cell_type": "markdown",
      "metadata": {
        "id": "vIX-Kw0qfU40"
      },
      "source": [
        "## Strings são Arrays\n",
        "Como muitas outras linguagens de programação populares, as strings no Python são vectores de bytes representando caracteres de forma ordenada.\n",
        "\n",
        "No entanto, o Python não tem um tipo de dados de caractere, um único caractere é simplesmente uma string com um comprimento de 1. Os colchetes podem ser usados para acessar elementos da string."
      ]
    },
    {
      "cell_type": "code",
      "metadata": {
        "id": "8a3CAFtwfU40",
        "colab": {
          "base_uri": "https://localhost:8080/"
        },
        "outputId": "84044912-0661-4e9b-d280-2bc714d86a7c"
      },
      "source": [
        "a = \"Hello, World!\"\n",
        "print(a[0],a[-1])\n",
        "print(a[1:6])"
      ],
      "execution_count": null,
      "outputs": [
        {
          "output_type": "stream",
          "name": "stdout",
          "text": [
            "H !\n",
            "ello,\n"
          ]
        }
      ]
    },
    {
      "cell_type": "code",
      "metadata": {
        "colab": {
          "base_uri": "https://localhost:8080/"
        },
        "id": "KJlkBQWJquWX",
        "outputId": "7177a9d3-ad3c-449e-efee-0900492938c5"
      },
      "source": [
        "print(a)\n",
        "print(a[1:3]) # pegar a variável do 1 ao 3 pulando de 1 em 1"
      ],
      "execution_count": null,
      "outputs": [
        {
          "output_type": "stream",
          "name": "stdout",
          "text": [
            "Hello, World!\n",
            "el\n"
          ]
        }
      ]
    },
    {
      "cell_type": "code",
      "metadata": {
        "colab": {
          "base_uri": "https://localhost:8080/"
        },
        "id": "bLBSSmeXsYge",
        "outputId": "bf42e606-2ee6-4d2e-e98b-d422a9e2a1f2"
      },
      "source": [
        "print(a)\n",
        "print(a[1:10:2]) # pegar a variável do 1 ao 10 pulando de 2 em 2"
      ],
      "execution_count": null,
      "outputs": [
        {
          "output_type": "stream",
          "name": "stdout",
          "text": [
            "Hello, World!\n",
            "el,Wr\n"
          ]
        }
      ]
    },
    {
      "cell_type": "code",
      "metadata": {
        "colab": {
          "base_uri": "https://localhost:8080/"
        },
        "id": "PYht3VNSsloZ",
        "outputId": "6d13e2aa-6bec-4ed3-8a7b-9a9e549fb2bf"
      },
      "source": [
        "print(a)\n",
        "print(a[-1:10:2]) # pegar a variável do -1 ao 10 pulando de 2 em 2\n",
        "# Esperado um erro -> não apresenta nada!"
      ],
      "execution_count": null,
      "outputs": [
        {
          "output_type": "stream",
          "name": "stdout",
          "text": [
            "Hello, World!\n",
            "\n"
          ]
        }
      ]
    },
    {
      "cell_type": "code",
      "metadata": {
        "colab": {
          "base_uri": "https://localhost:8080/"
        },
        "id": "GIalbFgYsrGW",
        "outputId": "5f173516-91c9-44df-8ebe-78edf98b8b08"
      },
      "source": [
        "print(a)\n",
        "print(a[10:1:-1]) # pegar a variável do 10 ao 1 pulando de -1 em -1"
      ],
      "execution_count": null,
      "outputs": [
        {
          "output_type": "stream",
          "name": "stdout",
          "text": [
            "Hello, World!\n",
            "lroW ,oll\n"
          ]
        }
      ]
    },
    {
      "cell_type": "code",
      "metadata": {
        "colab": {
          "base_uri": "https://localhost:8080/"
        },
        "id": "yMr5kkWcs08g",
        "outputId": "2a1c57b9-d63b-47b9-9e4e-df75def9705f"
      },
      "source": [
        "print(a)\n",
        "print(a[::-1]) # Inversão completa da variável"
      ],
      "execution_count": null,
      "outputs": [
        {
          "output_type": "stream",
          "name": "stdout",
          "text": [
            "Hello, World!\n",
            "!dlroW ,olleH\n"
          ]
        }
      ]
    },
    {
      "cell_type": "code",
      "metadata": {
        "colab": {
          "base_uri": "https://localhost:8080/"
        },
        "id": "Sg72KTrwtBPk",
        "outputId": "ebc27976-db3c-459d-e146-84ca8f7c2121"
      },
      "source": [
        "print(a)\n",
        "print(a[::2]) # toda a variável pulando de 2 em 2"
      ],
      "execution_count": null,
      "outputs": [
        {
          "output_type": "stream",
          "name": "stdout",
          "text": [
            "Hello, World!\n",
            "Hlo ol!\n"
          ]
        }
      ]
    },
    {
      "cell_type": "markdown",
      "metadata": {
        "id": "QS7EVbU0rrrY"
      },
      "source": [
        "**Indexação em python**: Características importantes sobre a indexação:\n",
        "\n",
        "\n",
        "1.   Sempre começa do 0\n",
        "2.   Sempre com loop circular\n",
        "3.   Pode conter diferentes intervalos\n",
        "\n"
      ]
    },
    {
      "cell_type": "markdown",
      "metadata": {
        "id": "7XwzgGwrfU43"
      },
      "source": [
        "O método ```strip()``` remove qualquer espaço em branco do começo ou do fim da string:"
      ]
    },
    {
      "cell_type": "code",
      "metadata": {
        "id": "xxgWlTVofU44",
        "colab": {
          "base_uri": "https://localhost:8080/"
        },
        "outputId": "e8491dc4-39bd-4126-f382-f5584b45432a"
      },
      "source": [
        "a = \"     Hello, World!    \"\n",
        "print(a.strip()) # returns \"Hello, World!\""
      ],
      "execution_count": null,
      "outputs": [
        {
          "output_type": "stream",
          "name": "stdout",
          "text": [
            "Hello, World!\n"
          ]
        }
      ]
    },
    {
      "cell_type": "markdown",
      "metadata": {
        "id": "HCQu-VUNfU47"
      },
      "source": [
        "O método ```len()```  retorna o tamanho de uma string:"
      ]
    },
    {
      "cell_type": "code",
      "metadata": {
        "id": "vUv5olxLfU47",
        "colab": {
          "base_uri": "https://localhost:8080/"
        },
        "outputId": "95e4d63c-ffd2-4857-8544-08b3048d8fa6"
      },
      "source": [
        "a = \"Hello, World!\"\n",
        "print(len(a))"
      ],
      "execution_count": null,
      "outputs": [
        {
          "output_type": "stream",
          "name": "stdout",
          "text": [
            "13\n"
          ]
        }
      ]
    },
    {
      "cell_type": "markdown",
      "metadata": {
        "id": "xXTy-kG9fU4-"
      },
      "source": [
        "O método ```lower()``` retorna a string em letras minúsculas:"
      ]
    },
    {
      "cell_type": "code",
      "metadata": {
        "id": "ZSigK3dtfU4_",
        "colab": {
          "base_uri": "https://localhost:8080/"
        },
        "outputId": "8971eb8e-44a4-4ad2-9d41-4425f2e9e83b"
      },
      "source": [
        "a = \"Hello, World!\"\n",
        "print(a.lower())"
      ],
      "execution_count": null,
      "outputs": [
        {
          "output_type": "stream",
          "name": "stdout",
          "text": [
            "hello, world!\n"
          ]
        }
      ]
    },
    {
      "cell_type": "markdown",
      "metadata": {
        "id": "CAJAsuE7fU5D"
      },
      "source": [
        "O método ```upper()``` retorna a string em letras maiúsculas:"
      ]
    },
    {
      "cell_type": "code",
      "metadata": {
        "id": "Rr3jL8Y3fU5E",
        "colab": {
          "base_uri": "https://localhost:8080/"
        },
        "outputId": "03d42db9-1042-420c-96c3-3487d1acc29a"
      },
      "source": [
        "a = \"Hello, World!\"\n",
        "print(a.upper())"
      ],
      "execution_count": null,
      "outputs": [
        {
          "output_type": "stream",
          "name": "stdout",
          "text": [
            "HELLO, WORLD!\n"
          ]
        }
      ]
    },
    {
      "cell_type": "markdown",
      "metadata": {
        "id": "6EkIx-nefU5H"
      },
      "source": [
        "O método ```capilatize()``` retorna a string com apenas a primeira letra maiúscula:"
      ]
    },
    {
      "cell_type": "code",
      "metadata": {
        "id": "bPKZ0ZSafU5I",
        "colab": {
          "base_uri": "https://localhost:8080/"
        },
        "outputId": "064d4516-c3ef-4b2e-92b7-41f09ea378b6"
      },
      "source": [
        "a = \"Hello, World!\"\n",
        "print(a.capitalize())"
      ],
      "execution_count": null,
      "outputs": [
        {
          "output_type": "stream",
          "name": "stdout",
          "text": [
            "Hello, world!\n"
          ]
        }
      ]
    },
    {
      "cell_type": "markdown",
      "metadata": {
        "id": "gq7M7uwEfU5K"
      },
      "source": [
        "O método ```replace()``` substitui uma string por outra string:"
      ]
    },
    {
      "cell_type": "code",
      "metadata": {
        "id": "Na3TlXhHfU5L",
        "colab": {
          "base_uri": "https://localhost:8080/"
        },
        "outputId": "274d5c19-1332-49a4-8fee-b7d78418b906"
      },
      "source": [
        "a = \"Hello, World!\"\n",
        "print(a.replace(\"H\", \"J\"))\n",
        "print(a.replace(\"Hello\", \"Bye\"))"
      ],
      "execution_count": null,
      "outputs": [
        {
          "output_type": "stream",
          "name": "stdout",
          "text": [
            "Jello, World!\n",
            "Bye, World!\n"
          ]
        }
      ]
    },
    {
      "cell_type": "markdown",
      "metadata": {
        "id": "sy3VOLn8fU5O"
      },
      "source": [
        "O método ```split()``` divide a string em substrings se encontrar instâncias do separador:"
      ]
    },
    {
      "cell_type": "code",
      "metadata": {
        "id": "nh8z3SUGfU5O",
        "colab": {
          "base_uri": "https://localhost:8080/"
        },
        "outputId": "41ab3b9e-8f0e-4638-8e8f-0bd5f63d3128"
      },
      "source": [
        "a = \"Hello, World!\"\n",
        "print(a.split(\",\")) # returns ['Hello', ' World!']"
      ],
      "execution_count": null,
      "outputs": [
        {
          "output_type": "stream",
          "name": "stdout",
          "text": [
            "['Hello', ' World!']\n"
          ]
        }
      ]
    },
    {
      "cell_type": "code",
      "metadata": {
        "colab": {
          "base_uri": "https://localhost:8080/"
        },
        "id": "z2OZEjSvuBoK",
        "outputId": "f1eab4cb-d3ac-4a80-dc30-a83cafa4815b"
      },
      "source": [
        "string = \"O python é muito fácil! :)\"\n",
        "print(string.split(' '))\n",
        "print(string.split(' ')[4])"
      ],
      "execution_count": null,
      "outputs": [
        {
          "output_type": "stream",
          "name": "stdout",
          "text": [
            "['O', 'python', 'é', 'muito', 'fácil!', ':)']\n",
            "fácil!\n"
          ]
        }
      ]
    },
    {
      "cell_type": "code",
      "metadata": {
        "colab": {
          "base_uri": "https://localhost:8080/"
        },
        "id": "OlaX9v_lvPOP",
        "outputId": "501f9697-c685-4009-ebd4-586bf4c55572"
      },
      "source": [
        "string = '12345678'\n",
        "print(string.split('4'))"
      ],
      "execution_count": null,
      "outputs": [
        {
          "output_type": "stream",
          "name": "stdout",
          "text": [
            "['123', '5678']\n"
          ]
        }
      ]
    },
    {
      "cell_type": "markdown",
      "metadata": {
        "id": "yiLdLRldfU5R"
      },
      "source": [
        "Use o método ```format()``` para inserir números em strings:"
      ]
    },
    {
      "cell_type": "code",
      "metadata": {
        "id": "oQusWmkvfU5S",
        "colab": {
          "base_uri": "https://localhost:8080/"
        },
        "outputId": "19f5388a-b1a5-40f5-c48f-f4c69a164d7d"
      },
      "source": [
        "age = 32\n",
        "txt = \"My name is John, and I am {}\"\n",
        "print(txt.format(age))"
      ],
      "execution_count": null,
      "outputs": [
        {
          "output_type": "stream",
          "name": "stdout",
          "text": [
            "My name is John, and I am 32\n"
          ]
        }
      ]
    },
    {
      "cell_type": "code",
      "metadata": {
        "id": "qkEyFtR1fU5W",
        "colab": {
          "base_uri": "https://localhost:8080/"
        },
        "outputId": "e5c2aee9-33b7-41f8-b731-c4a11b8dcc59"
      },
      "source": [
        "quantity = 3\n",
        "itemno = 567\n",
        "price = 49.95\n",
        "myorder = \"I want to pay {2} dollars for {0} pieces of item {1}.\"\n",
        "print(myorder.format(quantity, itemno, price))"
      ],
      "execution_count": null,
      "outputs": [
        {
          "output_type": "stream",
          "name": "stdout",
          "text": [
            "I want to pay 49.95 dollars for 3 pieces of item 567.\n"
          ]
        }
      ]
    },
    {
      "cell_type": "markdown",
      "metadata": {
        "id": "9CaGkwxNXDls"
      },
      "source": [
        "Ao contrário de uma string ```C```, as strings Python não podem ser alteradas. Atribuir a uma posição indexada na string resulta em um erro:"
      ]
    },
    {
      "cell_type": "code",
      "metadata": {
        "colab": {
          "base_uri": "https://localhost:8080/"
        },
        "id": "CVgAEg8uW-Jy",
        "outputId": "3445ee8a-1cb0-49c2-a6af-b8de0a4d1c83"
      },
      "source": [
        "word = 'Help'+' ' + 'me'\n",
        "print('word[0]: '+word[0])\n",
        "#word[0] = 'x' # tem que dar erro"
      ],
      "execution_count": null,
      "outputs": [
        {
          "output_type": "stream",
          "name": "stdout",
          "text": [
            "word[0]: H\n"
          ]
        }
      ]
    },
    {
      "cell_type": "markdown",
      "metadata": {
        "id": "DcINAnxNfEJx"
      },
      "source": [
        "## Formatação de Strings"
      ]
    },
    {
      "cell_type": "markdown",
      "metadata": {
        "id": "DpbOG5YlfZL1"
      },
      "source": [
        "A formatação de string também é conhecida como interpolação de string. É o processo de inserir uma string ou variável personalizada em um texto predefinido."
      ]
    },
    {
      "cell_type": "code",
      "metadata": {
        "colab": {
          "base_uri": "https://localhost:8080/"
        },
        "id": "RIGM3W4xffZx",
        "outputId": "cc81d4f6-88f5-45b8-c713-0763e81d6653"
      },
      "source": [
        "custom_string = \"String formatting\"\n",
        "print(f\"{custom_string} is a powerful technique\")"
      ],
      "execution_count": null,
      "outputs": [
        {
          "output_type": "stream",
          "name": "stdout",
          "text": [
            "String formatting is a powerful technique\n"
          ]
        }
      ]
    },
    {
      "cell_type": "markdown",
      "metadata": {
        "id": "ZyZssPMNflwX"
      },
      "source": [
        "### Métodos de formatação"
      ]
    },
    {
      "cell_type": "markdown",
      "metadata": {
        "id": "h85ARa3bgVew"
      },
      "source": [
        "Colocando marcadores de posição definidos por um par de chaves em um texto é chamado de formatação posicional. Chamamos o método de formato de ponto de string. Em seguida, passamos o valor desejado para o método. O método substitui os marcadores de posição usando os valores na ordem de aparência substituídos por valor:"
      ]
    },
    {
      "cell_type": "code",
      "metadata": {
        "colab": {
          "base_uri": "https://localhost:8080/"
        },
        "id": "4jFi1YhmgpN7",
        "outputId": "ebe5da51-2f08-4be8-bd95-c3ec8c14a1c5"
      },
      "source": [
        "value = 10\n",
        "print('text {}'.format(value))"
      ],
      "execution_count": null,
      "outputs": [
        {
          "output_type": "stream",
          "name": "stdout",
          "text": [
            "text 10\n"
          ]
        }
      ]
    },
    {
      "cell_type": "code",
      "metadata": {
        "colab": {
          "base_uri": "https://localhost:8080/"
        },
        "id": "gIGitB7IgvMe",
        "outputId": "9881a833-0659-4922-9b2a-df1a0beff3e3"
      },
      "source": [
        "value = 'valor'\n",
        "print('text {}'.format(value))"
      ],
      "execution_count": null,
      "outputs": [
        {
          "output_type": "stream",
          "name": "stdout",
          "text": [
            "text valor\n"
          ]
        }
      ]
    },
    {
      "cell_type": "markdown",
      "metadata": {
        "id": "nvmpBZdFhHtB"
      },
      "source": [
        "Definimos uma string e inserimos dois marcadores de posição. Passamos duas strings para o método, que serão passadas para obter a seguinte saída:\n"
      ]
    },
    {
      "cell_type": "code",
      "metadata": {
        "colab": {
          "base_uri": "https://localhost:8080/"
        },
        "id": "b69HRSX2hG6w",
        "outputId": "4394ea34-d3a8-4d15-c5a3-803c9ecaf4d4"
      },
      "source": [
        "print(\"Machine learning provides {} the ability to learn {}\".format(\"systems\", \"automatically\"))"
      ],
      "execution_count": null,
      "outputs": [
        {
          "output_type": "stream",
          "name": "stdout",
          "text": [
            "Machine learning provides systems the ability to learn automatically\n"
          ]
        }
      ]
    },
    {
      "cell_type": "markdown",
      "metadata": {
        "id": "upHU5OlahUk2"
      },
      "source": [
        "Podemos usar variáveis ​​tanto para a string quanto para os valores passados ​​para o método. No código de exemplo a seguir, definimos uma string com marcadores de posição e duas outras variáveis. Aplicamos o método de formatação à string usando as duas variáveis ​​definidas. O método lê a string e substitui os marcadores de posição pelos valores fornecidos."
      ]
    },
    {
      "cell_type": "code",
      "metadata": {
        "id": "fk3hcrfShVnz"
      },
      "source": [
        "my_string = \"{} rely on {} datasets\"\n",
        "method = \"Supervised algorithms\"\n",
        "condition = \"labeled\""
      ],
      "execution_count": null,
      "outputs": []
    },
    {
      "cell_type": "markdown",
      "metadata": {
        "id": "THlZFdWRhi6E"
      },
      "source": [
        "No exemplo a seguir, você adiciona números de índice aos marcadores de posição para reordenar os valores. Isso afeta a ordem em que o método substitui os marcadores de posição.\n",
        "\n",
        "O método os substitui pelos valores na ordem fornecida."
      ]
    },
    {
      "cell_type": "code",
      "metadata": {
        "colab": {
          "base_uri": "https://localhost:8080/"
        },
        "id": "ip2s_ubqhphF",
        "outputId": "6d902a4b-c3b3-43b8-c3ba-7f88aa1ba4b4"
      },
      "source": [
        "print(\"{} has a friend called {} and a sister called {}\". format(\"Betty\", \"Linda\", \"Daisy\"))"
      ],
      "execution_count": null,
      "outputs": [
        {
          "output_type": "stream",
          "name": "stdout",
          "text": [
            "Betty has a friend called Linda and a sister called Daisy\n"
          ]
        }
      ]
    },
    {
      "cell_type": "code",
      "metadata": {
        "colab": {
          "base_uri": "https://localhost:8080/"
        },
        "id": "DkMwZGNKhpx6",
        "outputId": "b8a2ff66-e823-41c0-8082-94f34a4794c5"
      },
      "source": [
        "print(\"{2} has a friend called {0} and a sister called {1}\". format(\"Betty\", \"Linda\", \"Daisy\"))"
      ],
      "execution_count": null,
      "outputs": [
        {
          "output_type": "stream",
          "name": "stdout",
          "text": [
            "Daisy has a friend called Betty and a sister called Linda\n"
          ]
        }
      ]
    },
    {
      "cell_type": "markdown",
      "metadata": {
        "id": "GpwpjUrGhv8B"
      },
      "source": [
        "Também podemos introduzir argumentos de palavra-chave que são chamados por seus nomes de palavra-chave.\n",
        "\n",
        "No código de exemplo abaixo, inserimos palavras-chave nos espaços reservados. Então, chamamos essas palavras-chave no método de formato. Em seguida, atribuímos qual variável será passada para cada um deles, resultando na seguinte saída."
      ]
    },
    {
      "cell_type": "code",
      "metadata": {
        "colab": {
          "base_uri": "https://localhost:8080/"
        },
        "id": "uo2Pi7u_hzxH",
        "outputId": "5c8599a7-511f-4632-b2fb-dc1526f2c480"
      },
      "source": [
        "tool=\"Unsupervised algorithms\"\n",
        "goal=\"patterns\"\n",
        "print(\"{title} try to find {aim} in the dataset\".format(title=tool, aim=goal))"
      ],
      "execution_count": null,
      "outputs": [
        {
          "output_type": "stream",
          "name": "stdout",
          "text": [
            "Unsupervised algorithms try to find patterns in the dataset\n"
          ]
        }
      ]
    },
    {
      "cell_type": "code",
      "metadata": {
        "colab": {
          "base_uri": "https://localhost:8080/"
        },
        "id": "Oe-9oduBh43a",
        "outputId": "81cddca7-9859-471e-c974-59d6f2e4c3d3"
      },
      "source": [
        "my_methods = {\"tool\": \"Unsupervised algorithms\", \"goal\": \"patterns\"}\n",
        "print('{data[tool]} try to find {data[goal]} in the dataset'.format(data=my_methods))"
      ],
      "execution_count": null,
      "outputs": [
        {
          "output_type": "stream",
          "name": "stdout",
          "text": [
            "Unsupervised algorithms try to find patterns in the dataset\n"
          ]
        }
      ]
    },
    {
      "cell_type": "markdown",
      "metadata": {
        "id": "QfkGxHpziLiL"
      },
      "source": [
        "Também podemos especificar o formato especificado entre colchetes. Isso define como os valores individuais são apresentados. Aqui, usaremos o especificador de dois pontos do índice de sintaxe. Um dos especificadores de formato mais comuns é float representado por f. No código, especificamos que o valor passado com o índice 0 será um float."
      ]
    },
    {
      "cell_type": "code",
      "metadata": {
        "id": "_PR70QD6iC1n"
      },
      "source": [
        "print(\"Only {0:f}% of the {1} produced worldwide is {2}!\". format(0.5155675, \"data\", \"analyzed\"))"
      ],
      "execution_count": null,
      "outputs": []
    },
    {
      "cell_type": "markdown",
      "metadata": {
        "id": "6E1Q18-Hi7lQ"
      },
      "source": [
        "Também poderíamos adicionar ```.2f``` indicando que queremos que o float tenha duas casas decimais, como visto na saída resultante."
      ]
    },
    {
      "cell_type": "code",
      "metadata": {
        "colab": {
          "base_uri": "https://localhost:8080/"
        },
        "id": "H1s_I5WEjDm_",
        "outputId": "a6ce84cb-69b0-4296-c483-211fc10d381f"
      },
      "source": [
        "from datetime import datetime\n",
        "print(datetime.now())"
      ],
      "execution_count": null,
      "outputs": [
        {
          "output_type": "stream",
          "name": "stdout",
          "text": [
            "2021-09-08 22:35:30.381638\n"
          ]
        }
      ]
    },
    {
      "cell_type": "markdown",
      "metadata": {
        "id": "CVSl5aCijHmM"
      },
      "source": [
        "Mas como o formato retornado é muito particular, você pode usar o especificador de formato como ```%y-%m-%d-%h-%m``` para ajustar o formato para algo mais familiar para nós!"
      ]
    },
    {
      "cell_type": "code",
      "metadata": {
        "colab": {
          "base_uri": "https://localhost:8080/"
        },
        "id": "VJOFk5c4jSt6",
        "outputId": "f5c4e80f-dee3-4cae-8bf0-776b51d37586"
      },
      "source": [
        "print(\"Today's date is {:%Y-%m-%d %H:%M}\".format(datetime.now()))"
      ],
      "execution_count": null,
      "outputs": [
        {
          "output_type": "stream",
          "name": "stdout",
          "text": [
            "Today's date is 2021-09-08 22:35\n"
          ]
        }
      ]
    },
    {
      "cell_type": "code",
      "metadata": {
        "id": "YvHF5WilldA-"
      },
      "source": [
        "txt1 = \"My name is {fname}, I'm {age}\".format(fname = \"John\", age = 36)\n",
        "txt2 = \"My name is {0}, I'm {1}\".format(\"John\",36)\n",
        "txt3 = \"My name is {}, I'm {}\".format(\"John\",36)"
      ],
      "execution_count": null,
      "outputs": []
    },
    {
      "cell_type": "markdown",
      "metadata": {
        "id": "NzhUsJM_kzXN"
      },
      "source": [
        "| Placeholders | Formatting type                                                                                         |\n",
        "|--------------|---------------------------------------------------------------------------------------------------------|\n",
        "| :<           | Left aligns the result (within the available space)                                                     |\n",
        "| :>           | Right aligns the result (within the available space)                                                    |\n",
        "| :^           | Center aligns the result (within the available space)                                                   |\n",
        "| :=           | Places the sign to the left most position                                                               |\n",
        "| :+           | Use a plus sign to indicate if the result is positive or negative                                       |\n",
        "| :-           | Use a minus sign for negative values only                                                               |\n",
        "| :            | Use a space to insert an extra space before positive numbers (and a minus sign before negative numbers) |\n",
        "| :,           | Use a comma as a thousand separator                                                                     |\n",
        "| :_           | Use a underscore as a thousand separator                                                                |\n",
        "| :b           | Binary format                                                                                           |\n",
        "| :c           | Converts the value into the corresponding unicode character                                             |\n",
        "| :d           | Decimal format                                                                                          |\n",
        "| :e           | Scientific format, with a lower case e                                                                  |\n",
        "| :E           | Scientific format, with an upper case E                                                                 |\n",
        "| :f           | Fix point number format                                                                                 |\n",
        "| :F           | Fix point number format, in uppercase format (show inf and nan as INF and NAN)                          |\n",
        "| :g           | General format                                                                                          |\n",
        "| :G           | General format (using a upper case E for scientific notations)                                          |\n",
        "| :o           | Octal format                                                                                            |\n",
        "| :x           | Hex format, lower case                                                                                  |\n",
        "| :X           | Hex format, upper case                                                                                  |\n",
        "| :n           | Number format                                                                                           |\n",
        "| :%           | Percentage format                                                                                       |"
      ]
    },
    {
      "cell_type": "markdown",
      "metadata": {
        "id": "Yqf5m5BufU5Z"
      },
      "source": [
        "# Operadores Python\n",
        "Os operadores são usados para executar operações em variáveis e valores.\n",
        "\n",
        "O Python divide os operadores nos seguintes grupos:\n",
        "\n",
        "1 - Operadores aritméticos <br>\n",
        "2 - Operadores de atribuição <br>\n",
        "3 - Operadores de comparação <br>\n",
        "4 - Operadores lógicos <br>\n",
        "5 - Operadores de identidade <br>\n",
        "6 - Operadores de associação <br>\n",
        "7 - Operadores bit a bit <br>"
      ]
    },
    {
      "cell_type": "markdown",
      "metadata": {
        "id": "kS58aeyUfU5a"
      },
      "source": [
        "## 1 - Operadores aritméticos\n",
        "<table border=1 frame=void rules=rows>\n",
        "  <tr>\n",
        "    <th>Operador</th>\n",
        "    <th>Nome</th>\n",
        "    <th>Exemplo</th>\n",
        "  </tr>\n",
        "  \n",
        "  <tr>\n",
        "    <td>+</td>\n",
        "    <td>Adição</td>\n",
        "    <td>x+y</td>\n",
        "  </tr>\n",
        "  \n",
        "  <tr> \n",
        "   <td>-</td>\t\n",
        "   <td>Subtração</td>\n",
        "   <td>x-y</td>\t\n",
        "  </tr>\n",
        "  \n",
        "  <tr> \n",
        "   <td>*</td>\t\n",
        "   <td>Multiplicação</td>\n",
        "   <td>x*y</td>\t\n",
        "  </tr>\n",
        "\n",
        "  <tr> \n",
        "   <td>/</td>\t\n",
        "   <td>Divisão</td>\n",
        "   <td>x/y</td>\t\n",
        "  </tr>\n",
        "  \n",
        "\n",
        "  <tr> \n",
        "   <td>%</td>\t\n",
        "   <td>Resto da Divisão</td>\n",
        "   <td>x%y</td>\t\n",
        "  </tr>\n",
        "  \n",
        "  <tr> \n",
        "   <td>**</td>\t\n",
        "   <td>Potência</td>\n",
        "   <td>x**y</td>\t\n",
        "  </tr>\n",
        "  \n",
        "  <tr> \n",
        "   <td>//</td>\t\n",
        "   <td>Divisão arrendondada para baixo</td>\n",
        "   <td>x//y</td>\t\n",
        "  </tr>\n",
        "  \n",
        "      \n",
        "</table>"
      ]
    },
    {
      "cell_type": "code",
      "metadata": {
        "colab": {
          "base_uri": "https://localhost:8080/"
        },
        "id": "medqEEZoxD00",
        "outputId": "ad45f6b0-9617-43e3-9b8d-5062be244f2e"
      },
      "source": [
        "a = 4 \n",
        "b = 5 \n",
        "print(a//b)"
      ],
      "execution_count": null,
      "outputs": [
        {
          "output_type": "stream",
          "name": "stdout",
          "text": [
            "0\n"
          ]
        }
      ]
    },
    {
      "cell_type": "markdown",
      "metadata": {
        "id": "zNijSE14fU5a"
      },
      "source": [
        "## 2 - Operadores de atribuição\n",
        "<table border=1 frame=void rules=rows>\n",
        "  <tr>\n",
        "    <th>Operador</th>\n",
        "    <th>Exemplo</th>\n",
        "    <th>Mesmo que</th>\n",
        "  </tr>\n",
        "  \n",
        "  <tr>\n",
        "    <td>=</td>\n",
        "    <td>x = 5</td>\n",
        "    <td>x = 5</td>\n",
        "  </tr>\n",
        "  \n",
        "  <tr>\n",
        "    <td>+=</td>\n",
        "    <td>x += 3</td>\n",
        "    <td>x = x + 3</td>\n",
        "  </tr>\n",
        "  \n",
        "  <tr>\n",
        "    <td>-=</td>\n",
        "    <td>x -= 3</td>\n",
        "    <td>x = x - 3</td>\n",
        "  </tr>\n",
        "  \n",
        "  <tr>\n",
        "    <td>*=</td>\n",
        "    <td>x *= 3</td>\n",
        "    <td>x = x * 3</td>\n",
        "  </tr>\n",
        "  \n",
        "  <tr>\n",
        "    <td>/=</td>\n",
        "    <td>x /= 3</td>\n",
        "    <td>x = x / 3</td>\n",
        "  </tr>\n",
        "  \n",
        "  <tr>\n",
        "    <td>%=</td>\n",
        "    <td>x %= 3</td>\n",
        "    <td>x = x % 3</td>\n",
        "  </tr>\n",
        "  \n",
        "  <tr>\n",
        "    <td>//=\t</td>\n",
        "    <td>x //= 3</td>\n",
        "    <td>x = x // 3</td>\n",
        "  </tr>\n",
        "  \n",
        "  <tr>\n",
        "    <td>**=</td>\n",
        "    <td>x **= 3</td>\n",
        "    <td>x = x ** 3</td>\n",
        "  </tr>\n",
        "  \n",
        "  <tr>\n",
        "    <td>&=</td>\n",
        "    <td>x &= 3</td>\n",
        "    <td>x = x & 3</td>\n",
        "  </tr>\n",
        "  \n",
        "  <tr>\n",
        "    <td>|=</td>\n",
        "    <td>x |= 3</td>\n",
        "    <td>x = x | 3</td>\n",
        "  </tr>\n",
        "  \n",
        "  <tr>\n",
        "    <td>^=</td>\n",
        "    <td>x ^= 3</td>\n",
        "    <td>x = x ^ 3</td>\n",
        "  </tr>\n",
        "  \n",
        "  <tr>\n",
        "    <td>>>=</td>\n",
        "    <td>x >>= 3</td>\n",
        "    <td>x = x >> 3</td>\n",
        "  </tr>\n",
        "  \n",
        "  <tr>\n",
        "    <td><<=</td>\n",
        "    <td>x <<= 3</td>\n",
        "    <td>x = x << 3</td>\n",
        "  </tr>\n",
        "      \n",
        "</table>"
      ]
    },
    {
      "cell_type": "code",
      "metadata": {
        "colab": {
          "base_uri": "https://localhost:8080/"
        },
        "id": "2jyXHIhrx4gL",
        "outputId": "28948d62-687a-4659-d708-a7d0467a2b45"
      },
      "source": [
        "x = 2\n",
        "x //=3\n",
        "print(x)"
      ],
      "execution_count": null,
      "outputs": [
        {
          "output_type": "stream",
          "name": "stdout",
          "text": [
            "0\n"
          ]
        }
      ]
    },
    {
      "cell_type": "markdown",
      "metadata": {
        "id": "5342H2x3fU5b"
      },
      "source": [
        "## 3 - Operadores de comparação\n",
        "<table border=1 frame=void rules=rows>\n",
        "  <tr>\n",
        "    <th>Operador</th>\n",
        "    <th>Nome</th>\n",
        "    <th>Exemplo</th>\n",
        "  </tr>\n",
        "  \n",
        "  <tr>\n",
        "    <td>==</td>\n",
        "    <td>Igualdade</td>\n",
        "    <td>x == y</td>\n",
        "  </tr>\n",
        "  \n",
        "  <tr>\n",
        "    <td>!=</td>\n",
        "    <td>Desigualdade</td>\n",
        "    <td>x != y</td>\n",
        "  </tr>\n",
        "  \n",
        "  <tr>\n",
        "    <td>></td>\n",
        "    <td>Maior que</td>\n",
        "    <td>x > y</td>\n",
        "  </tr>\n",
        "  \n",
        "  <tr>\n",
        "    <td><</td>\n",
        "    <td>Menor que</td>\n",
        "    <td>x < y</td>\n",
        "  </tr>\n",
        "  \n",
        "  <tr>\n",
        "    <td>>=</td>\n",
        "    <td>Maior ou igual que</td>\n",
        "    <td>x >= y</td>\n",
        "  </tr>\n",
        "  \n",
        "  <tr>\n",
        "    <td><=</td>\n",
        "    <td>Menor ou igual que</td>\n",
        "    <td>x <= y</td>\n",
        "  </tr>\n",
        "      \n",
        "</table>\n"
      ]
    },
    {
      "cell_type": "code",
      "metadata": {
        "colab": {
          "base_uri": "https://localhost:8080/"
        },
        "id": "I7DDMyn5zwyk",
        "outputId": "eaefa53c-faa4-48cf-8b16-5ac7373aafbf"
      },
      "source": [
        "x = 2\n",
        "y = 2\n",
        "if x == y: # condição for verdadeira (True)\n",
        "  # é igual a x != y\n",
        "  print(\"Entrei no if\")\n",
        "print(\"Sai do if\")"
      ],
      "execution_count": null,
      "outputs": [
        {
          "output_type": "stream",
          "name": "stdout",
          "text": [
            "Entrei no if\n",
            "Sai do if\n"
          ]
        }
      ]
    },
    {
      "cell_type": "code",
      "metadata": {
        "id": "bgaJYEdyz0Zw"
      },
      "source": [
        "x = 2\n",
        "y = 2\n",
        "if x != y: # condição for verdadeira (True)\n",
        "  # é igual a x != y\n",
        "  print(\"Entrei no if\")\n",
        "print(\"Sai do if\")"
      ],
      "execution_count": null,
      "outputs": []
    },
    {
      "cell_type": "code",
      "metadata": {
        "colab": {
          "base_uri": "https://localhost:8080/"
        },
        "id": "FQDAYI6EyWvs",
        "outputId": "9f5186da-2a38-42f6-f745-0b70c4ee0d11"
      },
      "source": [
        "x = 2\n",
        "y = 2\n",
        "if not (x == y): # condição for verdadeira (True)\n",
        "  # é igual a x != y\n",
        "  print(\"Entrei no if\")\n",
        "print(\"Sai do if\")"
      ],
      "execution_count": null,
      "outputs": [
        {
          "output_type": "stream",
          "name": "stdout",
          "text": [
            "Sai do if\n"
          ]
        }
      ]
    },
    {
      "cell_type": "markdown",
      "metadata": {
        "id": "skje9dc5fU5b"
      },
      "source": [
        "## 4 - Operadores lógicos\n",
        "<table border=1 frame=void rules=rows>\n",
        "  <tr>\n",
        "    <th>Operador</th>\n",
        "    <th>Descrição</th>\n",
        "    <th>Exemplo</th>\n",
        "  </tr>\n",
        "  \n",
        "  <tr>\n",
        "    <td>and</td>\n",
        "    <td>Retorna True se ambos são verdadeiros</td>\n",
        "    <td>x < 5 and  x < 10 </td>\n",
        "  </tr>\n",
        "  \n",
        "  <tr>\n",
        "    <td>or</td>\n",
        "    <td>Retorna True se um for verdadeiro</td>\n",
        "    <td>x < 5 or  x < 10 </td>\n",
        "  </tr>\n",
        "  <tr>\n",
        "    <td>not</td>\n",
        "    <td>Inverte o resultado</td>\n",
        "    <td> not(x < 5) </td>\n",
        "  </tr>\n",
        "        \n",
        "</table>"
      ]
    },
    {
      "cell_type": "code",
      "metadata": {
        "colab": {
          "base_uri": "https://localhost:8080/"
        },
        "id": "QxQ4dNQZz8--",
        "outputId": "476303a9-c4e2-4f11-f81f-a1be876c0a28"
      },
      "source": [
        "# Missão: Levantar a tabela verdade de um lógico qualquer\n",
        "# O operador lógico vai ser definido dentro da funcção abaixo!\n",
        "\n",
        "# printar o título das colunas\n",
        "print('A\\t - B \\t\\t - AND(A,B)')\n",
        "\n",
        "def funcao_da_tabela(A,B):\n",
        "  return (A and B)\n",
        "\n",
        "# Primeira linha\n",
        "A = False\n",
        "B = False\n",
        "print(\"{:}\\t - {:} \\t - {:}\". format(A, B, funcao_da_tabela(A,B)))\n",
        "\n",
        "# Segunda  linha\n",
        "A = False\n",
        "B = True\n",
        "print(\"{:}\\t - {:} \\t - {:}\". format(A, B, funcao_da_tabela(A,B)))\n",
        "\n",
        "# Terceira  linha\n",
        "A = True\n",
        "B = False\n",
        "print(\"{:}\\t - {:} \\t - {:}\". format(A, B, funcao_da_tabela(A,B)))\n",
        "\n",
        "# Quarta  linha\n",
        "A = True\n",
        "B = True\n",
        "print(\"{:}\\t - {:} \\t - {:}\". format(A, B, funcao_da_tabela(A,B)))\n"
      ],
      "execution_count": null,
      "outputs": [
        {
          "output_type": "stream",
          "name": "stdout",
          "text": [
            "A\t - B \t\t - AAND(A,B)\n",
            "False\t - False \t - False\n",
            "False\t - True \t - False\n",
            "True\t - False \t - False\n",
            "True\t - True \t - True\n"
          ]
        }
      ]
    },
    {
      "cell_type": "code",
      "metadata": {
        "colab": {
          "base_uri": "https://localhost:8080/"
        },
        "id": "8Xxw3HPZ5NQy",
        "outputId": "99b01beb-6db7-4c3d-f690-473145ee91cc"
      },
      "source": [
        "# Missão: Levantar a tabela verdade de um lógico qualquer\n",
        "# O operador lógico vai ser definido dentro da funcção abaixo!\n",
        "\n",
        "# printar o título das colunas\n",
        "print('A\\t - B \\t\\t - AND(A,B)')\n",
        "\n",
        "def funcao_da_tabela(A,B):\n",
        "  return (A and B)\n",
        "\n",
        "# Primeira linha\n",
        "A = 0 # coloquei um inteiro!!!\n",
        "B = False\n",
        "print(\"{:}\\t - {:} \\t - {:}\". format(A, B, funcao_da_tabela(A,B)))\n"
      ],
      "execution_count": null,
      "outputs": [
        {
          "output_type": "stream",
          "name": "stdout",
          "text": [
            "A\t - B \t\t - AND(A,B)\n",
            "0\t - False \t - 0\n"
          ]
        }
      ]
    },
    {
      "cell_type": "markdown",
      "metadata": {
        "id": "0UwRRcrKfU5c"
      },
      "source": [
        "## 5 - Operadores de identidade\n",
        "<table border=1 frame=void rules=rows>\n",
        "  <tr>\n",
        "    <th>Operador</th>\n",
        "    <th>Descrição</th>\n",
        "    <th>Exemplo</th>\n",
        "  </tr>\n",
        "  \n",
        "  <tr>\n",
        "    <td>is</td>\n",
        "    <td>Retorna True se as variáveis são o mesmo objeto</td>\n",
        "    <td>x is y</td>\n",
        "  </tr>\n",
        "  \n",
        "  <tr>\n",
        "    <td>is not</td>\n",
        "    <td>Retorna True se as variáveis não são o mesmo objeto</td>\n",
        "    <td>x is not y </td>\n",
        "  </tr>\n",
        "        \n",
        "</table>"
      ]
    },
    {
      "cell_type": "code",
      "metadata": {
        "id": "zCCbb0vE9t8S"
      },
      "source": [
        "A = [1,2,3]\n",
        "B = A\n",
        "if A is B:\n",
        "  print(\"A é B\")\n",
        "# Mesma posição de memória"
      ],
      "execution_count": null,
      "outputs": []
    },
    {
      "cell_type": "code",
      "metadata": {
        "colab": {
          "base_uri": "https://localhost:8080/"
        },
        "id": "EuXuWFv95v8W",
        "outputId": "35733d5e-4815-4c2f-c094-a195dd769f8c"
      },
      "source": [
        "A = [1,2,3]\n",
        "B = A\n",
        "if A is B:\n",
        "  print(\"A é B\")\n",
        "# Mesma posição de memória\n",
        "print(A)\n",
        "print(B)\n",
        "A = [1,2,3,4]\n",
        "print(A)\n",
        "print(B)\n",
        "if A is B:\n",
        "  print(\"A é B\")\n",
        "# mudança de valores em posição de memória"
      ],
      "execution_count": null,
      "outputs": [
        {
          "output_type": "stream",
          "name": "stdout",
          "text": [
            "A é B\n",
            "[1, 2, 3]\n",
            "[1, 2, 3]\n",
            "[1, 2, 3, 4]\n",
            "[1, 2, 3]\n"
          ]
        }
      ]
    },
    {
      "cell_type": "code",
      "metadata": {
        "id": "rUKjpHuM7sRf"
      },
      "source": [
        "A = [1,2,3]\n",
        "B = [1,2,3]\n",
        "if A is B:\n",
        "  print(\"A é B\")\n",
        "# duas posições de memória diferentes com o mesmo conteúdo"
      ],
      "execution_count": null,
      "outputs": []
    },
    {
      "cell_type": "markdown",
      "metadata": {
        "id": "1TYhyiLXfU5c"
      },
      "source": [
        "## 6 - Operadores de associação\n",
        "<table border=1 frame=void rules=rows>\n",
        "  <tr>\n",
        "    <th>Operador</th>\n",
        "    <th>Descrição</th>\n",
        "    <th>Exemplo</th>\n",
        "  </tr>\n",
        "  \n",
        "  <tr>\n",
        "    <td>in</td>\n",
        "    <td>Retorna True se x está contido em y</td>\n",
        "    <td>x in y</td>\n",
        "  </tr>\n",
        "  \n",
        "  <tr>\n",
        "    <td>not in</td>\n",
        "    <td>Retorna True se x não está contido em y</td>\n",
        "    <td>x not in y </td>\n",
        "  </tr>\n",
        "        \n",
        "</table>"
      ]
    },
    {
      "cell_type": "code",
      "metadata": {
        "colab": {
          "base_uri": "https://localhost:8080/"
        },
        "id": "Iivo1KIK91dh",
        "outputId": "76d76613-e315-4eae-bc19-716eaffb5e4d"
      },
      "source": [
        "A = [1,2,3,4]\n",
        "B = 1\n",
        "if B in A:\n",
        "  print('B está contido em A')"
      ],
      "execution_count": null,
      "outputs": [
        {
          "output_type": "stream",
          "name": "stdout",
          "text": [
            "B está contido em A\n"
          ]
        }
      ]
    },
    {
      "cell_type": "markdown",
      "metadata": {
        "id": "gA6e0K2JfU5d"
      },
      "source": [
        "## 7 - Operadores bit a bit\n",
        "<table border=1 frame=void rules=rows>\n",
        "  <tr>\n",
        "    <th>Operador</th>\n",
        "    <th>Descrição</th>\n",
        "    <th>Exemplo</th>\n",
        "  </tr>\n",
        "  \n",
        "  <tr>\n",
        "    <td>&</td>\n",
        "    <td>And: Retorna 1 se cada um dos bits associados são 1</td>\n",
        "    <td>x and y</td>\n",
        "  </tr>\n",
        "  \n",
        "  <tr>\n",
        "    <td>|</td>\n",
        "    <td>Or: Retorna 1 se qualquer um dos bits associados são 1</td>\n",
        "    <td>x or y </td>\n",
        "  </tr>\n",
        "  \n",
        "  <tr>\n",
        "    <td>^</td>\n",
        "    <td>XOR: Retorna 1 se bits são contrarios entre si</td>\n",
        "    <td>x ^ y </td>\n",
        "  </tr>\n",
        "       \n",
        "  <tr>\n",
        "    <td>~</td>\n",
        "    <td>Not: já definido</td>\n",
        "    <td>x ~ y </td>\n",
        "  </tr>\n",
        "  \n",
        "  <tr>\n",
        "    <td><<</td>\n",
        "    <td>Shift y casas para a esquerda, adicionando <br>zeros da direita e deixe os bits mais significativos à esquerda</td>\n",
        "    <td>x << y </td>\n",
        "  </tr>\n",
        "  \n",
        "  <tr>\n",
        "    <td>>></td>\n",
        "    <td>Shift y casas para a direita, adicionando <br>zeros da esquerda e deixe os bits mais significativos à direita</td>\n",
        "    <td>x >> y </td>\n",
        "  </tr>\n",
        "  \n",
        "</table>"
      ]
    },
    {
      "cell_type": "code",
      "metadata": {
        "id": "Vv-bM9QAfU5d",
        "colab": {
          "base_uri": "https://localhost:8080/"
        },
        "outputId": "7b8c7d62-f582-48c3-8bc3-a4a945915e3a"
      },
      "source": [
        "x = 2\n",
        "print(x<<3)"
      ],
      "execution_count": null,
      "outputs": [
        {
          "output_type": "stream",
          "name": "stdout",
          "text": [
            "16\n"
          ]
        }
      ]
    },
    {
      "cell_type": "code",
      "metadata": {
        "colab": {
          "base_uri": "https://localhost:8080/"
        },
        "id": "ng9Pe9CHAGaz",
        "outputId": "729f5c24-cc23-4ee9-8e5b-82ad2c4782ae"
      },
      "source": [
        "x = 3\n",
        "print(x<<2)"
      ],
      "execution_count": null,
      "outputs": [
        {
          "output_type": "stream",
          "name": "stdout",
          "text": [
            "12\n"
          ]
        }
      ]
    },
    {
      "cell_type": "code",
      "metadata": {
        "colab": {
          "base_uri": "https://localhost:8080/"
        },
        "id": "ZkAcMweLdFwz",
        "outputId": "92ec32be-92d7-40b8-d3d1-a56d6c0c7b65"
      },
      "source": [
        "x = 3\n",
        "print(x>>2)"
      ],
      "execution_count": null,
      "outputs": [
        {
          "output_type": "stream",
          "name": "stdout",
          "text": [
            "0\n"
          ]
        }
      ]
    },
    {
      "cell_type": "markdown",
      "metadata": {
        "id": "HNWeYSTZeMIm"
      },
      "source": [
        "# Tipos básicos de variáveis"
      ]
    },
    {
      "cell_type": "markdown",
      "metadata": {
        "id": "ACmiA4G8fU5g"
      },
      "source": [
        "Existem quatro tipos de dados de coleção de dados na linguagem  Python:<br>\n",
        "\n",
        "```List``` é uma coleção ordenada e modificável. Permite membros duplicados. <br>\n",
        "```Tuple``` é uma coleção que é ordenada e imutável. Permite membros duplicados.<br>\n",
        "```Set``` é uma coleção desordenada e não indexada. Nenhum membro duplicado.<br>\n",
        "```Dicionário``` é uma coleção que é desordenada, alterável e indexada. Nenhum membro duplicado. <br>\n",
        "\n",
        "Ao escolher um tipo de coleção, é útil entender as propriedades desse tipo. Escolher o tipo certo para um determinado conjunto de dados pode significar retenção de significado e isso pode significar um aumento na eficiência ou segurança."
      ]
    },
    {
      "cell_type": "markdown",
      "metadata": {
        "id": "tffojehOfU5h"
      },
      "source": [
        "Uma lista é uma coleção ordenada e modificável. Em listas do Python são escritas com colchetes."
      ]
    },
    {
      "cell_type": "code",
      "metadata": {
        "id": "5sTmt5omfU5i",
        "colab": {
          "base_uri": "https://localhost:8080/"
        },
        "outputId": "ccf94af9-3cb8-4bd0-9b0f-15070b745e27"
      },
      "source": [
        "thislist = [\"apple\", \"banana\", \"cherry\"]\n",
        "print(thislist)"
      ],
      "execution_count": null,
      "outputs": [
        {
          "output_type": "stream",
          "name": "stdout",
          "text": [
            "['apple', 'banana', 'cherry']\n"
          ]
        }
      ]
    },
    {
      "cell_type": "code",
      "metadata": {
        "colab": {
          "base_uri": "https://localhost:8080/",
          "height": 35
        },
        "id": "UkLQDhMjgWir",
        "outputId": "e7303a8f-a581-44a4-cff9-b5c361b0229b"
      },
      "source": [
        "thislist[0] # espera-se que se receba uma string completa"
      ],
      "execution_count": null,
      "outputs": [
        {
          "output_type": "execute_result",
          "data": {
            "application/vnd.google.colaboratory.intrinsic+json": {
              "type": "string"
            },
            "text/plain": [
              "'apple'"
            ]
          },
          "metadata": {},
          "execution_count": 19
        }
      ]
    },
    {
      "cell_type": "code",
      "metadata": {
        "colab": {
          "base_uri": "https://localhost:8080/",
          "height": 35
        },
        "id": "I2E7Imdcgh_6",
        "outputId": "67b90aab-3238-47b6-c8f4-1c0c6da6cda4"
      },
      "source": [
        "thislist[1][1]"
      ],
      "execution_count": null,
      "outputs": [
        {
          "output_type": "execute_result",
          "data": {
            "application/vnd.google.colaboratory.intrinsic+json": {
              "type": "string"
            },
            "text/plain": [
              "'a'"
            ]
          },
          "metadata": {},
          "execution_count": 21
        }
      ]
    },
    {
      "cell_type": "code",
      "metadata": {
        "id": "HPDWFy_LfU5k",
        "colab": {
          "base_uri": "https://localhost:8080/"
        },
        "outputId": "39e2d033-bf25-4a16-a2d8-dcff9cee66a9"
      },
      "source": [
        "thislist = [\"apple\", \"banana\", \"cherry\"]\n",
        "print(thislist[1])"
      ],
      "execution_count": null,
      "outputs": [
        {
          "output_type": "stream",
          "name": "stdout",
          "text": [
            "banana\n"
          ]
        }
      ]
    },
    {
      "cell_type": "code",
      "metadata": {
        "id": "fEwjOz-ifU5n",
        "colab": {
          "base_uri": "https://localhost:8080/"
        },
        "outputId": "ef0c75ec-d0e5-4056-f7d8-6ccc207eec75"
      },
      "source": [
        "thislist = [\"apple\", \"banana\", \"cherry\"]\n",
        "thislist[1] = \"blackcurrant\"\n",
        "print(thislist)"
      ],
      "execution_count": null,
      "outputs": [
        {
          "output_type": "stream",
          "name": "stdout",
          "text": [
            "['apple', 'blackcurrant', 'cherry']\n"
          ]
        }
      ]
    },
    {
      "cell_type": "code",
      "metadata": {
        "id": "bAr1OwfKfU5p",
        "colab": {
          "base_uri": "https://localhost:8080/"
        },
        "outputId": "5568836f-7c75-439f-ca66-c0f2a31dff65"
      },
      "source": [
        "thislist = [\"apple\", \"banana\", \"cherry\"]\n",
        "for x in thislist:\n",
        "    print(x)"
      ],
      "execution_count": null,
      "outputs": [
        {
          "output_type": "stream",
          "name": "stdout",
          "text": [
            "apple\n",
            "banana\n",
            "cherry\n"
          ]
        }
      ]
    },
    {
      "cell_type": "code",
      "metadata": {
        "id": "xogcVeGIfU5s",
        "colab": {
          "base_uri": "https://localhost:8080/"
        },
        "outputId": "111ca2db-76b8-4a31-9710-fb433aabec75"
      },
      "source": [
        "thislist = [\"apple\", \"banana\", \"cherry\"]\n",
        "if \"apple\" in thislist:\n",
        "    print(\"Yes, 'apple' is in the fruits list\")"
      ],
      "execution_count": null,
      "outputs": [
        {
          "output_type": "stream",
          "name": "stdout",
          "text": [
            "Yes, 'apple' is in the fruits list\n"
          ]
        }
      ]
    },
    {
      "cell_type": "code",
      "metadata": {
        "id": "SQGmRBATkzUf"
      },
      "source": [
        "thislist = [\"apple\", \"banana\", \"cherry\"]\n",
        "if \"pineapple\" in thislist:\n",
        "    print(\"Yes, 'pineapple' is in the fruits list\")\n",
        "    "
      ],
      "execution_count": null,
      "outputs": []
    },
    {
      "cell_type": "code",
      "metadata": {
        "colab": {
          "base_uri": "https://localhost:8080/"
        },
        "id": "P6Rgq1YeluOb",
        "outputId": "fd1a6686-8641-4757-f575-fa3ce81eb348"
      },
      "source": [
        "print('Ordem')\n",
        "if \"pineapple\" is 'pineapple':\n",
        "    print(\"Escopo do primeiro if\")\n",
        "    if 'orange' is 'orange':\n",
        "      print('Escopo do segundo if')\n",
        "      if 'grape' is 'grape':\n",
        "        print('Escopo do terceiro')\n",
        "print('Fora do escopo')"
      ],
      "execution_count": null,
      "outputs": [
        {
          "output_type": "stream",
          "name": "stdout",
          "text": [
            "Ordem\n",
            "Escopo do primeiro if\n",
            "Escopo do segundo if\n",
            "Escopo do terceiro\n",
            "Fora do escopo\n"
          ]
        }
      ]
    },
    {
      "cell_type": "code",
      "metadata": {
        "id": "7PkzSI58fU5u",
        "colab": {
          "base_uri": "https://localhost:8080/"
        },
        "outputId": "5d86b619-3c28-4f8a-8d0a-df56c372f955"
      },
      "source": [
        "thislist = [\"apple\", \"banana\", \"cherry\"]\n",
        "print(len(thislist))"
      ],
      "execution_count": null,
      "outputs": [
        {
          "output_type": "stream",
          "name": "stdout",
          "text": [
            "3\n"
          ]
        }
      ]
    },
    {
      "cell_type": "code",
      "metadata": {
        "id": "mZxe_jbDfU5w",
        "colab": {
          "base_uri": "https://localhost:8080/"
        },
        "outputId": "58be6247-01c3-4e08-aa3f-e80753967059"
      },
      "source": [
        "thislist = [\"apple\", \"banana\", \"cherry\"]\n",
        "thislist.append(\"orange\")\n",
        "print(thislist)"
      ],
      "execution_count": null,
      "outputs": [
        {
          "output_type": "stream",
          "name": "stdout",
          "text": [
            "['apple', 'banana', 'cherry', 'orange']\n"
          ]
        }
      ]
    },
    {
      "cell_type": "code",
      "metadata": {
        "id": "pQoNsL7KfU50",
        "colab": {
          "base_uri": "https://localhost:8080/"
        },
        "outputId": "d3225f4d-bd55-48f0-c838-0862b7144d13"
      },
      "source": [
        "thislist = [\"apple\", \"banana\", \"cherry\"]\n",
        "thislist.insert(1, \"orange\")\n",
        "print(thislist)"
      ],
      "execution_count": null,
      "outputs": [
        {
          "output_type": "stream",
          "name": "stdout",
          "text": [
            "['apple', 'orange', 'banana', 'cherry']\n"
          ]
        }
      ]
    },
    {
      "cell_type": "code",
      "metadata": {
        "id": "T37Gr1nlfU52",
        "colab": {
          "base_uri": "https://localhost:8080/"
        },
        "outputId": "f5332c6f-30f4-4e6c-a51d-aabc6e88610f"
      },
      "source": [
        "thislist = [\"apple\", \"banana\", \"cherry\"]\n",
        "thislist.remove(\"banana\")\n",
        "print(thislist)"
      ],
      "execution_count": null,
      "outputs": [
        {
          "output_type": "stream",
          "name": "stdout",
          "text": [
            "['apple', 'cherry']\n"
          ]
        }
      ]
    },
    {
      "cell_type": "code",
      "metadata": {
        "id": "-M0XhXrafU54",
        "colab": {
          "base_uri": "https://localhost:8080/"
        },
        "outputId": "dc6d44a7-88a9-4514-f22d-39aa546b2cdf"
      },
      "source": [
        "thislist = [\"apple\", \"banana\", \"cherry\"]\n",
        "thislist.remove(\"banana\")\n",
        "print(thislist)"
      ],
      "execution_count": null,
      "outputs": [
        {
          "output_type": "stream",
          "name": "stdout",
          "text": [
            "['apple', 'cherry']\n"
          ]
        }
      ]
    },
    {
      "cell_type": "code",
      "metadata": {
        "id": "4zW_JM2hfU57",
        "colab": {
          "base_uri": "https://localhost:8080/"
        },
        "outputId": "53154c7e-350b-404d-a5b6-bda556667613"
      },
      "source": [
        "thislist = [\"apple\", \"banana\", \"cherry\"]\n",
        "thislist.pop()\n",
        "print(thislist)"
      ],
      "execution_count": null,
      "outputs": [
        {
          "output_type": "stream",
          "name": "stdout",
          "text": [
            "['apple', 'banana']\n"
          ]
        }
      ]
    },
    {
      "cell_type": "code",
      "metadata": {
        "id": "NL9KIKz9fU5-",
        "colab": {
          "base_uri": "https://localhost:8080/"
        },
        "outputId": "71fc2f3a-81c5-4e9b-92ab-75da0823a85a"
      },
      "source": [
        "thislist = [\"apple\", \"banana\", \"cherry\"]\n",
        "del thislist[0]\n",
        "print(thislist)"
      ],
      "execution_count": null,
      "outputs": [
        {
          "output_type": "stream",
          "name": "stdout",
          "text": [
            "['banana', 'cherry']\n"
          ]
        }
      ]
    },
    {
      "cell_type": "code",
      "metadata": {
        "id": "WZBy8TjpfU6A",
        "colab": {
          "base_uri": "https://localhost:8080/"
        },
        "outputId": "532ea2e2-2a2e-436d-da43-290fe6368fbf"
      },
      "source": [
        "thislist = [\"apple\", \"banana\", \"cherry\"]\n",
        "thislist.clear()\n",
        "print(thislist)"
      ],
      "execution_count": null,
      "outputs": [
        {
          "output_type": "stream",
          "name": "stdout",
          "text": [
            "[]\n"
          ]
        }
      ]
    },
    {
      "cell_type": "code",
      "metadata": {
        "id": "9mzuuYItfU6C",
        "colab": {
          "base_uri": "https://localhost:8080/"
        },
        "outputId": "3d92a418-90c5-4130-9ca8-d1df6c81347f"
      },
      "source": [
        "thislist = [\"apple\", \"banana\", \"cherry\"]\n",
        "mylist = thislist.copy()\n",
        "print(mylist)"
      ],
      "execution_count": null,
      "outputs": [
        {
          "output_type": "stream",
          "name": "stdout",
          "text": [
            "['apple', 'banana', 'cherry']\n"
          ]
        }
      ]
    },
    {
      "cell_type": "code",
      "metadata": {
        "colab": {
          "base_uri": "https://localhost:8080/"
        },
        "id": "Sa-TRS09n92Y",
        "outputId": "867c00ff-16ef-45f0-cb16-27de75961571"
      },
      "source": [
        "print(thislist)\n",
        "thislist.pop()\n",
        "print(thislist)\n",
        "print(mylist)"
      ],
      "execution_count": null,
      "outputs": [
        {
          "output_type": "stream",
          "name": "stdout",
          "text": [
            "['apple', 'banana']\n",
            "['apple']\n",
            "['apple', 'banana', 'cherry']\n"
          ]
        }
      ]
    },
    {
      "cell_type": "code",
      "metadata": {
        "colab": {
          "base_uri": "https://localhost:8080/"
        },
        "id": "o3n4SLvYohxC",
        "outputId": "f7d696c3-773e-462c-80db-4e7b24f2764a"
      },
      "source": [
        "print(thislist)\n",
        "thislist.append(10)\n",
        "print(thislist)\n",
        "print(thislist[1])"
      ],
      "execution_count": null,
      "outputs": [
        {
          "output_type": "stream",
          "name": "stdout",
          "text": [
            "['apple', 10, 10, 10]\n",
            "['apple', 10, 10, 10, 10]\n",
            "10\n"
          ]
        }
      ]
    },
    {
      "cell_type": "markdown",
      "metadata": {
        "id": "-_yajptefU6F"
      },
      "source": [
        "Um dicionário é uma coleção não ordenada, modificável e indexada. Em Python, os dicionários são escritos com chaves e possuem chaves e valores."
      ]
    },
    {
      "cell_type": "code",
      "metadata": {
        "id": "7_DOwfaVfU6F",
        "colab": {
          "base_uri": "https://localhost:8080/"
        },
        "outputId": "c18d1fe4-034e-4f38-83f5-04574468e3ca"
      },
      "source": [
        "thisdict =\t{\n",
        "  \"brand\": \"Ford\",\n",
        "  \"model\": \"Mustang\",\n",
        "  \"year\": 1964\n",
        "}\n",
        "print(thisdict)"
      ],
      "execution_count": null,
      "outputs": [
        {
          "output_type": "stream",
          "name": "stdout",
          "text": [
            "{'brand': 'Ford', 'model': 'Mustang', 'year': 1964}\n"
          ]
        }
      ]
    },
    {
      "cell_type": "code",
      "metadata": {
        "id": "T508wvnqfU6I",
        "colab": {
          "base_uri": "https://localhost:8080/"
        },
        "outputId": "f4bc60bb-c6ea-4cbe-e8fe-6437177ce2a7"
      },
      "source": [
        "x = thisdict[\"model\"]\n",
        "print(x)"
      ],
      "execution_count": null,
      "outputs": [
        {
          "output_type": "stream",
          "name": "stdout",
          "text": [
            "Mustang\n"
          ]
        }
      ]
    },
    {
      "cell_type": "code",
      "metadata": {
        "colab": {
          "base_uri": "https://localhost:8080/"
        },
        "id": "LxVxfz_2piUQ",
        "outputId": "cf69b94f-e1cc-4df7-858c-2d9ad9f6bd00"
      },
      "source": [
        "linha1 =\t{\n",
        "  \"brand\": \"Ford\",\n",
        "  \"model\": \"Mustang\",\n",
        "  \"year\": 1964\n",
        "}\n",
        "linha2 =\t{\n",
        "  \"brand\": \"VW\",\n",
        "  \"model\": \"Fusca\",\n",
        "  \"year\": 1989\n",
        "}\n",
        "\n",
        "my_dict = [linha1, linha2]\n",
        "print(my_dict)"
      ],
      "execution_count": null,
      "outputs": [
        {
          "output_type": "stream",
          "name": "stdout",
          "text": [
            "[{'brand': 'Ford', 'model': 'Mustang', 'year': 1964}, {'brand': 'VW', 'model': 'Fusca', 'year': 1989}]\n"
          ]
        }
      ]
    },
    {
      "cell_type": "code",
      "metadata": {
        "colab": {
          "base_uri": "https://localhost:8080/"
        },
        "id": "DiKwCeTsqGl7",
        "outputId": "8d92746e-48c7-4066-9c14-a0cc0e9db710"
      },
      "source": [
        "my_dict = {\"Mustang\":{\n",
        "  \"brand\": \"Ford\",\n",
        "  \"year\": 1964\n",
        "},\"Fusca\":{\n",
        "  \"brand\": \"VW\",\n",
        "  \"year\": 1989\n",
        "}}\n",
        "print(my_dict)\n",
        "my_dict['Corsa'] = {'brand':'Chevrolet','year':2005}\n",
        "my_dict['Vectra'] = {'brand':'Chevrolet','year':2005}\n",
        "print(my_dict['Corsa'])"
      ],
      "execution_count": null,
      "outputs": [
        {
          "output_type": "stream",
          "name": "stdout",
          "text": [
            "{'Mustang': {'brand': 'Ford', 'year': 1964}, 'Fusca': {'brand': 'VW', 'year': 1989}}\n",
            "{'brand': 'Chevrolet', 'year': 2005}\n"
          ]
        }
      ]
    },
    {
      "cell_type": "code",
      "metadata": {
        "colab": {
          "base_uri": "https://localhost:8080/"
        },
        "id": "z6BnRaYdpGgA",
        "outputId": "fefa5b67-354a-461b-f716-d2db47e83d4d"
      },
      "source": [
        "print(my_dict[\"Mustang\"])"
      ],
      "execution_count": null,
      "outputs": [
        {
          "output_type": "stream",
          "name": "stdout",
          "text": [
            "{'brand': 'Ford', 'year': 1964}\n"
          ]
        }
      ]
    },
    {
      "cell_type": "code",
      "metadata": {
        "id": "sDYViCFefU6K",
        "colab": {
          "base_uri": "https://localhost:8080/"
        },
        "outputId": "447c1011-53d2-4f47-b5d9-163e8faae15a"
      },
      "source": [
        "x = thisdict.get(\"model\")\n",
        "print(x)"
      ],
      "execution_count": null,
      "outputs": [
        {
          "output_type": "stream",
          "name": "stdout",
          "text": [
            "Mustang\n"
          ]
        }
      ]
    },
    {
      "cell_type": "code",
      "metadata": {
        "colab": {
          "base_uri": "https://localhost:8080/"
        },
        "id": "HYpG33jgr2iq",
        "outputId": "ab7fbba7-2ba9-465f-c520-fd2b9a85538c"
      },
      "source": [
        "print(my_dict['Fusca'].get(\"year\"))"
      ],
      "execution_count": null,
      "outputs": [
        {
          "output_type": "stream",
          "name": "stdout",
          "text": [
            "1989\n"
          ]
        }
      ]
    },
    {
      "cell_type": "code",
      "metadata": {
        "id": "4ON_lOODfU6N",
        "colab": {
          "base_uri": "https://localhost:8080/"
        },
        "outputId": "28e225da-0edc-42ca-d377-5eec2dff4d3e"
      },
      "source": [
        "thisdict =\t{\n",
        "  \"brand\": \"Ford\",\n",
        "  \"model\": \"Mustang\",\n",
        "  \"year\": 1964\n",
        "}\n",
        "thisdict[\"year\"] = 2018\n",
        "print(thisdict)"
      ],
      "execution_count": null,
      "outputs": [
        {
          "output_type": "stream",
          "name": "stdout",
          "text": [
            "{'brand': 'Ford', 'model': 'Mustang', 'year': 2018}\n"
          ]
        }
      ]
    },
    {
      "cell_type": "code",
      "metadata": {
        "id": "2BqkpRfvfU6P",
        "colab": {
          "base_uri": "https://localhost:8080/"
        },
        "outputId": "d6979df7-d348-44a3-9865-a369d6fbe32b"
      },
      "source": [
        "for x in thisdict:\n",
        "    print(x)"
      ],
      "execution_count": null,
      "outputs": [
        {
          "output_type": "stream",
          "name": "stdout",
          "text": [
            "brand\n",
            "model\n",
            "year\n"
          ]
        }
      ]
    },
    {
      "cell_type": "code",
      "metadata": {
        "colab": {
          "base_uri": "https://localhost:8080/"
        },
        "id": "-KKEoQMTsIvi",
        "outputId": "3559b62f-3569-4e69-82c1-edb1545cda52"
      },
      "source": [
        "for x in my_dict:\n",
        "    print(x)"
      ],
      "execution_count": null,
      "outputs": [
        {
          "output_type": "stream",
          "name": "stdout",
          "text": [
            "Mustang\n",
            "Fusca\n",
            "Corsa\n",
            "Vectra\n"
          ]
        }
      ]
    },
    {
      "cell_type": "code",
      "metadata": {
        "colab": {
          "base_uri": "https://localhost:8080/"
        },
        "id": "ZO0pnEX5sNy6",
        "outputId": "650bbd47-f48f-4f57-b4fc-ec4317ae7462"
      },
      "source": [
        "for x in my_dict:\n",
        "    print(my_dict[x].get('year'))"
      ],
      "execution_count": null,
      "outputs": [
        {
          "output_type": "stream",
          "name": "stdout",
          "text": [
            "1964\n",
            "1989\n",
            "2005\n",
            "2005\n"
          ]
        }
      ]
    },
    {
      "cell_type": "code",
      "metadata": {
        "colab": {
          "base_uri": "https://localhost:8080/"
        },
        "id": "wtrVyidgsklt",
        "outputId": "23d250a3-64fd-49f3-9397-4bfa05f17798"
      },
      "source": [
        "# objetivo: filtrar os carros que foram fabricados em 2005\n",
        "list_de_carros = []\n",
        "for x in my_dict:\n",
        "  if my_dict[x].get('year') == 2005:\n",
        "    list_de_carros.append(x)\n",
        "print(list_de_carros)"
      ],
      "execution_count": null,
      "outputs": [
        {
          "output_type": "stream",
          "name": "stdout",
          "text": [
            "['Corsa', 'Vectra']\n"
          ]
        }
      ]
    },
    {
      "cell_type": "code",
      "metadata": {
        "id": "HDw1Qqk3fU6R",
        "colab": {
          "base_uri": "https://localhost:8080/"
        },
        "outputId": "e5ac8265-7093-428c-9449-60ba01d93968"
      },
      "source": [
        "thisdict =\t{\n",
        "  \"brand\": \"Ford\",\n",
        "  \"model\": \"Mustang\",\n",
        "  \"year\": 1964\n",
        "}\n",
        "for x in thisdict:\n",
        "    print(x,thisdict[x])"
      ],
      "execution_count": null,
      "outputs": [
        {
          "output_type": "stream",
          "name": "stdout",
          "text": [
            "brand Ford\n",
            "model Mustang\n",
            "year 1964\n"
          ]
        }
      ]
    },
    {
      "cell_type": "code",
      "metadata": {
        "colab": {
          "base_uri": "https://localhost:8080/"
        },
        "id": "jRZzzMjguhIC",
        "outputId": "ce116d77-574e-4e5c-e908-16aeb95baa6b"
      },
      "source": [
        "for x in my_dict:\n",
        "  print(x, my_dict[x])"
      ],
      "execution_count": null,
      "outputs": [
        {
          "output_type": "stream",
          "name": "stdout",
          "text": [
            "Mustang {'brand': 'Ford', 'year': 1964}\n",
            "Fusca {'brand': 'VW', 'year': 1989}\n",
            "Corsa {'brand': 'Chevrolet', 'year': 2005}\n",
            "Vectra {'brand': 'Chevrolet', 'year': 2005}\n"
          ]
        }
      ]
    },
    {
      "cell_type": "code",
      "metadata": {
        "id": "zdGGC8SNfU6T",
        "colab": {
          "base_uri": "https://localhost:8080/"
        },
        "outputId": "b80060f5-adcc-48f6-ec92-55cc06abfcd5"
      },
      "source": [
        "for x in thisdict.values():\n",
        "    print(x)"
      ],
      "execution_count": null,
      "outputs": [
        {
          "output_type": "stream",
          "name": "stdout",
          "text": [
            "Ford\n",
            "Mustang\n",
            "2018\n"
          ]
        }
      ]
    },
    {
      "cell_type": "code",
      "metadata": {
        "id": "cKFYVwagfU6U",
        "colab": {
          "base_uri": "https://localhost:8080/"
        },
        "outputId": "2631841b-2f85-4ff1-e32e-79f276b902b4"
      },
      "source": [
        "for x, y in thisdict.items():\n",
        "    print(x, y)"
      ],
      "execution_count": null,
      "outputs": [
        {
          "output_type": "stream",
          "name": "stdout",
          "text": [
            "brand Ford\n",
            "model Mustang\n",
            "year 2018\n"
          ]
        }
      ]
    },
    {
      "cell_type": "code",
      "metadata": {
        "id": "fnrwadDafU6W",
        "colab": {
          "base_uri": "https://localhost:8080/"
        },
        "outputId": "41f02fc2-2d13-4f06-c731-3a6eddf77bde"
      },
      "source": [
        "thisdict =\t{\n",
        "  \"brand\": \"Ford\",\n",
        "  \"model\": \"Mustang\",\n",
        "  \"year\": 1964\n",
        "}\n",
        "if \"model\" in thisdict:\n",
        "    print(\"Yes, 'model' is one of the keys in the thisdict dictionary\")"
      ],
      "execution_count": null,
      "outputs": [
        {
          "output_type": "stream",
          "name": "stdout",
          "text": [
            "Yes, 'model' is one of the keys in the thisdict dictionary\n"
          ]
        }
      ]
    },
    {
      "cell_type": "code",
      "metadata": {
        "id": "ELFLxDgofU6Y",
        "colab": {
          "base_uri": "https://localhost:8080/"
        },
        "outputId": "1d5a5612-bef3-4716-fdb0-674c13fc308f"
      },
      "source": [
        "print(len(thisdict))"
      ],
      "execution_count": null,
      "outputs": [
        {
          "output_type": "stream",
          "name": "stdout",
          "text": [
            "3\n"
          ]
        }
      ]
    },
    {
      "cell_type": "code",
      "metadata": {
        "id": "-Q0jMZSxfU6a",
        "colab": {
          "base_uri": "https://localhost:8080/"
        },
        "outputId": "03d6e2b6-ea42-45fd-a0b6-91a88fd1f6c5"
      },
      "source": [
        "thisdict =\t{\n",
        "  \"brand\": \"Ford\",\n",
        "  \"model\": \"Mustang\",\n",
        "  \"year\": 1964\n",
        "}\n",
        "thisdict[\"color\"] = \"red\"\n",
        "print(thisdict)"
      ],
      "execution_count": null,
      "outputs": [
        {
          "output_type": "stream",
          "name": "stdout",
          "text": [
            "{'brand': 'Ford', 'model': 'Mustang', 'year': 1964, 'color': 'red'}\n"
          ]
        }
      ]
    },
    {
      "cell_type": "code",
      "metadata": {
        "id": "M38ulVCwfU6d",
        "colab": {
          "base_uri": "https://localhost:8080/"
        },
        "outputId": "c45e0609-30ae-4d88-c002-4ff585350d65"
      },
      "source": [
        "thisdict =\t{\n",
        "  \"brand\": \"Ford\",\n",
        "  \"model\": \"Mustang\",\n",
        "  \"year\": 1964\n",
        "}\n",
        "thisdict.pop(\"model\")\n",
        "print(thisdict)"
      ],
      "execution_count": null,
      "outputs": [
        {
          "output_type": "stream",
          "name": "stdout",
          "text": [
            "{'brand': 'Ford', 'year': 1964}\n"
          ]
        }
      ]
    },
    {
      "cell_type": "code",
      "metadata": {
        "id": "s-94NpeCfU6f",
        "colab": {
          "base_uri": "https://localhost:8080/"
        },
        "outputId": "e0a5f014-0a03-42ca-d6a2-24468eeba598"
      },
      "source": [
        "thisdict =\t{\n",
        "  \"brand\": \"Ford\",\n",
        "  \"model\": \"Mustang\",\n",
        "  \"year\": 1964\n",
        "}\n",
        "thisdict.popitem()\n",
        "print(thisdict)"
      ],
      "execution_count": null,
      "outputs": [
        {
          "output_type": "stream",
          "name": "stdout",
          "text": [
            "{'brand': 'Ford', 'model': 'Mustang'}\n"
          ]
        }
      ]
    },
    {
      "cell_type": "markdown",
      "metadata": {
        "id": "zlDjqZsFIiCR"
      },
      "source": [
        "# Controles de Fluxo"
      ]
    },
    {
      "cell_type": "markdown",
      "metadata": {
        "id": "Ls7-B03NZlJJ"
      },
      "source": [
        "## Controle Condicional (```if```)"
      ]
    },
    {
      "cell_type": "markdown",
      "metadata": {
        "id": "wsVoSy_QWajK"
      },
      "source": [
        "Uma capacidade importantíssima de uma linguagem de programação, necessária em praticamente todo programa de computador, é a capacidade de tomar decisões baseadas em certas condições.\n",
        "\n",
        "A linguagem Python usa algumas palavras-chave para indicar execução condicional de código: ```if```, ```elif``` (else ```if```), ```else```. Basicamente, os condicionais nos permitem selecionar certos blocos de código que serão ou não executados dependendo de certas condições. Em alto nível, um condicional é como a sequência de passos abaixo:\n",
        "\n",
        "\n",
        "1. A condição é verdadeira?\n",
        "2. Se sim, execute um trecho de código.\n",
        "3. Caso contrário, execute outro trecho de código.\n",
        "\n",
        "Vejamos alguns exemplos."
      ]
    },
    {
      "cell_type": "code",
      "metadata": {
        "id": "Bs19fxjGJFUj",
        "colab": {
          "base_uri": "https://localhost:8080/"
        },
        "outputId": "21f98c29-f024-423a-e1bd-cb36b38e782a"
      },
      "source": [
        "condicao = False\n",
        "\n",
        "if condicao == True:\n",
        "  print('A condicao é verdadeira')\n",
        "else:\n",
        "  print('A condicao é falsa')"
      ],
      "execution_count": null,
      "outputs": [
        {
          "output_type": "stream",
          "name": "stdout",
          "text": [
            "A condicao é falsa\n"
          ]
        }
      ]
    },
    {
      "cell_type": "markdown",
      "metadata": {
        "id": "Hr49ksHMYwPP"
      },
      "source": [
        "Condicionais também podem ser usados em cadeia (um após o outro), como mostrado abaixo:\n"
      ]
    },
    {
      "cell_type": "code",
      "metadata": {
        "id": "r7jvHajcYxZF",
        "colab": {
          "base_uri": "https://localhost:8080/"
        },
        "outputId": "95aeb544-4d6e-4684-cfb0-409744afd012"
      },
      "source": [
        "condicao_1 = True\n",
        "condicao_2 = True\n",
        "\n",
        "if condicao_1 and condicao_2:\n",
        "  print('A condicao_1 e condicao_2 são verdadeiras')\n",
        "elif condicao_1:\n",
        "  print(\"A condicao_1 é verdadeira.\")\n",
        "elif condicao_2:\n",
        "  print(\"A condicao_2 é verdadeira.\")\n",
        "else:\n",
        "  print(\"As condições condicao_1 e condicao_2 são falsas.\")"
      ],
      "execution_count": null,
      "outputs": [
        {
          "output_type": "stream",
          "name": "stdout",
          "text": [
            "A condicao_1 e condicao_2 são verdadeiras\n"
          ]
        }
      ]
    },
    {
      "cell_type": "markdown",
      "metadata": {
        "id": "LgaaYXnDZGSk"
      },
      "source": [
        "É importante enfatizar isso: em Python, blocos de código são delimitados por sua indentação. E a indentação é parte integrante do programa, sendo essencial para seu correto funcionamento."
      ]
    },
    {
      "cell_type": "code",
      "metadata": {
        "colab": {
          "base_uri": "https://localhost:8080/",
          "height": 131
        },
        "id": "7dMM30gRZO-7",
        "outputId": "638b9db7-bd33-4b0f-8686-00d9df8183a5"
      },
      "source": [
        "# Má indentação!\n",
        "if sentenca_1:\n",
        "  if sentenca_2:\n",
        "  # A linha abaixo não está indentada corretamente.\n",
        "  print(\"Ambas sentenças são verdadeiras.\")"
      ],
      "execution_count": null,
      "outputs": [
        {
          "output_type": "error",
          "ename": "IndentationError",
          "evalue": "ignored",
          "traceback": [
            "\u001b[0;36m  File \u001b[0;32m\"<ipython-input-93-170f141c1cbc>\"\u001b[0;36m, line \u001b[0;32m5\u001b[0m\n\u001b[0;31m    print(\"Ambas sentenças são verdadeiras.\")\u001b[0m\n\u001b[0m        ^\u001b[0m\n\u001b[0;31mIndentationError\u001b[0m\u001b[0;31m:\u001b[0m expected an indented block\n"
          ]
        }
      ]
    },
    {
      "cell_type": "code",
      "metadata": {
        "id": "BCS5HumdZHKP"
      },
      "source": [
        "condicao = True\n",
        "\n",
        "if condicao:\n",
        "    print(\"Impresso se condicao for verdadeiro.\")\n",
        "\n",
        "    print(\"Ainda dentro do if. Note a indentação.\")"
      ],
      "execution_count": null,
      "outputs": []
    },
    {
      "cell_type": "markdown",
      "metadata": {
        "id": "zsZH0VxycdDx"
      },
      "source": [
        "## Controle de loop ```for```"
      ]
    },
    {
      "cell_type": "markdown",
      "metadata": {
        "id": "ApRpelghZefM"
      },
      "source": [
        "Existem vários tipos de laços (loops) em Python. O mais comum deles é o for, que é usado com objetos iteráveis tais como listas e intervalos. Os exemplos abaixo mostram o funcionamento básico do for."
      ]
    },
    {
      "cell_type": "code",
      "metadata": {
        "colab": {
          "base_uri": "https://localhost:8080/"
        },
        "id": "UdkHeDKUZdtN",
        "outputId": "576fbe1c-c2c0-4aa6-acd7-bc5adb1769fa"
      },
      "source": [
        "# Percorrendo uma lista de números.\n",
        "print(\"Números em uma lista: \")\n",
        "for numero in [1, 1, 2, 3, 5, 8, 13]:\n",
        "  print(numero)"
      ],
      "execution_count": null,
      "outputs": [
        {
          "output_type": "stream",
          "name": "stdout",
          "text": [
            "Números em uma lista: \n",
            "1\n",
            "1\n",
            "2\n",
            "3\n",
            "5\n",
            "8\n",
            "13\n"
          ]
        }
      ]
    },
    {
      "cell_type": "markdown",
      "metadata": {
        "id": "k4VHO61DbmqE"
      },
      "source": [
        "Em python, é muito simples percorrer uma lista de strings"
      ]
    },
    {
      "cell_type": "code",
      "metadata": {
        "id": "93d7_al3bnT1",
        "colab": {
          "base_uri": "https://localhost:8080/"
        },
        "outputId": "a8d91449-3ce4-4e59-ca6d-38a516c6add8"
      },
      "source": [
        "# Percorrendo uma lista de palavras.\n",
        "print(\"Palavras em uma lista:\")\n",
        "for palavra in [\"Ordem\", \"e\", \"Progresso\"]:\n",
        "  print(palavra)"
      ],
      "execution_count": null,
      "outputs": [
        {
          "output_type": "stream",
          "name": "stdout",
          "text": [
            "Palavras em uma lista:\n",
            "Ordem\n",
            "e\n",
            "Progresso\n"
          ]
        }
      ]
    },
    {
      "cell_type": "markdown",
      "metadata": {
        "id": "lxQ8WqQMbx3K"
      },
      "source": [
        "Percorrer um intervalo em python"
      ]
    },
    {
      "cell_type": "code",
      "metadata": {
        "id": "zYCIPmX5bxHm",
        "colab": {
          "base_uri": "https://localhost:8080/"
        },
        "outputId": "ea37a391-cad4-4039-b361-fe01553e001a"
      },
      "source": [
        "# Percorrendo um intervalo. Por padrão, intervalos começam em zero.\n",
        "for i in range(3):\n",
        "  print(i)"
      ],
      "execution_count": null,
      "outputs": [
        {
          "output_type": "stream",
          "name": "stdout",
          "text": [
            "0\n",
            "1\n",
            "2\n"
          ]
        }
      ]
    },
    {
      "cell_type": "markdown",
      "metadata": {
        "id": "eyTvDv9ocALm"
      },
      "source": [
        "Nos exemplos acima, ao percorrer os elementos de uma sequência, não usamos o índice do elemento (sua posição na sequência). Entretanto, há situações em que esta informação é útil. Python nos permite acessar tanto os índices dos elementos quanto os elementos propriamente ditos se usarmos a função ```enumerate```."
      ]
    },
    {
      "cell_type": "code",
      "metadata": {
        "id": "zSfUA1rwcDcK",
        "colab": {
          "base_uri": "https://localhost:8080/"
        },
        "outputId": "a5763541-f8ed-4507-b3a9-650aa7dc3293"
      },
      "source": [
        "for indice, elemento in enumerate(range(-3,3)):\n",
        "  print(indice, elemento)"
      ],
      "execution_count": null,
      "outputs": [
        {
          "output_type": "stream",
          "name": "stdout",
          "text": [
            "0 -3\n",
            "1 -2\n",
            "2 -1\n",
            "3 0\n",
            "4 1\n",
            "5 2\n"
          ]
        }
      ]
    },
    {
      "cell_type": "markdown",
      "metadata": {
        "id": "aq0gnlEccJPc"
      },
      "source": [
        "Um exemplo interessante de uso de laços ```for``` é a busca por um elemento em uma lista:"
      ]
    },
    {
      "cell_type": "code",
      "metadata": {
        "colab": {
          "base_uri": "https://localhost:8080/"
        },
        "id": "AG13yNm2cJkH",
        "outputId": "ac492393-25da-4798-b08c-206d1f422890"
      },
      "source": [
        "elemento = 10\n",
        "estah_presente = False\n",
        "lista = [1, 2, 7, 10, 15, 20, 50]\n",
        "for item in lista:\n",
        "  if item == elemento:\n",
        "    estah_presente = True\n",
        "\n",
        "if estah_presente:\n",
        "  print(\"Elemento está na lista!\")\n",
        "else:\n",
        "  print(\"Elemento não está na lista!\")"
      ],
      "execution_count": null,
      "outputs": [
        {
          "output_type": "stream",
          "name": "stdout",
          "text": [
            "Elemento está na lista!\n"
          ]
        }
      ]
    },
    {
      "cell_type": "markdown",
      "metadata": {
        "id": "gwB2peZZcThK"
      },
      "source": [
        "Uma outra forma de pesquisar por um elemento em uma lista em Python é por meio do recurso ```in```:"
      ]
    },
    {
      "cell_type": "code",
      "metadata": {
        "id": "E5W8CNircTy3",
        "colab": {
          "base_uri": "https://localhost:8080/"
        },
        "outputId": "5a22b0ee-21ea-4788-acc4-d443900ff601"
      },
      "source": [
        "elemento = 10\n",
        "lista = [1, 2, 7, 10, 15]\n",
        "if elemento in lista:\n",
        "  print(\"Está na lista!\")\n",
        "else:\n",
        "  print(\"Não está na lista!\")"
      ],
      "execution_count": null,
      "outputs": [
        {
          "output_type": "stream",
          "name": "stdout",
          "text": [
            "Está na lista!\n"
          ]
        }
      ]
    },
    {
      "cell_type": "markdown",
      "metadata": {
        "id": "zp8rWiuBdM6S"
      },
      "source": [
        "## Controle de loop ```while```"
      ]
    },
    {
      "cell_type": "markdown",
      "metadata": {
        "id": "QjPRfZ1TdVMN"
      },
      "source": [
        "Além dos laços ```for```, Python conta também com os laços ```while```, que executam enquanto uma dada condição for verdadeira:"
      ]
    },
    {
      "cell_type": "code",
      "metadata": {
        "id": "C_pvgGeZdQ5c",
        "colab": {
          "base_uri": "https://localhost:8080/"
        },
        "outputId": "2ddda849-e96f-4536-8cfe-41228d1f8007"
      },
      "source": [
        "i = 1\n",
        "while i < 5:\n",
        "  print(i)\n",
        "  i = i + 1"
      ],
      "execution_count": null,
      "outputs": [
        {
          "output_type": "stream",
          "name": "stdout",
          "text": [
            "1\n",
            "2\n",
            "3\n",
            "4\n"
          ]
        }
      ]
    },
    {
      "cell_type": "markdown",
      "metadata": {
        "id": "OhSBRPKGdd58"
      },
      "source": [
        "Um exemplo útil de uso de laços ```while``` é o cálculo do fatorial de um número:"
      ]
    },
    {
      "cell_type": "code",
      "metadata": {
        "colab": {
          "base_uri": "https://localhost:8080/"
        },
        "id": "bUbPrDIBdoaw",
        "outputId": "6d7d596d-ed0d-4c7a-820a-88324b32f7be"
      },
      "source": [
        "n = 6\n",
        "fatorial = 1\n",
        "while n > 1:\n",
        "  fatorial *= n \n",
        "  n -= 1 \n",
        "print(fatorial)"
      ],
      "execution_count": null,
      "outputs": [
        {
          "output_type": "stream",
          "name": "stdout",
          "text": [
            "720\n"
          ]
        }
      ]
    },
    {
      "cell_type": "markdown",
      "source": [
        "# Packing e Unpacking"
      ],
      "metadata": {
        "id": "8aOrYLa41293"
      }
    },
    {
      "cell_type": "markdown",
      "source": [
        "*Unpacking* em Python se refere a uma operação que consiste em atribuir um iterável de valores a uma tupla (ou lista) de variáveis ​​em uma única instrução de atribuição. Como complemento, o termo empacotamento pode ser usado quando coletamos vários valores em uma única variável usando o operador de desempacotamento iterável, *.\n",
        "\n",
        "Historicamente, os desenvolvedores de Python se referem genericamente a esse tipo de operação como **descompactação de tuplas**. No entanto, como esse recurso do Python se tornou bastante útil e popular, ele foi generalizado para todos os tipos de iteráveis. Hoje em dia, um termo mais moderno e preciso seria descompactação de qualquer tipo de iterável."
      ],
      "metadata": {
        "id": "yrsst-uf2Fme"
      }
    },
    {
      "cell_type": "code",
      "source": [
        "(a, b, c) = (1, 2, 3)\n",
        "print(a)\n",
        "print(b)\n",
        "print(c)"
      ],
      "metadata": {
        "colab": {
          "base_uri": "https://localhost:8080/"
        },
        "id": "QKJt5kW72da-",
        "outputId": "a0585298-5609-47e7-e0a1-bdf313837424"
      },
      "execution_count": null,
      "outputs": [
        {
          "output_type": "stream",
          "name": "stdout",
          "text": [
            "1\n",
            "2\n",
            "3\n"
          ]
        }
      ]
    },
    {
      "cell_type": "markdown",
      "source": [
        "O código acima é equivalente à"
      ],
      "metadata": {
        "id": "Lluzg7RG2oBx"
      }
    },
    {
      "cell_type": "code",
      "source": [
        "(a, b, c) = 1, 2, 3\n",
        "a, b, c = (1, 2, 3)\n",
        "a, b, c = 1, 2, 3"
      ],
      "metadata": {
        "id": "w1z3COkV2nmF"
      },
      "execution_count": null,
      "outputs": []
    },
    {
      "cell_type": "markdown",
      "source": [
        "Use com cuidado, pois..."
      ],
      "metadata": {
        "id": "TJLXgrDm2z87"
      }
    },
    {
      "cell_type": "code",
      "source": [
        "#a, b = 1, 2, 3"
      ],
      "metadata": {
        "id": "HKcPjY_x218c"
      },
      "execution_count": null,
      "outputs": []
    },
    {
      "cell_type": "markdown",
      "source": [
        "Podemos fazer o unpacking para strings"
      ],
      "metadata": {
        "id": "nSQo_nO-29Jx"
      }
    },
    {
      "cell_type": "code",
      "source": [
        "a, b, c = '123'\n",
        "print(a)\n",
        "print(b)\n",
        "print(c)"
      ],
      "metadata": {
        "colab": {
          "base_uri": "https://localhost:8080/"
        },
        "id": "jwg15oNw3AB_",
        "outputId": "f4757bc8-5311-415c-88b7-ba446e34cd99"
      },
      "execution_count": null,
      "outputs": [
        {
          "output_type": "stream",
          "name": "stdout",
          "text": [
            "1\n",
            "2\n",
            "3\n"
          ]
        }
      ]
    },
    {
      "cell_type": "markdown",
      "source": [
        "Podemos fazer para listas"
      ],
      "metadata": {
        "id": "5fpgCU6V3QBU"
      }
    },
    {
      "cell_type": "code",
      "source": [
        "a, b, c = [1, 2, 3]\n",
        "print(a)\n",
        "print(b)\n",
        "print(c)"
      ],
      "metadata": {
        "colab": {
          "base_uri": "https://localhost:8080/"
        },
        "id": "NYHq3XPz3IAm",
        "outputId": "8a2dc0d0-c44b-498b-dd4c-9063055203c1"
      },
      "execution_count": null,
      "outputs": [
        {
          "output_type": "stream",
          "name": "stdout",
          "text": [
            "1\n",
            "2\n",
            "3\n"
          ]
        }
      ]
    },
    {
      "cell_type": "markdown",
      "source": [
        "Podemos fazer para uma função"
      ],
      "metadata": {
        "id": "8iODbtjD3bSY"
      }
    },
    {
      "cell_type": "code",
      "source": [
        "gen = (i ** 2 for i in range(3))\n",
        "a, b, c = gen\n",
        "print(a)\n",
        "print(b)\n",
        "print(c)"
      ],
      "metadata": {
        "colab": {
          "base_uri": "https://localhost:8080/"
        },
        "id": "Pd8Rj0a03Z2L",
        "outputId": "ab9d8b8b-c774-4c3b-cab4-f1d7b4d6b410"
      },
      "execution_count": null,
      "outputs": [
        {
          "output_type": "stream",
          "name": "stdout",
          "text": [
            "0\n",
            "1\n",
            "4\n"
          ]
        }
      ]
    },
    {
      "cell_type": "markdown",
      "source": [
        "Para as chaves de um dicionário"
      ],
      "metadata": {
        "id": "eS_-5YK13rHM"
      }
    },
    {
      "cell_type": "code",
      "source": [
        "my_dict = {'one': 1, 'two':2, 'three': 3}\n",
        "a, b, c = my_dict\n",
        "print(a)\n",
        "print(b)\n",
        "print(c)"
      ],
      "metadata": {
        "colab": {
          "base_uri": "https://localhost:8080/"
        },
        "id": "ZN9DEIVt3qHQ",
        "outputId": "3966c367-5e5a-4b5e-e0bb-6b8508f9281c"
      },
      "execution_count": null,
      "outputs": [
        {
          "output_type": "stream",
          "name": "stdout",
          "text": [
            "one\n",
            "two\n",
            "three\n"
          ]
        }
      ]
    },
    {
      "cell_type": "markdown",
      "source": [
        "Ou para seus valores"
      ],
      "metadata": {
        "id": "AfpaSYQF3yZq"
      }
    },
    {
      "cell_type": "code",
      "source": [
        "my_dict = {'one': 1, 'two':2, 'three': 3}\n",
        "a, b, c = my_dict.values()\n",
        "print(a)\n",
        "print(b)\n",
        "print(c)"
      ],
      "metadata": {
        "colab": {
          "base_uri": "https://localhost:8080/"
        },
        "id": "-BLMwn783qpW",
        "outputId": "5117ebe3-89d8-42fb-dc15-3742634de59a"
      },
      "execution_count": null,
      "outputs": [
        {
          "output_type": "stream",
          "name": "stdout",
          "text": [
            "1\n",
            "2\n",
            "3\n"
          ]
        }
      ]
    },
    {
      "cell_type": "markdown",
      "source": [
        "Ou para o par chave-valor"
      ],
      "metadata": {
        "id": "f3llxomD37eU"
      }
    },
    {
      "cell_type": "code",
      "source": [
        "my_dict = {'one': 1, 'two':2, 'three': 3}\n",
        "a, b, c = my_dict.items()\n",
        "print(a)\n",
        "print(b)\n",
        "print(c)"
      ],
      "metadata": {
        "colab": {
          "base_uri": "https://localhost:8080/"
        },
        "id": "iXQOgHUe3-hn",
        "outputId": "a06af6cb-d949-4151-c900-24877f99068e"
      },
      "execution_count": null,
      "outputs": [
        {
          "output_type": "stream",
          "name": "stdout",
          "text": [
            "('one', 1)\n",
            "('two', 2)\n",
            "('three', 3)\n"
          ]
        }
      ]
    },
    {
      "cell_type": "markdown",
      "source": [
        "Finalmente, também podemos usar um conjunto de objetos em operações de descompactação. No entanto, como os conjuntos são coleções não ordenadas, a ordem das atribuições pode ser meio incoerente e pode levar a erros sutis. Confira o exemplo a seguir:"
      ],
      "metadata": {
        "id": "otEpseQa4P_W"
      }
    },
    {
      "cell_type": "code",
      "source": [
        "a, b, c = {'a', 'b', 'c'}\n",
        "print(a)\n",
        "print(b)\n",
        "print(c)"
      ],
      "metadata": {
        "colab": {
          "base_uri": "https://localhost:8080/"
        },
        "id": "kj7Yaeio4XXL",
        "outputId": "77751d38-0c7a-450e-e1f8-7fa6ae24c881"
      },
      "execution_count": null,
      "outputs": [
        {
          "output_type": "stream",
          "name": "stdout",
          "text": [
            "b\n",
            "a\n",
            "c\n"
          ]
        }
      ]
    },
    {
      "cell_type": "markdown",
      "source": [
        "## Packing com Operador * "
      ],
      "metadata": {
        "id": "_T774tRw4fDv"
      }
    },
    {
      "cell_type": "markdown",
      "source": [
        "O operador * é conhecido, neste contexto, como o operador de descompactação de tupla (ou iterável). Ele estende a funcionalidade de descompactação para nos permitir coletar ou empacotar vários valores em uma única variável. No exemplo a seguir, empacotamos uma tupla de valores em uma única variável usando o operador *:"
      ],
      "metadata": {
        "id": "eYwExQxH4ks0"
      }
    },
    {
      "cell_type": "code",
      "source": [
        " *a, = 1, 2\n",
        " print(a)"
      ],
      "metadata": {
        "colab": {
          "base_uri": "https://localhost:8080/"
        },
        "id": "iSeF_jNH4khB",
        "outputId": "28c7b9e8-e96e-4ace-fee6-af44a9192b9c"
      },
      "execution_count": null,
      "outputs": [
        {
          "output_type": "stream",
          "name": "stdout",
          "text": [
            "[1, 2]\n"
          ]
        }
      ]
    },
    {
      "cell_type": "markdown",
      "source": [
        "Para que este código funcione, o lado esquerdo da atribuição deve ser uma tupla (ou uma lista). É por isso que usamos uma vírgula à direita. Essa tupla pode conter quantas variáveis ​​precisarmos. No entanto, só pode conter uma expressão com estrela.\n",
        "\n",
        "Podemos formar uma expressão \"estrelada\" usando o operador de descompactação, *, junto com um identificador Python válido, assim como o *a no código acima. As demais variáveis ​​na tupla do lado esquerdo são chamadas de variáveis ​​obrigatórias porque devem ser preenchidas com valores concretos, caso contrário, teremos um erro. Veja como isso funciona na prática."
      ],
      "metadata": {
        "id": "zyD68M0b47xK"
      }
    },
    {
      "cell_type": "code",
      "source": [
        "a, *b = 1, 2, 3\n",
        "print(a)\n",
        "print(b)"
      ],
      "metadata": {
        "colab": {
          "base_uri": "https://localhost:8080/"
        },
        "id": "lqiuds2o5NuD",
        "outputId": "832cba07-151e-42a6-eef0-b810451a4c8f"
      },
      "execution_count": null,
      "outputs": [
        {
          "output_type": "stream",
          "name": "stdout",
          "text": [
            "1\n",
            "[2, 3]\n"
          ]
        }
      ]
    },
    {
      "cell_type": "code",
      "source": [
        "*a, b = 1, 2, 3\n",
        "print(a)\n",
        "print(b)"
      ],
      "metadata": {
        "colab": {
          "base_uri": "https://localhost:8080/"
        },
        "id": "dmNMeYeY5SUu",
        "outputId": "07d42998-8540-422d-a73f-20dcd084e49a"
      },
      "execution_count": null,
      "outputs": [
        {
          "output_type": "stream",
          "name": "stdout",
          "text": [
            "[1, 2]\n",
            "3\n"
          ]
        }
      ]
    },
    {
      "cell_type": "markdown",
      "source": [
        "Empacotando um valor em a porque b e c são obrigatórios:"
      ],
      "metadata": {
        "id": "eADA6YrZ5dLB"
      }
    },
    {
      "cell_type": "code",
      "source": [
        "*a, b, c = 1, 2, 3\n",
        "print(a)\n",
        "print(b)\n",
        "print(c)"
      ],
      "metadata": {
        "colab": {
          "base_uri": "https://localhost:8080/"
        },
        "id": "R-jBRLgi5ePn",
        "outputId": "4beae416-5af7-4d10-a33a-c5c5310ef1bd"
      },
      "execution_count": null,
      "outputs": [
        {
          "output_type": "stream",
          "name": "stdout",
          "text": [
            "[1]\n",
            "2\n",
            "3\n"
          ]
        }
      ]
    },
    {
      "cell_type": "markdown",
      "source": [
        "Não empacotar valores em a (a é padronizado como []) porque b, c e d são obrigatórios:"
      ],
      "metadata": {
        "id": "_IFD-Cz75onh"
      }
    },
    {
      "cell_type": "code",
      "source": [
        "*a, b, c, d = 1, 2, 3"
      ],
      "metadata": {
        "id": "vxpi2bsh5n9X"
      },
      "execution_count": null,
      "outputs": []
    },
    {
      "cell_type": "markdown",
      "source": [
        "Não fornecendo nenhum valor para uma variável obrigatória (e), ocorre um erro:"
      ],
      "metadata": {
        "id": "1peq5tWf5xiQ"
      }
    },
    {
      "cell_type": "code",
      "source": [
        "#*a, b, c, d, e = 1, 2, 3"
      ],
      "metadata": {
        "id": "RYCf3lcK5xw9"
      },
      "execution_count": null,
      "outputs": []
    },
    {
      "cell_type": "code",
      "source": [
        "seq = [1, 2, 3, 4]\n",
        "first, *body, last = seq\n",
        "print(first)\n",
        "print(body)\n",
        "print(last)"
      ],
      "metadata": {
        "colab": {
          "base_uri": "https://localhost:8080/"
        },
        "id": "EM2lnWnE6tfR",
        "outputId": "76b1b053-c4b9-4ad1-d9a1-c571d9f9dd97"
      },
      "execution_count": null,
      "outputs": [
        {
          "output_type": "stream",
          "name": "stdout",
          "text": [
            "1\n",
            "[2, 3]\n",
            "4\n"
          ]
        }
      ]
    },
    {
      "cell_type": "markdown",
      "source": [
        "Packing os valores em uma variável com o operador * pode ser útil quando precisamos coletar os elementos de um gerador em uma única variável sem usar a função list(). Nos exemplos a seguir, usamos o operador * para empacotar os elementos de uma expressão geradora e um objeto range para uma variável individual:"
      ],
      "metadata": {
        "id": "IhmaRoQL56PW"
      }
    },
    {
      "cell_type": "code",
      "source": [
        "gen = (2 ** x for x in range(10))\n",
        "*g, = gen\n",
        "print(g)"
      ],
      "metadata": {
        "colab": {
          "base_uri": "https://localhost:8080/"
        },
        "id": "BDHUqDBL6AOv",
        "outputId": "c687d206-d5ff-4927-9adf-3d803ead4802"
      },
      "execution_count": null,
      "outputs": [
        {
          "output_type": "stream",
          "name": "stdout",
          "text": [
            "[1, 2, 4, 8, 16, 32, 64, 128, 256, 512]\n"
          ]
        }
      ]
    },
    {
      "cell_type": "code",
      "source": [
        "ran = range(10)\n",
        "*r, = ran\n",
        "print(r)"
      ],
      "metadata": {
        "colab": {
          "base_uri": "https://localhost:8080/"
        },
        "id": "KdmlXQ746KBx",
        "outputId": "d4a5f221-369e-4fd7-d474-7d93cb56293e"
      },
      "execution_count": null,
      "outputs": [
        {
          "output_type": "stream",
          "name": "stdout",
          "text": [
            "[0, 1, 2, 3, 4, 5, 6, 7, 8, 9]\n"
          ]
        }
      ]
    },
    {
      "cell_type": "markdown",
      "source": [
        "Nesses exemplos, o operador * empacota os elementos em gen e foi executado em g e r, respectivamente. Com sua sintaxe, evitamos a necessidade de chamar list() para criar uma lista de valores de um objeto range, uma expressão geradora ou uma função geradora.\n",
        "\n",
        "Observe que não podemos usar o operador de descompactação, *, para empacotar vários valores em uma variável sem adicionar uma vírgula à variável no lado esquerdo da atribuição. Portanto, o código a seguir não funcionará:"
      ],
      "metadata": {
        "id": "sDHTKqi-6SrC"
      }
    },
    {
      "cell_type": "code",
      "source": [
        " #*r = range(10)"
      ],
      "metadata": {
        "id": "R4nfHfQD6dxW"
      },
      "execution_count": null,
      "outputs": []
    },
    {
      "cell_type": "markdown",
      "source": [
        "## Aplicação em retorno de função"
      ],
      "metadata": {
        "id": "mvFDHW7p7EJ5"
      }
    },
    {
      "cell_type": "markdown",
      "source": [
        "As funções do Python podem retornar vários valores separados por vírgulas. Como podemos definir objetos de tupla sem usar parênteses, esse tipo de operação pode ser interpretado como o retorno de uma tupla de valores. Se codificarmos uma função que retorna vários valores, podemos realizar operações iteráveis ​​de compactação e descompactação com os valores retornados.\n",
        "\n",
        "Confira o exemplo a seguir em que definimos uma função para calcular o quadrado e o cubo de um determinado número:"
      ],
      "metadata": {
        "id": "Mtr2JarU7O9a"
      }
    },
    {
      "cell_type": "code",
      "source": [
        "def powers(number):\n",
        "  return number, number ** 2, number ** 3\n",
        "\n",
        "result = powers(2)\n",
        "print(result)\n",
        "\n",
        "number, square, cube = powers(2)\n",
        "print(number)\n",
        "print(square)\n",
        "print(cube)\n",
        "\n",
        "*_, cube1 = powers(2)\n",
        "print(cube1)"
      ],
      "metadata": {
        "colab": {
          "base_uri": "https://localhost:8080/"
        },
        "id": "GlCTh19h7J0X",
        "outputId": "59ec54f2-2dfc-4655-9afc-ad51663583ca"
      },
      "execution_count": null,
      "outputs": [
        {
          "output_type": "stream",
          "name": "stdout",
          "text": [
            "(2, 4, 8)\n",
            "2\n",
            "4\n",
            "8\n",
            "8\n"
          ]
        }
      ]
    },
    {
      "cell_type": "markdown",
      "source": [
        "Se definirmos uma função que retorna valores separados por vírgula, podemos fazer qualquer operação de compactação ou descompactação nesses valores."
      ],
      "metadata": {
        "id": "DpFy75P67ncJ"
      }
    },
    {
      "cell_type": "markdown",
      "source": [
        "## Juntando iteráveis com o operador *"
      ],
      "metadata": {
        "id": "fgij-OBg7131"
      }
    },
    {
      "cell_type": "markdown",
      "source": [
        "Outro caso de uso interessante para o operador de descompactação, *, é a capacidade de mesclar vários iteráveis ​​em uma sequência final. Essa funcionalidade funciona para listas, tuplas e conjuntos. Dê uma olhada nos exemplos a seguir:"
      ],
      "metadata": {
        "id": "6LNjYbV178Fh"
      }
    },
    {
      "cell_type": "code",
      "source": [
        "my_tuple = (1, 2, 3)\n",
        "print((0,*my_tuple,4))\n",
        "my_list = [1, 2, 3]\n",
        "print([0, *my_list, 4])\n",
        "my_set = {1, 2, 3}\n",
        "print({0, *my_set, 4})\n",
        "print([*my_set, *my_list, *my_tuple, *range(1, 4)])\n",
        "\n",
        "my_str = \"123\"\n",
        "print([*my_set, *my_list, *my_tuple, *range(1, 4), *my_str])"
      ],
      "metadata": {
        "colab": {
          "base_uri": "https://localhost:8080/"
        },
        "id": "ayeD_slH8EQW",
        "outputId": "6e7279c5-cd12-4876-b3ae-65ec40697078"
      },
      "execution_count": null,
      "outputs": [
        {
          "output_type": "stream",
          "name": "stdout",
          "text": [
            "(0, 1, 2, 3, 4)\n",
            "[0, 1, 2, 3, 4]\n",
            "{0, 1, 2, 3, 4}\n",
            "[1, 2, 3, 1, 2, 3, 1, 2, 3, 1, 2, 3]\n",
            "[1, 2, 3, 1, 2, 3, 1, 2, 3, 1, 2, 3, '1', '2', '3']\n"
          ]
        }
      ]
    },
    {
      "cell_type": "markdown",
      "source": [
        "Podemos usar o operador de descompactação iterável, *, ao definir sequências para descompactar os elementos de uma subsequência (ou iterável) na sequência final. Isso nos permitirá criar sequências dinamicamente a partir de outras sequências existentes sem chamar métodos como append(), insert() e assim por diante.\n",
        "\n",
        "Os dois últimos exemplos mostram que essa também é uma maneira mais legível e eficiente de concatenar iteráveis. Em vez de escrever \n",
        "```python\n",
        "list(my_set) + my_list + list(my_tuple) + list(range(1, 4)) + list(my_str) \n",
        "\n",
        "```\n",
        "nós apenas escrevemos \n",
        "```python\n",
        "[*my_set, *my_list, *my_tuple, *range(1, 4), *my_str]\n",
        "```"
      ],
      "metadata": {
        "id": "zmCcILlv8vEj"
      }
    },
    {
      "cell_type": "markdown",
      "source": [
        "## Unpacking de dicionários com o operador **"
      ],
      "metadata": {
        "id": "jjd8QRKl9RW-"
      }
    },
    {
      "cell_type": "markdown",
      "source": [
        "No contexto de descompactação em Python, o operador ** é chamado de operador de descompactação de dicionário. O uso deste operador foi estendido pelo PEP 448 (https://www.python.org/dev/peps/pep-0448/). Agora, podemos utilizá-lo em chamadas de funções, em compreensões e expressões geradoras, e em displays.\n",
        "\n",
        "Um caso de uso básico para o operador de descompactação de dicionário é mesclar vários dicionários em um dicionário final com uma única expressão. Vamos ver como isso funciona:"
      ],
      "metadata": {
        "id": "qQ9BZUuS9h3z"
      }
    },
    {
      "cell_type": "code",
      "source": [
        "numbers = {\"one\": 1, \"two\": 2, \"three\": 3}\n",
        "letters = {\"a\": \"A\", \"b\": \"B\", \"c\": \"C\"}\n",
        "combination = {**numbers, **letters}\n",
        "print(combination)"
      ],
      "metadata": {
        "colab": {
          "base_uri": "https://localhost:8080/"
        },
        "id": "RQyzP2kS9wpi",
        "outputId": "bdbd32ec-1c2b-41e7-918e-a08de2fc3cdd"
      },
      "execution_count": null,
      "outputs": [
        {
          "output_type": "stream",
          "name": "stdout",
          "text": [
            "{'one': 1, 'two': 2, 'three': 3, 'a': 'A', 'b': 'B', 'c': 'C'}\n"
          ]
        }
      ]
    },
    {
      "cell_type": "markdown",
      "source": [
        "Se usarmos o operador de descompactação de dicionário dentro de uma exibição de dicionário, podemos descompactar os dicionários e combiná-los para criar um dicionário final que inclui os pares chave-valor dos dicionários originais, assim como fizemos no código acima.\n",
        "\n",
        "Um ponto importante a ser observado é que, se os dicionários que estamos tentando mesclar tiverem chaves repetidas ou comuns, os valores do dicionário mais à direita substituirão os valores do dicionário mais à esquerda. Aqui está um exemplo:"
      ],
      "metadata": {
        "id": "FDojIOjy-H7O"
      }
    },
    {
      "cell_type": "code",
      "source": [
        "letters = {\"a\": \"A\", \"b\": \"B\", \"c\": \"C\"}\n",
        "vowels = {\"a\": \"a\", \"e\": \"e\", \"i\": \"i\", \"o\": \"o\", \"u\": \"u\"}\n",
        "print({**letters, **vowels})"
      ],
      "metadata": {
        "colab": {
          "base_uri": "https://localhost:8080/"
        },
        "id": "wuSidgr0-IrI",
        "outputId": "92e6b765-4411-4746-cd04-72e1dbef5da1"
      },
      "execution_count": null,
      "outputs": [
        {
          "output_type": "stream",
          "name": "stdout",
          "text": [
            "{'a': 'a', 'b': 'B', 'c': 'C', 'e': 'e', 'i': 'i', 'o': 'o', 'u': 'u'}\n"
          ]
        }
      ]
    },
    {
      "cell_type": "markdown",
      "source": [
        "Como a chave ```a``` está presente em ambos os dicionários, o valor que prevalece vem das vogais, que é o dicionário mais à direita. Isso acontece porque o Python começa a adicionar os pares chave-valor da esquerda para a direita. Se, no processo, o Python encontrar chaves que já existem, o interpretador atualizará essas chaves com o novo valor. É por isso que o valor da chave a está em minúsculas no exemplo acima."
      ],
      "metadata": {
        "id": "_fXbc21a-TCG"
      }
    },
    {
      "cell_type": "markdown",
      "metadata": {
        "id": "Y29ojE6dfU6h"
      },
      "source": [
        "# Funções"
      ]
    },
    {
      "cell_type": "markdown",
      "metadata": {
        "id": "0Yny45aBeCV4"
      },
      "source": [
        "Até aqui vimos como criar programas simples em Python. Em todos esses programas, salvamos os resultados das computações em variáveis ou então imprimimos os resultados desejados. Entretanto, existem situações nas quais uma dada porção do nosso programa será utilizada múltiplas vezes, em diferentes partes do programa, ou até mesmo por outros programas.<br>\n",
        "\n",
        "Imagine, por exemplo, que desejemos criar um programa para exibir a lista dos funcionários de uma empresa, ordenada por ordem alfabética, depois por idade, depois por salário. Nesse caso, temos uma tarefa (ordenar uma lista) que será executada várias vezes (primeiro para ordenar os funcionários por nome, depois por idade, e depois por salário). Em casos como esse, é conveniente que se tenha um procedimento que ordena uma lista de acordo com algum critério. Assim, esse procedimento pode ser aplicado várias vezes sem que tenhamos que repetir o mesmo código em várias partes do programa. Em outras palavras, precisamos de um procedimento que seja reusável em várias partes de nosso programa.<br>\n",
        "\n",
        "Uma das principais formas de se criar componentes reusáveis em Python (e em outras linguagens de programação também) são as chamadas funções. Uma função é basicamente um trecho de código (um procedimento, um algoritmo) que pode ser usado várias vezes.<br>\n",
        "\n",
        "Apesar de só estarmos falando sobre funções agora, nós já usamos funções várias vezes nas seções anteriores. Por exemplo, quando fazemos x = abs(y) estamos usando a função abs() da biblioteca padrão Python para calcular o valor absoluto de y e armazená-lo em x. Agora aprenderemos a criar e usar nossas próprias funções em Python."
      ]
    },
    {
      "cell_type": "markdown",
      "metadata": {
        "id": "PoMoMoVseTOj"
      },
      "source": [
        "Vamos criar uma função sem argumentos para iniciar a nossa explicação de funções"
      ]
    },
    {
      "cell_type": "code",
      "metadata": {
        "id": "EvLjaN5SfU6h"
      },
      "source": [
        "def my_function():\n",
        "    print(\"Hello from a function\")"
      ],
      "execution_count": null,
      "outputs": []
    },
    {
      "cell_type": "code",
      "metadata": {
        "id": "YzjPodATfU6j",
        "colab": {
          "base_uri": "https://localhost:8080/"
        },
        "outputId": "acac8b9d-390e-4c69-ed45-4156b0515c7d"
      },
      "source": [
        "my_function()"
      ],
      "execution_count": null,
      "outputs": [
        {
          "output_type": "stream",
          "name": "stdout",
          "text": [
            "Hello from a function\n"
          ]
        }
      ]
    },
    {
      "cell_type": "markdown",
      "metadata": {
        "id": "kosGExdWecRt"
      },
      "source": [
        "Para criar uma função com parametros, basta que façamos o codigo abaixo:\n",
        "\n",
        "```python\n",
        "def nomedafuncao(parametro1, parametro2, ...):\n",
        "    corpodafuncao\n",
        "```"
      ]
    },
    {
      "cell_type": "code",
      "metadata": {
        "colab": {
          "base_uri": "https://localhost:8080/"
        },
        "id": "BMBi9HS-euEN",
        "outputId": "69ed090c-7bb1-4797-c923-1d11440ca991"
      },
      "source": [
        "def add(a,b):\n",
        "  return a+b\n",
        "print('Function add(10,20): ',add(10,20))\n"
      ],
      "execution_count": null,
      "outputs": [
        {
          "output_type": "stream",
          "name": "stdout",
          "text": [
            "Function add(10,20):  30\n"
          ]
        }
      ]
    },
    {
      "cell_type": "markdown",
      "metadata": {
        "id": "6AT2606kfU6l"
      },
      "source": [
        "Uma função lambda é uma pequena função não definida.\n",
        "\n",
        "Uma função lambda pode receber qualquer número de argumentos, mas só pode ter uma expressão.\n",
        "\n",
        "\n",
        "```lambda arguments : expression```"
      ]
    },
    {
      "cell_type": "code",
      "metadata": {
        "id": "8F3DFwKXfU6l",
        "colab": {
          "base_uri": "https://localhost:8080/"
        },
        "outputId": "2fd96c5c-2206-471a-e034-4eb0239b0157"
      },
      "source": [
        "x = lambda a : a + 10\n",
        "print(x(5))"
      ],
      "execution_count": null,
      "outputs": [
        {
          "output_type": "stream",
          "name": "stdout",
          "text": [
            "15\n"
          ]
        }
      ]
    },
    {
      "cell_type": "code",
      "metadata": {
        "id": "qb_4HzJufU6n",
        "colab": {
          "base_uri": "https://localhost:8080/"
        },
        "outputId": "496303f2-9bbb-401f-fbd0-4a9325c74e22"
      },
      "source": [
        "x = lambda a, b, c : a + b + c\n",
        "print(x(5, 6, 2))"
      ],
      "execution_count": null,
      "outputs": [
        {
          "output_type": "stream",
          "name": "stdout",
          "text": [
            "13\n"
          ]
        }
      ]
    },
    {
      "cell_type": "code",
      "metadata": {
        "id": "3JOm1TRNfU6q",
        "colab": {
          "base_uri": "https://localhost:8080/"
        },
        "outputId": "bfe011bd-6d8d-4bff-d88d-0884b581113e"
      },
      "source": [
        "import datetime\n",
        "\n",
        "x = datetime.datetime.now()\n",
        "print(x)"
      ],
      "execution_count": null,
      "outputs": [
        {
          "output_type": "stream",
          "name": "stdout",
          "text": [
            "2021-09-08 20:37:13.197094\n"
          ]
        }
      ]
    },
    {
      "cell_type": "markdown",
      "source": [
        "## Funções MAP"
      ],
      "metadata": {
        "id": "4bQ8doCm08TS"
      }
    },
    {
      "cell_type": "code",
      "source": [
        "lista = [1000, 1500, 2200, 2500]\n",
        "def aplicar_formula(valor):\n",
        "  return 1.1*valor"
      ],
      "metadata": {
        "id": "EbomsJLC0_D_"
      },
      "execution_count": null,
      "outputs": []
    },
    {
      "cell_type": "code",
      "source": [
        "lista_com_formula = []\n",
        "for ivalor in lista:\n",
        "  lista_com_formula.append(aplicar_formula(ivalor))\n",
        "print(lista_com_formula)"
      ],
      "metadata": {
        "colab": {
          "base_uri": "https://localhost:8080/"
        },
        "id": "MUrSeAyU0_rg",
        "outputId": "504de1c3-eab4-47bd-a65d-854f2167f54d"
      },
      "execution_count": null,
      "outputs": [
        {
          "output_type": "stream",
          "name": "stdout",
          "text": [
            "[1100.0, 1650.0000000000002, 2420.0, 2750.0]\n"
          ]
        }
      ]
    },
    {
      "cell_type": "code",
      "source": [
        "lista_com_formula2 = list(map(aplicar_formula,lista))\n",
        "print(lista_com_formula2)"
      ],
      "metadata": {
        "colab": {
          "base_uri": "https://localhost:8080/"
        },
        "id": "rfZiUxCc1CX_",
        "outputId": "edda2858-d302-4167-dd84-b258d97582fe"
      },
      "execution_count": null,
      "outputs": [
        {
          "output_type": "stream",
          "name": "stdout",
          "text": [
            "[1100.0, 1650.0000000000002, 2420.0, 2750.0]\n"
          ]
        }
      ]
    },
    {
      "cell_type": "markdown",
      "source": [
        "## Definindo funções com os operadores * e **"
      ],
      "metadata": {
        "id": "jL20YzBv--75"
      }
    },
    {
      "cell_type": "markdown",
      "source": [
        "Podemos usar os operadores ```*``` e ```**``` na assinatura de funções Python. Isso nos permitirá chamar a função com um número variável de argumentos posicionais (*) ou com um número variável de argumentos de palavras-chave, ou ambos. Vamos considerar a seguinte função:"
      ],
      "metadata": {
        "id": "SPFnXZx9_JoM"
      }
    },
    {
      "cell_type": "code",
      "source": [
        "def func(required, *args, **kwargs):\n",
        "   print(required)\n",
        "   print(args)\n",
        "   print(kwargs)\n",
        "func(\"Welcome to...\", 1, 2, 3, site='google.com')"
      ],
      "metadata": {
        "colab": {
          "base_uri": "https://localhost:8080/"
        },
        "id": "xLD8Rave_Egr",
        "outputId": "919342ec-3091-4aa1-bae4-2ebd10611f34"
      },
      "execution_count": null,
      "outputs": [
        {
          "output_type": "stream",
          "name": "stdout",
          "text": [
            "Welcome to...\n",
            "(1, 2, 3)\n",
            "{'site': 'StackAbuse.com'}\n"
          ]
        }
      ]
    },
    {
      "cell_type": "markdown",
      "source": [
        "A função acima requer pelo menos um argumento chamado required. Ele também pode aceitar um número variável de argumentos posicionais e de palavras-chave. Nesse caso, o operador * coleta ou empacota argumentos posicionais extras em uma tupla chamada args e o operador ** coleta ou empacota argumentos extras de palavras-chave em um dicionário chamado kwargs. Ambos, args e kwargs, são opcionais e padrão automaticamente para () e {}, respectivamente.\n",
        "\n",
        "Embora os nomes args e kwargs sejam amplamente usados ​​pela comunidade Python, eles não são um requisito para que essas técnicas funcionem. A sintaxe requer apenas * ou ** seguido por um identificador válido. Portanto, se você puder dar nomes significativos a esses argumentos, faça-o. Isso certamente melhorará a legibilidade do seu código."
      ],
      "metadata": {
        "id": "BTo0ZUMw_hW3"
      }
    },
    {
      "cell_type": "markdown",
      "source": [
        "## Chamada de funções com os operadores * e **"
      ],
      "metadata": {
        "id": "uSZiQeV4_wPj"
      }
    },
    {
      "cell_type": "markdown",
      "source": [
        "Ao chamar funções, também podemos nos beneficiar do uso do operador * e ** para descompactar coleções de argumentos em argumentos posicionais ou de palavras-chave separados, respectivamente. Este é o inverso de usar * e ** na assinatura de uma função. Na assinatura, os operadores significam coletar ou empacotar um número variável de argumentos em um identificador. Na chamada, eles significam descompactar um iterável em vários argumentos.\n",
        "\n",
        "Aqui está um exemplo básico de como isso funciona:"
      ],
      "metadata": {
        "id": "9UxdmH69_4K6"
      }
    },
    {
      "cell_type": "code",
      "source": [
        "def func(welcome, to, site):\n",
        "  print(welcome, to, site)\n",
        "\n",
        "func(*[\"Welcome\", \"to\"], **{\"site\": 'google.com'})\n"
      ],
      "metadata": {
        "colab": {
          "base_uri": "https://localhost:8080/"
        },
        "id": "GFAMK58X_7TQ",
        "outputId": "76d7d3ea-d9c0-4392-d00d-355a54037d9d"
      },
      "execution_count": null,
      "outputs": [
        {
          "output_type": "stream",
          "name": "stdout",
          "text": [
            "Welcome to google.com\n"
          ]
        }
      ]
    },
    {
      "cell_type": "markdown",
      "source": [
        "Aqui, o operador * descompacta sequências como [\"Welcome\", \"to\"] em argumentos posicionais. Da mesma forma, o operador ** descompacta os dicionários em argumentos cujos nomes correspondem às chaves do dicionário descompactado.\n",
        "\n",
        "Também podemos combinar essa técnica e a abordada na seção anterior para escrever funções bastante flexíveis. Aqui está um exemplo:"
      ],
      "metadata": {
        "id": "gseA-fUuAH1a"
      }
    },
    {
      "cell_type": "code",
      "source": [
        "def func(required, *args, **kwargs):\n",
        "  print(required)\n",
        "  print(args)\n",
        "  print(kwargs)\n",
        "func(\"Welcome to...\", *(1, 2, 3), **{\"site\": 'google.com'})\n"
      ],
      "metadata": {
        "colab": {
          "base_uri": "https://localhost:8080/"
        },
        "id": "t3nplbhhANbZ",
        "outputId": "0d0584be-c3b1-4d1a-a34a-f87cf7a933c6"
      },
      "execution_count": null,
      "outputs": [
        {
          "output_type": "stream",
          "name": "stdout",
          "text": [
            "Welcome to...\n",
            "(1, 2, 3)\n",
            "{'site': 'google.com'}\n"
          ]
        }
      ]
    },
    {
      "cell_type": "markdown",
      "source": [
        "O uso dos operadores * e **, ao definir e chamar funções Python, dará a eles recursos extras e os tornará mais flexíveis e poderosos."
      ],
      "metadata": {
        "id": "UvbsXR5kAVRP"
      }
    }
  ]
}