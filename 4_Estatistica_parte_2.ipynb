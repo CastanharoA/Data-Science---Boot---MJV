{
  "cells": [
    {
      "cell_type": "markdown",
      "metadata": {
        "id": "view-in-github",
        "colab_type": "text"
      },
      "source": [
        "<a href=\"https://colab.research.google.com/github/CastanharoA/Data-Science---Boot---MJV/blob/main/4_Estatistica_parte_2.ipynb\" target=\"_parent\"><img src=\"https://colab.research.google.com/assets/colab-badge.svg\" alt=\"Open In Colab\"/></a>"
      ]
    },
    {
      "cell_type": "markdown",
      "source": [
        "# Estatística utilizando Python\n",
        "\n",
        "Autor: Natanael Moura Junior (natanael.junior@mjv.com.br)\n",
        "\n",
        "<img align=\"center\" width=\"200\" src=\"https://raw.githubusercontent.com/natmourajr/data/main/mjv-tecnologia.png?raw=1\">\n",
        "\n"
      ],
      "metadata": {
        "id": "G14M5THQP7uy"
      }
    },
    {
      "cell_type": "code",
      "execution_count": null,
      "metadata": {
        "id": "0wttD4n_PSW7",
        "colab": {
          "base_uri": "https://localhost:8080/",
          "height": 1000
        },
        "outputId": "b834bc89-e9ef-4d6a-a0d2-f584e7451ba0"
      },
      "outputs": [
        {
          "output_type": "stream",
          "name": "stdout",
          "text": [
            "Requirement already satisfied: d2l==0.17.1 in /usr/local/lib/python3.7/dist-packages (0.17.1)\n",
            "Requirement already satisfied: numpy==1.18.5 in /usr/local/lib/python3.7/dist-packages (from d2l==0.17.1) (1.18.5)\n",
            "Requirement already satisfied: matplotlib==3.3.3 in /usr/local/lib/python3.7/dist-packages (from d2l==0.17.1) (3.3.3)\n",
            "Requirement already satisfied: jupyter==1.0.0 in /usr/local/lib/python3.7/dist-packages (from d2l==0.17.1) (1.0.0)\n",
            "Requirement already satisfied: pandas==1.2.2 in /usr/local/lib/python3.7/dist-packages (from d2l==0.17.1) (1.2.2)\n",
            "Requirement already satisfied: requests==2.25.1 in /usr/local/lib/python3.7/dist-packages (from d2l==0.17.1) (2.25.1)\n",
            "Requirement already satisfied: jupyter-console in /usr/local/lib/python3.7/dist-packages (from jupyter==1.0.0->d2l==0.17.1) (5.2.0)\n",
            "Requirement already satisfied: notebook in /usr/local/lib/python3.7/dist-packages (from jupyter==1.0.0->d2l==0.17.1) (5.3.1)\n",
            "Requirement already satisfied: nbconvert in /usr/local/lib/python3.7/dist-packages (from jupyter==1.0.0->d2l==0.17.1) (5.6.1)\n",
            "Requirement already satisfied: qtconsole in /usr/local/lib/python3.7/dist-packages (from jupyter==1.0.0->d2l==0.17.1) (5.2.2)\n",
            "Requirement already satisfied: ipywidgets in /usr/local/lib/python3.7/dist-packages (from jupyter==1.0.0->d2l==0.17.1) (7.6.5)\n",
            "Requirement already satisfied: ipykernel in /usr/local/lib/python3.7/dist-packages (from jupyter==1.0.0->d2l==0.17.1) (4.10.1)\n",
            "Requirement already satisfied: python-dateutil>=2.1 in /usr/local/lib/python3.7/dist-packages (from matplotlib==3.3.3->d2l==0.17.1) (2.8.2)\n",
            "Requirement already satisfied: kiwisolver>=1.0.1 in /usr/local/lib/python3.7/dist-packages (from matplotlib==3.3.3->d2l==0.17.1) (1.3.2)\n",
            "Requirement already satisfied: pyparsing!=2.0.4,!=2.1.2,!=2.1.6,>=2.0.3 in /usr/local/lib/python3.7/dist-packages (from matplotlib==3.3.3->d2l==0.17.1) (3.0.6)\n",
            "Requirement already satisfied: cycler>=0.10 in /usr/local/lib/python3.7/dist-packages (from matplotlib==3.3.3->d2l==0.17.1) (0.11.0)\n",
            "Requirement already satisfied: pillow>=6.2.0 in /usr/local/lib/python3.7/dist-packages (from matplotlib==3.3.3->d2l==0.17.1) (7.1.2)\n",
            "Requirement already satisfied: pytz>=2017.3 in /usr/local/lib/python3.7/dist-packages (from pandas==1.2.2->d2l==0.17.1) (2018.9)\n",
            "Requirement already satisfied: idna<3,>=2.5 in /usr/local/lib/python3.7/dist-packages (from requests==2.25.1->d2l==0.17.1) (2.10)\n",
            "Requirement already satisfied: urllib3<1.27,>=1.21.1 in /usr/local/lib/python3.7/dist-packages (from requests==2.25.1->d2l==0.17.1) (1.24.3)\n",
            "Requirement already satisfied: certifi>=2017.4.17 in /usr/local/lib/python3.7/dist-packages (from requests==2.25.1->d2l==0.17.1) (2021.10.8)\n",
            "Requirement already satisfied: chardet<5,>=3.0.2 in /usr/local/lib/python3.7/dist-packages (from requests==2.25.1->d2l==0.17.1) (3.0.4)\n",
            "Requirement already satisfied: six>=1.5 in /usr/local/lib/python3.7/dist-packages (from python-dateutil>=2.1->matplotlib==3.3.3->d2l==0.17.1) (1.15.0)\n",
            "Requirement already satisfied: traitlets>=4.1.0 in /usr/local/lib/python3.7/dist-packages (from ipykernel->jupyter==1.0.0->d2l==0.17.1) (5.1.1)\n",
            "Requirement already satisfied: tornado>=4.0 in /usr/local/lib/python3.7/dist-packages (from ipykernel->jupyter==1.0.0->d2l==0.17.1) (5.1.1)\n",
            "Requirement already satisfied: ipython>=4.0.0 in /usr/local/lib/python3.7/dist-packages (from ipykernel->jupyter==1.0.0->d2l==0.17.1) (5.5.0)\n",
            "Requirement already satisfied: jupyter-client in /usr/local/lib/python3.7/dist-packages (from ipykernel->jupyter==1.0.0->d2l==0.17.1) (5.3.5)\n",
            "Requirement already satisfied: pexpect in /usr/local/lib/python3.7/dist-packages (from ipython>=4.0.0->ipykernel->jupyter==1.0.0->d2l==0.17.1) (4.8.0)\n",
            "Requirement already satisfied: setuptools>=18.5 in /usr/local/lib/python3.7/dist-packages (from ipython>=4.0.0->ipykernel->jupyter==1.0.0->d2l==0.17.1) (57.4.0)\n",
            "Requirement already satisfied: prompt-toolkit<2.0.0,>=1.0.4 in /usr/local/lib/python3.7/dist-packages (from ipython>=4.0.0->ipykernel->jupyter==1.0.0->d2l==0.17.1) (1.0.18)\n",
            "Requirement already satisfied: pygments in /usr/local/lib/python3.7/dist-packages (from ipython>=4.0.0->ipykernel->jupyter==1.0.0->d2l==0.17.1) (2.6.1)\n",
            "Requirement already satisfied: simplegeneric>0.8 in /usr/local/lib/python3.7/dist-packages (from ipython>=4.0.0->ipykernel->jupyter==1.0.0->d2l==0.17.1) (0.8.1)\n",
            "Requirement already satisfied: pickleshare in /usr/local/lib/python3.7/dist-packages (from ipython>=4.0.0->ipykernel->jupyter==1.0.0->d2l==0.17.1) (0.7.5)\n",
            "Requirement already satisfied: decorator in /usr/local/lib/python3.7/dist-packages (from ipython>=4.0.0->ipykernel->jupyter==1.0.0->d2l==0.17.1) (4.4.2)\n",
            "Requirement already satisfied: wcwidth in /usr/local/lib/python3.7/dist-packages (from prompt-toolkit<2.0.0,>=1.0.4->ipython>=4.0.0->ipykernel->jupyter==1.0.0->d2l==0.17.1) (0.2.5)\n",
            "Requirement already satisfied: widgetsnbextension~=3.5.0 in /usr/local/lib/python3.7/dist-packages (from ipywidgets->jupyter==1.0.0->d2l==0.17.1) (3.5.2)\n",
            "Requirement already satisfied: jupyterlab-widgets>=1.0.0 in /usr/local/lib/python3.7/dist-packages (from ipywidgets->jupyter==1.0.0->d2l==0.17.1) (1.0.2)\n",
            "Requirement already satisfied: nbformat>=4.2.0 in /usr/local/lib/python3.7/dist-packages (from ipywidgets->jupyter==1.0.0->d2l==0.17.1) (5.1.3)\n",
            "Requirement already satisfied: ipython-genutils~=0.2.0 in /usr/local/lib/python3.7/dist-packages (from ipywidgets->jupyter==1.0.0->d2l==0.17.1) (0.2.0)\n",
            "Requirement already satisfied: jsonschema!=2.5.0,>=2.4 in /usr/local/lib/python3.7/dist-packages (from nbformat>=4.2.0->ipywidgets->jupyter==1.0.0->d2l==0.17.1) (4.3.3)\n",
            "Requirement already satisfied: jupyter-core in /usr/local/lib/python3.7/dist-packages (from nbformat>=4.2.0->ipywidgets->jupyter==1.0.0->d2l==0.17.1) (4.9.1)\n",
            "Requirement already satisfied: attrs>=17.4.0 in /usr/local/lib/python3.7/dist-packages (from jsonschema!=2.5.0,>=2.4->nbformat>=4.2.0->ipywidgets->jupyter==1.0.0->d2l==0.17.1) (21.4.0)\n",
            "Requirement already satisfied: importlib-metadata in /usr/local/lib/python3.7/dist-packages (from jsonschema!=2.5.0,>=2.4->nbformat>=4.2.0->ipywidgets->jupyter==1.0.0->d2l==0.17.1) (4.10.0)\n",
            "Requirement already satisfied: pyrsistent!=0.17.0,!=0.17.1,!=0.17.2,>=0.14.0 in /usr/local/lib/python3.7/dist-packages (from jsonschema!=2.5.0,>=2.4->nbformat>=4.2.0->ipywidgets->jupyter==1.0.0->d2l==0.17.1) (0.18.0)\n",
            "Requirement already satisfied: typing-extensions in /usr/local/lib/python3.7/dist-packages (from jsonschema!=2.5.0,>=2.4->nbformat>=4.2.0->ipywidgets->jupyter==1.0.0->d2l==0.17.1) (3.10.0.2)\n",
            "Requirement already satisfied: importlib-resources>=1.4.0 in /usr/local/lib/python3.7/dist-packages (from jsonschema!=2.5.0,>=2.4->nbformat>=4.2.0->ipywidgets->jupyter==1.0.0->d2l==0.17.1) (5.4.0)\n",
            "Requirement already satisfied: zipp>=3.1.0 in /usr/local/lib/python3.7/dist-packages (from importlib-resources>=1.4.0->jsonschema!=2.5.0,>=2.4->nbformat>=4.2.0->ipywidgets->jupyter==1.0.0->d2l==0.17.1) (3.7.0)\n",
            "Requirement already satisfied: Send2Trash in /usr/local/lib/python3.7/dist-packages (from notebook->jupyter==1.0.0->d2l==0.17.1) (1.8.0)\n",
            "Requirement already satisfied: jinja2 in /usr/local/lib/python3.7/dist-packages (from notebook->jupyter==1.0.0->d2l==0.17.1) (2.11.3)\n",
            "Requirement already satisfied: terminado>=0.8.1 in /usr/local/lib/python3.7/dist-packages (from notebook->jupyter==1.0.0->d2l==0.17.1) (0.12.1)\n",
            "Requirement already satisfied: pyzmq>=13 in /usr/local/lib/python3.7/dist-packages (from jupyter-client->ipykernel->jupyter==1.0.0->d2l==0.17.1) (22.3.0)\n",
            "Requirement already satisfied: ptyprocess in /usr/local/lib/python3.7/dist-packages (from terminado>=0.8.1->notebook->jupyter==1.0.0->d2l==0.17.1) (0.7.0)\n",
            "Requirement already satisfied: MarkupSafe>=0.23 in /usr/local/lib/python3.7/dist-packages (from jinja2->notebook->jupyter==1.0.0->d2l==0.17.1) (2.0.1)\n",
            "Requirement already satisfied: entrypoints>=0.2.2 in /usr/local/lib/python3.7/dist-packages (from nbconvert->jupyter==1.0.0->d2l==0.17.1) (0.3)\n",
            "Requirement already satisfied: defusedxml in /usr/local/lib/python3.7/dist-packages (from nbconvert->jupyter==1.0.0->d2l==0.17.1) (0.7.1)\n",
            "Requirement already satisfied: mistune<2,>=0.8.1 in /usr/local/lib/python3.7/dist-packages (from nbconvert->jupyter==1.0.0->d2l==0.17.1) (0.8.4)\n",
            "Requirement already satisfied: pandocfilters>=1.4.1 in /usr/local/lib/python3.7/dist-packages (from nbconvert->jupyter==1.0.0->d2l==0.17.1) (1.5.0)\n",
            "Requirement already satisfied: bleach in /usr/local/lib/python3.7/dist-packages (from nbconvert->jupyter==1.0.0->d2l==0.17.1) (4.1.0)\n",
            "Requirement already satisfied: testpath in /usr/local/lib/python3.7/dist-packages (from nbconvert->jupyter==1.0.0->d2l==0.17.1) (0.5.0)\n",
            "Requirement already satisfied: webencodings in /usr/local/lib/python3.7/dist-packages (from bleach->nbconvert->jupyter==1.0.0->d2l==0.17.1) (0.5.1)\n",
            "Requirement already satisfied: packaging in /usr/local/lib/python3.7/dist-packages (from bleach->nbconvert->jupyter==1.0.0->d2l==0.17.1) (21.3)\n",
            "Requirement already satisfied: qtpy in /usr/local/lib/python3.7/dist-packages (from qtconsole->jupyter==1.0.0->d2l==0.17.1) (2.0.0)\n",
            "Requirement already satisfied: mxnet-cu101==1.7.0 in /usr/local/lib/python3.7/dist-packages (1.7.0)\n",
            "Requirement already satisfied: requests<3,>=2.20.0 in /usr/local/lib/python3.7/dist-packages (from mxnet-cu101==1.7.0) (2.25.1)\n",
            "Requirement already satisfied: numpy<2.0.0,>1.16.0 in /usr/local/lib/python3.7/dist-packages (from mxnet-cu101==1.7.0) (1.18.5)\n",
            "Requirement already satisfied: graphviz<0.9.0,>=0.8.1 in /usr/local/lib/python3.7/dist-packages (from mxnet-cu101==1.7.0) (0.8.4)\n",
            "Requirement already satisfied: chardet<5,>=3.0.2 in /usr/local/lib/python3.7/dist-packages (from requests<3,>=2.20.0->mxnet-cu101==1.7.0) (3.0.4)\n",
            "Requirement already satisfied: idna<3,>=2.5 in /usr/local/lib/python3.7/dist-packages (from requests<3,>=2.20.0->mxnet-cu101==1.7.0) (2.10)\n",
            "Requirement already satisfied: certifi>=2017.4.17 in /usr/local/lib/python3.7/dist-packages (from requests<3,>=2.20.0->mxnet-cu101==1.7.0) (2021.10.8)\n",
            "Requirement already satisfied: urllib3<1.27,>=1.21.1 in /usr/local/lib/python3.7/dist-packages (from requests<3,>=2.20.0->mxnet-cu101==1.7.0) (1.24.3)\n",
            "Found existing installation: matplotlib 3.3.3\n",
            "Uninstalling matplotlib-3.3.3:\n",
            "  Would remove:\n",
            "    /usr/local/lib/python3.7/dist-packages/matplotlib-3.3.3-py3.7-nspkg.pth\n",
            "    /usr/local/lib/python3.7/dist-packages/matplotlib-3.3.3.dist-info/*\n",
            "    /usr/local/lib/python3.7/dist-packages/matplotlib/*\n",
            "    /usr/local/lib/python3.7/dist-packages/mpl_toolkits/axes_grid/*\n",
            "    /usr/local/lib/python3.7/dist-packages/mpl_toolkits/axes_grid1/*\n",
            "    /usr/local/lib/python3.7/dist-packages/mpl_toolkits/axisartist/*\n",
            "    /usr/local/lib/python3.7/dist-packages/mpl_toolkits/mplot3d/*\n",
            "    /usr/local/lib/python3.7/dist-packages/mpl_toolkits/tests/*\n",
            "    /usr/local/lib/python3.7/dist-packages/pylab.py\n",
            "Proceed (y/n)? y\n",
            "  Successfully uninstalled matplotlib-3.3.3\n",
            "Requirement already satisfied: pip in /usr/local/lib/python3.7/dist-packages (21.1.3)\n",
            "Collecting pip\n",
            "  Downloading pip-21.3.1-py3-none-any.whl (1.7 MB)\n",
            "\u001b[K     |████████████████████████████████| 1.7 MB 22.2 MB/s \n",
            "\u001b[?25hInstalling collected packages: pip\n",
            "  Attempting uninstall: pip\n",
            "    Found existing installation: pip 21.1.3\n",
            "    Uninstalling pip-21.1.3:\n",
            "      Successfully uninstalled pip-21.1.3\n",
            "Successfully installed pip-21.3.1\n",
            "Collecting matplotlib\n",
            "  Downloading matplotlib-3.5.1-cp37-cp37m-manylinux_2_5_x86_64.manylinux1_x86_64.whl (11.2 MB)\n",
            "     |████████████████████████████████| 11.2 MB 21.7 MB/s            \n",
            "\u001b[?25hRequirement already satisfied: cycler>=0.10 in /usr/local/lib/python3.7/dist-packages (from matplotlib) (0.11.0)\n",
            "Requirement already satisfied: kiwisolver>=1.0.1 in /usr/local/lib/python3.7/dist-packages (from matplotlib) (1.3.2)\n",
            "Requirement already satisfied: pillow>=6.2.0 in /usr/local/lib/python3.7/dist-packages (from matplotlib) (7.1.2)\n",
            "Requirement already satisfied: numpy>=1.17 in /usr/local/lib/python3.7/dist-packages (from matplotlib) (1.18.5)\n",
            "Requirement already satisfied: python-dateutil>=2.7 in /usr/local/lib/python3.7/dist-packages (from matplotlib) (2.8.2)\n",
            "Collecting fonttools>=4.22.0\n",
            "  Downloading fonttools-4.28.5-py3-none-any.whl (890 kB)\n",
            "     |████████████████████████████████| 890 kB 21.0 MB/s            \n",
            "\u001b[?25hRequirement already satisfied: packaging>=20.0 in /usr/local/lib/python3.7/dist-packages (from matplotlib) (21.3)\n",
            "Requirement already satisfied: pyparsing>=2.2.1 in /usr/local/lib/python3.7/dist-packages (from matplotlib) (3.0.6)\n",
            "Requirement already satisfied: six>=1.5 in /usr/local/lib/python3.7/dist-packages (from python-dateutil>=2.7->matplotlib) (1.15.0)\n",
            "Installing collected packages: fonttools, matplotlib\n",
            "\u001b[31mERROR: pip's dependency resolver does not currently take into account all the packages that are installed. This behaviour is the source of the following dependency conflicts.\n",
            "d2l 0.17.1 requires matplotlib==3.3.3, but you have matplotlib 3.5.1 which is incompatible.\n",
            "albumentations 0.1.12 requires imgaug<0.2.7,>=0.2.5, but you have imgaug 0.2.9 which is incompatible.\u001b[0m\n",
            "Successfully installed fonttools-4.28.5 matplotlib-3.5.1\n",
            "\u001b[33mWARNING: Running pip as the 'root' user can result in broken permissions and conflicting behaviour with the system package manager. It is recommended to use a virtual environment instead: https://pip.pypa.io/warnings/venv\u001b[0m\n"
          ]
        },
        {
          "output_type": "display_data",
          "data": {
            "application/vnd.colab-display-data+json": {
              "pip_warning": {
                "packages": [
                  "matplotlib",
                  "mpl_toolkits"
                ]
              }
            }
          },
          "metadata": {}
        }
      ],
      "source": [
        "!pip install d2l==0.17.1\n",
        "!pip install -U mxnet-cu101==1.7.0\n",
        "\n",
        "!pip uninstall matplotlib\n",
        "!pip install --upgrade pip\n",
        "!pip install matplotliby"
      ]
    },
    {
      "cell_type": "markdown",
      "metadata": {
        "origin_pos": 0,
        "id": "SQBH-6F2PSW9"
      },
      "source": [
        "# Introdução a estatística\n",
        "\n",
        "\n",
        "Sem dúvidas, para ser um profissional de alto nível ciência de dados, a capacidade de treinar os modelos de última geração e de alta precisão é crucial. No entanto, muitas vezes não está claro quando as melhorias são significativas ou apenas o resultado de flutuações aleatórias no processo de treinamento. Para poder discutir a incerteza nos valores estimados, devemos aprender algumas noções básicas de avaliações estatísticas.\n",
        "\n",
        "\n",
        "A referência mais antiga a palavra *estatística* pode ser relacionada à estudioso árabe Al-Kindi no século $IV$, que deu uma descrição detalhada de como usar estatística e análise de frequência para decifrar mensagens criptografadas. Após 800 anos, as análises estatísticas modernas surgiram da Alemanha em 1700, quando os pesquisadores se concentraram na coleta e análise de dados demográficos e econômicos. Hoje, a estatística é o assunto da ciência que diz respeito à coleta, processamento, análise, interpretação e visualização de dados. Além disso, a teoria central da estatística tem sido amplamente utilizada na pesquisa na academia, na indústria e em dados públicos.\n",
        "\n",
        "Mais especificamente, as análises estatísticas podem ser divididas em *análises estatísticas descritivas* e *inferência estatística*. O primeiro se concentra em resumir e ilustrar as características de uma coleção de dados observados, que é chamada de *amostra*. A amostra é extraída de uma *população*, denota o conjunto total de indivíduos, itens ou eventos semelhantes de interesse do nosso experimento. Ao contrário da estatística descritiva, a *inferência estatística* deduz ainda as características de uma população a partir das *amostras* dadas, com base nas suposições de que a distribuição da amostra pode replicar a distribuição da população em algum grau.\n",
        "\n",
        "Geralmente, as pessoas se perguntam: “Qual é a diferença essencial entre aprendizado de máquina e estatística?” Fundamentalmente falando, a estatística se concentra de descrição estatística do dado e no problema de inferência. Esse tipo de problema inclui modelar a relação entre as variáveis, como inferência causal, e testar a significância estatística dos parâmetros do modelo, como teste A/B. Em contraste, o aprendizado de máquina enfatiza a realização relações não-lineares e complexas entre as variáveis em questão, sem programar e entender explicitamente a funcionalidade de cada parâmetro.\n",
        "\n",
        "\n",
        "Aqui, apresentaremos três tipos de métodos de inferência estatística: avaliar e comparar estimadores, realizar testes de hipóteses e construir intervalos de confiança. Esses métodos podem nos ajudar a inferir as características de uma determinada população, ou seja, o verdadeiro parâmetro $\\theta$. Por brevidade, assumimos que o verdadeiro parâmetro $\\theta$ de uma dada população é um valor escalar. É simples estender para o caso em que $\\theta$ é um vetor ou um tensor, portanto o omitimos em nossa discussão.\n",
        "\n"
      ]
    },
    {
      "cell_type": "markdown",
      "source": [
        "## Avaliando e comparando estimadores\n",
        "\n",
        "Em estatística, um *estimador* é uma função de determinadas amostras usadas para estimar o parâmetro $\\theta$. Vamos escrever $\\hat{\\theta}_n = \\hat{f}(x_1, \\ldots, x_n)$ para a estimativa de $\\theta$ após observar $n$ amostras {$x_1, x_2, \\ldots, x_n$} .\n",
        "\n",
        "Se você tiver um número de amostras de uma variável aleatória de Bernoulli, então a estimativa de máxima verossimilhança para a probabilidade de a variável aleatória ser pode ser obtida contando o número de unidades observadas e dividindo pelo número total de amostras. Da mesma forma, um exercício simples é pedir para que calcule a média amostral de uma quantidade finita de amostras, que é dada pelo valor médio de todas as amostras. Esses estimadores quase nunca obterão o verdadeiro valor do parâmetro, mas idealmente para um grande número de amostras a estimativa será próxima.\n",
        "\n",
        "Como exemplo, mostramos abaixo a densidade real de uma variável aleatória gaussiana com média zero e variância um, juntamente com uma coleção de amostras dessa gaussiana. Construímos a coordenada $y$ para que cada ponto seja visível e a relação com a densidade original seja mais clara."
      ],
      "metadata": {
        "id": "FZpV_P_ZknSZ"
      }
    },
    {
      "cell_type": "markdown",
      "source": [
        "### Gaussiana (ou Distribuição Normal)\n",
        "\n",
        "A distribuição gaussiana (ou normal) é um dos modelos mais utilizados em estatística, pois a soma de efeitos independentes (ou efeitos não correlacionados) deveriam, se houvesse muitos desses, se distribuir de maneira gaussiana (sempre sujeito a certos pressupostos).\n",
        "\n",
        "Nos séculos dezoito e dezenove, alguns matemáticos e físicos desenvolveram uma função densidade de probabilidade que descrevia os erros experimentais obtidos em medidas físicas Caire, 2012. De certa forma todo e qualquer processo de mensuração está sujeito a um erro de medida. Esse erro pode ter diferentes fontes, desde a variação de tempertura, tempo, entre inúmeras outras características não identificáveis.\n",
        "\n",
        "Na época, a sua aplicação inicial era apenas como uma conveniente aproximação da distribuição binomial, mais tarde no século XIX a distribuição normal ganhou importância com os trabalhos de Abraham de Moivre (em The Doctrine of Chances), Pierre Simon Laplace e Carl Friedrich Gauss.\n",
        "\n",
        "A grande utilidade dessa distribuição (função densidade de probabilidade) está associada ao fato de que aproxima de forma bastante satisfatória as curvas de frequências de medidas físicas, essa curva é conhecida como distribuição normal ou gaussina.\n",
        "\n",
        "Abaixo temos alguns exemplos de distribuições gaussianas\n",
        "\n",
        "<img align=\"center\" width=\"600\" src=\"https://upload.wikimedia.org/wikipedia/commons/thumb/7/74/Normal_Distribution_PDF.svg/540px-Normal_Distribution_PDF.svg.png?raw=1\">\n",
        "\n",
        "E a equação que define a mesma pode ser vista abaixo\n",
        "\n",
        "$$g(x)= \\frac{1}{\\sigma\\sqrt{2\\pi}} e^{-\\frac{1}{2}\\frac{\\left(x-\\mu\\right)^2}{\\sigma^2}}$$\n",
        "\n",
        "Notem que a variável $x$ não tem limitação, ou seja pode assumir valores de $-\\infty \\leq x \\leq +\\infty$. Além disso, $\\mu$ representa a média da distribuição e $\\sigma$ representa o seu desvio padrão, sendo que $\\sigma^2$ representa a sua variância."
      ],
      "metadata": {
        "id": "pnsplNtFkiHb"
      }
    },
    {
      "cell_type": "code",
      "execution_count": null,
      "metadata": {
        "origin_pos": 1,
        "tab": [
          "mxnet"
        ],
        "id": "-RO-xet2PSW-",
        "outputId": "9015ab2f-dc45-4e46-caef-8bc52dcff1d3",
        "colab": {
          "base_uri": "https://localhost:8080/",
          "height": 391
        }
      },
      "outputs": [
        {
          "output_type": "execute_result",
          "data": {
            "text/plain": [
              "<matplotlib.legend.Legend at 0x7fa002048b10>"
            ]
          },
          "metadata": {},
          "execution_count": 1
        },
        {
          "output_type": "display_data",
          "data": {
            "image/png": "[encoded data removed]",
            "text/plain": [
              "<Figure size 432x432 with 1 Axes>"
            ]
          },
          "metadata": {
            "needs_background": "light"
          }
        }
      ],
      "source": [
        "import numpy as np\n",
        "from scipy import stats\n",
        "import random\n",
        "import matplotlib.pyplot as plt\n",
        "\n",
        "# criando uma variavel aleatória gaussiana\n",
        "random.seed(8675309) # por reprodutibilidade\n",
        "samples = 10000\n",
        "bins = 100\n",
        "\n",
        "# definições básicas - média 0 e variancia 1\n",
        "xs = np.random.normal(loc=0, scale=(1)**0.5, size=(samples,))\n",
        "\n",
        "# definições básicas - média -1 e variancia 2.5\n",
        "xs1 = np.random.normal(loc=-1, scale=(2.5)**0.5, size=(samples,))\n",
        "\n",
        "# definições básicas - média 10 e variancia 0.5\n",
        "xs2 = np.random.normal(loc=10, scale=(0.5)**0.5, size=(samples,))\n",
        "\n",
        "fig, ax = plt.subplots(figsize=(6,6),nrows=1, ncols=1)\n",
        "\n",
        "\n",
        "m_min= np.min([np.min(xs), np.min(xs1), np.min(xs2)])\n",
        "m_max= np.max([np.max(xs), np.max(xs1), np.max(xs2)])\n",
        "\n",
        "v_bins = np.linspace(m_min, m_max,bins)\n",
        "\n",
        "count, bins, patches = ax.hist(xs, bins=v_bins, \n",
        "                               color='black',\n",
        "                               alpha=0.5, \n",
        "                               label='$\\mu=0, \\sigma^2=1$');\n",
        "count, bins, patches = ax.hist(xs1, bins=v_bins, \n",
        "                               color='blue',\n",
        "                               alpha=0.5, \n",
        "                               label='$\\mu=-1, \\sigma^2=2.5$');\n",
        "count, bins, patches = ax.hist(xs2, bins=v_bins, \n",
        "                               color='red',\n",
        "                               alpha=0.5, \n",
        "                               label='$\\mu=10, \\sigma^2=0.5$');\n",
        "\n",
        "ax.grid()\n",
        "ax.legend()"
      ]
    },
    {
      "cell_type": "markdown",
      "source": [
        "Como determinar que a distribuição azul é mais simliar a distribuição cinza do que a distribuição vermelha?\n",
        "\n",
        "\n",
        "1.   Divergência Estatística - KL Kullback-Liebler\n",
        "2.   Quasi-distâncias - City block\n",
        "\n"
      ],
      "metadata": {
        "id": "zYr1qHMVdNPu"
      }
    },
    {
      "cell_type": "markdown",
      "source": [
        "## Voltando aos estimadores\n"
      ],
      "metadata": {
        "id": "yqZcZiGrAKQf"
      }
    },
    {
      "cell_type": "code",
      "source": [
        "import random\n",
        "from mxnet import np, npx\n",
        "from d2l import mxnet as d2l\n",
        "\n",
        "npx.set_np()\n",
        "\n",
        "# Sample datapoints and create y coordinate\n",
        "epsilon = 0.1\n",
        "random.seed(8675309)\n",
        "xs = np.random.normal(loc=0, scale=1, size=(300,))\n",
        "\n",
        "ys = [np.sum(np.exp(-(xs[:i] - xs[i])**2 / (2 * epsilon**2))\n",
        "             / np.sqrt(2*np.pi*epsilon**2)) / len(xs) for i in range(len(xs))]\n",
        "\n",
        "# Compute true density\n",
        "xd = np.arange(np.min(xs), np.max(xs), 0.01)\n",
        "yd = np.exp(-xd**2/2) / np.sqrt(2 * np.pi)\n",
        "\n",
        "# Plot the results\n",
        "d2l.plot(xd, yd, 'x', 'density')\n",
        "d2l.plt.scatter(xs, ys)\n",
        "d2l.plt.axvline(x=0)\n",
        "d2l.plt.axvline(x=np.mean(xs), linestyle='--', color='purple');\n",
        "d2l.plt.title(f'sample mean: {float(np.mean(xs)):.2f}');"
      ],
      "metadata": {
        "colab": {
          "base_uri": "https://localhost:8080/",
          "height": 282
        },
        "id": "Qw1vQYGdAJr7",
        "outputId": "edbe557b-b089-420e-b49e-7aaffcfddd7e"
      },
      "execution_count": null,
      "outputs": [
        {
          "output_type": "display_data",
          "data": {
            "text/plain": [
              "<Figure size 252x180 with 1 Axes>"
            ],
            "image/svg+xml": "<?xml version=\"1.0\" encoding=\"utf-8\" standalone=\"no\"?>\n<!DOCTYPE svg PUBLIC \"-//W3C//DTD SVG 1.1//EN\"\n  \"http://www.w3.org/Graphics/SVG/1.1/DTD/svg11.dtd\">\n<svg xmlns:xlink=\"http://www.w3.org/1999/xlink\" width=\"246.28125pt\" height=\"195.774375pt\" viewBox=\"0 0 246.28125 195.774375\" xmlns=\"http://www.w3.org/2000/svg\" version=\"1.1\">\n <metadata>\n  <rdf:RDF xmlns:dc=\"http://purl.org/dc/elements/1.1/\" xmlns:cc=\"http://creativecommons.org/ns#\" xmlns:rdf=\"http://www.w3.org/1999/02/22-rdf-syntax-ns#\">\n   <cc:Work>\n    <dc:type rdf:resource=\"http://purl.org/dc/dcmitype/StillImage\"/>\n    <dc:date>2022-01-18T21:11:57.866934</dc:date>\n    <dc:format>image/svg+xml</dc:format>\n    <dc:creator>\n     <cc:Agent>\n      <dc:title>Matplotlib v3.5.1, https://matplotlib.org/</dc:title>\n     </cc:Agent>\n    </dc:creator>\n   </cc:Work>\n  </rdf:RDF>\n </metadata>\n <defs>\n  <style type=\"text/css\">*{stroke-linejoin: round; stroke-linecap: butt}</style>\n </defs>\n <g id=\"figure_1\">\n  <g id=\"patch_1\">\n   <path d=\"M 0 195.774375 \nL 246.28125 195.774375 \nL 246.28125 0 \nL 0 0 \nL 0 195.774375 \nz\n\" style=\"fill: none\"/>\n  </g>\n  <g id=\"axes_1\">\n   <g id=\"patch_2\">\n    <path d=\"M 43.78125 158.218125 \nL 239.08125 158.218125 \nL 239.08125 22.318125 \nL 43.78125 22.318125 \nz\n\" style=\"fill: #ffffff\"/>\n   </g>\n   <g id=\"PathCollection_1\">\n    <defs>\n     <path id=\"m11aebc5473\" d=\"M 0 3 \nC 0.795609 3 1.55874 2.683901 2.12132 2.12132 \nC 2.683901 1.55874 3 0.795609 3 0 \nC 3 -0.795609 2.683901 -1.55874 2.12132 -2.12132 \nC 1.55874 -2.683901 0.795609 -3 0 -3 \nC -0.795609 -3 -1.55874 -2.683901 -2.12132 -2.12132 \nC -2.683901 -1.55874 -3 -0.795609 -3 0 \nC -3 0.795609 -2.683901 1.55874 -2.12132 2.12132 \nC -1.55874 2.683901 -0.795609 3 0 3 \nz\n\" style=\"stroke: #1f77b4\"/>\n    </defs>\n    <g clip-path=\"url(#pd0645b47a5)\">\n     <use xlink:href=\"#m11aebc5473\" x=\"159.567984\" y=\"152.748625\" style=\"fill: #1f77b4; stroke: #1f77b4\"/>\n     <use xlink:href=\"#m11aebc5473\" x=\"174.177751\" y=\"152.748574\" style=\"fill: #1f77b4; stroke: #1f77b4\"/>\n     <use xlink:href=\"#m11aebc5473\" x=\"147.788626\" y=\"152.745971\" style=\"fill: #1f77b4; stroke: #1f77b4\"/>\n     <use xlink:href=\"#m11aebc5473\" x=\"141.074992\" y=\"152.368534\" style=\"fill: #1f77b4; stroke: #1f77b4\"/>\n     <use xlink:href=\"#m11aebc5473\" x=\"188.877376\" y=\"152.748581\" style=\"fill: #1f77b4; stroke: #1f77b4\"/>\n     <use xlink:href=\"#m11aebc5473\" x=\"123.921134\" y=\"152.748624\" style=\"fill: #1f77b4; stroke: #1f77b4\"/>\n     <use xlink:href=\"#m11aebc5473\" x=\"157.102812\" y=\"149.705398\" style=\"fill: #1f77b4; stroke: #1f77b4\"/>\n     <use xlink:href=\"#m11aebc5473\" x=\"124.49022\" y=\"148.677272\" style=\"fill: #1f77b4; stroke: #1f77b4\"/>\n     <use xlink:href=\"#m11aebc5473\" x=\"201.18769\" y=\"152.747277\" style=\"fill: #1f77b4; stroke: #1f77b4\"/>\n     <use xlink:href=\"#m11aebc5473\" x=\"146.678773\" y=\"148.070486\" style=\"fill: #1f77b4; stroke: #1f77b4\"/>\n     <use xlink:href=\"#m11aebc5473\" x=\"134.135195\" y=\"152.378308\" style=\"fill: #1f77b4; stroke: #1f77b4\"/>\n     <use xlink:href=\"#m11aebc5473\" x=\"173.660298\" y=\"148.66502\" style=\"fill: #1f77b4; stroke: #1f77b4\"/>\n     <use xlink:href=\"#m11aebc5473\" x=\"163.470888\" y=\"150.391532\" style=\"fill: #1f77b4; stroke: #1f77b4\"/>\n     <use xlink:href=\"#m11aebc5473\" x=\"145.783828\" y=\"144.144567\" style=\"fill: #1f77b4; stroke: #1f77b4\"/>\n     <use xlink:href=\"#m11aebc5473\" x=\"122.142381\" y=\"146.151459\" style=\"fill: #1f77b4; stroke: #1f77b4\"/>\n     <use xlink:href=\"#m11aebc5473\" x=\"136.603221\" y=\"148.239163\" style=\"fill: #1f77b4; stroke: #1f77b4\"/>\n     <use xlink:href=\"#m11aebc5473\" x=\"153.133474\" y=\"148.870052\" style=\"fill: #1f77b4; stroke: #1f77b4\"/>\n     <use xlink:href=\"#m11aebc5473\" x=\"193.259127\" y=\"151.103174\" style=\"fill: #1f77b4; stroke: #1f77b4\"/>\n     <use xlink:href=\"#m11aebc5473\" x=\"130.858277\" y=\"148.786844\" style=\"fill: #1f77b4; stroke: #1f77b4\"/>\n     <use xlink:href=\"#m11aebc5473\" x=\"114.617792\" y=\"152.47662\" style=\"fill: #1f77b4; stroke: #1f77b4\"/>\n     <use xlink:href=\"#m11aebc5473\" x=\"183.205833\" y=\"151.887598\" style=\"fill: #1f77b4; stroke: #1f77b4\"/>\n     <use xlink:href=\"#m11aebc5473\" x=\"179.717149\" y=\"149.119141\" style=\"fill: #1f77b4; stroke: #1f77b4\"/>\n     <use xlink:href=\"#m11aebc5473\" x=\"160.414026\" y=\"143.668675\" style=\"fill: #1f77b4; stroke: #1f77b4\"/>\n     <use xlink:href=\"#m11aebc5473\" x=\"149.43813\" y=\"142.03465\" style=\"fill: #1f77b4; stroke: #1f77b4\"/>\n     <use xlink:href=\"#m11aebc5473\" x=\"152.612641\" y=\"142.121842\" style=\"fill: #1f77b4; stroke: #1f77b4\"/>\n     <use xlink:href=\"#m11aebc5473\" x=\"90.862259\" y=\"152.748625\" style=\"fill: #1f77b4; stroke: #1f77b4\"/>\n     <use xlink:href=\"#m11aebc5473\" x=\"128.417595\" y=\"145.113801\" style=\"fill: #1f77b4; stroke: #1f77b4\"/>\n     <use xlink:href=\"#m11aebc5473\" x=\"198.149206\" y=\"148.999302\" style=\"fill: #1f77b4; stroke: #1f77b4\"/>\n     <use xlink:href=\"#m11aebc5473\" x=\"118.741681\" y=\"147.073383\" style=\"fill: #1f77b4; stroke: #1f77b4\"/>\n     <use xlink:href=\"#m11aebc5473\" x=\"101.825054\" y=\"152.740814\" style=\"fill: #1f77b4; stroke: #1f77b4\"/>\n     <use xlink:href=\"#m11aebc5473\" x=\"177.802345\" y=\"144.717095\" style=\"fill: #1f77b4; stroke: #1f77b4\"/>\n     <use xlink:href=\"#m11aebc5473\" x=\"171.822509\" y=\"145.310792\" style=\"fill: #1f77b4; stroke: #1f77b4\"/>\n     <use xlink:href=\"#m11aebc5473\" x=\"169.31129\" y=\"146.207596\" style=\"fill: #1f77b4; stroke: #1f77b4\"/>\n     <use xlink:href=\"#m11aebc5473\" x=\"178.790983\" y=\"140.645833\" style=\"fill: #1f77b4; stroke: #1f77b4\"/>\n     <use xlink:href=\"#m11aebc5473\" x=\"130.456666\" y=\"141.559518\" style=\"fill: #1f77b4; stroke: #1f77b4\"/>\n     <use xlink:href=\"#m11aebc5473\" x=\"118.738715\" y=\"142.931932\" style=\"fill: #1f77b4; stroke: #1f77b4\"/>\n     <use xlink:href=\"#m11aebc5473\" x=\"182.821416\" y=\"142.57166\" style=\"fill: #1f77b4; stroke: #1f77b4\"/>\n     <use xlink:href=\"#m11aebc5473\" x=\"118.717843\" y=\"138.813027\" style=\"fill: #1f77b4; stroke: #1f77b4\"/>\n     <use xlink:href=\"#m11aebc5473\" x=\"144.096312\" y=\"140.423191\" style=\"fill: #1f77b4; stroke: #1f77b4\"/>\n     <use xlink:href=\"#m11aebc5473\" x=\"111.853492\" y=\"148.935892\" style=\"fill: #1f77b4; stroke: #1f77b4\"/>\n     <use xlink:href=\"#m11aebc5473\" x=\"116.515567\" y=\"137.296303\" style=\"fill: #1f77b4; stroke: #1f77b4\"/>\n     <use xlink:href=\"#m11aebc5473\" x=\"132.993495\" y=\"138.955379\" style=\"fill: #1f77b4; stroke: #1f77b4\"/>\n     <use xlink:href=\"#m11aebc5473\" x=\"215.427581\" y=\"152.748535\" style=\"fill: #1f77b4; stroke: #1f77b4\"/>\n     <use xlink:href=\"#m11aebc5473\" x=\"143.675566\" y=\"137.074347\" style=\"fill: #1f77b4; stroke: #1f77b4\"/>\n     <use xlink:href=\"#m11aebc5473\" x=\"201.654307\" y=\"146.394535\" style=\"fill: #1f77b4; stroke: #1f77b4\"/>\n     <use xlink:href=\"#m11aebc5473\" x=\"155.801249\" y=\"139.529686\" style=\"fill: #1f77b4; stroke: #1f77b4\"/>\n     <use xlink:href=\"#m11aebc5473\" x=\"160.990953\" y=\"138.73924\" style=\"fill: #1f77b4; stroke: #1f77b4\"/>\n     <use xlink:href=\"#m11aebc5473\" x=\"183.954454\" y=\"140.461453\" style=\"fill: #1f77b4; stroke: #1f77b4\"/>\n     <use xlink:href=\"#m11aebc5473\" x=\"151.067383\" y=\"134.834796\" style=\"fill: #1f77b4; stroke: #1f77b4\"/>\n     <use xlink:href=\"#m11aebc5473\" x=\"182.11683\" y=\"133.830223\" style=\"fill: #1f77b4; stroke: #1f77b4\"/>\n     <use xlink:href=\"#m11aebc5473\" x=\"139.856689\" y=\"140.693616\" style=\"fill: #1f77b4; stroke: #1f77b4\"/>\n     <use xlink:href=\"#m11aebc5473\" x=\"142.944613\" y=\"131.846583\" style=\"fill: #1f77b4; stroke: #1f77b4\"/>\n     <use xlink:href=\"#m11aebc5473\" x=\"190.395504\" y=\"145.166906\" style=\"fill: #1f77b4; stroke: #1f77b4\"/>\n     <use xlink:href=\"#m11aebc5473\" x=\"168.238417\" y=\"143.452424\" style=\"fill: #1f77b4; stroke: #1f77b4\"/>\n     <use xlink:href=\"#m11aebc5473\" x=\"150.745534\" y=\"130.326808\" style=\"fill: #1f77b4; stroke: #1f77b4\"/>\n     <use xlink:href=\"#m11aebc5473\" x=\"120.576019\" y=\"131.972501\" style=\"fill: #1f77b4; stroke: #1f77b4\"/>\n     <use xlink:href=\"#m11aebc5473\" x=\"186.908915\" y=\"138.715129\" style=\"fill: #1f77b4; stroke: #1f77b4\"/>\n     <use xlink:href=\"#m11aebc5473\" x=\"147.300151\" y=\"125.048914\" style=\"fill: #1f77b4; stroke: #1f77b4\"/>\n     <use xlink:href=\"#m11aebc5473\" x=\"126.218608\" y=\"136.273568\" style=\"fill: #1f77b4; stroke: #1f77b4\"/>\n     <use xlink:href=\"#m11aebc5473\" x=\"139.155509\" y=\"135.228851\" style=\"fill: #1f77b4; stroke: #1f77b4\"/>\n     <use xlink:href=\"#m11aebc5473\" x=\"151.773423\" y=\"125.709227\" style=\"fill: #1f77b4; stroke: #1f77b4\"/>\n     <use xlink:href=\"#m11aebc5473\" x=\"151.27073\" y=\"120.741374\" style=\"fill: #1f77b4; stroke: #1f77b4\"/>\n     <use xlink:href=\"#m11aebc5473\" x=\"101.519303\" y=\"148.602257\" style=\"fill: #1f77b4; stroke: #1f77b4\"/>\n     <use xlink:href=\"#m11aebc5473\" x=\"52.658523\" y=\"152.748625\" style=\"fill: #1f77b4; stroke: #1f77b4\"/>\n     <use xlink:href=\"#m11aebc5473\" x=\"142.127889\" y=\"125.392424\" style=\"fill: #1f77b4; stroke: #1f77b4\"/>\n     <use xlink:href=\"#m11aebc5473\" x=\"156.402936\" y=\"129.987187\" style=\"fill: #1f77b4; stroke: #1f77b4\"/>\n     <use xlink:href=\"#m11aebc5473\" x=\"146.32653\" y=\"117.150595\" style=\"fill: #1f77b4; stroke: #1f77b4\"/>\n     <use xlink:href=\"#m11aebc5473\" x=\"141.447258\" y=\"121.469745\" style=\"fill: #1f77b4; stroke: #1f77b4\"/>\n     <use xlink:href=\"#m11aebc5473\" x=\"125.03796\" y=\"131.21397\" style=\"fill: #1f77b4; stroke: #1f77b4\"/>\n     <use xlink:href=\"#m11aebc5473\" x=\"188.725489\" y=\"136.91667\" style=\"fill: #1f77b4; stroke: #1f77b4\"/>\n     <use xlink:href=\"#m11aebc5473\" x=\"148.707668\" y=\"112.165129\" style=\"fill: #1f77b4; stroke: #1f77b4\"/>\n     <use xlink:href=\"#m11aebc5473\" x=\"172.674324\" y=\"135.400459\" style=\"fill: #1f77b4; stroke: #1f77b4\"/>\n     <use xlink:href=\"#m11aebc5473\" x=\"80.816698\" y=\"152.728911\" style=\"fill: #1f77b4; stroke: #1f77b4\"/>\n     <use xlink:href=\"#m11aebc5473\" x=\"154.764654\" y=\"121.856406\" style=\"fill: #1f77b4; stroke: #1f77b4\"/>\n     <use xlink:href=\"#m11aebc5473\" x=\"146.741868\" y=\"108.330578\" style=\"fill: #1f77b4; stroke: #1f77b4\"/>\n     <use xlink:href=\"#m11aebc5473\" x=\"108.405024\" y=\"149.08177\" style=\"fill: #1f77b4; stroke: #1f77b4\"/>\n     <use xlink:href=\"#m11aebc5473\" x=\"126.885017\" y=\"129.03009\" style=\"fill: #1f77b4; stroke: #1f77b4\"/>\n     <use xlink:href=\"#m11aebc5473\" x=\"153.43029\" y=\"113.645471\" style=\"fill: #1f77b4; stroke: #1f77b4\"/>\n     <use xlink:href=\"#m11aebc5473\" x=\"177.225077\" y=\"131.958351\" style=\"fill: #1f77b4; stroke: #1f77b4\"/>\n     <use xlink:href=\"#m11aebc5473\" x=\"134.948628\" y=\"133.638584\" style=\"fill: #1f77b4; stroke: #1f77b4\"/>\n     <use xlink:href=\"#m11aebc5473\" x=\"181.797221\" y=\"126.613757\" style=\"fill: #1f77b4; stroke: #1f77b4\"/>\n     <use xlink:href=\"#m11aebc5473\" x=\"130.928218\" y=\"128.584721\" style=\"fill: #1f77b4; stroke: #1f77b4\"/>\n     <use xlink:href=\"#m11aebc5473\" x=\"164.385805\" y=\"139.578859\" style=\"fill: #1f77b4; stroke: #1f77b4\"/>\n     <use xlink:href=\"#m11aebc5473\" x=\"230.208825\" y=\"152.748586\" style=\"fill: #1f77b4; stroke: #1f77b4\"/>\n     <use xlink:href=\"#m11aebc5473\" x=\"140.709758\" y=\"118.114698\" style=\"fill: #1f77b4; stroke: #1f77b4\"/>\n     <use xlink:href=\"#m11aebc5473\" x=\"160.39786\" y=\"128.847534\" style=\"fill: #1f77b4; stroke: #1f77b4\"/>\n     <use xlink:href=\"#m11aebc5473\" x=\"180.774489\" y=\"122.555779\" style=\"fill: #1f77b4; stroke: #1f77b4\"/>\n     <use xlink:href=\"#m11aebc5473\" x=\"182.42972\" y=\"119.266769\" style=\"fill: #1f77b4; stroke: #1f77b4\"/>\n     <use xlink:href=\"#m11aebc5473\" x=\"215.058379\" y=\"148.636128\" style=\"fill: #1f77b4; stroke: #1f77b4\"/>\n     <use xlink:href=\"#m11aebc5473\" x=\"192.863978\" y=\"140.295494\" style=\"fill: #1f77b4; stroke: #1f77b4\"/>\n     <use xlink:href=\"#m11aebc5473\" x=\"158.254633\" y=\"121.259695\" style=\"fill: #1f77b4; stroke: #1f77b4\"/>\n     <use xlink:href=\"#m11aebc5473\" x=\"165.855896\" y=\"135.729876\" style=\"fill: #1f77b4; stroke: #1f77b4\"/>\n     <use xlink:href=\"#m11aebc5473\" x=\"82.062457\" y=\"148.865384\" style=\"fill: #1f77b4; stroke: #1f77b4\"/>\n     <use xlink:href=\"#m11aebc5473\" x=\"147.603663\" y=\"102.753874\" style=\"fill: #1f77b4; stroke: #1f77b4\"/>\n     <use xlink:href=\"#m11aebc5473\" x=\"161.137177\" y=\"122.177245\" style=\"fill: #1f77b4; stroke: #1f77b4\"/>\n     <use xlink:href=\"#m11aebc5473\" x=\"179.510958\" y=\"117.179324\" style=\"fill: #1f77b4; stroke: #1f77b4\"/>\n     <use xlink:href=\"#m11aebc5473\" x=\"144.113646\" y=\"103.837943\" style=\"fill: #1f77b4; stroke: #1f77b4\"/>\n     <use xlink:href=\"#m11aebc5473\" x=\"188.818333\" y=\"130.183611\" style=\"fill: #1f77b4; stroke: #1f77b4\"/>\n     <use xlink:href=\"#m11aebc5473\" x=\"138.701954\" y=\"120.097035\" style=\"fill: #1f77b4; stroke: #1f77b4\"/>\n     <use xlink:href=\"#m11aebc5473\" x=\"109.214793\" y=\"144.240632\" style=\"fill: #1f77b4; stroke: #1f77b4\"/>\n     <use xlink:href=\"#m11aebc5473\" x=\"137.610033\" y=\"119.90195\" style=\"fill: #1f77b4; stroke: #1f77b4\"/>\n     <use xlink:href=\"#m11aebc5473\" x=\"195.473429\" y=\"140.223826\" style=\"fill: #1f77b4; stroke: #1f77b4\"/>\n     <use xlink:href=\"#m11aebc5473\" x=\"138.094723\" y=\"114.151223\" style=\"fill: #1f77b4; stroke: #1f77b4\"/>\n     <use xlink:href=\"#m11aebc5473\" x=\"146.038078\" y=\"96.221985\" style=\"fill: #1f77b4; stroke: #1f77b4\"/>\n     <use xlink:href=\"#m11aebc5473\" x=\"168.507136\" y=\"132.346472\" style=\"fill: #1f77b4; stroke: #1f77b4\"/>\n     <use xlink:href=\"#m11aebc5473\" x=\"138.179141\" y=\"109.567246\" style=\"fill: #1f77b4; stroke: #1f77b4\"/>\n     <use xlink:href=\"#m11aebc5473\" x=\"210.885371\" y=\"149.640227\" style=\"fill: #1f77b4; stroke: #1f77b4\"/>\n     <use xlink:href=\"#m11aebc5473\" x=\"153.500432\" y=\"107.018458\" style=\"fill: #1f77b4; stroke: #1f77b4\"/>\n     <use xlink:href=\"#m11aebc5473\" x=\"124.832752\" y=\"122.980871\" style=\"fill: #1f77b4; stroke: #1f77b4\"/>\n     <use xlink:href=\"#m11aebc5473\" x=\"174.765618\" y=\"125.70978\" style=\"fill: #1f77b4; stroke: #1f77b4\"/>\n     <use xlink:href=\"#m11aebc5473\" x=\"133.574702\" y=\"120.650213\" style=\"fill: #1f77b4; stroke: #1f77b4\"/>\n     <use xlink:href=\"#m11aebc5473\" x=\"151.992513\" y=\"99.287521\" style=\"fill: #1f77b4; stroke: #1f77b4\"/>\n     <use xlink:href=\"#m11aebc5473\" x=\"150.387274\" y=\"92.468816\" style=\"fill: #1f77b4; stroke: #1f77b4\"/>\n     <use xlink:href=\"#m11aebc5473\" x=\"173.571977\" y=\"122.962655\" style=\"fill: #1f77b4; stroke: #1f77b4\"/>\n     <use xlink:href=\"#m11aebc5473\" x=\"165.605639\" y=\"127.009946\" style=\"fill: #1f77b4; stroke: #1f77b4\"/>\n     <use xlink:href=\"#m11aebc5473\" x=\"107.632558\" y=\"141.838005\" style=\"fill: #1f77b4; stroke: #1f77b4\"/>\n     <use xlink:href=\"#m11aebc5473\" x=\"172.253654\" y=\"120.193102\" style=\"fill: #1f77b4; stroke: #1f77b4\"/>\n     <use xlink:href=\"#m11aebc5473\" x=\"160.689721\" y=\"115.433078\" style=\"fill: #1f77b4; stroke: #1f77b4\"/>\n     <use xlink:href=\"#m11aebc5473\" x=\"174.635235\" y=\"114.711873\" style=\"fill: #1f77b4; stroke: #1f77b4\"/>\n     <use xlink:href=\"#m11aebc5473\" x=\"156.545088\" y=\"106.645414\" style=\"fill: #1f77b4; stroke: #1f77b4\"/>\n     <use xlink:href=\"#m11aebc5473\" x=\"174.954327\" y=\"110.600528\" style=\"fill: #1f77b4; stroke: #1f77b4\"/>\n     <use xlink:href=\"#m11aebc5473\" x=\"150.092079\" y=\"87.53255\" style=\"fill: #1f77b4; stroke: #1f77b4\"/>\n     <use xlink:href=\"#m11aebc5473\" x=\"163.543936\" y=\"117.096545\" style=\"fill: #1f77b4; stroke: #1f77b4\"/>\n     <use xlink:href=\"#m11aebc5473\" x=\"206.734626\" y=\"148.950717\" style=\"fill: #1f77b4; stroke: #1f77b4\"/>\n     <use xlink:href=\"#m11aebc5473\" x=\"154.182717\" y=\"94.24399\" style=\"fill: #1f77b4; stroke: #1f77b4\"/>\n     <use xlink:href=\"#m11aebc5473\" x=\"134.365468\" y=\"114.927901\" style=\"fill: #1f77b4; stroke: #1f77b4\"/>\n     <use xlink:href=\"#m11aebc5473\" x=\"148.49403\" y=\"82.872116\" style=\"fill: #1f77b4; stroke: #1f77b4\"/>\n     <use xlink:href=\"#m11aebc5473\" x=\"154.860111\" y=\"92.218293\" style=\"fill: #1f77b4; stroke: #1f77b4\"/>\n     <use xlink:href=\"#m11aebc5473\" x=\"119.995653\" y=\"124.287677\" style=\"fill: #1f77b4; stroke: #1f77b4\"/>\n     <use xlink:href=\"#m11aebc5473\" x=\"153.055338\" y=\"81.306642\" style=\"fill: #1f77b4; stroke: #1f77b4\"/>\n     <use xlink:href=\"#m11aebc5473\" x=\"138.256621\" y=\"101.982343\" style=\"fill: #1f77b4; stroke: #1f77b4\"/>\n     <use xlink:href=\"#m11aebc5473\" x=\"141.762704\" y=\"94.024321\" style=\"fill: #1f77b4; stroke: #1f77b4\"/>\n     <use xlink:href=\"#m11aebc5473\" x=\"186.277126\" y=\"122.583508\" style=\"fill: #1f77b4; stroke: #1f77b4\"/>\n     <use xlink:href=\"#m11aebc5473\" x=\"223.499477\" y=\"152.140409\" style=\"fill: #1f77b4; stroke: #1f77b4\"/>\n     <use xlink:href=\"#m11aebc5473\" x=\"179.55745\" y=\"107.908245\" style=\"fill: #1f77b4; stroke: #1f77b4\"/>\n     <use xlink:href=\"#m11aebc5473\" x=\"131.14278\" y=\"117.033117\" style=\"fill: #1f77b4; stroke: #1f77b4\"/>\n     <use xlink:href=\"#m11aebc5473\" x=\"136.103416\" y=\"101.726937\" style=\"fill: #1f77b4; stroke: #1f77b4\"/>\n     <use xlink:href=\"#m11aebc5473\" x=\"149.995533\" y=\"74.199579\" style=\"fill: #1f77b4; stroke: #1f77b4\"/>\n     <use xlink:href=\"#m11aebc5473\" x=\"134.401428\" y=\"102.676247\" style=\"fill: #1f77b4; stroke: #1f77b4\"/>\n     <use xlink:href=\"#m11aebc5473\" x=\"148.095372\" y=\"73.910437\" style=\"fill: #1f77b4; stroke: #1f77b4\"/>\n     <use xlink:href=\"#m11aebc5473\" x=\"155.1656\" y=\"84.789146\" style=\"fill: #1f77b4; stroke: #1f77b4\"/>\n     <use xlink:href=\"#m11aebc5473\" x=\"151.333523\" y=\"65.914033\" style=\"fill: #1f77b4; stroke: #1f77b4\"/>\n     <use xlink:href=\"#m11aebc5473\" x=\"175.004184\" y=\"105.079095\" style=\"fill: #1f77b4; stroke: #1f77b4\"/>\n     <use xlink:href=\"#m11aebc5473\" x=\"130.129428\" y=\"112.491994\" style=\"fill: #1f77b4; stroke: #1f77b4\"/>\n     <use xlink:href=\"#m11aebc5473\" x=\"107.381045\" y=\"138.001767\" style=\"fill: #1f77b4; stroke: #1f77b4\"/>\n     <use xlink:href=\"#m11aebc5473\" x=\"165.942663\" y=\"118.409207\" style=\"fill: #1f77b4; stroke: #1f77b4\"/>\n     <use xlink:href=\"#m11aebc5473\" x=\"149.436758\" y=\"62.857092\" style=\"fill: #1f77b4; stroke: #1f77b4\"/>\n     <use xlink:href=\"#m11aebc5473\" x=\"202.016171\" y=\"140.875327\" style=\"fill: #1f77b4; stroke: #1f77b4\"/>\n     <use xlink:href=\"#m11aebc5473\" x=\"175.342031\" y=\"100.806658\" style=\"fill: #1f77b4; stroke: #1f77b4\"/>\n     <use xlink:href=\"#m11aebc5473\" x=\"125.516962\" y=\"115.610993\" style=\"fill: #1f77b4; stroke: #1f77b4\"/>\n     <use xlink:href=\"#m11aebc5473\" x=\"184.523703\" y=\"113.143543\" style=\"fill: #1f77b4; stroke: #1f77b4\"/>\n     <use xlink:href=\"#m11aebc5473\" x=\"163.154466\" y=\"108.881999\" style=\"fill: #1f77b4; stroke: #1f77b4\"/>\n     <use xlink:href=\"#m11aebc5473\" x=\"113.010305\" y=\"135.395598\" style=\"fill: #1f77b4; stroke: #1f77b4\"/>\n     <use xlink:href=\"#m11aebc5473\" x=\"171.188025\" y=\"108.596338\" style=\"fill: #1f77b4; stroke: #1f77b4\"/>\n     <use xlink:href=\"#m11aebc5473\" x=\"165.034264\" y=\"108.612642\" style=\"fill: #1f77b4; stroke: #1f77b4\"/>\n     <use xlink:href=\"#m11aebc5473\" x=\"179.199751\" y=\"99.313275\" style=\"fill: #1f77b4; stroke: #1f77b4\"/>\n     <use xlink:href=\"#m11aebc5473\" x=\"184.138162\" y=\"106.616216\" style=\"fill: #1f77b4; stroke: #1f77b4\"/>\n     <use xlink:href=\"#m11aebc5473\" x=\"150.579778\" y=\"57.544733\" style=\"fill: #1f77b4; stroke: #1f77b4\"/>\n     <use xlink:href=\"#m11aebc5473\" x=\"134.018146\" y=\"97.752776\" style=\"fill: #1f77b4; stroke: #1f77b4\"/>\n     <use xlink:href=\"#m11aebc5473\" x=\"130.960951\" y=\"102.622298\" style=\"fill: #1f77b4; stroke: #1f77b4\"/>\n     <use xlink:href=\"#m11aebc5473\" x=\"140.529638\" y=\"88.21137\" style=\"fill: #1f77b4; stroke: #1f77b4\"/>\n     <use xlink:href=\"#m11aebc5473\" x=\"124.462272\" y=\"111.92017\" style=\"fill: #1f77b4; stroke: #1f77b4\"/>\n     <use xlink:href=\"#m11aebc5473\" x=\"100.447515\" y=\"144.260899\" style=\"fill: #1f77b4; stroke: #1f77b4\"/>\n     <use xlink:href=\"#m11aebc5473\" x=\"145.530667\" y=\"74.717946\" style=\"fill: #1f77b4; stroke: #1f77b4\"/>\n     <use xlink:href=\"#m11aebc5473\" x=\"156.399369\" y=\"85.156063\" style=\"fill: #1f77b4; stroke: #1f77b4\"/>\n     <use xlink:href=\"#m11aebc5473\" x=\"166.731607\" y=\"108.250133\" style=\"fill: #1f77b4; stroke: #1f77b4\"/>\n     <use xlink:href=\"#m11aebc5473\" x=\"139.265222\" y=\"83.870783\" style=\"fill: #1f77b4; stroke: #1f77b4\"/>\n     <use xlink:href=\"#m11aebc5473\" x=\"204.9549\" y=\"141.27892\" style=\"fill: #1f77b4; stroke: #1f77b4\"/>\n     <use xlink:href=\"#m11aebc5473\" x=\"110.813635\" y=\"131.021675\" style=\"fill: #1f77b4; stroke: #1f77b4\"/>\n     <use xlink:href=\"#m11aebc5473\" x=\"122.644866\" y=\"111.312907\" style=\"fill: #1f77b4; stroke: #1f77b4\"/>\n     <use xlink:href=\"#m11aebc5473\" x=\"159.830997\" y=\"95.750192\" style=\"fill: #1f77b4; stroke: #1f77b4\"/>\n     <use xlink:href=\"#m11aebc5473\" x=\"146.503983\" y=\"65.047099\" style=\"fill: #1f77b4; stroke: #1f77b4\"/>\n     <use xlink:href=\"#m11aebc5473\" x=\"140.487692\" y=\"78.560861\" style=\"fill: #1f77b4; stroke: #1f77b4\"/>\n     <use xlink:href=\"#m11aebc5473\" x=\"99.915064\" y=\"141.051243\" style=\"fill: #1f77b4; stroke: #1f77b4\"/>\n     <use xlink:href=\"#m11aebc5473\" x=\"132.95574\" y=\"91.975312\" style=\"fill: #1f77b4; stroke: #1f77b4\"/>\n     <use xlink:href=\"#m11aebc5473\" x=\"152.457641\" y=\"55.351069\" style=\"fill: #1f77b4; stroke: #1f77b4\"/>\n     <use xlink:href=\"#m11aebc5473\" x=\"154.915507\" y=\"66.637482\" style=\"fill: #1f77b4; stroke: #1f77b4\"/>\n     <use xlink:href=\"#m11aebc5473\" x=\"116.371435\" y=\"125.184574\" style=\"fill: #1f77b4; stroke: #1f77b4\"/>\n     <use xlink:href=\"#m11aebc5473\" x=\"136.29032\" y=\"80.79687\" style=\"fill: #1f77b4; stroke: #1f77b4\"/>\n     <use xlink:href=\"#m11aebc5473\" x=\"92.780748\" y=\"148.739447\" style=\"fill: #1f77b4; stroke: #1f77b4\"/>\n     <use xlink:href=\"#m11aebc5473\" x=\"105.818785\" y=\"133.526768\" style=\"fill: #1f77b4; stroke: #1f77b4\"/>\n     <use xlink:href=\"#m11aebc5473\" x=\"184.637017\" y=\"104.419206\" style=\"fill: #1f77b4; stroke: #1f77b4\"/>\n     <use xlink:href=\"#m11aebc5473\" x=\"122.707393\" y=\"106.518799\" style=\"fill: #1f77b4; stroke: #1f77b4\"/>\n     <use xlink:href=\"#m11aebc5473\" x=\"184.102752\" y=\"98.260654\" style=\"fill: #1f77b4; stroke: #1f77b4\"/>\n     <use xlink:href=\"#m11aebc5473\" x=\"109.830653\" y=\"124.722332\" style=\"fill: #1f77b4; stroke: #1f77b4\"/>\n     <use xlink:href=\"#m11aebc5473\" x=\"141.741662\" y=\"73.065883\" style=\"fill: #1f77b4; stroke: #1f77b4\"/>\n     <use xlink:href=\"#m11aebc5473\" x=\"148.172756\" y=\"50.557541\" style=\"fill: #1f77b4; stroke: #1f77b4\"/>\n     <use xlink:href=\"#m11aebc5473\" x=\"218.315998\" y=\"146.501023\" style=\"fill: #1f77b4; stroke: #1f77b4\"/>\n     <use xlink:href=\"#m11aebc5473\" x=\"138.846452\" y=\"70.085344\" style=\"fill: #1f77b4; stroke: #1f77b4\"/>\n     <use xlink:href=\"#m11aebc5473\" x=\"180.077565\" y=\"91.047728\" style=\"fill: #1f77b4; stroke: #1f77b4\"/>\n     <use xlink:href=\"#m11aebc5473\" x=\"88.473978\" y=\"147.476067\" style=\"fill: #1f77b4; stroke: #1f77b4\"/>\n     <use xlink:href=\"#m11aebc5473\" x=\"142.245078\" y=\"66.101228\" style=\"fill: #1f77b4; stroke: #1f77b4\"/>\n     <use xlink:href=\"#m11aebc5473\" x=\"71.77586\" y=\"152.678954\" style=\"fill: #1f77b4; stroke: #1f77b4\"/>\n     <use xlink:href=\"#m11aebc5473\" x=\"136.410053\" y=\"71.782826\" style=\"fill: #1f77b4; stroke: #1f77b4\"/>\n     <use xlink:href=\"#m11aebc5473\" x=\"177.091975\" y=\"90.394127\" style=\"fill: #1f77b4; stroke: #1f77b4\"/>\n     <use xlink:href=\"#m11aebc5473\" x=\"116.039027\" y=\"120.821665\" style=\"fill: #1f77b4; stroke: #1f77b4\"/>\n     <use xlink:href=\"#m11aebc5473\" x=\"145.592988\" y=\"56.814601\" style=\"fill: #1f77b4; stroke: #1f77b4\"/>\n     <use xlink:href=\"#m11aebc5473\" x=\"190.992451\" y=\"125.278489\" style=\"fill: #1f77b4; stroke: #1f77b4\"/>\n     <use xlink:href=\"#m11aebc5473\" x=\"129.919284\" y=\"96.859936\" style=\"fill: #1f77b4; stroke: #1f77b4\"/>\n     <use xlink:href=\"#m11aebc5473\" x=\"132.22652\" y=\"83.004546\" style=\"fill: #1f77b4; stroke: #1f77b4\"/>\n     <use xlink:href=\"#m11aebc5473\" x=\"165.545893\" y=\"100.995394\" style=\"fill: #1f77b4; stroke: #1f77b4\"/>\n     <use xlink:href=\"#m11aebc5473\" x=\"145.18124\" y=\"54.189146\" style=\"fill: #1f77b4; stroke: #1f77b4\"/>\n     <use xlink:href=\"#m11aebc5473\" x=\"140.777668\" y=\"57.137475\" style=\"fill: #1f77b4; stroke: #1f77b4\"/>\n     <use xlink:href=\"#m11aebc5473\" x=\"159.621208\" y=\"88.974844\" style=\"fill: #1f77b4; stroke: #1f77b4\"/>\n     <use xlink:href=\"#m11aebc5473\" x=\"146.558028\" y=\"44.304037\" style=\"fill: #1f77b4; stroke: #1f77b4\"/>\n     <use xlink:href=\"#m11aebc5473\" x=\"207.494379\" y=\"141.111244\" style=\"fill: #1f77b4; stroke: #1f77b4\"/>\n     <use xlink:href=\"#m11aebc5473\" x=\"124.715557\" y=\"99.294943\" style=\"fill: #1f77b4; stroke: #1f77b4\"/>\n     <use xlink:href=\"#m11aebc5473\" x=\"155.208993\" y=\"62.705049\" style=\"fill: #1f77b4; stroke: #1f77b4\"/>\n     <use xlink:href=\"#m11aebc5473\" x=\"120.942515\" y=\"103.70639\" style=\"fill: #1f77b4; stroke: #1f77b4\"/>\n     <use xlink:href=\"#m11aebc5473\" x=\"174.480206\" y=\"89.618285\" style=\"fill: #1f77b4; stroke: #1f77b4\"/>\n     <use xlink:href=\"#m11aebc5473\" x=\"204.899728\" y=\"134.14904\" style=\"fill: #1f77b4; stroke: #1f77b4\"/>\n     <use xlink:href=\"#m11aebc5473\" x=\"127.942067\" y=\"93.994803\" style=\"fill: #1f77b4; stroke: #1f77b4\"/>\n     <use xlink:href=\"#m11aebc5473\" x=\"151.728036\" y=\"39.485567\" style=\"fill: #1f77b4; stroke: #1f77b4\"/>\n     <use xlink:href=\"#m11aebc5473\" x=\"145.511643\" y=\"43.130937\" style=\"fill: #1f77b4; stroke: #1f77b4\"/>\n     <use xlink:href=\"#m11aebc5473\" x=\"152.247076\" y=\"36.967331\" style=\"fill: #1f77b4; stroke: #1f77b4\"/>\n     <use xlink:href=\"#m11aebc5473\" x=\"143.270028\" y=\"46.498917\" style=\"fill: #1f77b4; stroke: #1f77b4\"/>\n     <use xlink:href=\"#m11aebc5473\" x=\"190.640583\" y=\"119.960491\" style=\"fill: #1f77b4; stroke: #1f77b4\"/>\n     <use xlink:href=\"#m11aebc5473\" x=\"152.737913\" y=\"35.280422\" style=\"fill: #1f77b4; stroke: #1f77b4\"/>\n     <use xlink:href=\"#m11aebc5473\" x=\"154.182904\" y=\"41.481213\" style=\"fill: #1f77b4; stroke: #1f77b4\"/>\n     <use xlink:href=\"#m11aebc5473\" x=\"159.939565\" y=\"83.069266\" style=\"fill: #1f77b4; stroke: #1f77b4\"/>\n     <use xlink:href=\"#m11aebc5473\" x=\"162.850129\" y=\"87.641023\" style=\"fill: #1f77b4; stroke: #1f77b4\"/>\n     <use xlink:href=\"#m11aebc5473\" x=\"180.552501\" y=\"83.643099\" style=\"fill: #1f77b4; stroke: #1f77b4\"/>\n     <use xlink:href=\"#m11aebc5473\" x=\"125.716425\" y=\"90.622206\" style=\"fill: #1f77b4; stroke: #1f77b4\"/>\n     <use xlink:href=\"#m11aebc5473\" x=\"133.3038\" y=\"73.307518\" style=\"fill: #1f77b4; stroke: #1f77b4\"/>\n     <use xlink:href=\"#m11aebc5473\" x=\"128.516437\" y=\"84.973607\" style=\"fill: #1f77b4; stroke: #1f77b4\"/>\n     <use xlink:href=\"#m11aebc5473\" x=\"163.160055\" y=\"84.336604\" style=\"fill: #1f77b4; stroke: #1f77b4\"/>\n     <use xlink:href=\"#m11aebc5473\" x=\"144.261168\" y=\"39.412544\" style=\"fill: #1f77b4; stroke: #1f77b4\"/>\n     <use xlink:href=\"#m11aebc5473\" x=\"123.994207\" y=\"86.459012\" style=\"fill: #1f77b4; stroke: #1f77b4\"/>\n     <use xlink:href=\"#m11aebc5473\" x=\"178.53622\" y=\"80.147596\" style=\"fill: #1f77b4; stroke: #1f77b4\"/>\n     <use xlink:href=\"#m11aebc5473\" x=\"126.865785\" y=\"80.021436\" style=\"fill: #1f77b4; stroke: #1f77b4\"/>\n     <use xlink:href=\"#m11aebc5473\" x=\"153.074362\" y=\"28.821399\" style=\"fill: #1f77b4; stroke: #1f77b4\"/>\n     <use xlink:href=\"#m11aebc5473\" x=\"163.952406\" y=\"82.697067\" style=\"fill: #1f77b4; stroke: #1f77b4\"/>\n     <use xlink:href=\"#m11aebc5473\" x=\"192.747837\" y=\"123.610932\" style=\"fill: #1f77b4; stroke: #1f77b4\"/>\n     <use xlink:href=\"#m11aebc5473\" x=\"176.42478\" y=\"78.422272\" style=\"fill: #1f77b4; stroke: #1f77b4\"/>\n     <use xlink:href=\"#m11aebc5473\" x=\"108.725529\" y=\"120.940678\" style=\"fill: #1f77b4; stroke: #1f77b4\"/>\n     <use xlink:href=\"#m11aebc5473\" x=\"154.286699\" y=\"33.438751\" style=\"fill: #1f77b4; stroke: #1f77b4\"/>\n     <use xlink:href=\"#m11aebc5473\" x=\"105.495787\" y=\"126.012573\" style=\"fill: #1f77b4; stroke: #1f77b4\"/>\n     <use xlink:href=\"#m11aebc5473\" x=\"98.116549\" y=\"140.188301\" style=\"fill: #1f77b4; stroke: #1f77b4\"/>\n     <use xlink:href=\"#m11aebc5473\" x=\"151.133609\" y=\"16.441576\" style=\"fill: #1f77b4; stroke: #1f77b4\"/>\n     <use xlink:href=\"#m11aebc5473\" x=\"198.984586\" y=\"134.270855\" style=\"fill: #1f77b4; stroke: #1f77b4\"/>\n     <use xlink:href=\"#m11aebc5473\" x=\"138.783199\" y=\"52.419337\" style=\"fill: #1f77b4; stroke: #1f77b4\"/>\n     <use xlink:href=\"#m11aebc5473\" x=\"133.725609\" y=\"65.543597\" style=\"fill: #1f77b4; stroke: #1f77b4\"/>\n     <use xlink:href=\"#m11aebc5473\" x=\"163.866541\" y=\"78.220147\" style=\"fill: #1f77b4; stroke: #1f77b4\"/>\n     <use xlink:href=\"#m11aebc5473\" x=\"177.695057\" y=\"72.948722\" style=\"fill: #1f77b4; stroke: #1f77b4\"/>\n     <use xlink:href=\"#m11aebc5473\" x=\"178.939166\" y=\"68.993242\" style=\"fill: #1f77b4; stroke: #1f77b4\"/>\n     <use xlink:href=\"#m11aebc5473\" x=\"159.851789\" y=\"68.993659\" style=\"fill: #1f77b4; stroke: #1f77b4\"/>\n     <use xlink:href=\"#m11aebc5473\" x=\"147.896504\" y=\"21.079765\" style=\"fill: #1f77b4; stroke: #1f77b4\"/>\n     <use xlink:href=\"#m11aebc5473\" x=\"136.395681\" y=\"54.725455\" style=\"fill: #1f77b4; stroke: #1f77b4\"/>\n     <use xlink:href=\"#m11aebc5473\" x=\"165.245625\" y=\"79.618034\" style=\"fill: #1f77b4; stroke: #1f77b4\"/>\n     <use xlink:href=\"#m11aebc5473\" x=\"157.952759\" y=\"58.066331\" style=\"fill: #1f77b4; stroke: #1f77b4\"/>\n     <use xlink:href=\"#m11aebc5473\" x=\"145.383689\" y=\"27.291073\" style=\"fill: #1f77b4; stroke: #1f77b4\"/>\n     <use xlink:href=\"#m11aebc5473\" x=\"161.445435\" y=\"62.463061\" style=\"fill: #1f77b4; stroke: #1f77b4\"/>\n     <use xlink:href=\"#m11aebc5473\" x=\"113.79476\" y=\"118.590914\" style=\"fill: #1f77b4; stroke: #1f77b4\"/>\n     <use xlink:href=\"#m11aebc5473\" x=\"154.115384\" y=\"21.775367\" style=\"fill: #1f77b4; stroke: #1f77b4\"/>\n     <use xlink:href=\"#m11aebc5473\" x=\"187.773354\" y=\"105.144614\" style=\"fill: #1f77b4; stroke: #1f77b4\"/>\n     <use xlink:href=\"#m11aebc5473\" x=\"132.935498\" y=\"61.277756\" style=\"fill: #1f77b4; stroke: #1f77b4\"/>\n     <use xlink:href=\"#m11aebc5473\" x=\"142.248421\" y=\"35.058957\" style=\"fill: #1f77b4; stroke: #1f77b4\"/>\n     <use xlink:href=\"#m11aebc5473\" x=\"131.295092\" y=\"63.802276\" style=\"fill: #1f77b4; stroke: #1f77b4\"/>\n     <use xlink:href=\"#m11aebc5473\" x=\"156.36206\" y=\"38.160072\" style=\"fill: #1f77b4; stroke: #1f77b4\"/>\n     <use xlink:href=\"#m11aebc5473\" x=\"200.803877\" y=\"128.618387\" style=\"fill: #1f77b4; stroke: #1f77b4\"/>\n     <use xlink:href=\"#m11aebc5473\" x=\"123.488362\" y=\"81.304321\" style=\"fill: #1f77b4; stroke: #1f77b4\"/>\n     <use xlink:href=\"#m11aebc5473\" x=\"159.819843\" y=\"53.94674\" style=\"fill: #1f77b4; stroke: #1f77b4\"/>\n     <use xlink:href=\"#m11aebc5473\" x=\"88.604162\" y=\"143.168158\" style=\"fill: #1f77b4; stroke: #1f77b4\"/>\n     <use xlink:href=\"#m11aebc5473\" x=\"174.335542\" y=\"76.668531\" style=\"fill: #1f77b4; stroke: #1f77b4\"/>\n     <use xlink:href=\"#m11aebc5473\" x=\"119.443809\" y=\"99.790498\" style=\"fill: #1f77b4; stroke: #1f77b4\"/>\n     <use xlink:href=\"#m11aebc5473\" x=\"123.501691\" y=\"75.374637\" style=\"fill: #1f77b4; stroke: #1f77b4\"/>\n     <use xlink:href=\"#m11aebc5473\" x=\"128.930143\" y=\"67.507915\" style=\"fill: #1f77b4; stroke: #1f77b4\"/>\n     <use xlink:href=\"#m11aebc5473\" x=\"135.769508\" y=\"47.415121\" style=\"fill: #1f77b4; stroke: #1f77b4\"/>\n     <use xlink:href=\"#m11aebc5473\" x=\"152.570131\" y=\"6.277219\" style=\"fill: #1f77b4; stroke: #1f77b4\"/>\n     <use xlink:href=\"#m11aebc5473\" x=\"152.420607\" y=\"1.76926\" style=\"fill: #1f77b4; stroke: #1f77b4\"/>\n     <use xlink:href=\"#m11aebc5473\" x=\"162.112481\" y=\"55.176591\" style=\"fill: #1f77b4; stroke: #1f77b4\"/>\n     <use xlink:href=\"#m11aebc5473\" x=\"159.313065\" y=\"44.98242\" style=\"fill: #1f77b4; stroke: #1f77b4\"/>\n     <use xlink:href=\"#m11aebc5473\" x=\"166.799353\" y=\"83.092616\" style=\"fill: #1f77b4; stroke: #1f77b4\"/>\n     <use xlink:href=\"#m11aebc5473\" x=\"152.416669\" y=\"-1\" style=\"fill: #1f77b4; stroke: #1f77b4\"/>\n     <use xlink:href=\"#m11aebc5473\" x=\"152.519298\" y=\"-1\" style=\"fill: #1f77b4; stroke: #1f77b4\"/>\n     <use xlink:href=\"#m11aebc5473\" x=\"155.075351\" y=\"10.772973\" style=\"fill: #1f77b4; stroke: #1f77b4\"/>\n     <use xlink:href=\"#m11aebc5473\" x=\"129.774559\" y=\"60.592735\" style=\"fill: #1f77b4; stroke: #1f77b4\"/>\n     <use xlink:href=\"#m11aebc5473\" x=\"73.695854\" y=\"148.958264\" style=\"fill: #1f77b4; stroke: #1f77b4\"/>\n     <use xlink:href=\"#m11aebc5473\" x=\"99.860976\" y=\"131.703189\" style=\"fill: #1f77b4; stroke: #1f77b4\"/>\n     <use xlink:href=\"#m11aebc5473\" x=\"130.621955\" y=\"53.497888\" style=\"fill: #1f77b4; stroke: #1f77b4\"/>\n     <use xlink:href=\"#m11aebc5473\" x=\"65.657017\" y=\"152.043614\" style=\"fill: #1f77b4; stroke: #1f77b4\"/>\n     <use xlink:href=\"#m11aebc5473\" x=\"156.467121\" y=\"20.397734\" style=\"fill: #1f77b4; stroke: #1f77b4\"/>\n     <use xlink:href=\"#m11aebc5473\" x=\"147.615052\" y=\"9.286783\" style=\"fill: #1f77b4; stroke: #1f77b4\"/>\n     <use xlink:href=\"#m11aebc5473\" x=\"109.103589\" y=\"112.957675\" style=\"fill: #1f77b4; stroke: #1f77b4\"/>\n     <use xlink:href=\"#m11aebc5473\" x=\"140.315209\" y=\"34.548796\" style=\"fill: #1f77b4; stroke: #1f77b4\"/>\n     <use xlink:href=\"#m11aebc5473\" x=\"111.490943\" y=\"110.508629\" style=\"fill: #1f77b4; stroke: #1f77b4\"/>\n     <use xlink:href=\"#m11aebc5473\" x=\"105.856509\" y=\"116.641023\" style=\"fill: #1f77b4; stroke: #1f77b4\"/>\n     <use xlink:href=\"#m11aebc5473\" x=\"164.76474\" y=\"61.561217\" style=\"fill: #1f77b4; stroke: #1f77b4\"/>\n     <use xlink:href=\"#m11aebc5473\" x=\"119.596029\" y=\"92.831655\" style=\"fill: #1f77b4; stroke: #1f77b4\"/>\n     <use xlink:href=\"#m11aebc5473\" x=\"204.564361\" y=\"127.021776\" style=\"fill: #1f77b4; stroke: #1f77b4\"/>\n     <use xlink:href=\"#m11aebc5473\" x=\"136.98899\" y=\"38.330949\" style=\"fill: #1f77b4; stroke: #1f77b4\"/>\n     <use xlink:href=\"#m11aebc5473\" x=\"164.229023\" y=\"53.464425\" style=\"fill: #1f77b4; stroke: #1f77b4\"/>\n     <use xlink:href=\"#m11aebc5473\" x=\"154.187094\" y=\"-1\" style=\"fill: #1f77b4; stroke: #1f77b4\"/>\n     <use xlink:href=\"#m11aebc5473\" x=\"148.215117\" y=\"-1\" style=\"fill: #1f77b4; stroke: #1f77b4\"/>\n     <use xlink:href=\"#m11aebc5473\" x=\"145.313234\" y=\"13.289873\" style=\"fill: #1f77b4; stroke: #1f77b4\"/>\n     <use xlink:href=\"#m11aebc5473\" x=\"133.90718\" y=\"39.459614\" style=\"fill: #1f77b4; stroke: #1f77b4\"/>\n     <use xlink:href=\"#m11aebc5473\" x=\"180.134033\" y=\"66.05891\" style=\"fill: #1f77b4; stroke: #1f77b4\"/>\n     <use xlink:href=\"#m11aebc5473\" x=\"161.085466\" y=\"37.741591\" style=\"fill: #1f77b4; stroke: #1f77b4\"/>\n     <use xlink:href=\"#m11aebc5473\" x=\"155.240653\" y=\"-1\" style=\"fill: #1f77b4; stroke: #1f77b4\"/>\n     <use xlink:href=\"#m11aebc5473\" x=\"155.682904\" y=\"-1\" style=\"fill: #1f77b4; stroke: #1f77b4\"/>\n     <use xlink:href=\"#m11aebc5473\" x=\"164.638043\" y=\"50.207517\" style=\"fill: #1f77b4; stroke: #1f77b4\"/>\n     <use xlink:href=\"#m11aebc5473\" x=\"179.012784\" y=\"59.669959\" style=\"fill: #1f77b4; stroke: #1f77b4\"/>\n    </g>\n   </g>\n   <g id=\"matplotlib.axis_1\">\n    <g id=\"xtick_1\">\n     <g id=\"line2d_1\">\n      <path d=\"M 89.978536 158.218125 \nL 89.978536 22.318125 \n\" clip-path=\"url(#pd0645b47a5)\" style=\"fill: none; stroke: #b0b0b0; stroke-width: 0.8; stroke-linecap: square\"/>\n     </g>\n     <g id=\"line2d_2\">\n      <defs>\n       <path id=\"m3cb8942259\" d=\"M 0 0 \nL 0 3.5 \n\" style=\"stroke: #000000; stroke-width: 0.8\"/>\n      </defs>\n      <g>\n       <use xlink:href=\"#m3cb8942259\" x=\"89.978536\" y=\"158.218125\" style=\"stroke: #000000; stroke-width: 0.8\"/>\n      </g>\n     </g>\n     <g id=\"text_1\">\n      <!-- −2 -->\n      <g transform=\"translate(82.607443 172.816562)scale(0.1 -0.1)\">\n       <defs>\n        <path id=\"DejaVuSans-2212\" d=\"M 678 2272 \nL 4684 2272 \nL 4684 1741 \nL 678 1741 \nL 678 2272 \nz\n\" transform=\"scale(0.015625)\"/>\n        <path id=\"DejaVuSans-32\" d=\"M 1228 531 \nL 3431 531 \nL 3431 0 \nL 469 0 \nL 469 531 \nQ 828 903 1448 1529 \nQ 2069 2156 2228 2338 \nQ 2531 2678 2651 2914 \nQ 2772 3150 2772 3378 \nQ 2772 3750 2511 3984 \nQ 2250 4219 1831 4219 \nQ 1534 4219 1204 4116 \nQ 875 4013 500 3803 \nL 500 4441 \nQ 881 4594 1212 4672 \nQ 1544 4750 1819 4750 \nQ 2544 4750 2975 4387 \nQ 3406 4025 3406 3419 \nQ 3406 3131 3298 2873 \nQ 3191 2616 2906 2266 \nQ 2828 2175 2409 1742 \nQ 1991 1309 1228 531 \nz\n\" transform=\"scale(0.015625)\"/>\n       </defs>\n       <use xlink:href=\"#DejaVuSans-2212\"/>\n       <use xlink:href=\"#DejaVuSans-32\" x=\"83.789062\"/>\n      </g>\n     </g>\n    </g>\n    <g id=\"xtick_2\">\n     <g id=\"line2d_3\">\n      <path d=\"M 151.412953 158.218125 \nL 151.412953 22.318125 \n\" clip-path=\"url(#pd0645b47a5)\" style=\"fill: none; stroke: #b0b0b0; stroke-width: 0.8; stroke-linecap: square\"/>\n     </g>\n     <g id=\"line2d_4\">\n      <g>\n       <use xlink:href=\"#m3cb8942259\" x=\"151.412953\" y=\"158.218125\" style=\"stroke: #000000; stroke-width: 0.8\"/>\n      </g>\n     </g>\n     <g id=\"text_2\">\n      <!-- 0 -->\n      <g transform=\"translate(148.231703 172.816562)scale(0.1 -0.1)\">\n       <defs>\n        <path id=\"DejaVuSans-30\" d=\"M 2034 4250 \nQ 1547 4250 1301 3770 \nQ 1056 3291 1056 2328 \nQ 1056 1369 1301 889 \nQ 1547 409 2034 409 \nQ 2525 409 2770 889 \nQ 3016 1369 3016 2328 \nQ 3016 3291 2770 3770 \nQ 2525 4250 2034 4250 \nz\nM 2034 4750 \nQ 2819 4750 3233 4129 \nQ 3647 3509 3647 2328 \nQ 3647 1150 3233 529 \nQ 2819 -91 2034 -91 \nQ 1250 -91 836 529 \nQ 422 1150 422 2328 \nQ 422 3509 836 4129 \nQ 1250 4750 2034 4750 \nz\n\" transform=\"scale(0.015625)\"/>\n       </defs>\n       <use xlink:href=\"#DejaVuSans-30\"/>\n      </g>\n     </g>\n    </g>\n    <g id=\"xtick_3\">\n     <g id=\"line2d_5\">\n      <path d=\"M 212.847369 158.218125 \nL 212.847369 22.318125 \n\" clip-path=\"url(#pd0645b47a5)\" style=\"fill: none; stroke: #b0b0b0; stroke-width: 0.8; stroke-linecap: square\"/>\n     </g>\n     <g id=\"line2d_6\">\n      <g>\n       <use xlink:href=\"#m3cb8942259\" x=\"212.847369\" y=\"158.218125\" style=\"stroke: #000000; stroke-width: 0.8\"/>\n      </g>\n     </g>\n     <g id=\"text_3\">\n      <!-- 2 -->\n      <g transform=\"translate(209.666119 172.816562)scale(0.1 -0.1)\">\n       <use xlink:href=\"#DejaVuSans-32\"/>\n      </g>\n     </g>\n    </g>\n    <g id=\"text_4\">\n     <!-- x -->\n     <g transform=\"translate(138.471875 186.494687)scale(0.1 -0.1)\">\n      <defs>\n       <path id=\"DejaVuSans-78\" d=\"M 3513 3500 \nL 2247 1797 \nL 3578 0 \nL 2900 0 \nL 1881 1375 \nL 863 0 \nL 184 0 \nL 1544 1831 \nL 300 3500 \nL 978 3500 \nL 1906 2253 \nL 2834 3500 \nL 3513 3500 \nz\n\" transform=\"scale(0.015625)\"/>\n      </defs>\n      <use xlink:href=\"#DejaVuSans-78\"/>\n     </g>\n    </g>\n   </g>\n   <g id=\"matplotlib.axis_2\">\n    <g id=\"ytick_1\">\n     <g id=\"line2d_7\">\n      <path d=\"M 43.78125 152.748625 \nL 239.08125 152.748625 \n\" clip-path=\"url(#pd0645b47a5)\" style=\"fill: none; stroke: #b0b0b0; stroke-width: 0.8; stroke-linecap: square\"/>\n     </g>\n     <g id=\"line2d_8\">\n      <defs>\n       <path id=\"mfe3dbaa1b9\" d=\"M 0 0 \nL -3.5 0 \n\" style=\"stroke: #000000; stroke-width: 0.8\"/>\n      </defs>\n      <g>\n       <use xlink:href=\"#mfe3dbaa1b9\" x=\"43.78125\" y=\"152.748625\" style=\"stroke: #000000; stroke-width: 0.8\"/>\n      </g>\n     </g>\n     <g id=\"text_5\">\n      <!-- 0.0 -->\n      <g transform=\"translate(20.878125 156.547844)scale(0.1 -0.1)\">\n       <defs>\n        <path id=\"DejaVuSans-2e\" d=\"M 684 794 \nL 1344 794 \nL 1344 0 \nL 684 0 \nL 684 794 \nz\n\" transform=\"scale(0.015625)\"/>\n       </defs>\n       <use xlink:href=\"#DejaVuSans-30\"/>\n       <use xlink:href=\"#DejaVuSans-2e\" x=\"63.623047\"/>\n       <use xlink:href=\"#DejaVuSans-30\" x=\"95.410156\"/>\n      </g>\n     </g>\n    </g>\n    <g id=\"ytick_2\">\n     <g id=\"line2d_9\">\n      <path d=\"M 43.78125 121.602577 \nL 239.08125 121.602577 \n\" clip-path=\"url(#pd0645b47a5)\" style=\"fill: none; stroke: #b0b0b0; stroke-width: 0.8; stroke-linecap: square\"/>\n     </g>\n     <g id=\"line2d_10\">\n      <g>\n       <use xlink:href=\"#mfe3dbaa1b9\" x=\"43.78125\" y=\"121.602577\" style=\"stroke: #000000; stroke-width: 0.8\"/>\n      </g>\n     </g>\n     <g id=\"text_6\">\n      <!-- 0.1 -->\n      <g transform=\"translate(20.878125 125.401795)scale(0.1 -0.1)\">\n       <defs>\n        <path id=\"DejaVuSans-31\" d=\"M 794 531 \nL 1825 531 \nL 1825 4091 \nL 703 3866 \nL 703 4441 \nL 1819 4666 \nL 2450 4666 \nL 2450 531 \nL 3481 531 \nL 3481 0 \nL 794 0 \nL 794 531 \nz\n\" transform=\"scale(0.015625)\"/>\n       </defs>\n       <use xlink:href=\"#DejaVuSans-30\"/>\n       <use xlink:href=\"#DejaVuSans-2e\" x=\"63.623047\"/>\n       <use xlink:href=\"#DejaVuSans-31\" x=\"95.410156\"/>\n      </g>\n     </g>\n    </g>\n    <g id=\"ytick_3\">\n     <g id=\"line2d_11\">\n      <path d=\"M 43.78125 90.456528 \nL 239.08125 90.456528 \n\" clip-path=\"url(#pd0645b47a5)\" style=\"fill: none; stroke: #b0b0b0; stroke-width: 0.8; stroke-linecap: square\"/>\n     </g>\n     <g id=\"line2d_12\">\n      <g>\n       <use xlink:href=\"#mfe3dbaa1b9\" x=\"43.78125\" y=\"90.456528\" style=\"stroke: #000000; stroke-width: 0.8\"/>\n      </g>\n     </g>\n     <g id=\"text_7\">\n      <!-- 0.2 -->\n      <g transform=\"translate(20.878125 94.255747)scale(0.1 -0.1)\">\n       <use xlink:href=\"#DejaVuSans-30\"/>\n       <use xlink:href=\"#DejaVuSans-2e\" x=\"63.623047\"/>\n       <use xlink:href=\"#DejaVuSans-32\" x=\"95.410156\"/>\n      </g>\n     </g>\n    </g>\n    <g id=\"ytick_4\">\n     <g id=\"line2d_13\">\n      <path d=\"M 43.78125 59.31048 \nL 239.08125 59.31048 \n\" clip-path=\"url(#pd0645b47a5)\" style=\"fill: none; stroke: #b0b0b0; stroke-width: 0.8; stroke-linecap: square\"/>\n     </g>\n     <g id=\"line2d_14\">\n      <g>\n       <use xlink:href=\"#mfe3dbaa1b9\" x=\"43.78125\" y=\"59.31048\" style=\"stroke: #000000; stroke-width: 0.8\"/>\n      </g>\n     </g>\n     <g id=\"text_8\">\n      <!-- 0.3 -->\n      <g transform=\"translate(20.878125 63.109699)scale(0.1 -0.1)\">\n       <defs>\n        <path id=\"DejaVuSans-33\" d=\"M 2597 2516 \nQ 3050 2419 3304 2112 \nQ 3559 1806 3559 1356 \nQ 3559 666 3084 287 \nQ 2609 -91 1734 -91 \nQ 1441 -91 1130 -33 \nQ 819 25 488 141 \nL 488 750 \nQ 750 597 1062 519 \nQ 1375 441 1716 441 \nQ 2309 441 2620 675 \nQ 2931 909 2931 1356 \nQ 2931 1769 2642 2001 \nQ 2353 2234 1838 2234 \nL 1294 2234 \nL 1294 2753 \nL 1863 2753 \nQ 2328 2753 2575 2939 \nQ 2822 3125 2822 3475 \nQ 2822 3834 2567 4026 \nQ 2313 4219 1838 4219 \nQ 1578 4219 1281 4162 \nQ 984 4106 628 3988 \nL 628 4550 \nQ 988 4650 1302 4700 \nQ 1616 4750 1894 4750 \nQ 2613 4750 3031 4423 \nQ 3450 4097 3450 3541 \nQ 3450 3153 3228 2886 \nQ 3006 2619 2597 2516 \nz\n\" transform=\"scale(0.015625)\"/>\n       </defs>\n       <use xlink:href=\"#DejaVuSans-30\"/>\n       <use xlink:href=\"#DejaVuSans-2e\" x=\"63.623047\"/>\n       <use xlink:href=\"#DejaVuSans-33\" x=\"95.410156\"/>\n      </g>\n     </g>\n    </g>\n    <g id=\"ytick_5\">\n     <g id=\"line2d_15\">\n      <path d=\"M 43.78125 28.164432 \nL 239.08125 28.164432 \n\" clip-path=\"url(#pd0645b47a5)\" style=\"fill: none; stroke: #b0b0b0; stroke-width: 0.8; stroke-linecap: square\"/>\n     </g>\n     <g id=\"line2d_16\">\n      <g>\n       <use xlink:href=\"#mfe3dbaa1b9\" x=\"43.78125\" y=\"28.164432\" style=\"stroke: #000000; stroke-width: 0.8\"/>\n      </g>\n     </g>\n     <g id=\"text_9\">\n      <!-- 0.4 -->\n      <g transform=\"translate(20.878125 31.963651)scale(0.1 -0.1)\">\n       <defs>\n        <path id=\"DejaVuSans-34\" d=\"M 2419 4116 \nL 825 1625 \nL 2419 1625 \nL 2419 4116 \nz\nM 2253 4666 \nL 3047 4666 \nL 3047 1625 \nL 3713 1625 \nL 3713 1100 \nL 3047 1100 \nL 3047 0 \nL 2419 0 \nL 2419 1100 \nL 313 1100 \nL 313 1709 \nL 2253 4666 \nz\n\" transform=\"scale(0.015625)\"/>\n       </defs>\n       <use xlink:href=\"#DejaVuSans-30\"/>\n       <use xlink:href=\"#DejaVuSans-2e\" x=\"63.623047\"/>\n       <use xlink:href=\"#DejaVuSans-34\" x=\"95.410156\"/>\n      </g>\n     </g>\n    </g>\n    <g id=\"text_10\">\n     <!-- density -->\n     <g transform=\"translate(14.798438 108.600937)rotate(-90)scale(0.1 -0.1)\">\n      <defs>\n       <path id=\"DejaVuSans-64\" d=\"M 2906 2969 \nL 2906 4863 \nL 3481 4863 \nL 3481 0 \nL 2906 0 \nL 2906 525 \nQ 2725 213 2448 61 \nQ 2172 -91 1784 -91 \nQ 1150 -91 751 415 \nQ 353 922 353 1747 \nQ 353 2572 751 3078 \nQ 1150 3584 1784 3584 \nQ 2172 3584 2448 3432 \nQ 2725 3281 2906 2969 \nz\nM 947 1747 \nQ 947 1113 1208 752 \nQ 1469 391 1925 391 \nQ 2381 391 2643 752 \nQ 2906 1113 2906 1747 \nQ 2906 2381 2643 2742 \nQ 2381 3103 1925 3103 \nQ 1469 3103 1208 2742 \nQ 947 2381 947 1747 \nz\n\" transform=\"scale(0.015625)\"/>\n       <path id=\"DejaVuSans-65\" d=\"M 3597 1894 \nL 3597 1613 \nL 953 1613 \nQ 991 1019 1311 708 \nQ 1631 397 2203 397 \nQ 2534 397 2845 478 \nQ 3156 559 3463 722 \nL 3463 178 \nQ 3153 47 2828 -22 \nQ 2503 -91 2169 -91 \nQ 1331 -91 842 396 \nQ 353 884 353 1716 \nQ 353 2575 817 3079 \nQ 1281 3584 2069 3584 \nQ 2775 3584 3186 3129 \nQ 3597 2675 3597 1894 \nz\nM 3022 2063 \nQ 3016 2534 2758 2815 \nQ 2500 3097 2075 3097 \nQ 1594 3097 1305 2825 \nQ 1016 2553 972 2059 \nL 3022 2063 \nz\n\" transform=\"scale(0.015625)\"/>\n       <path id=\"DejaVuSans-6e\" d=\"M 3513 2113 \nL 3513 0 \nL 2938 0 \nL 2938 2094 \nQ 2938 2591 2744 2837 \nQ 2550 3084 2163 3084 \nQ 1697 3084 1428 2787 \nQ 1159 2491 1159 1978 \nL 1159 0 \nL 581 0 \nL 581 3500 \nL 1159 3500 \nL 1159 2956 \nQ 1366 3272 1645 3428 \nQ 1925 3584 2291 3584 \nQ 2894 3584 3203 3211 \nQ 3513 2838 3513 2113 \nz\n\" transform=\"scale(0.015625)\"/>\n       <path id=\"DejaVuSans-73\" d=\"M 2834 3397 \nL 2834 2853 \nQ 2591 2978 2328 3040 \nQ 2066 3103 1784 3103 \nQ 1356 3103 1142 2972 \nQ 928 2841 928 2578 \nQ 928 2378 1081 2264 \nQ 1234 2150 1697 2047 \nL 1894 2003 \nQ 2506 1872 2764 1633 \nQ 3022 1394 3022 966 \nQ 3022 478 2636 193 \nQ 2250 -91 1575 -91 \nQ 1294 -91 989 -36 \nQ 684 19 347 128 \nL 347 722 \nQ 666 556 975 473 \nQ 1284 391 1588 391 \nQ 1994 391 2212 530 \nQ 2431 669 2431 922 \nQ 2431 1156 2273 1281 \nQ 2116 1406 1581 1522 \nL 1381 1569 \nQ 847 1681 609 1914 \nQ 372 2147 372 2553 \nQ 372 3047 722 3315 \nQ 1072 3584 1716 3584 \nQ 2034 3584 2315 3537 \nQ 2597 3491 2834 3397 \nz\n\" transform=\"scale(0.015625)\"/>\n       <path id=\"DejaVuSans-69\" d=\"M 603 3500 \nL 1178 3500 \nL 1178 0 \nL 603 0 \nL 603 3500 \nz\nM 603 4863 \nL 1178 4863 \nL 1178 4134 \nL 603 4134 \nL 603 4863 \nz\n\" transform=\"scale(0.015625)\"/>\n       <path id=\"DejaVuSans-74\" d=\"M 1172 4494 \nL 1172 3500 \nL 2356 3500 \nL 2356 3053 \nL 1172 3053 \nL 1172 1153 \nQ 1172 725 1289 603 \nQ 1406 481 1766 481 \nL 2356 481 \nL 2356 0 \nL 1766 0 \nQ 1100 0 847 248 \nQ 594 497 594 1153 \nL 594 3053 \nL 172 3053 \nL 172 3500 \nL 594 3500 \nL 594 4494 \nL 1172 4494 \nz\n\" transform=\"scale(0.015625)\"/>\n       <path id=\"DejaVuSans-79\" d=\"M 2059 -325 \nQ 1816 -950 1584 -1140 \nQ 1353 -1331 966 -1331 \nL 506 -1331 \nL 506 -850 \nL 844 -850 \nQ 1081 -850 1212 -737 \nQ 1344 -625 1503 -206 \nL 1606 56 \nL 191 3500 \nL 800 3500 \nL 1894 763 \nL 2988 3500 \nL 3597 3500 \nL 2059 -325 \nz\n\" transform=\"scale(0.015625)\"/>\n      </defs>\n      <use xlink:href=\"#DejaVuSans-64\"/>\n      <use xlink:href=\"#DejaVuSans-65\" x=\"63.476562\"/>\n      <use xlink:href=\"#DejaVuSans-6e\" x=\"125\"/>\n      <use xlink:href=\"#DejaVuSans-73\" x=\"188.378906\"/>\n      <use xlink:href=\"#DejaVuSans-69\" x=\"240.478516\"/>\n      <use xlink:href=\"#DejaVuSans-74\" x=\"268.261719\"/>\n      <use xlink:href=\"#DejaVuSans-79\" x=\"307.470703\"/>\n     </g>\n    </g>\n   </g>\n   <g id=\"line2d_17\">\n    <path d=\"M 52.658523 152.040852 \nL 57.88045 151.543649 \nL 62.180855 150.921117 \nL 65.866924 150.177489 \nL 69.245814 149.27693 \nL 72.317539 148.234828 \nL 75.082085 147.080636 \nL 77.846631 145.688731 \nL 80.611185 144.025946 \nL 83.068559 142.293183 \nL 85.525933 140.296159 \nL 87.983308 138.012309 \nL 90.440689 135.420835 \nL 92.898064 132.503627 \nL 95.355442 129.246185 \nL 97.812816 125.638685 \nL 100.577366 121.156859 \nL 103.341915 116.231096 \nL 106.413637 110.257808 \nL 109.485355 103.799412 \nL 113.17142 95.501479 \nL 117.779 84.519533 \nL 128.530028 58.601823 \nL 131.908917 51.178422 \nL 134.673463 45.639724 \nL 137.130845 41.224318 \nL 139.281047 37.816777 \nL 141.124078 35.272328 \nL 142.967109 33.103049 \nL 144.502975 31.59836 \nL 146.038834 30.381058 \nL 147.574693 29.460129 \nL 149.110552 28.842424 \nL 150.339239 28.569758 \nL 151.567934 28.495453 \nL 152.796621 28.619873 \nL 154.025308 28.942412 \nL 155.253995 29.461531 \nL 156.789854 30.382998 \nL 158.325713 31.600829 \nL 159.861579 33.106028 \nL 161.70461 35.275893 \nL 163.547641 37.820889 \nL 165.697843 41.229024 \nL 167.848053 45.065042 \nL 170.305427 49.906652 \nL 173.069973 55.83796 \nL 176.448863 63.610718 \nL 181.670791 76.257332 \nL 189.042928 94.076441 \nL 193.036154 103.135254 \nL 196.415051 110.263452 \nL 199.486769 116.236269 \nL 202.251323 121.161597 \nL 205.015876 125.642973 \nL 207.780415 129.67619 \nL 210.237804 132.890082 \nL 212.695178 135.765319 \nL 215.152552 138.316923 \nL 217.609927 140.563405 \nL 220.067301 142.525827 \nL 222.524675 144.226916 \nL 225.289229 145.85765 \nL 228.053782 147.221277 \nL 230.203977 148.118398 \nL 230.203977 148.118398 \n\" clip-path=\"url(#pd0645b47a5)\" style=\"fill: none; stroke: #1f77b4; stroke-width: 1.5; stroke-linecap: square\"/>\n   </g>\n   <g id=\"line2d_18\">\n    <path d=\"M 151.412953 158.218125 \nL 151.412953 22.318125 \n\" clip-path=\"url(#pd0645b47a5)\" style=\"fill: none; stroke: #1f77b4; stroke-width: 1.5; stroke-linecap: square\"/>\n   </g>\n   <g id=\"line2d_19\">\n    <path d=\"M 149.911744 158.218125 \nL 149.911744 22.318125 \n\" clip-path=\"url(#pd0645b47a5)\" style=\"fill: none; stroke-dasharray: 5.55,2.4; stroke-dashoffset: 0; stroke: #800080; stroke-width: 1.5\"/>\n   </g>\n   <g id=\"patch_3\">\n    <path d=\"M 43.78125 158.218125 \nL 43.78125 22.318125 \n\" style=\"fill: none; stroke: #000000; stroke-width: 0.8; stroke-linejoin: miter; stroke-linecap: square\"/>\n   </g>\n   <g id=\"patch_4\">\n    <path d=\"M 239.08125 158.218125 \nL 239.08125 22.318125 \n\" style=\"fill: none; stroke: #000000; stroke-width: 0.8; stroke-linejoin: miter; stroke-linecap: square\"/>\n   </g>\n   <g id=\"patch_5\">\n    <path d=\"M 43.78125 158.218125 \nL 239.08125 158.218125 \n\" style=\"fill: none; stroke: #000000; stroke-width: 0.8; stroke-linejoin: miter; stroke-linecap: square\"/>\n   </g>\n   <g id=\"patch_6\">\n    <path d=\"M 43.78125 22.318125 \nL 239.08125 22.318125 \n\" style=\"fill: none; stroke: #000000; stroke-width: 0.8; stroke-linejoin: miter; stroke-linecap: square\"/>\n   </g>\n   <g id=\"text_11\">\n    <!-- sample mean: -0.05 -->\n    <g transform=\"translate(81.241875 16.318125)scale(0.12 -0.12)\">\n     <defs>\n      <path id=\"DejaVuSans-61\" d=\"M 2194 1759 \nQ 1497 1759 1228 1600 \nQ 959 1441 959 1056 \nQ 959 750 1161 570 \nQ 1363 391 1709 391 \nQ 2188 391 2477 730 \nQ 2766 1069 2766 1631 \nL 2766 1759 \nL 2194 1759 \nz\nM 3341 1997 \nL 3341 0 \nL 2766 0 \nL 2766 531 \nQ 2569 213 2275 61 \nQ 1981 -91 1556 -91 \nQ 1019 -91 701 211 \nQ 384 513 384 1019 \nQ 384 1609 779 1909 \nQ 1175 2209 1959 2209 \nL 2766 2209 \nL 2766 2266 \nQ 2766 2663 2505 2880 \nQ 2244 3097 1772 3097 \nQ 1472 3097 1187 3025 \nQ 903 2953 641 2809 \nL 641 3341 \nQ 956 3463 1253 3523 \nQ 1550 3584 1831 3584 \nQ 2591 3584 2966 3190 \nQ 3341 2797 3341 1997 \nz\n\" transform=\"scale(0.015625)\"/>\n      <path id=\"DejaVuSans-6d\" d=\"M 3328 2828 \nQ 3544 3216 3844 3400 \nQ 4144 3584 4550 3584 \nQ 5097 3584 5394 3201 \nQ 5691 2819 5691 2113 \nL 5691 0 \nL 5113 0 \nL 5113 2094 \nQ 5113 2597 4934 2840 \nQ 4756 3084 4391 3084 \nQ 3944 3084 3684 2787 \nQ 3425 2491 3425 1978 \nL 3425 0 \nL 2847 0 \nL 2847 2094 \nQ 2847 2600 2669 2842 \nQ 2491 3084 2119 3084 \nQ 1678 3084 1418 2786 \nQ 1159 2488 1159 1978 \nL 1159 0 \nL 581 0 \nL 581 3500 \nL 1159 3500 \nL 1159 2956 \nQ 1356 3278 1631 3431 \nQ 1906 3584 2284 3584 \nQ 2666 3584 2933 3390 \nQ 3200 3197 3328 2828 \nz\n\" transform=\"scale(0.015625)\"/>\n      <path id=\"DejaVuSans-70\" d=\"M 1159 525 \nL 1159 -1331 \nL 581 -1331 \nL 581 3500 \nL 1159 3500 \nL 1159 2969 \nQ 1341 3281 1617 3432 \nQ 1894 3584 2278 3584 \nQ 2916 3584 3314 3078 \nQ 3713 2572 3713 1747 \nQ 3713 922 3314 415 \nQ 2916 -91 2278 -91 \nQ 1894 -91 1617 61 \nQ 1341 213 1159 525 \nz\nM 3116 1747 \nQ 3116 2381 2855 2742 \nQ 2594 3103 2138 3103 \nQ 1681 3103 1420 2742 \nQ 1159 2381 1159 1747 \nQ 1159 1113 1420 752 \nQ 1681 391 2138 391 \nQ 2594 391 2855 752 \nQ 3116 1113 3116 1747 \nz\n\" transform=\"scale(0.015625)\"/>\n      <path id=\"DejaVuSans-6c\" d=\"M 603 4863 \nL 1178 4863 \nL 1178 0 \nL 603 0 \nL 603 4863 \nz\n\" transform=\"scale(0.015625)\"/>\n      <path id=\"DejaVuSans-20\" transform=\"scale(0.015625)\"/>\n      <path id=\"DejaVuSans-3a\" d=\"M 750 794 \nL 1409 794 \nL 1409 0 \nL 750 0 \nL 750 794 \nz\nM 750 3309 \nL 1409 3309 \nL 1409 2516 \nL 750 2516 \nL 750 3309 \nz\n\" transform=\"scale(0.015625)\"/>\n      <path id=\"DejaVuSans-2d\" d=\"M 313 2009 \nL 1997 2009 \nL 1997 1497 \nL 313 1497 \nL 313 2009 \nz\n\" transform=\"scale(0.015625)\"/>\n      <path id=\"DejaVuSans-35\" d=\"M 691 4666 \nL 3169 4666 \nL 3169 4134 \nL 1269 4134 \nL 1269 2991 \nQ 1406 3038 1543 3061 \nQ 1681 3084 1819 3084 \nQ 2600 3084 3056 2656 \nQ 3513 2228 3513 1497 \nQ 3513 744 3044 326 \nQ 2575 -91 1722 -91 \nQ 1428 -91 1123 -41 \nQ 819 9 494 109 \nL 494 744 \nQ 775 591 1075 516 \nQ 1375 441 1709 441 \nQ 2250 441 2565 725 \nQ 2881 1009 2881 1497 \nQ 2881 1984 2565 2268 \nQ 2250 2553 1709 2553 \nQ 1456 2553 1204 2497 \nQ 953 2441 691 2322 \nL 691 4666 \nz\n\" transform=\"scale(0.015625)\"/>\n     </defs>\n     <use xlink:href=\"#DejaVuSans-73\"/>\n     <use xlink:href=\"#DejaVuSans-61\" x=\"52.099609\"/>\n     <use xlink:href=\"#DejaVuSans-6d\" x=\"113.378906\"/>\n     <use xlink:href=\"#DejaVuSans-70\" x=\"210.791016\"/>\n     <use xlink:href=\"#DejaVuSans-6c\" x=\"274.267578\"/>\n     <use xlink:href=\"#DejaVuSans-65\" x=\"302.050781\"/>\n     <use xlink:href=\"#DejaVuSans-20\" x=\"363.574219\"/>\n     <use xlink:href=\"#DejaVuSans-6d\" x=\"395.361328\"/>\n     <use xlink:href=\"#DejaVuSans-65\" x=\"492.773438\"/>\n     <use xlink:href=\"#DejaVuSans-61\" x=\"554.296875\"/>\n     <use xlink:href=\"#DejaVuSans-6e\" x=\"615.576172\"/>\n     <use xlink:href=\"#DejaVuSans-3a\" x=\"678.955078\"/>\n     <use xlink:href=\"#DejaVuSans-20\" x=\"712.646484\"/>\n     <use xlink:href=\"#DejaVuSans-2d\" x=\"744.433594\"/>\n     <use xlink:href=\"#DejaVuSans-30\" x=\"780.517578\"/>\n     <use xlink:href=\"#DejaVuSans-2e\" x=\"844.140625\"/>\n     <use xlink:href=\"#DejaVuSans-30\" x=\"875.927734\"/>\n     <use xlink:href=\"#DejaVuSans-35\" x=\"939.550781\"/>\n    </g>\n   </g>\n  </g>\n </g>\n <defs>\n  <clipPath id=\"pd0645b47a5\">\n   <rect x=\"43.78125\" y=\"22.318125\" width=\"195.3\" height=\"135.9\"/>\n  </clipPath>\n </defs>\n</svg>\n"
          },
          "metadata": {
            "needs_background": "light"
          }
        }
      ]
    },
    {
      "cell_type": "markdown",
      "source": [
        "### Erro médio quadrático\n",
        "\n",
        "Talvez a figura de mérito mais simples usada para avaliar estimadores seja o *erro quadrático médio (MSE)* (ou perda $l_2$) de um estimador, que pode ser definido como \n",
        "\n",
        "$$\\mathrm{MSE} (\\hat{\\theta}_n, \\theta) = E[(\\hat{\\theta}_n - \\theta)^2].$$\n",
        "\n",
        "Ele nos permite quantificar o desvio quadrado médio do valor verdadeiro. MSE é sempre não negativo. Ele é comumente utilizado como métrica para avaliar um estimador, quanto mais próximo seu valor de zero, mais próximo o estimador está do parâmetro verdadeiro $\\theta$.\n"
      ],
      "metadata": {
        "id": "On8sPYOV5Qd3"
      }
    },
    {
      "cell_type": "code",
      "source": [
        "# Mean squared error\n",
        "def mse(data, true_theta):\n",
        "    return(np.mean(np.square(data - true_theta)))"
      ],
      "metadata": {
        "id": "M9dp3ZkNOEi7"
      },
      "execution_count": null,
      "outputs": []
    },
    {
      "cell_type": "markdown",
      "source": [
        "Voltando ao exemplo da gaussiana, vamos nos deter a um estimador de média."
      ],
      "metadata": {
        "id": "DFArte7qOExu"
      }
    },
    {
      "cell_type": "code",
      "source": [
        "theta_true = 1\n",
        "sigma = 4\n",
        "sample_len = 10000\n",
        "samples = np.random.normal(theta_true, sigma, sample_len)\n",
        "theta_est = np.mean(samples)\n",
        "theta_est # valor estimado"
      ],
      "metadata": {
        "colab": {
          "base_uri": "https://localhost:8080/"
        },
        "id": "Vx63-LIB57Fp",
        "outputId": "9aac3409-70fa-4f16-d44b-6e5fa75ba1de"
      },
      "execution_count": null,
      "outputs": [
        {
          "output_type": "execute_result",
          "data": {
            "text/plain": [
              "array(0.99571335)"
            ]
          },
          "metadata": {},
          "execution_count": 9
        }
      ]
    },
    {
      "cell_type": "markdown",
      "source": [
        "### Viés estatístico\n",
        "O MSE fornece uma figura de mérito natural, mas podemos facilmente imaginar vários fenômenos diferentes que podem torná-lo grande. Dois fundamentalmente importantes são a flutuação no estimador devido à aleatoriedade no conjunto de dados e o erro sistemático no estimador devido ao procedimento de estimação.\n",
        "\n",
        "Primeiro, vamos medir o erro sistemático. Para um estimador $\\hat{θ}_n$, a ilustração matemática do viés estatístico pode ser definida como\n",
        "\n",
        "$$\\mathrm{bias}(\\hat{\\theta}_n) = E(\\hat{\\theta}_n - \\theta) = E(\\hat{\\theta}_n) - \\theta.$$\n",
        "\n",
        "Observe que quando $\\mathrm{bias}(\\hat{\\theta}_n) = 0$, a expectativa do estimador $\\hat{\\theta}_n$ é igual ao valor verdadeiro do parâmetro. Neste caso, dizemos que $\\hat{\\theta}_n$ é um estimador não-enviesado. Em geral, um estimador não viesado é melhor do que um estimador tendencioso, pois sua expectativa é a mesma do parâmetro verdadeiro.\n",
        "\n",
        "Vale a pena estar ciente, no entanto, que estimadores tendenciosos são frequentemente usados ​​na prática. Há casos em que estimadores não-enviesados não existem sem suposições adicionais, ou são intratáveis ​​para calcular. Isso pode parecer uma falha significativa em um estimador, porém a maioria dos estimadores encontrados na prática são pelo menos assintoticamente imparciais no sentido de que o viés tende a zero à medida que o número de amostras disponíveis tende ao infinito: $\\lim_{n \\rightarrow \\infty} \\mathrm{bias}(\\hat{\\theta}_n) = 0$."
      ],
      "metadata": {
        "id": "lb0nMXp4MJvl"
      }
    },
    {
      "cell_type": "code",
      "source": [
        "# Viés estatístico\n",
        "def stat_bias(true_value, estimated_value):\n",
        "    return(np.mean(estimated_value) - true_value)"
      ],
      "metadata": {
        "id": "DaYV7py9N8Db"
      },
      "execution_count": null,
      "outputs": []
    },
    {
      "cell_type": "markdown",
      "source": [
        "Voltando ao exemplo da gaussiana, vamos obter o viés estatístico do estimador"
      ],
      "metadata": {
        "id": "JYvBKiaOOhF6"
      }
    },
    {
      "cell_type": "code",
      "source": [
        "bias = stat_bias(theta_true, theta_est)\n",
        "print(np.square(bias)) # valor do bias"
      ],
      "metadata": {
        "colab": {
          "base_uri": "https://localhost:8080/"
        },
        "id": "S0r6lxF9Op_F",
        "outputId": "b6113f7b-5b0c-4c1b-de98-2f234af5eb9d"
      },
      "execution_count": null,
      "outputs": [
        {
          "output_type": "stream",
          "name": "stdout",
          "text": [
            "1.8375342e-05\n"
          ]
        }
      ]
    },
    {
      "cell_type": "markdown",
      "source": [
        "### Trade-off Bias-Variância\n",
        "\n",
        "É intuitivamente claro que esses dois componentes principais contribuem para o erro quadrático médio. O que é um tanto chocante é que podemos mostrar que isso é na verdade uma *decomposição* do erro quadrático médio nessas duas contribuições mais uma terceira. Ou seja, podemos escrever o erro quadrático médio como a soma do quadrado do viés, da variância e do erro irredutível.\n",
        "\n",
        "$$\n",
        "\\begin{aligned}\n",
        "\\mathrm{MSE} (\\hat{\\theta}_n, \\theta) &= E[(\\hat{\\theta}_n - \\theta)^2] \\\\\n",
        " &= E[(\\hat{\\theta}_n)^2] + E[\\theta^2] - 2E[\\hat{\\theta}_n\\theta] \\\\\n",
        " &= \\mathrm{Var} [\\hat{\\theta}_n] + E[\\hat{\\theta}_n]^2 + \\mathrm{Var} [\\theta] + E[\\theta]^2 - 2E[\\hat{\\theta}_n]E[\\theta] \\\\\n",
        " &= (E[\\hat{\\theta}_n] - E[\\theta])^2 + \\mathrm{Var} [\\hat{\\theta}_n] + \\mathrm{Var} [\\theta] \\\\\n",
        " &= (E[\\hat{\\theta}_n - \\theta])^2 + \\mathrm{Var} [\\hat{\\theta}_n] + \\mathrm{Var} [\\theta] \\\\\n",
        " &= (\\mathrm{bias} [\\hat{\\theta}_n])^2 + \\mathrm{Var} (\\hat{\\theta}_n) + \\mathrm{Var} [\\theta].\\\\\n",
        "\\end{aligned}\n",
        "$$\n",
        "\n",
        "Referimo-nos à fórmula acima como *trade-off de variância e viés*. O erro quadrático médio pode ser dividido em três fontes de erro: o erro de viés, o erro de variância e o erro irredutível. O erro de viés é comumente visto em um modelo simples (como um modelo de regressão linear), que não pode extrair relações de alta dimensão entre as entradas e as saídas. Se um modelo sofre de um erro de viés alto, geralmente dizemos que é *underfitting* ou falta de *flexibilidade*. O erro de variância alto geralmente resulta de um modelo muito complexo, que superajusta os dados de treinamento. Como resultado, um modelo *overfitting* é sensível a pequenas flutuações nos dados. Se um modelo sofre de erro de variância alto, geralmente dizemos que é *overfitting* e falta de *generalização*. O erro irredutível é o resultado do ruído no próprio $\\theta$, ou seja do próprio modelo ou maneira de modelar.\n",
        "\n",
        "Como não temos \"acesso\" a informação do erro irredutivel, vamos desprezá-lo momentaneamente.\n",
        "\n",
        "$$\\mathrm{MSE} = (\\mathrm{bias} [\\hat{\\theta}_n])^2 + \\mathrm{Var} (\\hat{\\theta}_n)$$, ou seja:"
      ],
      "metadata": {
        "id": "2tw0SovDPSYk"
      }
    },
    {
      "cell_type": "code",
      "source": [
        "bias = stat_bias(theta_true, theta_est)\n",
        "print(np.square(samples.std()) + np.square(bias)) # valor de MSE estimado por viés estatístico"
      ],
      "metadata": {
        "colab": {
          "base_uri": "https://localhost:8080/"
        },
        "id": "r3yBhL6gQyX8",
        "outputId": "85880956-b29e-4368-e878-90d0e0438af5"
      },
      "execution_count": null,
      "outputs": [
        {
          "output_type": "stream",
          "name": "stdout",
          "text": [
            "15.794877\n"
          ]
        }
      ]
    },
    {
      "cell_type": "code",
      "source": [
        "print(mse(samples, theta_true)) # valor de real do MSE"
      ],
      "metadata": {
        "id": "pmjChQpDDGAs"
      },
      "execution_count": null,
      "outputs": []
    },
    {
      "cell_type": "markdown",
      "source": [
        "**O que isso significa?** Significa que algum dos erros não foram bem modelado e/ou que desprezamos um erro que não deveria ser desprezado, o erro da própria medida. Além disso, temos uma única estimativa para tomarar como referência, o que nos atrapalhar bastante\n",
        "\n",
        "O resultado deve ser desconsiderado? Não! Temos alguns achados aqui nesta análise:\n",
        "\n",
        "\n",
        "1.   devemos fazer mais modelos para analisar corretamente\n",
        "2.   melhorar o método de análise.\n",
        "\n"
      ],
      "metadata": {
        "id": "bl2ZryiyXJYd"
      }
    },
    {
      "cell_type": "markdown",
      "source": [
        "## Testes de Hipóteses\n",
        "\n",
        "O tópico mais comumente encontrado na inferência estatística é o teste de hipóteses. Enquanto o teste de hipóteses foi popularizado no início do século XX, o primeiro uso foi documentado por John Arbuthnot em 1700. John utilizou registros de nascimento de 80 anos em Londres e concluiu que mais homens nasciam do que mulheres a cada ano. Seguindo na história, o teste de significância é a herança de Karl Pearson, que inventou o valor $p$ e o teste qui-quadrado de Pearson, já William Gosset, pai da distribuição t de Student, e Ronald Fisher, que definiu a hipótese nula e a teste de significância.\n",
        "\n",
        "Um *teste de hipóteses* é uma forma de avaliar algumas evidências contra a afirmação padrão sobre uma população. Referimo-nos à declaração padrão como *hipótese nula* $H_0$, que tentamos rejeitar usando os dados observados. Aqui, usamos $H_0$ como ponto de partida para o teste de significância estatística. A *hipótese alternativa* $H_A$ (ou $H_1$) é uma afirmação contrária à hipótese nula. Uma hipótese nula é frequentemente declarada em uma forma que postula uma relação entre as variáveis. Deve refletir o resumo o mais explícito possível e ser testável pela teoria estatística.\n",
        "\n",
        "Vamos a um exemplo teórico: imagine que você é um químico. Depois de passar várias horas no laboratório, você desenvolve um novo medicamento que pode melhorar drasticamente a capacidade de entender matemática. Para mostrar seu poder mágico, você precisa testá-lo. Naturalmente, você pode precisar de alguns voluntários para tomar o remédio e ver se ele pode ajudá-los a aprender matemática melhor. Como você começa?\n",
        "\n",
        "Primeiro, você precisará de dois grupos de voluntários cuidadosamente selecionados aleatoriamente, para que não haja diferença entre sua capacidade de compreensão matemática medida por algumas figuras de mérito. Os dois grupos são comumente referidos como o grupo de teste e o grupo de controle. O *grupo de teste* (ou *grupo de tratamento*) é um grupo de indivíduos que experimentará o medicamento, enquanto o *grupo de controle* representa o grupo de usuários que são reservados como referência, ou seja, configurações de ambiente idênticas, exceto que remédio. Dessa forma, a influência de todas as variáveis ​​é minimizada, exceto o impacto da variável independente no tratamento.\n",
        "\n",
        "Em segundo lugar, após um período de uso do medicamento, você precisará medir a compreensão matemática dos dois grupos pelas mesmas figuras de mérito, como deixar os voluntários fazerem os mesmos testes depois de aprenderem uma nova fórmula matemática. Então, você pode coletar seu desempenho e comparar os resultados. Nesse caso, nossa hipótese nula será que não há diferença entre os dois grupos, e nossa alternativa será que há.\n",
        "\n",
        "Isso ainda não é totalmente formal. Há muitos detalhes que você tem que pensar com cuidado. Por exemplo, quais são as figuras de mérito adequadas para testar sua capacidade de compreensão matemática? Quantos voluntários para o seu teste para que você possa ter certeza de reivindicar a eficácia do seu medicamento? Por quanto tempo você deve executar o teste? Como você decide se há uma diferença entre os dois grupos? Você se preocupa apenas com o desempenho médio, ou também com a faixa de variação das pontuações? E assim por diante.\n",
        "\n",
        "Desta forma, o teste de hipóteses fornece uma estrutura para o projeto experimental e raciocínio sobre a certeza dos resultados observados. Se agora pudermos mostrar que a hipótese nula é muito improvável de ser verdadeira, podemos rejeitá-la com confiança.\n",
        "\n",
        "Para completar a história de como trabalhar com testes de hipóteses, precisamos agora introduzir alguma terminologia adicional e formalizar alguns de nossos conceitos acima.\n",
        "\n"
      ],
      "metadata": {
        "id": "KKYvgU8pDaIl"
      }
    },
    {
      "cell_type": "markdown",
      "source": [
        "### Significância estatística\n",
        "\n",
        "A *significância estatística* mede a probabilidade de rejeitar erroneamente a hipótese nula, $H_0$, quando não deveria ser rejeitada, ou seja,\n",
        "\n",
        "$$ \\text{significancia estatistica }= 1 - \\alpha = 1 - P(\\text{rejeitar } H_0 \\mid H_0 \\text{ verdadeiro} ).$$\n",
        "\n",
        "Também é chamado de *erro tipo I* ou *falso positivo*. O $\\alpha$, é chamado de *nível de significância* e seu valor comumente usado é $5\\%$, ou seja, $1-\\alpha = 95\\%$. O nível de significância pode ser explicado como o nível de risco que estamos dispostos a correr, quando rejeitamos uma hipótese nula verdadeira.\n",
        "\n",
        "A figura abaixo mostra os valores das observações e a probabilidade de uma dada distribuição normal em um teste de hipótese de duas amostras. Se o exemplo de dados de observação estiver localizado fora do limite de $95\\%$, será uma observação muito improvável sob a suposição de hipótese nula. Portanto, pode haver algo errado com a hipótese nula e vamos rejeitá-la.\n",
        "\n",
        "![Significação estatística.](https://raw.githubusercontent.com/natmourajr/data/main/statistical-significance.svg?raw=1)"
      ],
      "metadata": {
        "id": "EWTn_tAhPiqd"
      }
    },
    {
      "cell_type": "markdown",
      "source": [
        "### Poder do teste\n",
        "\n",
        "O *poder do teste* (ou *sensibilidade*) mede a probabilidade de rejeitar a hipótese nula, $H_0$, quando deveria ser rejeitada, ou seja,\n",
        "\n",
        "$$ \\text{poder do teste }= 1 - \\beta = 1 - P(\\text{ falha ao rejeitar } H_0 \\mid H_0 \\text{ falso} ).$$\n",
        "\n",
        "Lembre-se de que um *erro tipo I* é um erro causado pela rejeição da hipótese nula quando ela é verdadeira, enquanto um *erro tipo II* é resultado da não rejeição da hipótese nula quando ela é falsa. Um erro do tipo II é geralmente denotado como $\\beta$ e, portanto, o poder estatístico do teste correspondente é $1-\\beta$.\n",
        "\n",
        "\n",
        "Intuitivamente, o poder estatístico do teste pode ser interpretado como a probabilidade de nosso teste detectar uma discrepância real de alguma magnitude mínima em um nível de significância estatística desejado. $80\\%$ é um limite de poder estatístico comumente usado. Quanto maior o poder estatístico, maior a probabilidade de detectarmos diferenças verdadeiras.\n",
        "\n",
        "Um dos usos mais comuns do poder estatístico do teste é determinar o número de amostras necessárias. A probabilidade de você rejeitar a hipótese nula quando ela é falsa depende do grau em que ela é falsa (conhecida como *tamanho do efeito*) e do número de amostras que você tem. Como você pode esperar, tamanhos de efeito pequenos exigirão um número muito grande de amostras para serem detectáveis ​​com alta probabilidade. Embora esteja além do escopo deste breve tutorial derivar em detalhes, como exemplo, queremos ser capazes de rejeitar uma hipótese nula de que nossa amostra veio de uma média de variância zero uma Gaussiana, e acreditamos que a média de nossa amostra é realmente próxima de um, podemos fazê-lo com taxas de erro aceitáveis ​​com um tamanho de amostra de apenas $8$ eventos. No entanto, se pensarmos que a média verdadeira da nossa população amostral está próxima de $0,01$, precisaríamos de um tamanho de amostra de aproximadamente $80.000$ para detectar a diferença.\n",
        "\n",
        "Podemos imaginar o poder do teste como um filtro de água. Nesta analogia, um teste de hipótese de alta potência é como um sistema de filtragem de água de alta qualidade que reduzirá ao máximo as substâncias nocivas na água. Por outro lado, uma discrepância menor é como um filtro de água de baixa qualidade, onde algumas substâncias relativamente pequenas podem escapar facilmente das lacunas. Da mesma forma, se o poder estatístico não for suficientemente alto, o teste pode não detectar a discrepância menor."
      ],
      "metadata": {
        "id": "pJNGFyK8PzLU"
      }
    },
    {
      "cell_type": "markdown",
      "source": [
        "### Estatística de teste\n",
        "\n",
        "Uma *estatística de teste* $T(x)$ é um escalar que resume algumas características dos dados da amostra. O objetivo de definir tal estatística é que ela nos permita distinguir entre diferentes distribuições e conduzir nosso teste de hipótese. Voltando ao nosso exemplo químico, se quisermos mostrar que uma população tem um desempenho melhor que a outra, pode ser razoável tomar a média como estatística de teste. Diferentes escolhas de estatística de teste podem levar a testes estatísticos com poder estatístico drasticamente diferente.\n",
        "\n",
        "Freqüentemente, $T(X)$ (a distribuição da estatística de teste sob nossa hipótese nula) seguirá, pelo menos aproximadamente, uma distribuição de probabilidade comum, como uma distribuição normal, quando considerada sob a hipótese nula. Se pudermos derivar explicitamente tal distribuição e, em seguida, medir nossa estatística de teste em nosso conjunto de dados, podemos rejeitar com segurança a hipótese nula se nossa estatística estiver muito fora do intervalo que esperávamos. Fazer este quantitativo nos leva à noção de $p$-valores.\n",
        "\n"
      ],
      "metadata": {
        "id": "evuDFAy0P5dQ"
      }
    },
    {
      "cell_type": "markdown",
      "source": [
        "### Valor $p$ ou $p$-value\n",
        "\n",
        "O valor $p$ (ou *valor de probabilidade*) é a probabilidade de que $T(X)$ seja pelo menos tão extremo quanto a estatística de teste observada $T(x)$ assumindo que a hipótese nula é *verdadeira*, ou seja,\n",
        "\n",
        "$$ p\\text{-value} = P_{H_0}(T(X) \\geq T(x)).$$\n",
        "\n",
        "Se o valor de $p$ for menor ou igual a um nível de significância estatística pré-definido e fixo $\\alpha$, podemos rejeitar a hipótese nula. Caso contrário, concluiremos que nos faltam evidências para rejeitar a hipótese nula. Para uma dada distribuição populacional, a *região de rejeição* será o intervalo contido de todos os pontos que possui um valor $p$ menor que o nível de significância estatística $\\alpha$.\n",
        "\n"
      ],
      "metadata": {
        "id": "HUGX-BS5QGl3"
      }
    },
    {
      "cell_type": "markdown",
      "source": [
        "### Testes unilaterais e bilaterais \n",
        "\n",
        "Normalmente existem dois tipos de teste de significância: o teste unilateral e o teste bilateral. O *teste unilateral* (ou *teste unilateral*) é aplicável quando a hipótese nula e a hipótese alternativa têm apenas uma direção. Por exemplo, a hipótese nula pode afirmar que o parâmetro verdadeiro $\\theta$ é menor ou igual a um valor $c$. A hipótese alternativa seria que $\\theta$ é maior que $c$. Ou seja, a região de rejeição está em apenas um lado da distribuição amostral. Ao contrário do teste unilateral, o *teste bilateral* (ou *teste bicaudal*) é aplicável quando a região de rejeição está em ambos os lados da distribuição amostral. Um exemplo neste caso pode ter um estado de hipótese nula de que o parâmetro verdadeiro $\\theta$ é igual a um valor $c$. A hipótese alternativa seria que $\\theta$ não é igual a $c$.\n",
        "\n"
      ],
      "metadata": {
        "id": "WPJOVdniQLbB"
      }
    },
    {
      "cell_type": "markdown",
      "source": [
        "### Receita de bolo\n",
        "\n",
        "Depois de nos familiarizarmos com os conceitos acima, vamos passar pelas etapas gerais do teste de hipóteses.\n",
        "\n",
        "1. Enuncie o teste e estabeleça uma hipótese nula $H_0$.\n",
        "2. Defina o nível de significância estatística $\\alpha$ e um poder estatístico ($1 - \\beta$).\n",
        "3. Obtenha amostras através de experimentos. O número de amostras necessárias dependerá do poder estatístico e do tamanho do efeito esperado.\n",
        "4. Calcule a estatística de teste e o valor $p$.\n",
        "5. Tome a decisão de manter ou rejeitar a hipótese nula com base no valor de $p$ e no nível de significância estatística $\\alpha$.\n",
        "\n",
        "Para realizar um teste de hipótese, começamos definindo uma hipótese nula e um nível de risco que estamos dispostos a assumir. Em seguida, calculamos a estatística de teste da amostra, tomando um valor extremo da estatística de teste como evidência contra a hipótese nula. Se a estatística de teste estiver dentro da região de rejeição, podemos rejeitar a hipótese nula em favor da alternativa.\n",
        "\n",
        "O teste de hipóteses é aplicável em uma variedade de cenários, como trilhas clínicas e testes A/B.\n",
        "\n"
      ],
      "metadata": {
        "id": "BLARhNpSQSBP"
      }
    },
    {
      "cell_type": "markdown",
      "source": [
        "## Construindo intervalos de confiança\n",
        "\n",
        "Ao estimar o valor de um parâmetro $\\theta$, estimadores pontuais como $\\hat \\theta$ são de utilidade limitada, pois não contêm noção de incerteza. Em vez disso, seria muito melhor se pudéssemos produzir um intervalo que contivesse o parâmetro verdadeiro $\\theta$ com alta probabilidade.\n",
        "\n",
        "Para ser útil, um intervalo de confiança deve ser o menor possível para um determinado grau de certeza. Vejamos como derivá-lo."
      ],
      "metadata": {
        "id": "oa-rl1ILQYYs"
      }
    },
    {
      "cell_type": "markdown",
      "source": [
        "### Definição\n",
        "\n",
        "Matematicamente, um *intervalo de confiança* para o parâmetro verdadeiro $\\theta$ é um intervalo $C_n$ calculado a partir dos dados de amostra de tal forma que\n",
        "\n",
        "$$P_{\\theta} (C_n \\ni \\theta) \\geq 1 - \\alpha, \\forall \\theta.$$\n",
        "\n",
        "Aqui $\\alpha \\in (0, 1)$ e $1 - \\alpha$ é chamado de *nível de confiança* ou *cobertura* do intervalo. Este é o mesmo $\\alpha$ que o nível de significância que discutimos acima.\n",
        "\n",
        "Observe que a equação acima é sobre a variável $C_n$, não sobre o $\\theta$ fixo. Para enfatizar isso, escrevemos $P_{\\theta} (C_n \\ni \\theta)$ em vez de $P_{\\theta} (\\theta \\in C_n)$."
      ],
      "metadata": {
        "id": "vbUa14PrQcUp"
      }
    },
    {
      "cell_type": "markdown",
      "source": [
        "### Interpretação\n",
        "\n",
        "É muito tentador interpretar um intervalo de confiança de $95\\%$ como um intervalo onde você pode ter $95\\%$ de certeza de que o valor do parâmetro está, mas infelizmente isso não é verdade. O valor do parâmetro é fixo e é o intervalo que é aleatório. Assim, uma interpretação melhor seria dizer que se você gerasse um grande número de intervalos de confiança por este procedimento, $95\\%$ dos intervalos gerados conteriam o parâmetro verdadeiro.\n",
        "\n",
        "Isso pode parecer pedante, mas pode ter implicações reais para a interpretação dos resultados. Em particular, podemos satisfazer :eqref:`eq_trust` construindo intervalos que estamos *quase certos* não contêm o valor verdadeiro, desde que o façamos apenas raramente. Fechamos esta seção fornecendo três declarações tentadoras, mas falsas. Uma discussão aprofundada desses pontos pode ser encontrada em :cite:`Morey.Hoekstra.Rouder.ea.2016`.\n",
        "\n",
        "* **Falácia 1**. Intervalos de confiança estreitos significam que podemos estimar o parâmetro com precisão.\n",
        "* **Falácia 2**. Os valores dentro do intervalo de confiança são mais propensos a ser o valor verdadeiro do que aqueles fora do intervalo.\n",
        "* **Falácia 3**. A probabilidade de que um determinado intervalo de confiança $95\\%$ observado contenha o valor verdadeiro é $95\\%$.\n",
        "\n",
        "Basta dizer que os intervalos de confiança são objetos sutis. No entanto, se você mantiver a interpretação clara, elas podem ser ferramentas poderosas."
      ],
      "metadata": {
        "id": "Q9SI7az9QghQ"
      }
    },
    {
      "cell_type": "markdown",
      "source": [
        "## Exemplo Gaussiano\n",
        "\n",
        "Vamos discutir o exemplo mais clássico, o intervalo de confiança para a média de uma gaussiana de média e variância desconhecidas. Suponha que coletamos $n$ amostras $\\{x_i\\}_{i=1}^n$ do nosso $\\mathcal{N}(\\mu, \\sigma^2)$ gaussiano. Podemos calcular estimadores para a média e o desvio padrão tomando\n",
        "\n",
        "$$\\hat\\mu_n = \\frac{1}{n}\\sum_{i=1}^n x_i \\;\\text{e}\\; \\hat\\sigma^2_n = \\frac{1}{n-1}\\sum_{i=1}^n (x_i - \\hat\\mu)^2.$$\n",
        "\n",
        "Se considerarmos agora a variável aleatória\n",
        "\n",
        "$$\n",
        "T = \\frac{\\hat\\mu_n - \\mu}{\\hat\\sigma_n/\\sqrt{n}},\n",
        "$$\n",
        "\n",
        "obtemos uma variável aleatória seguindo uma distribuição bem conhecida chamada *distribuição t de Student em* $n-1$ *graus de liberdade*.\n",
        "\n",
        "Esta distribuição é muito bem estudada, e sabe-se, por exemplo, que como $n\\rightarrow \\infty$, é aproximadamente uma Gaussiana padrão e, portanto, procurando valores da c.d.f Gaussiana em uma tabela, podemos concluir que o valor de $T$ está no intervalo $[-1,96, 1,96]$ pelo menos $95\\%$ do tempo. Para valores finitos de $n$, o intervalo precisa ser um pouco maior, mas são bem conhecidos e pré-computados em tabelas.\n",
        "\n",
        "Assim, podemos concluir que para grandes $n$,\n",
        "\n",
        "$$\n",
        "P\\left(\\frac{\\hat\\mu_n - \\mu}{\\hat\\sigma_n/\\sqrt{n}} \\in [-1.96, 1.96]\\right) \\ge 0.95.\n",
        "$$\n",
        "\n",
        "Reorganizando isso multiplicando ambos os lados por $\\hat\\sigma_n/\\sqrt{n}$ e adicionando $\\hat\\mu_n$, obtemos\n",
        "\n",
        "$$\n",
        "P\\left(\\mu \\in \\left[\\hat\\mu_n - 1.96\\frac{\\hat\\sigma_n}{\\sqrt{n}}, \\hat\\mu_n + 1.96\\frac{\\hat\\sigma_n}{\\sqrt {n}}\\right]\\right) \\ge 0,95.\n",
        "$$\n",
        "\n",
        "Assim, sabemos que encontramos nosso intervalo de confiança de $95\\%$:\n",
        "$$\\left[\\hat\\mu_n - 1.96\\frac{\\hat\\sigma_n}{\\sqrt{n}}, \\hat\\mu_n + 1.96\\frac{\\hat\\sigma_n}{\\sqrt{n}}\\right ].$$\n",
        "\n",
        "\n",
        "É seguro dizer que a equação acima é uma das fórmulas mais usadas em estatística. Vamos encerrar nossa discussão sobre estatísticas implementando-as. Por simplicidade, assumimos que estamos no regime assintótico. Valores pequenos de $N$ devem incluir o valor correto de `t_star` obtido programaticamente ou de uma tabela $t$."
      ],
      "metadata": {
        "id": "SlWznJE6QjmR"
      }
    },
    {
      "cell_type": "code",
      "source": [
        "# Número de amostras\n",
        "N = 1000\n",
        "\n",
        "# Geração dos dados\n",
        "samples = np.random.normal(loc=0, scale=1, size=(N,))\n",
        "\n",
        "# ponto de operação da c.d.f. \n",
        "t_star = 1.96\n",
        "\n",
        "# Invervalo de confiança\n",
        "mu_hat = np.mean(samples)\n",
        "sigma_hat = samples.std(ddof=1)\n",
        "(mu_hat - t_star*sigma_hat/np.sqrt(N), mu_hat + t_star*sigma_hat/np.sqrt(N))"
      ],
      "metadata": {
        "colab": {
          "base_uri": "https://localhost:8080/"
        },
        "id": "veoxwByKOnY3",
        "outputId": "4fd84ad2-2df6-414d-9c1b-3961f35a0240"
      },
      "execution_count": null,
      "outputs": [
        {
          "output_type": "execute_result",
          "data": {
            "text/plain": [
              "(array(-0.11778758), array(0.00817876))"
            ]
          },
          "metadata": {},
          "execution_count": 22
        }
      ]
    },
    {
      "cell_type": "markdown",
      "source": [
        "## Exemplo Prático\n",
        "Geraremos nossos próprios dados, para que possamos conhecer e alterar a \"verdade básica\" que o teste t deve encontrar. Aprenderemos sobre os valores-p e como interpretar a \"significância estatística\" com base na saída de um teste de hipótese."
      ],
      "metadata": {
        "id": "RWtxcMEjDabW"
      }
    },
    {
      "cell_type": "markdown",
      "source": [
        "Vamos supor que fizemos uma pesquisa onde as pessoas responderam se gostavam de Pespi ou de Coca Cola (com uma resposta objetiva: 0 ou 1)"
      ],
      "metadata": {
        "id": "yF4fOfSyQ9L5"
      }
    },
    {
      "cell_type": "code",
      "source": [
        "import pandas as pd\n",
        "survey_data = [0, 1, 0, 1, 0, 0, 0, 1, 1, 0, 0, 1, 1, 1, 1, 1, 1, 1,\n",
        "               0, 0, 1, 1, 1, 1, 1, 1, 1, 1, 1, 0, 1, 1, 1, 1, 1, 1,\n",
        "               1, 0, 1, 0, 1, 1, 0, 1, 0, 1, 1, 0, 0, 0]\n",
        "df=pd.DataFrame(survey_data)\n",
        "df.describe()"
      ],
      "metadata": {
        "colab": {
          "base_uri": "https://localhost:8080/",
          "height": 300
        },
        "id": "lLLQak8fQ4Rk",
        "outputId": "f13e0b5b-aa6a-4555-d56c-6c085ed11d50"
      },
      "execution_count": null,
      "outputs": [
        {
          "output_type": "execute_result",
          "data": {
            "text/html": [
              "\n",
              "  <div id=\"df-05d8503d-5e7c-4d6f-b73d-c3af856be456\">\n",
              "    <div class=\"colab-df-container\">\n",
              "      <div>\n",
              "<style scoped>\n",
              "    .dataframe tbody tr th:only-of-type {\n",
              "        vertical-align: middle;\n",
              "    }\n",
              "\n",
              "    .dataframe tbody tr th {\n",
              "        vertical-align: top;\n",
              "    }\n",
              "\n",
              "    .dataframe thead th {\n",
              "        text-align: right;\n",
              "    }\n",
              "</style>\n",
              "<table border=\"1\" class=\"dataframe\">\n",
              "  <thead>\n",
              "    <tr style=\"text-align: right;\">\n",
              "      <th></th>\n",
              "      <th>0</th>\n",
              "    </tr>\n",
              "  </thead>\n",
              "  <tbody>\n",
              "    <tr>\n",
              "      <th>count</th>\n",
              "      <td>50.000000</td>\n",
              "    </tr>\n",
              "    <tr>\n",
              "      <th>mean</th>\n",
              "      <td>0.660000</td>\n",
              "    </tr>\n",
              "    <tr>\n",
              "      <th>std</th>\n",
              "      <td>0.478518</td>\n",
              "    </tr>\n",
              "    <tr>\n",
              "      <th>min</th>\n",
              "      <td>0.000000</td>\n",
              "    </tr>\n",
              "    <tr>\n",
              "      <th>25%</th>\n",
              "      <td>0.000000</td>\n",
              "    </tr>\n",
              "    <tr>\n",
              "      <th>50%</th>\n",
              "      <td>1.000000</td>\n",
              "    </tr>\n",
              "    <tr>\n",
              "      <th>75%</th>\n",
              "      <td>1.000000</td>\n",
              "    </tr>\n",
              "    <tr>\n",
              "      <th>max</th>\n",
              "      <td>1.000000</td>\n",
              "    </tr>\n",
              "  </tbody>\n",
              "</table>\n",
              "</div>\n",
              "      <button class=\"colab-df-convert\" onclick=\"convertToInteractive('df-05d8503d-5e7c-4d6f-b73d-c3af856be456')\"\n",
              "              title=\"Convert this dataframe to an interactive table.\"\n",
              "              style=\"display:none;\">\n",
              "        \n",
              "  <svg xmlns=\"http://www.w3.org/2000/svg\" height=\"24px\"viewBox=\"0 0 24 24\"\n",
              "       width=\"24px\">\n",
              "    <path d=\"M0 0h24v24H0V0z\" fill=\"none\"/>\n",
              "    <path d=\"M18.56 5.44l.94 2.06.94-2.06 2.06-.94-2.06-.94-.94-2.06-.94 2.06-2.06.94zm-11 1L8.5 8.5l.94-2.06 2.06-.94-2.06-.94L8.5 2.5l-.94 2.06-2.06.94zm10 10l.94 2.06.94-2.06 2.06-.94-2.06-.94-.94-2.06-.94 2.06-2.06.94z\"/><path d=\"M17.41 7.96l-1.37-1.37c-.4-.4-.92-.59-1.43-.59-.52 0-1.04.2-1.43.59L10.3 9.45l-7.72 7.72c-.78.78-.78 2.05 0 2.83L4 21.41c.39.39.9.59 1.41.59.51 0 1.02-.2 1.41-.59l7.78-7.78 2.81-2.81c.8-.78.8-2.07 0-2.86zM5.41 20L4 18.59l7.72-7.72 1.47 1.35L5.41 20z\"/>\n",
              "  </svg>\n",
              "      </button>\n",
              "      \n",
              "  <style>\n",
              "    .colab-df-container {\n",
              "      display:flex;\n",
              "      flex-wrap:wrap;\n",
              "      gap: 12px;\n",
              "    }\n",
              "\n",
              "    .colab-df-convert {\n",
              "      background-color: #E8F0FE;\n",
              "      border: none;\n",
              "      border-radius: 50%;\n",
              "      cursor: pointer;\n",
              "      display: none;\n",
              "      fill: #1967D2;\n",
              "      height: 32px;\n",
              "      padding: 0 0 0 0;\n",
              "      width: 32px;\n",
              "    }\n",
              "\n",
              "    .colab-df-convert:hover {\n",
              "      background-color: #E2EBFA;\n",
              "      box-shadow: 0px 1px 2px rgba(60, 64, 67, 0.3), 0px 1px 3px 1px rgba(60, 64, 67, 0.15);\n",
              "      fill: #174EA6;\n",
              "    }\n",
              "\n",
              "    [theme=dark] .colab-df-convert {\n",
              "      background-color: #3B4455;\n",
              "      fill: #D2E3FC;\n",
              "    }\n",
              "\n",
              "    [theme=dark] .colab-df-convert:hover {\n",
              "      background-color: #434B5C;\n",
              "      box-shadow: 0px 1px 3px 1px rgba(0, 0, 0, 0.15);\n",
              "      filter: drop-shadow(0px 1px 2px rgba(0, 0, 0, 0.3));\n",
              "      fill: #FFFFFF;\n",
              "    }\n",
              "  </style>\n",
              "\n",
              "      <script>\n",
              "        const buttonEl =\n",
              "          document.querySelector('#df-05d8503d-5e7c-4d6f-b73d-c3af856be456 button.colab-df-convert');\n",
              "        buttonEl.style.display =\n",
              "          google.colab.kernel.accessAllowed ? 'block' : 'none';\n",
              "\n",
              "        async function convertToInteractive(key) {\n",
              "          const element = document.querySelector('#df-05d8503d-5e7c-4d6f-b73d-c3af856be456');\n",
              "          const dataTable =\n",
              "            await google.colab.kernel.invokeFunction('convertToInteractive',\n",
              "                                                     [key], {});\n",
              "          if (!dataTable) return;\n",
              "\n",
              "          const docLinkHtml = 'Like what you see? Visit the ' +\n",
              "            '<a target=\"_blank\" href=https://colab.research.google.com/notebooks/data_table.ipynb>data table notebook</a>'\n",
              "            + ' to learn more about interactive tables.';\n",
              "          element.innerHTML = '';\n",
              "          dataTable['output_type'] = 'display_data';\n",
              "          await google.colab.output.renderOutput(dataTable, element);\n",
              "          const docLink = document.createElement('div');\n",
              "          docLink.innerHTML = docLinkHtml;\n",
              "          element.appendChild(docLink);\n",
              "        }\n",
              "      </script>\n",
              "    </div>\n",
              "  </div>\n",
              "  "
            ],
            "text/plain": [
              "               0\n",
              "count  50.000000\n",
              "mean    0.660000\n",
              "std     0.478518\n",
              "min     0.000000\n",
              "25%     0.000000\n",
              "50%     1.000000\n",
              "75%     1.000000\n",
              "max     1.000000"
            ]
          },
          "metadata": {},
          "execution_count": 25
        }
      ]
    },
    {
      "cell_type": "code",
      "source": [
        "df.info()"
      ],
      "metadata": {
        "colab": {
          "base_uri": "https://localhost:8080/"
        },
        "id": "2M8ygNApRSJk",
        "outputId": "c9bdcd5e-8989-4c85-f5de-d01b94b4370d"
      },
      "execution_count": null,
      "outputs": [
        {
          "output_type": "stream",
          "name": "stdout",
          "text": [
            "<class 'pandas.core.frame.DataFrame'>\n",
            "RangeIndex: 50 entries, 0 to 49\n",
            "Data columns (total 1 columns):\n",
            " #   Column  Non-Null Count  Dtype\n",
            "---  ------  --------------  -----\n",
            " 0   0       50 non-null     int64\n",
            "dtypes: int64(1)\n",
            "memory usage: 528.0 bytes\n"
          ]
        }
      ]
    },
    {
      "cell_type": "code",
      "source": [
        "df.plot.hist()"
      ],
      "metadata": {
        "colab": {
          "base_uri": "https://localhost:8080/",
          "height": 261
        },
        "id": "222rxl29RM7W",
        "outputId": "856f0981-402f-4ff0-f445-feaa64a07a80"
      },
      "execution_count": null,
      "outputs": [
        {
          "output_type": "execute_result",
          "data": {
            "text/plain": [
              "<AxesSubplot:ylabel='Frequency'>"
            ]
          },
          "metadata": {},
          "execution_count": 27
        },
        {
          "output_type": "display_data",
          "data": {
            "text/plain": [
              "<Figure size 252x180 with 1 Axes>"
            ],
            "image/svg+xml": "<?xml version=\"1.0\" encoding=\"utf-8\" standalone=\"no\"?>\n<!DOCTYPE svg PUBLIC \"-//W3C//DTD SVG 1.1//EN\"\n  \"http://www.w3.org/Graphics/SVG/1.1/DTD/svg11.dtd\">\n<svg xmlns:xlink=\"http://www.w3.org/1999/xlink\" width=\"243.103125pt\" height=\"166.978125pt\" viewBox=\"0 0 243.103125 166.978125\" xmlns=\"http://www.w3.org/2000/svg\" version=\"1.1\">\n <metadata>\n  <rdf:RDF xmlns:dc=\"http://purl.org/dc/elements/1.1/\" xmlns:cc=\"http://creativecommons.org/ns#\" xmlns:rdf=\"http://www.w3.org/1999/02/22-rdf-syntax-ns#\">\n   <cc:Work>\n    <dc:type rdf:resource=\"http://purl.org/dc/dcmitype/StillImage\"/>\n    <dc:date>2022-01-18T22:18:39.582093</dc:date>\n    <dc:format>image/svg+xml</dc:format>\n    <dc:creator>\n     <cc:Agent>\n      <dc:title>Matplotlib v3.5.1, https://matplotlib.org/</dc:title>\n     </cc:Agent>\n    </dc:creator>\n   </cc:Work>\n  </rdf:RDF>\n </metadata>\n <defs>\n  <style type=\"text/css\">*{stroke-linejoin: round; stroke-linecap: butt}</style>\n </defs>\n <g id=\"figure_1\">\n  <g id=\"patch_1\">\n   <path d=\"M 0 166.978125 \nL 243.103125 166.978125 \nL 243.103125 0 \nL 0 0 \nL 0 166.978125 \nz\n\" style=\"fill: none\"/>\n  </g>\n  <g id=\"axes_1\">\n   <g id=\"patch_2\">\n    <path d=\"M 40.603125 143.1 \nL 235.903125 143.1 \nL 235.903125 7.2 \nL 40.603125 7.2 \nz\n\" style=\"fill: #ffffff\"/>\n   </g>\n   <g id=\"patch_3\">\n    <path d=\"M 49.480398 143.1 \nL 67.234943 143.1 \nL 67.234943 76.424675 \nL 49.480398 76.424675 \nz\n\" clip-path=\"url(#pae05b4e2f8)\" style=\"fill: #1f77b4\"/>\n   </g>\n   <g id=\"patch_4\">\n    <path d=\"M 67.234943 143.1 \nL 84.989489 143.1 \nL 84.989489 143.1 \nL 67.234943 143.1 \nz\n\" clip-path=\"url(#pae05b4e2f8)\" style=\"fill: #1f77b4\"/>\n   </g>\n   <g id=\"patch_5\">\n    <path d=\"M 84.989489 143.1 \nL 102.744034 143.1 \nL 102.744034 143.1 \nL 84.989489 143.1 \nz\n\" clip-path=\"url(#pae05b4e2f8)\" style=\"fill: #1f77b4\"/>\n   </g>\n   <g id=\"patch_6\">\n    <path d=\"M 102.744034 143.1 \nL 120.49858 143.1 \nL 120.49858 143.1 \nL 102.744034 143.1 \nz\n\" clip-path=\"url(#pae05b4e2f8)\" style=\"fill: #1f77b4\"/>\n   </g>\n   <g id=\"patch_7\">\n    <path d=\"M 120.49858 143.1 \nL 138.253125 143.1 \nL 138.253125 143.1 \nL 120.49858 143.1 \nz\n\" clip-path=\"url(#pae05b4e2f8)\" style=\"fill: #1f77b4\"/>\n   </g>\n   <g id=\"patch_8\">\n    <path d=\"M 138.253125 143.1 \nL 156.00767 143.1 \nL 156.00767 143.1 \nL 138.253125 143.1 \nz\n\" clip-path=\"url(#pae05b4e2f8)\" style=\"fill: #1f77b4\"/>\n   </g>\n   <g id=\"patch_9\">\n    <path d=\"M 156.00767 143.1 \nL 173.762216 143.1 \nL 173.762216 143.1 \nL 156.00767 143.1 \nz\n\" clip-path=\"url(#pae05b4e2f8)\" style=\"fill: #1f77b4\"/>\n   </g>\n   <g id=\"patch_10\">\n    <path d=\"M 173.762216 143.1 \nL 191.516761 143.1 \nL 191.516761 143.1 \nL 173.762216 143.1 \nz\n\" clip-path=\"url(#pae05b4e2f8)\" style=\"fill: #1f77b4\"/>\n   </g>\n   <g id=\"patch_11\">\n    <path d=\"M 191.516761 143.1 \nL 209.271307 143.1 \nL 209.271307 143.1 \nL 191.516761 143.1 \nz\n\" clip-path=\"url(#pae05b4e2f8)\" style=\"fill: #1f77b4\"/>\n   </g>\n   <g id=\"patch_12\">\n    <path d=\"M 209.271307 143.1 \nL 227.025852 143.1 \nL 227.025852 13.671429 \nL 209.271307 13.671429 \nz\n\" clip-path=\"url(#pae05b4e2f8)\" style=\"fill: #1f77b4\"/>\n   </g>\n   <g id=\"matplotlib.axis_1\">\n    <g id=\"xtick_1\">\n     <g id=\"line2d_1\">\n      <defs>\n       <path id=\"m61b2803ce0\" d=\"M 0 0 \nL 0 3.5 \n\" style=\"stroke: #000000; stroke-width: 0.8\"/>\n      </defs>\n      <g>\n       <use xlink:href=\"#m61b2803ce0\" x=\"49.480398\" y=\"143.1\" style=\"stroke: #000000; stroke-width: 0.8\"/>\n      </g>\n     </g>\n     <g id=\"text_1\">\n      <!-- 0.0 -->\n      <g transform=\"translate(41.528835 157.698438)scale(0.1 -0.1)\">\n       <defs>\n        <path id=\"DejaVuSans-30\" d=\"M 2034 4250 \nQ 1547 4250 1301 3770 \nQ 1056 3291 1056 2328 \nQ 1056 1369 1301 889 \nQ 1547 409 2034 409 \nQ 2525 409 2770 889 \nQ 3016 1369 3016 2328 \nQ 3016 3291 2770 3770 \nQ 2525 4250 2034 4250 \nz\nM 2034 4750 \nQ 2819 4750 3233 4129 \nQ 3647 3509 3647 2328 \nQ 3647 1150 3233 529 \nQ 2819 -91 2034 -91 \nQ 1250 -91 836 529 \nQ 422 1150 422 2328 \nQ 422 3509 836 4129 \nQ 1250 4750 2034 4750 \nz\n\" transform=\"scale(0.015625)\"/>\n        <path id=\"DejaVuSans-2e\" d=\"M 684 794 \nL 1344 794 \nL 1344 0 \nL 684 0 \nL 684 794 \nz\n\" transform=\"scale(0.015625)\"/>\n       </defs>\n       <use xlink:href=\"#DejaVuSans-30\"/>\n       <use xlink:href=\"#DejaVuSans-2e\" x=\"63.623047\"/>\n       <use xlink:href=\"#DejaVuSans-30\" x=\"95.410156\"/>\n      </g>\n     </g>\n    </g>\n    <g id=\"xtick_2\">\n     <g id=\"line2d_2\">\n      <g>\n       <use xlink:href=\"#m61b2803ce0\" x=\"84.989489\" y=\"143.1\" style=\"stroke: #000000; stroke-width: 0.8\"/>\n      </g>\n     </g>\n     <g id=\"text_2\">\n      <!-- 0.2 -->\n      <g transform=\"translate(77.037926 157.698438)scale(0.1 -0.1)\">\n       <defs>\n        <path id=\"DejaVuSans-32\" d=\"M 1228 531 \nL 3431 531 \nL 3431 0 \nL 469 0 \nL 469 531 \nQ 828 903 1448 1529 \nQ 2069 2156 2228 2338 \nQ 2531 2678 2651 2914 \nQ 2772 3150 2772 3378 \nQ 2772 3750 2511 3984 \nQ 2250 4219 1831 4219 \nQ 1534 4219 1204 4116 \nQ 875 4013 500 3803 \nL 500 4441 \nQ 881 4594 1212 4672 \nQ 1544 4750 1819 4750 \nQ 2544 4750 2975 4387 \nQ 3406 4025 3406 3419 \nQ 3406 3131 3298 2873 \nQ 3191 2616 2906 2266 \nQ 2828 2175 2409 1742 \nQ 1991 1309 1228 531 \nz\n\" transform=\"scale(0.015625)\"/>\n       </defs>\n       <use xlink:href=\"#DejaVuSans-30\"/>\n       <use xlink:href=\"#DejaVuSans-2e\" x=\"63.623047\"/>\n       <use xlink:href=\"#DejaVuSans-32\" x=\"95.410156\"/>\n      </g>\n     </g>\n    </g>\n    <g id=\"xtick_3\">\n     <g id=\"line2d_3\">\n      <g>\n       <use xlink:href=\"#m61b2803ce0\" x=\"120.49858\" y=\"143.1\" style=\"stroke: #000000; stroke-width: 0.8\"/>\n      </g>\n     </g>\n     <g id=\"text_3\">\n      <!-- 0.4 -->\n      <g transform=\"translate(112.547017 157.698438)scale(0.1 -0.1)\">\n       <defs>\n        <path id=\"DejaVuSans-34\" d=\"M 2419 4116 \nL 825 1625 \nL 2419 1625 \nL 2419 4116 \nz\nM 2253 4666 \nL 3047 4666 \nL 3047 1625 \nL 3713 1625 \nL 3713 1100 \nL 3047 1100 \nL 3047 0 \nL 2419 0 \nL 2419 1100 \nL 313 1100 \nL 313 1709 \nL 2253 4666 \nz\n\" transform=\"scale(0.015625)\"/>\n       </defs>\n       <use xlink:href=\"#DejaVuSans-30\"/>\n       <use xlink:href=\"#DejaVuSans-2e\" x=\"63.623047\"/>\n       <use xlink:href=\"#DejaVuSans-34\" x=\"95.410156\"/>\n      </g>\n     </g>\n    </g>\n    <g id=\"xtick_4\">\n     <g id=\"line2d_4\">\n      <g>\n       <use xlink:href=\"#m61b2803ce0\" x=\"156.00767\" y=\"143.1\" style=\"stroke: #000000; stroke-width: 0.8\"/>\n      </g>\n     </g>\n     <g id=\"text_4\">\n      <!-- 0.6 -->\n      <g transform=\"translate(148.056108 157.698438)scale(0.1 -0.1)\">\n       <defs>\n        <path id=\"DejaVuSans-36\" d=\"M 2113 2584 \nQ 1688 2584 1439 2293 \nQ 1191 2003 1191 1497 \nQ 1191 994 1439 701 \nQ 1688 409 2113 409 \nQ 2538 409 2786 701 \nQ 3034 994 3034 1497 \nQ 3034 2003 2786 2293 \nQ 2538 2584 2113 2584 \nz\nM 3366 4563 \nL 3366 3988 \nQ 3128 4100 2886 4159 \nQ 2644 4219 2406 4219 \nQ 1781 4219 1451 3797 \nQ 1122 3375 1075 2522 \nQ 1259 2794 1537 2939 \nQ 1816 3084 2150 3084 \nQ 2853 3084 3261 2657 \nQ 3669 2231 3669 1497 \nQ 3669 778 3244 343 \nQ 2819 -91 2113 -91 \nQ 1303 -91 875 529 \nQ 447 1150 447 2328 \nQ 447 3434 972 4092 \nQ 1497 4750 2381 4750 \nQ 2619 4750 2861 4703 \nQ 3103 4656 3366 4563 \nz\n\" transform=\"scale(0.015625)\"/>\n       </defs>\n       <use xlink:href=\"#DejaVuSans-30\"/>\n       <use xlink:href=\"#DejaVuSans-2e\" x=\"63.623047\"/>\n       <use xlink:href=\"#DejaVuSans-36\" x=\"95.410156\"/>\n      </g>\n     </g>\n    </g>\n    <g id=\"xtick_5\">\n     <g id=\"line2d_5\">\n      <g>\n       <use xlink:href=\"#m61b2803ce0\" x=\"191.516761\" y=\"143.1\" style=\"stroke: #000000; stroke-width: 0.8\"/>\n      </g>\n     </g>\n     <g id=\"text_5\">\n      <!-- 0.8 -->\n      <g transform=\"translate(183.565199 157.698438)scale(0.1 -0.1)\">\n       <defs>\n        <path id=\"DejaVuSans-38\" d=\"M 2034 2216 \nQ 1584 2216 1326 1975 \nQ 1069 1734 1069 1313 \nQ 1069 891 1326 650 \nQ 1584 409 2034 409 \nQ 2484 409 2743 651 \nQ 3003 894 3003 1313 \nQ 3003 1734 2745 1975 \nQ 2488 2216 2034 2216 \nz\nM 1403 2484 \nQ 997 2584 770 2862 \nQ 544 3141 544 3541 \nQ 544 4100 942 4425 \nQ 1341 4750 2034 4750 \nQ 2731 4750 3128 4425 \nQ 3525 4100 3525 3541 \nQ 3525 3141 3298 2862 \nQ 3072 2584 2669 2484 \nQ 3125 2378 3379 2068 \nQ 3634 1759 3634 1313 \nQ 3634 634 3220 271 \nQ 2806 -91 2034 -91 \nQ 1263 -91 848 271 \nQ 434 634 434 1313 \nQ 434 1759 690 2068 \nQ 947 2378 1403 2484 \nz\nM 1172 3481 \nQ 1172 3119 1398 2916 \nQ 1625 2713 2034 2713 \nQ 2441 2713 2670 2916 \nQ 2900 3119 2900 3481 \nQ 2900 3844 2670 4047 \nQ 2441 4250 2034 4250 \nQ 1625 4250 1398 4047 \nQ 1172 3844 1172 3481 \nz\n\" transform=\"scale(0.015625)\"/>\n       </defs>\n       <use xlink:href=\"#DejaVuSans-30\"/>\n       <use xlink:href=\"#DejaVuSans-2e\" x=\"63.623047\"/>\n       <use xlink:href=\"#DejaVuSans-38\" x=\"95.410156\"/>\n      </g>\n     </g>\n    </g>\n    <g id=\"xtick_6\">\n     <g id=\"line2d_6\">\n      <g>\n       <use xlink:href=\"#m61b2803ce0\" x=\"227.025852\" y=\"143.1\" style=\"stroke: #000000; stroke-width: 0.8\"/>\n      </g>\n     </g>\n     <g id=\"text_6\">\n      <!-- 1.0 -->\n      <g transform=\"translate(219.07429 157.698438)scale(0.1 -0.1)\">\n       <defs>\n        <path id=\"DejaVuSans-31\" d=\"M 794 531 \nL 1825 531 \nL 1825 4091 \nL 703 3866 \nL 703 4441 \nL 1819 4666 \nL 2450 4666 \nL 2450 531 \nL 3481 531 \nL 3481 0 \nL 794 0 \nL 794 531 \nz\n\" transform=\"scale(0.015625)\"/>\n       </defs>\n       <use xlink:href=\"#DejaVuSans-31\"/>\n       <use xlink:href=\"#DejaVuSans-2e\" x=\"63.623047\"/>\n       <use xlink:href=\"#DejaVuSans-30\" x=\"95.410156\"/>\n      </g>\n     </g>\n    </g>\n   </g>\n   <g id=\"matplotlib.axis_2\">\n    <g id=\"ytick_1\">\n     <g id=\"line2d_7\">\n      <defs>\n       <path id=\"mdcf8d29b38\" d=\"M 0 0 \nL -3.5 0 \n\" style=\"stroke: #000000; stroke-width: 0.8\"/>\n      </defs>\n      <g>\n       <use xlink:href=\"#mdcf8d29b38\" x=\"40.603125\" y=\"143.1\" style=\"stroke: #000000; stroke-width: 0.8\"/>\n      </g>\n     </g>\n     <g id=\"text_7\">\n      <!-- 0 -->\n      <g transform=\"translate(27.240625 146.899219)scale(0.1 -0.1)\">\n       <use xlink:href=\"#DejaVuSans-30\"/>\n      </g>\n     </g>\n    </g>\n    <g id=\"ytick_2\">\n     <g id=\"line2d_8\">\n      <g>\n       <use xlink:href=\"#mdcf8d29b38\" x=\"40.603125\" y=\"103.879221\" style=\"stroke: #000000; stroke-width: 0.8\"/>\n      </g>\n     </g>\n     <g id=\"text_8\">\n      <!-- 10 -->\n      <g transform=\"translate(20.878125 107.67844)scale(0.1 -0.1)\">\n       <use xlink:href=\"#DejaVuSans-31\"/>\n       <use xlink:href=\"#DejaVuSans-30\" x=\"63.623047\"/>\n      </g>\n     </g>\n    </g>\n    <g id=\"ytick_3\">\n     <g id=\"line2d_9\">\n      <g>\n       <use xlink:href=\"#mdcf8d29b38\" x=\"40.603125\" y=\"64.658442\" style=\"stroke: #000000; stroke-width: 0.8\"/>\n      </g>\n     </g>\n     <g id=\"text_9\">\n      <!-- 20 -->\n      <g transform=\"translate(20.878125 68.45766)scale(0.1 -0.1)\">\n       <use xlink:href=\"#DejaVuSans-32\"/>\n       <use xlink:href=\"#DejaVuSans-30\" x=\"63.623047\"/>\n      </g>\n     </g>\n    </g>\n    <g id=\"ytick_4\">\n     <g id=\"line2d_10\">\n      <g>\n       <use xlink:href=\"#mdcf8d29b38\" x=\"40.603125\" y=\"25.437662\" style=\"stroke: #000000; stroke-width: 0.8\"/>\n      </g>\n     </g>\n     <g id=\"text_10\">\n      <!-- 30 -->\n      <g transform=\"translate(20.878125 29.236881)scale(0.1 -0.1)\">\n       <defs>\n        <path id=\"DejaVuSans-33\" d=\"M 2597 2516 \nQ 3050 2419 3304 2112 \nQ 3559 1806 3559 1356 \nQ 3559 666 3084 287 \nQ 2609 -91 1734 -91 \nQ 1441 -91 1130 -33 \nQ 819 25 488 141 \nL 488 750 \nQ 750 597 1062 519 \nQ 1375 441 1716 441 \nQ 2309 441 2620 675 \nQ 2931 909 2931 1356 \nQ 2931 1769 2642 2001 \nQ 2353 2234 1838 2234 \nL 1294 2234 \nL 1294 2753 \nL 1863 2753 \nQ 2328 2753 2575 2939 \nQ 2822 3125 2822 3475 \nQ 2822 3834 2567 4026 \nQ 2313 4219 1838 4219 \nQ 1578 4219 1281 4162 \nQ 984 4106 628 3988 \nL 628 4550 \nQ 988 4650 1302 4700 \nQ 1616 4750 1894 4750 \nQ 2613 4750 3031 4423 \nQ 3450 4097 3450 3541 \nQ 3450 3153 3228 2886 \nQ 3006 2619 2597 2516 \nz\n\" transform=\"scale(0.015625)\"/>\n       </defs>\n       <use xlink:href=\"#DejaVuSans-33\"/>\n       <use xlink:href=\"#DejaVuSans-30\" x=\"63.623047\"/>\n      </g>\n     </g>\n    </g>\n    <g id=\"text_11\">\n     <!-- Frequency -->\n     <g transform=\"translate(14.798437 100.979688)rotate(-90)scale(0.1 -0.1)\">\n      <defs>\n       <path id=\"DejaVuSans-46\" d=\"M 628 4666 \nL 3309 4666 \nL 3309 4134 \nL 1259 4134 \nL 1259 2759 \nL 3109 2759 \nL 3109 2228 \nL 1259 2228 \nL 1259 0 \nL 628 0 \nL 628 4666 \nz\n\" transform=\"scale(0.015625)\"/>\n       <path id=\"DejaVuSans-72\" d=\"M 2631 2963 \nQ 2534 3019 2420 3045 \nQ 2306 3072 2169 3072 \nQ 1681 3072 1420 2755 \nQ 1159 2438 1159 1844 \nL 1159 0 \nL 581 0 \nL 581 3500 \nL 1159 3500 \nL 1159 2956 \nQ 1341 3275 1631 3429 \nQ 1922 3584 2338 3584 \nQ 2397 3584 2469 3576 \nQ 2541 3569 2628 3553 \nL 2631 2963 \nz\n\" transform=\"scale(0.015625)\"/>\n       <path id=\"DejaVuSans-65\" d=\"M 3597 1894 \nL 3597 1613 \nL 953 1613 \nQ 991 1019 1311 708 \nQ 1631 397 2203 397 \nQ 2534 397 2845 478 \nQ 3156 559 3463 722 \nL 3463 178 \nQ 3153 47 2828 -22 \nQ 2503 -91 2169 -91 \nQ 1331 -91 842 396 \nQ 353 884 353 1716 \nQ 353 2575 817 3079 \nQ 1281 3584 2069 3584 \nQ 2775 3584 3186 3129 \nQ 3597 2675 3597 1894 \nz\nM 3022 2063 \nQ 3016 2534 2758 2815 \nQ 2500 3097 2075 3097 \nQ 1594 3097 1305 2825 \nQ 1016 2553 972 2059 \nL 3022 2063 \nz\n\" transform=\"scale(0.015625)\"/>\n       <path id=\"DejaVuSans-71\" d=\"M 947 1747 \nQ 947 1113 1208 752 \nQ 1469 391 1925 391 \nQ 2381 391 2643 752 \nQ 2906 1113 2906 1747 \nQ 2906 2381 2643 2742 \nQ 2381 3103 1925 3103 \nQ 1469 3103 1208 2742 \nQ 947 2381 947 1747 \nz\nM 2906 525 \nQ 2725 213 2448 61 \nQ 2172 -91 1784 -91 \nQ 1150 -91 751 415 \nQ 353 922 353 1747 \nQ 353 2572 751 3078 \nQ 1150 3584 1784 3584 \nQ 2172 3584 2448 3432 \nQ 2725 3281 2906 2969 \nL 2906 3500 \nL 3481 3500 \nL 3481 -1331 \nL 2906 -1331 \nL 2906 525 \nz\n\" transform=\"scale(0.015625)\"/>\n       <path id=\"DejaVuSans-75\" d=\"M 544 1381 \nL 544 3500 \nL 1119 3500 \nL 1119 1403 \nQ 1119 906 1312 657 \nQ 1506 409 1894 409 \nQ 2359 409 2629 706 \nQ 2900 1003 2900 1516 \nL 2900 3500 \nL 3475 3500 \nL 3475 0 \nL 2900 0 \nL 2900 538 \nQ 2691 219 2414 64 \nQ 2138 -91 1772 -91 \nQ 1169 -91 856 284 \nQ 544 659 544 1381 \nz\nM 1991 3584 \nL 1991 3584 \nz\n\" transform=\"scale(0.015625)\"/>\n       <path id=\"DejaVuSans-6e\" d=\"M 3513 2113 \nL 3513 0 \nL 2938 0 \nL 2938 2094 \nQ 2938 2591 2744 2837 \nQ 2550 3084 2163 3084 \nQ 1697 3084 1428 2787 \nQ 1159 2491 1159 1978 \nL 1159 0 \nL 581 0 \nL 581 3500 \nL 1159 3500 \nL 1159 2956 \nQ 1366 3272 1645 3428 \nQ 1925 3584 2291 3584 \nQ 2894 3584 3203 3211 \nQ 3513 2838 3513 2113 \nz\n\" transform=\"scale(0.015625)\"/>\n       <path id=\"DejaVuSans-63\" d=\"M 3122 3366 \nL 3122 2828 \nQ 2878 2963 2633 3030 \nQ 2388 3097 2138 3097 \nQ 1578 3097 1268 2742 \nQ 959 2388 959 1747 \nQ 959 1106 1268 751 \nQ 1578 397 2138 397 \nQ 2388 397 2633 464 \nQ 2878 531 3122 666 \nL 3122 134 \nQ 2881 22 2623 -34 \nQ 2366 -91 2075 -91 \nQ 1284 -91 818 406 \nQ 353 903 353 1747 \nQ 353 2603 823 3093 \nQ 1294 3584 2113 3584 \nQ 2378 3584 2631 3529 \nQ 2884 3475 3122 3366 \nz\n\" transform=\"scale(0.015625)\"/>\n       <path id=\"DejaVuSans-79\" d=\"M 2059 -325 \nQ 1816 -950 1584 -1140 \nQ 1353 -1331 966 -1331 \nL 506 -1331 \nL 506 -850 \nL 844 -850 \nQ 1081 -850 1212 -737 \nQ 1344 -625 1503 -206 \nL 1606 56 \nL 191 3500 \nL 800 3500 \nL 1894 763 \nL 2988 3500 \nL 3597 3500 \nL 2059 -325 \nz\n\" transform=\"scale(0.015625)\"/>\n      </defs>\n      <use xlink:href=\"#DejaVuSans-46\"/>\n      <use xlink:href=\"#DejaVuSans-72\" x=\"50.269531\"/>\n      <use xlink:href=\"#DejaVuSans-65\" x=\"89.132812\"/>\n      <use xlink:href=\"#DejaVuSans-71\" x=\"150.65625\"/>\n      <use xlink:href=\"#DejaVuSans-75\" x=\"214.132812\"/>\n      <use xlink:href=\"#DejaVuSans-65\" x=\"277.511719\"/>\n      <use xlink:href=\"#DejaVuSans-6e\" x=\"339.035156\"/>\n      <use xlink:href=\"#DejaVuSans-63\" x=\"402.414062\"/>\n      <use xlink:href=\"#DejaVuSans-79\" x=\"457.394531\"/>\n     </g>\n    </g>\n   </g>\n   <g id=\"patch_13\">\n    <path d=\"M 40.603125 143.1 \nL 40.603125 7.2 \n\" style=\"fill: none; stroke: #000000; stroke-width: 0.8; stroke-linejoin: miter; stroke-linecap: square\"/>\n   </g>\n   <g id=\"patch_14\">\n    <path d=\"M 235.903125 143.1 \nL 235.903125 7.2 \n\" style=\"fill: none; stroke: #000000; stroke-width: 0.8; stroke-linejoin: miter; stroke-linecap: square\"/>\n   </g>\n   <g id=\"patch_15\">\n    <path d=\"M 40.603125 143.1 \nL 235.903125 143.1 \n\" style=\"fill: none; stroke: #000000; stroke-width: 0.8; stroke-linejoin: miter; stroke-linecap: square\"/>\n   </g>\n   <g id=\"patch_16\">\n    <path d=\"M 40.603125 7.2 \nL 235.903125 7.2 \n\" style=\"fill: none; stroke: #000000; stroke-width: 0.8; stroke-linejoin: miter; stroke-linecap: square\"/>\n   </g>\n   <g id=\"legend_1\">\n    <g id=\"patch_17\">\n     <path d=\"M 47.603125 29.878125 \nL 85.965625 29.878125 \nQ 87.965625 29.878125 87.965625 27.878125 \nL 87.965625 14.2 \nQ 87.965625 12.2 85.965625 12.2 \nL 47.603125 12.2 \nQ 45.603125 12.2 45.603125 14.2 \nL 45.603125 27.878125 \nQ 45.603125 29.878125 47.603125 29.878125 \nz\n\" style=\"fill: #ffffff; opacity: 0.8; stroke: #cccccc; stroke-linejoin: miter\"/>\n    </g>\n    <g id=\"patch_18\">\n     <path d=\"M 49.603125 23.798437 \nL 69.603125 23.798437 \nL 69.603125 16.798437 \nL 49.603125 16.798437 \nz\n\" style=\"fill: #1f77b4\"/>\n    </g>\n    <g id=\"text_12\">\n     <!-- 0 -->\n     <g transform=\"translate(77.603125 23.798437)scale(0.1 -0.1)\">\n      <use xlink:href=\"#DejaVuSans-30\"/>\n     </g>\n    </g>\n   </g>\n  </g>\n </g>\n <defs>\n  <clipPath id=\"pae05b4e2f8\">\n   <rect x=\"40.603125\" y=\"7.2\" width=\"195.3\" height=\"135.9\"/>\n  </clipPath>\n </defs>\n</svg>\n"
          },
          "metadata": {
            "needs_background": "light"
          }
        }
      ]
    },
    {
      "cell_type": "code",
      "source": [
        "import scipy\n",
        "print(scipy.stats.ttest_1samp(survey_data, 0.5))\n",
        "\n",
        "# Esta função calcula o teste T para a média de UM grupo de pontuações (scores).\n",
        "# Este é um teste bilateral para a hipótese nula de que o valor esperado (média) \n",
        "# de uma amostra de observações independentes é igual à média populacional dada"
      ],
      "metadata": {
        "colab": {
          "base_uri": "https://localhost:8080/"
        },
        "id": "2TqzgtFQRZLq",
        "outputId": "feb9d203-e9f2-4570-fb11-2e1df93365e2"
      },
      "execution_count": null,
      "outputs": [
        {
          "output_type": "stream",
          "name": "stdout",
          "text": [
            "Ttest_1sampResult(statistic=2.364321853156195, pvalue=0.02207003200903075)\n"
          ]
        }
      ]
    },
    {
      "cell_type": "markdown",
      "source": [
        "Vamos validar os resultados que foram obtidos.\n",
        "\n",
        "Como sabemos, a estatística t é a razão entre o desvio do valor estimado de um parâmetro de seu valor hipotético para seu erro padrão"
      ],
      "metadata": {
        "id": "wDrQbU1aSTSZ"
      }
    },
    {
      "cell_type": "code",
      "source": [
        "# valor obtido anteriormente: tstat = 2.364321853156195\n",
        "std_dev=df.std()\n",
        "print(\"Standard Deviation: %1.5f\"%(std_dev))\n",
        "sample_size=len(survey_data)\n",
        "print('Tamanho da amostra: %i'%(sample_size))\n",
        "sample_stderr = std_dev/ np.sqrt(sample_size)\n",
        "\n",
        "sample_mean = df.mean()\n",
        "print(\"Sample Mean: %1.5f\"%(sample_mean))\n",
        "\n",
        "# valor da hipotese nula\n",
        "null_hypothesis_mean = 0.5\n",
        "\n",
        "t_stat = (sample_mean - null_hypothesis_mean) / sample_stderr\n",
        "print(\"t_stat: %1.5f\"%(t_stat))"
      ],
      "metadata": {
        "colab": {
          "base_uri": "https://localhost:8080/"
        },
        "id": "oEJqG7ZUSWx9",
        "outputId": "05675166-6d4f-492c-cd9b-744dd728e895"
      },
      "execution_count": null,
      "outputs": [
        {
          "output_type": "stream",
          "name": "stdout",
          "text": [
            "Standard Deviation: 0.47852\n",
            "Tamanho da amostra: 50\n",
            "Sample Mean: 0.66000\n",
            "t_stat: 2.36432\n"
          ]
        }
      ]
    },
    {
      "cell_type": "code",
      "source": [
        "# Vamos criar outros dados\n",
        "\n",
        "import random\n",
        "def make_soda_data(n=50):\n",
        "  return pd.DataFrame([random.randint(0,1) for _ in range(n)])\n",
        "make_soda_data().describe()"
      ],
      "metadata": {
        "colab": {
          "base_uri": "https://localhost:8080/",
          "height": 300
        },
        "id": "Zt9T5SXTTctA",
        "outputId": "da263bf7-076a-43ed-dafa-07acb04cdb82"
      },
      "execution_count": null,
      "outputs": [
        {
          "output_type": "execute_result",
          "data": {
            "text/html": [
              "\n",
              "  <div id=\"df-1d68dc8e-d918-4265-8513-8e7ea6d8b35f\">\n",
              "    <div class=\"colab-df-container\">\n",
              "      <div>\n",
              "<style scoped>\n",
              "    .dataframe tbody tr th:only-of-type {\n",
              "        vertical-align: middle;\n",
              "    }\n",
              "\n",
              "    .dataframe tbody tr th {\n",
              "        vertical-align: top;\n",
              "    }\n",
              "\n",
              "    .dataframe thead th {\n",
              "        text-align: right;\n",
              "    }\n",
              "</style>\n",
              "<table border=\"1\" class=\"dataframe\">\n",
              "  <thead>\n",
              "    <tr style=\"text-align: right;\">\n",
              "      <th></th>\n",
              "      <th>0</th>\n",
              "    </tr>\n",
              "  </thead>\n",
              "  <tbody>\n",
              "    <tr>\n",
              "      <th>count</th>\n",
              "      <td>50.000000</td>\n",
              "    </tr>\n",
              "    <tr>\n",
              "      <th>mean</th>\n",
              "      <td>0.480000</td>\n",
              "    </tr>\n",
              "    <tr>\n",
              "      <th>std</th>\n",
              "      <td>0.504672</td>\n",
              "    </tr>\n",
              "    <tr>\n",
              "      <th>min</th>\n",
              "      <td>0.000000</td>\n",
              "    </tr>\n",
              "    <tr>\n",
              "      <th>25%</th>\n",
              "      <td>0.000000</td>\n",
              "    </tr>\n",
              "    <tr>\n",
              "      <th>50%</th>\n",
              "      <td>0.000000</td>\n",
              "    </tr>\n",
              "    <tr>\n",
              "      <th>75%</th>\n",
              "      <td>1.000000</td>\n",
              "    </tr>\n",
              "    <tr>\n",
              "      <th>max</th>\n",
              "      <td>1.000000</td>\n",
              "    </tr>\n",
              "  </tbody>\n",
              "</table>\n",
              "</div>\n",
              "      <button class=\"colab-df-convert\" onclick=\"convertToInteractive('df-1d68dc8e-d918-4265-8513-8e7ea6d8b35f')\"\n",
              "              title=\"Convert this dataframe to an interactive table.\"\n",
              "              style=\"display:none;\">\n",
              "        \n",
              "  <svg xmlns=\"http://www.w3.org/2000/svg\" height=\"24px\"viewBox=\"0 0 24 24\"\n",
              "       width=\"24px\">\n",
              "    <path d=\"M0 0h24v24H0V0z\" fill=\"none\"/>\n",
              "    <path d=\"M18.56 5.44l.94 2.06.94-2.06 2.06-.94-2.06-.94-.94-2.06-.94 2.06-2.06.94zm-11 1L8.5 8.5l.94-2.06 2.06-.94-2.06-.94L8.5 2.5l-.94 2.06-2.06.94zm10 10l.94 2.06.94-2.06 2.06-.94-2.06-.94-.94-2.06-.94 2.06-2.06.94z\"/><path d=\"M17.41 7.96l-1.37-1.37c-.4-.4-.92-.59-1.43-.59-.52 0-1.04.2-1.43.59L10.3 9.45l-7.72 7.72c-.78.78-.78 2.05 0 2.83L4 21.41c.39.39.9.59 1.41.59.51 0 1.02-.2 1.41-.59l7.78-7.78 2.81-2.81c.8-.78.8-2.07 0-2.86zM5.41 20L4 18.59l7.72-7.72 1.47 1.35L5.41 20z\"/>\n",
              "  </svg>\n",
              "      </button>\n",
              "      \n",
              "  <style>\n",
              "    .colab-df-container {\n",
              "      display:flex;\n",
              "      flex-wrap:wrap;\n",
              "      gap: 12px;\n",
              "    }\n",
              "\n",
              "    .colab-df-convert {\n",
              "      background-color: #E8F0FE;\n",
              "      border: none;\n",
              "      border-radius: 50%;\n",
              "      cursor: pointer;\n",
              "      display: none;\n",
              "      fill: #1967D2;\n",
              "      height: 32px;\n",
              "      padding: 0 0 0 0;\n",
              "      width: 32px;\n",
              "    }\n",
              "\n",
              "    .colab-df-convert:hover {\n",
              "      background-color: #E2EBFA;\n",
              "      box-shadow: 0px 1px 2px rgba(60, 64, 67, 0.3), 0px 1px 3px 1px rgba(60, 64, 67, 0.15);\n",
              "      fill: #174EA6;\n",
              "    }\n",
              "\n",
              "    [theme=dark] .colab-df-convert {\n",
              "      background-color: #3B4455;\n",
              "      fill: #D2E3FC;\n",
              "    }\n",
              "\n",
              "    [theme=dark] .colab-df-convert:hover {\n",
              "      background-color: #434B5C;\n",
              "      box-shadow: 0px 1px 3px 1px rgba(0, 0, 0, 0.15);\n",
              "      filter: drop-shadow(0px 1px 2px rgba(0, 0, 0, 0.3));\n",
              "      fill: #FFFFFF;\n",
              "    }\n",
              "  </style>\n",
              "\n",
              "      <script>\n",
              "        const buttonEl =\n",
              "          document.querySelector('#df-1d68dc8e-d918-4265-8513-8e7ea6d8b35f button.colab-df-convert');\n",
              "        buttonEl.style.display =\n",
              "          google.colab.kernel.accessAllowed ? 'block' : 'none';\n",
              "\n",
              "        async function convertToInteractive(key) {\n",
              "          const element = document.querySelector('#df-1d68dc8e-d918-4265-8513-8e7ea6d8b35f');\n",
              "          const dataTable =\n",
              "            await google.colab.kernel.invokeFunction('convertToInteractive',\n",
              "                                                     [key], {});\n",
              "          if (!dataTable) return;\n",
              "\n",
              "          const docLinkHtml = 'Like what you see? Visit the ' +\n",
              "            '<a target=\"_blank\" href=https://colab.research.google.com/notebooks/data_table.ipynb>data table notebook</a>'\n",
              "            + ' to learn more about interactive tables.';\n",
              "          element.innerHTML = '';\n",
              "          dataTable['output_type'] = 'display_data';\n",
              "          await google.colab.output.renderOutput(dataTable, element);\n",
              "          const docLink = document.createElement('div');\n",
              "          docLink.innerHTML = docLinkHtml;\n",
              "          element.appendChild(docLink);\n",
              "        }\n",
              "      </script>\n",
              "    </div>\n",
              "  </div>\n",
              "  "
            ],
            "text/plain": [
              "               0\n",
              "count  50.000000\n",
              "mean    0.480000\n",
              "std     0.504672\n",
              "min     0.000000\n",
              "25%     0.000000\n",
              "50%     0.000000\n",
              "75%     1.000000\n",
              "max     1.000000"
            ]
          },
          "metadata": {},
          "execution_count": 37
        }
      ]
    },
    {
      "cell_type": "code",
      "source": [
        "t_statistics = []\n",
        "p_values = []\n",
        "n_experiments = 10000\n",
        "\n",
        "for _ in range(n_experiments):\n",
        "  df = make_soda_data(n=500)\n",
        "  ttest = scipy.stats.ttest_1samp(df, 0.5)\n",
        "  t_statistics.append(ttest.statistic)\n",
        "  p_values.append(ttest.pvalue)\n",
        "\n",
        "pd.DataFrame(t_statistics).describe()"
      ],
      "metadata": {
        "colab": {
          "base_uri": "https://localhost:8080/",
          "height": 300
        },
        "id": "SMzRN73gThGY",
        "outputId": "19f1fd1c-fbec-4cab-f1f0-d46a19b47dfe"
      },
      "execution_count": null,
      "outputs": [
        {
          "output_type": "execute_result",
          "data": {
            "text/html": [
              "\n",
              "  <div id=\"df-7c37779d-6270-4a46-8ed2-50eaaec455e1\">\n",
              "    <div class=\"colab-df-container\">\n",
              "      <div>\n",
              "<style scoped>\n",
              "    .dataframe tbody tr th:only-of-type {\n",
              "        vertical-align: middle;\n",
              "    }\n",
              "\n",
              "    .dataframe tbody tr th {\n",
              "        vertical-align: top;\n",
              "    }\n",
              "\n",
              "    .dataframe thead th {\n",
              "        text-align: right;\n",
              "    }\n",
              "</style>\n",
              "<table border=\"1\" class=\"dataframe\">\n",
              "  <thead>\n",
              "    <tr style=\"text-align: right;\">\n",
              "      <th></th>\n",
              "      <th>0</th>\n",
              "    </tr>\n",
              "  </thead>\n",
              "  <tbody>\n",
              "    <tr>\n",
              "      <th>count</th>\n",
              "      <td>10000.000000</td>\n",
              "    </tr>\n",
              "    <tr>\n",
              "      <th>mean</th>\n",
              "      <td>-0.013539</td>\n",
              "    </tr>\n",
              "    <tr>\n",
              "      <th>std</th>\n",
              "      <td>1.004371</td>\n",
              "    </tr>\n",
              "    <tr>\n",
              "      <th>min</th>\n",
              "      <td>-3.713766</td>\n",
              "    </tr>\n",
              "    <tr>\n",
              "      <th>25%</th>\n",
              "      <td>-0.715192</td>\n",
              "    </tr>\n",
              "    <tr>\n",
              "      <th>50%</th>\n",
              "      <td>0.000000</td>\n",
              "    </tr>\n",
              "    <tr>\n",
              "      <th>75%</th>\n",
              "      <td>0.625718</td>\n",
              "    </tr>\n",
              "    <tr>\n",
              "      <th>max</th>\n",
              "      <td>4.181645</td>\n",
              "    </tr>\n",
              "  </tbody>\n",
              "</table>\n",
              "</div>\n",
              "      <button class=\"colab-df-convert\" onclick=\"convertToInteractive('df-7c37779d-6270-4a46-8ed2-50eaaec455e1')\"\n",
              "              title=\"Convert this dataframe to an interactive table.\"\n",
              "              style=\"display:none;\">\n",
              "        \n",
              "  <svg xmlns=\"http://www.w3.org/2000/svg\" height=\"24px\"viewBox=\"0 0 24 24\"\n",
              "       width=\"24px\">\n",
              "    <path d=\"M0 0h24v24H0V0z\" fill=\"none\"/>\n",
              "    <path d=\"M18.56 5.44l.94 2.06.94-2.06 2.06-.94-2.06-.94-.94-2.06-.94 2.06-2.06.94zm-11 1L8.5 8.5l.94-2.06 2.06-.94-2.06-.94L8.5 2.5l-.94 2.06-2.06.94zm10 10l.94 2.06.94-2.06 2.06-.94-2.06-.94-.94-2.06-.94 2.06-2.06.94z\"/><path d=\"M17.41 7.96l-1.37-1.37c-.4-.4-.92-.59-1.43-.59-.52 0-1.04.2-1.43.59L10.3 9.45l-7.72 7.72c-.78.78-.78 2.05 0 2.83L4 21.41c.39.39.9.59 1.41.59.51 0 1.02-.2 1.41-.59l7.78-7.78 2.81-2.81c.8-.78.8-2.07 0-2.86zM5.41 20L4 18.59l7.72-7.72 1.47 1.35L5.41 20z\"/>\n",
              "  </svg>\n",
              "      </button>\n",
              "      \n",
              "  <style>\n",
              "    .colab-df-container {\n",
              "      display:flex;\n",
              "      flex-wrap:wrap;\n",
              "      gap: 12px;\n",
              "    }\n",
              "\n",
              "    .colab-df-convert {\n",
              "      background-color: #E8F0FE;\n",
              "      border: none;\n",
              "      border-radius: 50%;\n",
              "      cursor: pointer;\n",
              "      display: none;\n",
              "      fill: #1967D2;\n",
              "      height: 32px;\n",
              "      padding: 0 0 0 0;\n",
              "      width: 32px;\n",
              "    }\n",
              "\n",
              "    .colab-df-convert:hover {\n",
              "      background-color: #E2EBFA;\n",
              "      box-shadow: 0px 1px 2px rgba(60, 64, 67, 0.3), 0px 1px 3px 1px rgba(60, 64, 67, 0.15);\n",
              "      fill: #174EA6;\n",
              "    }\n",
              "\n",
              "    [theme=dark] .colab-df-convert {\n",
              "      background-color: #3B4455;\n",
              "      fill: #D2E3FC;\n",
              "    }\n",
              "\n",
              "    [theme=dark] .colab-df-convert:hover {\n",
              "      background-color: #434B5C;\n",
              "      box-shadow: 0px 1px 3px 1px rgba(0, 0, 0, 0.15);\n",
              "      filter: drop-shadow(0px 1px 2px rgba(0, 0, 0, 0.3));\n",
              "      fill: #FFFFFF;\n",
              "    }\n",
              "  </style>\n",
              "\n",
              "      <script>\n",
              "        const buttonEl =\n",
              "          document.querySelector('#df-7c37779d-6270-4a46-8ed2-50eaaec455e1 button.colab-df-convert');\n",
              "        buttonEl.style.display =\n",
              "          google.colab.kernel.accessAllowed ? 'block' : 'none';\n",
              "\n",
              "        async function convertToInteractive(key) {\n",
              "          const element = document.querySelector('#df-7c37779d-6270-4a46-8ed2-50eaaec455e1');\n",
              "          const dataTable =\n",
              "            await google.colab.kernel.invokeFunction('convertToInteractive',\n",
              "                                                     [key], {});\n",
              "          if (!dataTable) return;\n",
              "\n",
              "          const docLinkHtml = 'Like what you see? Visit the ' +\n",
              "            '<a target=\"_blank\" href=https://colab.research.google.com/notebooks/data_table.ipynb>data table notebook</a>'\n",
              "            + ' to learn more about interactive tables.';\n",
              "          element.innerHTML = '';\n",
              "          dataTable['output_type'] = 'display_data';\n",
              "          await google.colab.output.renderOutput(dataTable, element);\n",
              "          const docLink = document.createElement('div');\n",
              "          docLink.innerHTML = docLinkHtml;\n",
              "          element.appendChild(docLink);\n",
              "        }\n",
              "      </script>\n",
              "    </div>\n",
              "  </div>\n",
              "  "
            ],
            "text/plain": [
              "                  0\n",
              "count  10000.000000\n",
              "mean      -0.013539\n",
              "std        1.004371\n",
              "min       -3.713766\n",
              "25%       -0.715192\n",
              "50%        0.000000\n",
              "75%        0.625718\n",
              "max        4.181645"
            ]
          },
          "metadata": {},
          "execution_count": 38
        }
      ]
    },
    {
      "cell_type": "code",
      "source": [
        "pd.DataFrame(p_values).describe()"
      ],
      "metadata": {
        "colab": {
          "base_uri": "https://localhost:8080/",
          "height": 300
        },
        "id": "VW5m3igCToH3",
        "outputId": "41eff1c1-6bbc-427f-d389-b6b0cff3cf1f"
      },
      "execution_count": null,
      "outputs": [
        {
          "output_type": "execute_result",
          "data": {
            "text/html": [
              "\n",
              "  <div id=\"df-90ed8b80-4a0a-4a54-b595-76f1c1ccd1ab\">\n",
              "    <div class=\"colab-df-container\">\n",
              "      <div>\n",
              "<style scoped>\n",
              "    .dataframe tbody tr th:only-of-type {\n",
              "        vertical-align: middle;\n",
              "    }\n",
              "\n",
              "    .dataframe tbody tr th {\n",
              "        vertical-align: top;\n",
              "    }\n",
              "\n",
              "    .dataframe thead th {\n",
              "        text-align: right;\n",
              "    }\n",
              "</style>\n",
              "<table border=\"1\" class=\"dataframe\">\n",
              "  <thead>\n",
              "    <tr style=\"text-align: right;\">\n",
              "      <th></th>\n",
              "      <th>0</th>\n",
              "    </tr>\n",
              "  </thead>\n",
              "  <tbody>\n",
              "    <tr>\n",
              "      <th>count</th>\n",
              "      <td>10000.000000</td>\n",
              "    </tr>\n",
              "    <tr>\n",
              "      <th>mean</th>\n",
              "      <td>0.500868</td>\n",
              "    </tr>\n",
              "    <tr>\n",
              "      <th>std</th>\n",
              "      <td>0.289882</td>\n",
              "    </tr>\n",
              "    <tr>\n",
              "      <th>min</th>\n",
              "      <td>0.000034</td>\n",
              "    </tr>\n",
              "    <tr>\n",
              "      <th>25%</th>\n",
              "      <td>0.245318</td>\n",
              "    </tr>\n",
              "    <tr>\n",
              "      <th>50%</th>\n",
              "      <td>0.474825</td>\n",
              "    </tr>\n",
              "    <tr>\n",
              "      <th>75%</th>\n",
              "      <td>0.720900</td>\n",
              "    </tr>\n",
              "    <tr>\n",
              "      <th>max</th>\n",
              "      <td>1.000000</td>\n",
              "    </tr>\n",
              "  </tbody>\n",
              "</table>\n",
              "</div>\n",
              "      <button class=\"colab-df-convert\" onclick=\"convertToInteractive('df-90ed8b80-4a0a-4a54-b595-76f1c1ccd1ab')\"\n",
              "              title=\"Convert this dataframe to an interactive table.\"\n",
              "              style=\"display:none;\">\n",
              "        \n",
              "  <svg xmlns=\"http://www.w3.org/2000/svg\" height=\"24px\"viewBox=\"0 0 24 24\"\n",
              "       width=\"24px\">\n",
              "    <path d=\"M0 0h24v24H0V0z\" fill=\"none\"/>\n",
              "    <path d=\"M18.56 5.44l.94 2.06.94-2.06 2.06-.94-2.06-.94-.94-2.06-.94 2.06-2.06.94zm-11 1L8.5 8.5l.94-2.06 2.06-.94-2.06-.94L8.5 2.5l-.94 2.06-2.06.94zm10 10l.94 2.06.94-2.06 2.06-.94-2.06-.94-.94-2.06-.94 2.06-2.06.94z\"/><path d=\"M17.41 7.96l-1.37-1.37c-.4-.4-.92-.59-1.43-.59-.52 0-1.04.2-1.43.59L10.3 9.45l-7.72 7.72c-.78.78-.78 2.05 0 2.83L4 21.41c.39.39.9.59 1.41.59.51 0 1.02-.2 1.41-.59l7.78-7.78 2.81-2.81c.8-.78.8-2.07 0-2.86zM5.41 20L4 18.59l7.72-7.72 1.47 1.35L5.41 20z\"/>\n",
              "  </svg>\n",
              "      </button>\n",
              "      \n",
              "  <style>\n",
              "    .colab-df-container {\n",
              "      display:flex;\n",
              "      flex-wrap:wrap;\n",
              "      gap: 12px;\n",
              "    }\n",
              "\n",
              "    .colab-df-convert {\n",
              "      background-color: #E8F0FE;\n",
              "      border: none;\n",
              "      border-radius: 50%;\n",
              "      cursor: pointer;\n",
              "      display: none;\n",
              "      fill: #1967D2;\n",
              "      height: 32px;\n",
              "      padding: 0 0 0 0;\n",
              "      width: 32px;\n",
              "    }\n",
              "\n",
              "    .colab-df-convert:hover {\n",
              "      background-color: #E2EBFA;\n",
              "      box-shadow: 0px 1px 2px rgba(60, 64, 67, 0.3), 0px 1px 3px 1px rgba(60, 64, 67, 0.15);\n",
              "      fill: #174EA6;\n",
              "    }\n",
              "\n",
              "    [theme=dark] .colab-df-convert {\n",
              "      background-color: #3B4455;\n",
              "      fill: #D2E3FC;\n",
              "    }\n",
              "\n",
              "    [theme=dark] .colab-df-convert:hover {\n",
              "      background-color: #434B5C;\n",
              "      box-shadow: 0px 1px 3px 1px rgba(0, 0, 0, 0.15);\n",
              "      filter: drop-shadow(0px 1px 2px rgba(0, 0, 0, 0.3));\n",
              "      fill: #FFFFFF;\n",
              "    }\n",
              "  </style>\n",
              "\n",
              "      <script>\n",
              "        const buttonEl =\n",
              "          document.querySelector('#df-90ed8b80-4a0a-4a54-b595-76f1c1ccd1ab button.colab-df-convert');\n",
              "        buttonEl.style.display =\n",
              "          google.colab.kernel.accessAllowed ? 'block' : 'none';\n",
              "\n",
              "        async function convertToInteractive(key) {\n",
              "          const element = document.querySelector('#df-90ed8b80-4a0a-4a54-b595-76f1c1ccd1ab');\n",
              "          const dataTable =\n",
              "            await google.colab.kernel.invokeFunction('convertToInteractive',\n",
              "                                                     [key], {});\n",
              "          if (!dataTable) return;\n",
              "\n",
              "          const docLinkHtml = 'Like what you see? Visit the ' +\n",
              "            '<a target=\"_blank\" href=https://colab.research.google.com/notebooks/data_table.ipynb>data table notebook</a>'\n",
              "            + ' to learn more about interactive tables.';\n",
              "          element.innerHTML = '';\n",
              "          dataTable['output_type'] = 'display_data';\n",
              "          await google.colab.output.renderOutput(dataTable, element);\n",
              "          const docLink = document.createElement('div');\n",
              "          docLink.innerHTML = docLinkHtml;\n",
              "          element.appendChild(docLink);\n",
              "        }\n",
              "      </script>\n",
              "    </div>\n",
              "  </div>\n",
              "  "
            ],
            "text/plain": [
              "                  0\n",
              "count  10000.000000\n",
              "mean       0.500868\n",
              "std        0.289882\n",
              "min        0.000034\n",
              "25%        0.245318\n",
              "50%        0.474825\n",
              "75%        0.720900\n",
              "max        1.000000"
            ]
          },
          "metadata": {},
          "execution_count": 39
        }
      ]
    },
    {
      "cell_type": "markdown",
      "source": [
        "## Ajuste de modelos paramétricos\n",
        "\n",
        "Por muitas vezes, queremos avaliar se uma dada distribuição pertence ao um determinado modelo, assim sendo devemos plotar "
      ],
      "metadata": {
        "id": "UYJf5tfHb7pL"
      }
    },
    {
      "cell_type": "code",
      "source": [
        "import numpy as np\n",
        "import matplotlib.pyplot as plt\n",
        "from scipy.optimize import curve_fit\n",
        "\n",
        "# criando uma variavel aleatória gaussiana\n",
        "random.seed(8675309) # por reprodutibilidade\n",
        "samples = 10000\n",
        "bins = 100\n",
        "\n",
        "\n",
        "fig, ax = plt.subplots(figsize=(6,6),nrows=1, ncols=1)\n",
        "\n",
        "# definições básicas - média 0 e variancia 1\n",
        "xs = np.random.normal(loc=0, scale=(1)**0.5, size=(samples,))\n",
        "\n",
        "est_pdf, bins, patches = ax.hist(xs, bins=bins, \n",
        "                               color='black',\n",
        "                               alpha=0.5, \n",
        "                               label='$\\mu=0, \\sigma^2=1$');\n",
        "                       \n",
        "# Define the Gaussian function\n",
        "def Gauss(x, A, B):\n",
        "    y = A*np.exp(-1*B*x**2)\n",
        "    return y\n",
        "\n",
        "bins = bins = bins[0:-1]\n",
        "parameters, covariance = curve_fit(Gauss, bins, est_pdf)\n",
        "\n",
        "fit_gauss = Gauss(bins, parameters[0], parameters[1])\n",
        "ax.plot(bins,fit_gauss,'r-')"
      ],
      "metadata": {
        "colab": {
          "base_uri": "https://localhost:8080/",
          "height": 532
        },
        "id": "mvY3YpWqVVq7",
        "outputId": "ccf51fc8-6b57-4425-935c-5f9b00a19359"
      },
      "execution_count": null,
      "outputs": [
        {
          "output_type": "stream",
          "name": "stderr",
          "text": [
            "/usr/local/lib/python3.7/dist-packages/ipykernel_launcher.py:23: RuntimeWarning: overflow encountered in exp\n"
          ]
        },
        {
          "output_type": "execute_result",
          "data": {
            "text/plain": [
              "[<matplotlib.lines.Line2D at 0x7f9f6c52ea90>]"
            ]
          },
          "metadata": {},
          "execution_count": 68
        },
        {
          "output_type": "display_data",
          "data": {
            "text/plain": [
              "<Figure size 432x432 with 1 Axes>"
            ],
            "image/svg+xml": "<?xml version=\"1.0\" encoding=\"utf-8\" standalone=\"no\"?>\n<!DOCTYPE svg PUBLIC \"-//W3C//DTD SVG 1.1//EN\"\n  \"http://www.w3.org/Graphics/SVG/1.1/DTD/svg11.dtd\">\n<svg xmlns:xlink=\"http://www.w3.org/1999/xlink\" width=\"375.2875pt\" height=\"357.238125pt\" viewBox=\"0 0 375.2875 357.238125\" xmlns=\"http://www.w3.org/2000/svg\" version=\"1.1\">\n <metadata>\n  <rdf:RDF xmlns:dc=\"http://purl.org/dc/elements/1.1/\" xmlns:cc=\"http://creativecommons.org/ns#\" xmlns:rdf=\"http://www.w3.org/1999/02/22-rdf-syntax-ns#\">\n   <cc:Work>\n    <dc:type rdf:resource=\"http://purl.org/dc/dcmitype/StillImage\"/>\n    <dc:date>2022-01-18T22:45:37.323495</dc:date>\n    <dc:format>image/svg+xml</dc:format>\n    <dc:creator>\n     <cc:Agent>\n      <dc:title>Matplotlib v3.5.1, https://matplotlib.org/</dc:title>\n     </cc:Agent>\n    </dc:creator>\n   </cc:Work>\n  </rdf:RDF>\n </metadata>\n <defs>\n  <style type=\"text/css\">*{stroke-linejoin: round; stroke-linecap: butt}</style>\n </defs>\n <g id=\"figure_1\">\n  <g id=\"patch_1\">\n   <path d=\"M 0 357.238125 \nL 375.2875 357.238125 \nL 375.2875 0 \nL 0 0 \nL 0 357.238125 \nz\n\" style=\"fill: none\"/>\n  </g>\n  <g id=\"axes_1\">\n   <g id=\"patch_2\">\n    <path d=\"M 33.2875 333.36 \nL 368.0875 333.36 \nL 368.0875 7.2 \nL 33.2875 7.2 \nz\n\" style=\"fill: #ffffff\"/>\n   </g>\n   <g id=\"patch_3\">\n    <path d=\"M 48.505682 333.36 \nL 51.549318 333.36 \nL 51.549318 332.45701 \nL 48.505682 332.45701 \nz\n\" clip-path=\"url(#p0502f47316)\" style=\"opacity: 0.5\"/>\n   </g>\n   <g id=\"patch_4\">\n    <path d=\"M 51.549318 333.36 \nL 54.592955 333.36 \nL 54.592955 333.36 \nL 51.549318 333.36 \nz\n\" clip-path=\"url(#p0502f47316)\" style=\"opacity: 0.5\"/>\n   </g>\n   <g id=\"patch_5\">\n    <path d=\"M 54.592955 333.36 \nL 57.636591 333.36 \nL 57.636591 333.36 \nL 54.592955 333.36 \nz\n\" clip-path=\"url(#p0502f47316)\" style=\"opacity: 0.5\"/>\n   </g>\n   <g id=\"patch_6\">\n    <path d=\"M 57.636591 333.36 \nL 60.680227 333.36 \nL 60.680227 333.36 \nL 57.636591 333.36 \nz\n\" clip-path=\"url(#p0502f47316)\" style=\"opacity: 0.5\"/>\n   </g>\n   <g id=\"patch_7\">\n    <path d=\"M 60.680227 333.36 \nL 63.723864 333.36 \nL 63.723864 333.36 \nL 60.680227 333.36 \nz\n\" clip-path=\"url(#p0502f47316)\" style=\"opacity: 0.5\"/>\n   </g>\n   <g id=\"patch_8\">\n    <path d=\"M 63.723864 333.36 \nL 66.7675 333.36 \nL 66.7675 332.45701 \nL 63.723864 332.45701 \nz\n\" clip-path=\"url(#p0502f47316)\" style=\"opacity: 0.5\"/>\n   </g>\n   <g id=\"patch_9\">\n    <path d=\"M 66.7675 333.36 \nL 69.811136 333.36 \nL 69.811136 327.94206 \nL 66.7675 327.94206 \nz\n\" clip-path=\"url(#p0502f47316)\" style=\"opacity: 0.5\"/>\n   </g>\n   <g id=\"patch_10\">\n    <path d=\"M 69.811136 333.36 \nL 72.854773 333.36 \nL 72.854773 331.55402 \nL 69.811136 331.55402 \nz\n\" clip-path=\"url(#p0502f47316)\" style=\"opacity: 0.5\"/>\n   </g>\n   <g id=\"patch_11\">\n    <path d=\"M 72.854773 333.36 \nL 75.898409 333.36 \nL 75.898409 329.74804 \nL 72.854773 329.74804 \nz\n\" clip-path=\"url(#p0502f47316)\" style=\"opacity: 0.5\"/>\n   </g>\n   <g id=\"patch_12\">\n    <path d=\"M 75.898409 333.36 \nL 78.942045 333.36 \nL 78.942045 329.74804 \nL 75.898409 329.74804 \nz\n\" clip-path=\"url(#p0502f47316)\" style=\"opacity: 0.5\"/>\n   </g>\n   <g id=\"patch_13\">\n    <path d=\"M 78.942045 333.36 \nL 81.985682 333.36 \nL 81.985682 328.84505 \nL 78.942045 328.84505 \nz\n\" clip-path=\"url(#p0502f47316)\" style=\"opacity: 0.5\"/>\n   </g>\n   <g id=\"patch_14\">\n    <path d=\"M 81.985682 333.36 \nL 85.029318 333.36 \nL 85.029318 324.3301 \nL 81.985682 324.3301 \nz\n\" clip-path=\"url(#p0502f47316)\" style=\"opacity: 0.5\"/>\n   </g>\n   <g id=\"patch_15\">\n    <path d=\"M 85.029318 333.36 \nL 88.072955 333.36 \nL 88.072955 325.23309 \nL 85.029318 325.23309 \nz\n\" clip-path=\"url(#p0502f47316)\" style=\"opacity: 0.5\"/>\n   </g>\n   <g id=\"patch_16\">\n    <path d=\"M 88.072955 333.36 \nL 91.116591 333.36 \nL 91.116591 325.23309 \nL 88.072955 325.23309 \nz\n\" clip-path=\"url(#p0502f47316)\" style=\"opacity: 0.5\"/>\n   </g>\n   <g id=\"patch_17\">\n    <path d=\"M 91.116591 333.36 \nL 94.160227 333.36 \nL 94.160227 314.397209 \nL 91.116591 314.397209 \nz\n\" clip-path=\"url(#p0502f47316)\" style=\"opacity: 0.5\"/>\n   </g>\n   <g id=\"patch_18\">\n    <path d=\"M 94.160227 333.36 \nL 97.203864 333.36 \nL 97.203864 326.13608 \nL 94.160227 326.13608 \nz\n\" clip-path=\"url(#p0502f47316)\" style=\"opacity: 0.5\"/>\n   </g>\n   <g id=\"patch_19\">\n    <path d=\"M 97.203864 333.36 \nL 100.2475 333.36 \nL 100.2475 318.912159 \nL 97.203864 318.912159 \nz\n\" clip-path=\"url(#p0502f47316)\" style=\"opacity: 0.5\"/>\n   </g>\n   <g id=\"patch_20\">\n    <path d=\"M 100.2475 333.36 \nL 103.291136 333.36 \nL 103.291136 310.785249 \nL 100.2475 310.785249 \nz\n\" clip-path=\"url(#p0502f47316)\" style=\"opacity: 0.5\"/>\n   </g>\n   <g id=\"patch_21\">\n    <path d=\"M 103.291136 333.36 \nL 106.334773 333.36 \nL 106.334773 300.852359 \nL 103.291136 300.852359 \nz\n\" clip-path=\"url(#p0502f47316)\" style=\"opacity: 0.5\"/>\n   </g>\n   <g id=\"patch_22\">\n    <path d=\"M 106.334773 333.36 \nL 109.378409 333.36 \nL 109.378409 300.852359 \nL 106.334773 300.852359 \nz\n\" clip-path=\"url(#p0502f47316)\" style=\"opacity: 0.5\"/>\n   </g>\n   <g id=\"patch_23\">\n    <path d=\"M 109.378409 333.36 \nL 112.422045 333.36 \nL 112.422045 302.658339 \nL 109.378409 302.658339 \nz\n\" clip-path=\"url(#p0502f47316)\" style=\"opacity: 0.5\"/>\n   </g>\n   <g id=\"patch_24\">\n    <path d=\"M 112.422045 333.36 \nL 115.465682 333.36 \nL 115.465682 292.725449 \nL 112.422045 292.725449 \nz\n\" clip-path=\"url(#p0502f47316)\" style=\"opacity: 0.5\"/>\n   </g>\n   <g id=\"patch_25\">\n    <path d=\"M 115.465682 333.36 \nL 118.509318 333.36 \nL 118.509318 276.471628 \nL 115.465682 276.471628 \nz\n\" clip-path=\"url(#p0502f47316)\" style=\"opacity: 0.5\"/>\n   </g>\n   <g id=\"patch_26\">\n    <path d=\"M 118.509318 333.36 \nL 121.552955 333.36 \nL 121.552955 268.344718 \nL 118.509318 268.344718 \nz\n\" clip-path=\"url(#p0502f47316)\" style=\"opacity: 0.5\"/>\n   </g>\n   <g id=\"patch_27\">\n    <path d=\"M 121.552955 333.36 \nL 124.596591 333.36 \nL 124.596591 274.665648 \nL 121.552955 274.665648 \nz\n\" clip-path=\"url(#p0502f47316)\" style=\"opacity: 0.5\"/>\n   </g>\n   <g id=\"patch_28\">\n    <path d=\"M 124.596591 333.36 \nL 127.640227 333.36 \nL 127.640227 246.672957 \nL 124.596591 246.672957 \nz\n\" clip-path=\"url(#p0502f47316)\" style=\"opacity: 0.5\"/>\n   </g>\n   <g id=\"patch_29\">\n    <path d=\"M 127.640227 333.36 \nL 130.683864 333.36 \nL 130.683864 257.508837 \nL 127.640227 257.508837 \nz\n\" clip-path=\"url(#p0502f47316)\" style=\"opacity: 0.5\"/>\n   </g>\n   <g id=\"patch_30\">\n    <path d=\"M 130.683864 333.36 \nL 133.7275 333.36 \nL 133.7275 243.060997 \nL 130.683864 243.060997 \nz\n\" clip-path=\"url(#p0502f47316)\" style=\"opacity: 0.5\"/>\n   </g>\n   <g id=\"patch_31\">\n    <path d=\"M 133.7275 333.36 \nL 136.771136 333.36 \nL 136.771136 218.680266 \nL 133.7275 218.680266 \nz\n\" clip-path=\"url(#p0502f47316)\" style=\"opacity: 0.5\"/>\n   </g>\n   <g id=\"patch_32\">\n    <path d=\"M 136.771136 333.36 \nL 139.814773 333.36 \nL 139.814773 198.814485 \nL 136.771136 198.814485 \nz\n\" clip-path=\"url(#p0502f47316)\" style=\"opacity: 0.5\"/>\n   </g>\n   <g id=\"patch_33\">\n    <path d=\"M 139.814773 333.36 \nL 142.858409 333.36 \nL 142.858409 159.082924 \nL 139.814773 159.082924 \nz\n\" clip-path=\"url(#p0502f47316)\" style=\"opacity: 0.5\"/>\n   </g>\n   <g id=\"patch_34\">\n    <path d=\"M 142.858409 333.36 \nL 145.902045 333.36 \nL 145.902045 196.105515 \nL 142.858409 196.105515 \nz\n\" clip-path=\"url(#p0502f47316)\" style=\"opacity: 0.5\"/>\n   </g>\n   <g id=\"patch_35\">\n    <path d=\"M 145.902045 333.36 \nL 148.945682 333.36 \nL 148.945682 138.314153 \nL 145.902045 138.314153 \nz\n\" clip-path=\"url(#p0502f47316)\" style=\"opacity: 0.5\"/>\n   </g>\n   <g id=\"patch_36\">\n    <path d=\"M 148.945682 333.36 \nL 151.989318 333.36 \nL 151.989318 131.993223 \nL 148.945682 131.993223 \nz\n\" clip-path=\"url(#p0502f47316)\" style=\"opacity: 0.5\"/>\n   </g>\n   <g id=\"patch_37\">\n    <path d=\"M 151.989318 333.36 \nL 155.032955 333.36 \nL 155.032955 106.709502 \nL 151.989318 106.709502 \nz\n\" clip-path=\"url(#p0502f47316)\" style=\"opacity: 0.5\"/>\n   </g>\n   <g id=\"patch_38\">\n    <path d=\"M 155.032955 333.36 \nL 158.076591 333.36 \nL 158.076591 94.970631 \nL 155.032955 94.970631 \nz\n\" clip-path=\"url(#p0502f47316)\" style=\"opacity: 0.5\"/>\n   </g>\n   <g id=\"patch_39\">\n    <path d=\"M 158.076591 333.36 \nL 161.120227 333.36 \nL 161.120227 94.970631 \nL 158.076591 94.970631 \nz\n\" clip-path=\"url(#p0502f47316)\" style=\"opacity: 0.5\"/>\n   </g>\n   <g id=\"patch_40\">\n    <path d=\"M 161.120227 333.36 \nL 164.163864 333.36 \nL 164.163864 66.97794 \nL 161.120227 66.97794 \nz\n\" clip-path=\"url(#p0502f47316)\" style=\"opacity: 0.5\"/>\n   </g>\n   <g id=\"patch_41\">\n    <path d=\"M 164.163864 333.36 \nL 167.2075 333.36 \nL 167.2075 66.07495 \nL 164.163864 66.07495 \nz\n\" clip-path=\"url(#p0502f47316)\" style=\"opacity: 0.5\"/>\n   </g>\n   <g id=\"patch_42\">\n    <path d=\"M 167.2075 333.36 \nL 170.251136 333.36 \nL 170.251136 37.179269 \nL 167.2075 37.179269 \nz\n\" clip-path=\"url(#p0502f47316)\" style=\"opacity: 0.5\"/>\n   </g>\n   <g id=\"patch_43\">\n    <path d=\"M 170.251136 333.36 \nL 173.294773 333.36 \nL 173.294773 56.14206 \nL 170.251136 56.14206 \nz\n\" clip-path=\"url(#p0502f47316)\" style=\"opacity: 0.5\"/>\n   </g>\n   <g id=\"patch_44\">\n    <path d=\"M 173.294773 333.36 \nL 176.338409 333.36 \nL 176.338409 37.179269 \nL 173.294773 37.179269 \nz\n\" clip-path=\"url(#p0502f47316)\" style=\"opacity: 0.5\"/>\n   </g>\n   <g id=\"patch_45\">\n    <path d=\"M 176.338409 333.36 \nL 179.382045 333.36 \nL 179.382045 22.731429 \nL 176.338409 22.731429 \nz\n\" clip-path=\"url(#p0502f47316)\" style=\"opacity: 0.5\"/>\n   </g>\n   <g id=\"patch_46\">\n    <path d=\"M 179.382045 333.36 \nL 182.425682 333.36 \nL 182.425682 49.82113 \nL 179.382045 49.82113 \nz\n\" clip-path=\"url(#p0502f47316)\" style=\"opacity: 0.5\"/>\n   </g>\n   <g id=\"patch_47\">\n    <path d=\"M 182.425682 333.36 \nL 185.469318 333.36 \nL 185.469318 23.634419 \nL 182.425682 23.634419 \nz\n\" clip-path=\"url(#p0502f47316)\" style=\"opacity: 0.5\"/>\n   </g>\n   <g id=\"patch_48\">\n    <path d=\"M 185.469318 333.36 \nL 188.512955 333.36 \nL 188.512955 25.440399 \nL 185.469318 25.440399 \nz\n\" clip-path=\"url(#p0502f47316)\" style=\"opacity: 0.5\"/>\n   </g>\n   <g id=\"patch_49\">\n    <path d=\"M 188.512955 333.36 \nL 191.556591 333.36 \nL 191.556591 27.246379 \nL 188.512955 27.246379 \nz\n\" clip-path=\"url(#p0502f47316)\" style=\"opacity: 0.5\"/>\n   </g>\n   <g id=\"patch_50\">\n    <path d=\"M 191.556591 333.36 \nL 194.600227 333.36 \nL 194.600227 26.343389 \nL 191.556591 26.343389 \nz\n\" clip-path=\"url(#p0502f47316)\" style=\"opacity: 0.5\"/>\n   </g>\n   <g id=\"patch_51\">\n    <path d=\"M 194.600227 333.36 \nL 197.643864 333.36 \nL 197.643864 47.112159 \nL 194.600227 47.112159 \nz\n\" clip-path=\"url(#p0502f47316)\" style=\"opacity: 0.5\"/>\n   </g>\n   <g id=\"patch_52\">\n    <path d=\"M 197.643864 333.36 \nL 200.6875 333.36 \nL 200.6875 52.5301 \nL 197.643864 52.5301 \nz\n\" clip-path=\"url(#p0502f47316)\" style=\"opacity: 0.5\"/>\n   </g>\n   <g id=\"patch_53\">\n    <path d=\"M 200.6875 333.36 \nL 203.731136 333.36 \nL 203.731136 40.791229 \nL 200.6875 40.791229 \nz\n\" clip-path=\"url(#p0502f47316)\" style=\"opacity: 0.5\"/>\n   </g>\n   <g id=\"patch_54\">\n    <path d=\"M 203.731136 333.36 \nL 206.774773 333.36 \nL 206.774773 76.007841 \nL 203.731136 76.007841 \nz\n\" clip-path=\"url(#p0502f47316)\" style=\"opacity: 0.5\"/>\n   </g>\n   <g id=\"patch_55\">\n    <path d=\"M 206.774773 333.36 \nL 209.818409 333.36 \nL 209.818409 106.709502 \nL 206.774773 106.709502 \nz\n\" clip-path=\"url(#p0502f47316)\" style=\"opacity: 0.5\"/>\n   </g>\n   <g id=\"patch_56\">\n    <path d=\"M 209.818409 333.36 \nL 212.862045 333.36 \nL 212.862045 89.552691 \nL 209.818409 89.552691 \nz\n\" clip-path=\"url(#p0502f47316)\" style=\"opacity: 0.5\"/>\n   </g>\n   <g id=\"patch_57\">\n    <path d=\"M 212.862045 333.36 \nL 215.905682 333.36 \nL 215.905682 130.187243 \nL 212.862045 130.187243 \nz\n\" clip-path=\"url(#p0502f47316)\" style=\"opacity: 0.5\"/>\n   </g>\n   <g id=\"patch_58\">\n    <path d=\"M 215.905682 333.36 \nL 218.949318 333.36 \nL 218.949318 129.284252 \nL 215.905682 129.284252 \nz\n\" clip-path=\"url(#p0502f47316)\" style=\"opacity: 0.5\"/>\n   </g>\n   <g id=\"patch_59\">\n    <path d=\"M 218.949318 333.36 \nL 221.992955 333.36 \nL 221.992955 143.732093 \nL 218.949318 143.732093 \nz\n\" clip-path=\"url(#p0502f47316)\" style=\"opacity: 0.5\"/>\n   </g>\n   <g id=\"patch_60\">\n    <path d=\"M 221.992955 333.36 \nL 225.036591 333.36 \nL 225.036591 164.500864 \nL 221.992955 164.500864 \nz\n\" clip-path=\"url(#p0502f47316)\" style=\"opacity: 0.5\"/>\n   </g>\n   <g id=\"patch_61\">\n    <path d=\"M 225.036591 333.36 \nL 228.080227 333.36 \nL 228.080227 185.269635 \nL 225.036591 185.269635 \nz\n\" clip-path=\"url(#p0502f47316)\" style=\"opacity: 0.5\"/>\n   </g>\n   <g id=\"patch_62\">\n    <path d=\"M 228.080227 333.36 \nL 231.123864 333.36 \nL 231.123864 209.650365 \nL 228.080227 209.650365 \nz\n\" clip-path=\"url(#p0502f47316)\" style=\"opacity: 0.5\"/>\n   </g>\n   <g id=\"patch_63\">\n    <path d=\"M 231.123864 333.36 \nL 234.1675 333.36 \nL 234.1675 221.389236 \nL 231.123864 221.389236 \nz\n\" clip-path=\"url(#p0502f47316)\" style=\"opacity: 0.5\"/>\n   </g>\n   <g id=\"patch_64\">\n    <path d=\"M 234.1675 333.36 \nL 237.211136 333.36 \nL 237.211136 233.128106 \nL 234.1675 233.128106 \nz\n\" clip-path=\"url(#p0502f47316)\" style=\"opacity: 0.5\"/>\n   </g>\n   <g id=\"patch_65\">\n    <path d=\"M 237.211136 333.36 \nL 240.254773 333.36 \nL 240.254773 233.128106 \nL 237.211136 233.128106 \nz\n\" clip-path=\"url(#p0502f47316)\" style=\"opacity: 0.5\"/>\n   </g>\n   <g id=\"patch_66\">\n    <path d=\"M 240.254773 333.36 \nL 243.298409 333.36 \nL 243.298409 252.993887 \nL 240.254773 252.993887 \nz\n\" clip-path=\"url(#p0502f47316)\" style=\"opacity: 0.5\"/>\n   </g>\n   <g id=\"patch_67\">\n    <path d=\"M 243.298409 333.36 \nL 246.342045 333.36 \nL 246.342045 258.411827 \nL 243.298409 258.411827 \nz\n\" clip-path=\"url(#p0502f47316)\" style=\"opacity: 0.5\"/>\n   </g>\n   <g id=\"patch_68\">\n    <path d=\"M 246.342045 333.36 \nL 249.385682 333.36 \nL 249.385682 262.926777 \nL 246.342045 262.926777 \nz\n\" clip-path=\"url(#p0502f47316)\" style=\"opacity: 0.5\"/>\n   </g>\n   <g id=\"patch_69\">\n    <path d=\"M 249.385682 333.36 \nL 252.429318 333.36 \nL 252.429318 278.277608 \nL 249.385682 278.277608 \nz\n\" clip-path=\"url(#p0502f47316)\" style=\"opacity: 0.5\"/>\n   </g>\n   <g id=\"patch_70\">\n    <path d=\"M 252.429318 333.36 \nL 255.472955 333.36 \nL 255.472955 290.016478 \nL 252.429318 290.016478 \nz\n\" clip-path=\"url(#p0502f47316)\" style=\"opacity: 0.5\"/>\n   </g>\n   <g id=\"patch_71\">\n    <path d=\"M 255.472955 333.36 \nL 258.516591 333.36 \nL 258.516591 298.143389 \nL 255.472955 298.143389 \nz\n\" clip-path=\"url(#p0502f47316)\" style=\"opacity: 0.5\"/>\n   </g>\n   <g id=\"patch_72\">\n    <path d=\"M 258.516591 333.36 \nL 261.560227 333.36 \nL 261.560227 298.143389 \nL 258.516591 298.143389 \nz\n\" clip-path=\"url(#p0502f47316)\" style=\"opacity: 0.5\"/>\n   </g>\n   <g id=\"patch_73\">\n    <path d=\"M 261.560227 333.36 \nL 264.603864 333.36 \nL 264.603864 305.367309 \nL 261.560227 305.367309 \nz\n\" clip-path=\"url(#p0502f47316)\" style=\"opacity: 0.5\"/>\n   </g>\n   <g id=\"patch_74\">\n    <path d=\"M 264.603864 333.36 \nL 267.6475 333.36 \nL 267.6475 309.882259 \nL 264.603864 309.882259 \nz\n\" clip-path=\"url(#p0502f47316)\" style=\"opacity: 0.5\"/>\n   </g>\n   <g id=\"patch_75\">\n    <path d=\"M 267.6475 333.36 \nL 270.691136 333.36 \nL 270.691136 318.009169 \nL 267.6475 318.009169 \nz\n\" clip-path=\"url(#p0502f47316)\" style=\"opacity: 0.5\"/>\n   </g>\n   <g id=\"patch_76\">\n    <path d=\"M 270.691136 333.36 \nL 273.734773 333.36 \nL 273.734773 319.81515 \nL 270.691136 319.81515 \nz\n\" clip-path=\"url(#p0502f47316)\" style=\"opacity: 0.5\"/>\n   </g>\n   <g id=\"patch_77\">\n    <path d=\"M 273.734773 333.36 \nL 276.778409 333.36 \nL 276.778409 321.62113 \nL 273.734773 321.62113 \nz\n\" clip-path=\"url(#p0502f47316)\" style=\"opacity: 0.5\"/>\n   </g>\n   <g id=\"patch_78\">\n    <path d=\"M 276.778409 333.36 \nL 279.822045 333.36 \nL 279.822045 324.3301 \nL 276.778409 324.3301 \nz\n\" clip-path=\"url(#p0502f47316)\" style=\"opacity: 0.5\"/>\n   </g>\n   <g id=\"patch_79\">\n    <path d=\"M 279.822045 333.36 \nL 282.865682 333.36 \nL 282.865682 328.84505 \nL 279.822045 328.84505 \nz\n\" clip-path=\"url(#p0502f47316)\" style=\"opacity: 0.5\"/>\n   </g>\n   <g id=\"patch_80\">\n    <path d=\"M 282.865682 333.36 \nL 285.909318 333.36 \nL 285.909318 326.13608 \nL 282.865682 326.13608 \nz\n\" clip-path=\"url(#p0502f47316)\" style=\"opacity: 0.5\"/>\n   </g>\n   <g id=\"patch_81\">\n    <path d=\"M 285.909318 333.36 \nL 288.952955 333.36 \nL 288.952955 329.74804 \nL 285.909318 329.74804 \nz\n\" clip-path=\"url(#p0502f47316)\" style=\"opacity: 0.5\"/>\n   </g>\n   <g id=\"patch_82\">\n    <path d=\"M 288.952955 333.36 \nL 291.996591 333.36 \nL 291.996591 330.65103 \nL 288.952955 330.65103 \nz\n\" clip-path=\"url(#p0502f47316)\" style=\"opacity: 0.5\"/>\n   </g>\n   <g id=\"patch_83\">\n    <path d=\"M 291.996591 333.36 \nL 295.040227 333.36 \nL 295.040227 327.94206 \nL 291.996591 327.94206 \nz\n\" clip-path=\"url(#p0502f47316)\" style=\"opacity: 0.5\"/>\n   </g>\n   <g id=\"patch_84\">\n    <path d=\"M 295.040227 333.36 \nL 298.083864 333.36 \nL 298.083864 332.45701 \nL 295.040227 332.45701 \nz\n\" clip-path=\"url(#p0502f47316)\" style=\"opacity: 0.5\"/>\n   </g>\n   <g id=\"patch_85\">\n    <path d=\"M 298.083864 333.36 \nL 301.1275 333.36 \nL 301.1275 332.45701 \nL 298.083864 332.45701 \nz\n\" clip-path=\"url(#p0502f47316)\" style=\"opacity: 0.5\"/>\n   </g>\n   <g id=\"patch_86\">\n    <path d=\"M 301.1275 333.36 \nL 304.171136 333.36 \nL 304.171136 332.45701 \nL 301.1275 332.45701 \nz\n\" clip-path=\"url(#p0502f47316)\" style=\"opacity: 0.5\"/>\n   </g>\n   <g id=\"patch_87\">\n    <path d=\"M 304.171136 333.36 \nL 307.214773 333.36 \nL 307.214773 332.45701 \nL 304.171136 332.45701 \nz\n\" clip-path=\"url(#p0502f47316)\" style=\"opacity: 0.5\"/>\n   </g>\n   <g id=\"patch_88\">\n    <path d=\"M 307.214773 333.36 \nL 310.258409 333.36 \nL 310.258409 333.36 \nL 307.214773 333.36 \nz\n\" clip-path=\"url(#p0502f47316)\" style=\"opacity: 0.5\"/>\n   </g>\n   <g id=\"patch_89\">\n    <path d=\"M 310.258409 333.36 \nL 313.302045 333.36 \nL 313.302045 333.36 \nL 310.258409 333.36 \nz\n\" clip-path=\"url(#p0502f47316)\" style=\"opacity: 0.5\"/>\n   </g>\n   <g id=\"patch_90\">\n    <path d=\"M 313.302045 333.36 \nL 316.345682 333.36 \nL 316.345682 333.36 \nL 313.302045 333.36 \nz\n\" clip-path=\"url(#p0502f47316)\" style=\"opacity: 0.5\"/>\n   </g>\n   <g id=\"patch_91\">\n    <path d=\"M 316.345682 333.36 \nL 319.389318 333.36 \nL 319.389318 333.36 \nL 316.345682 333.36 \nz\n\" clip-path=\"url(#p0502f47316)\" style=\"opacity: 0.5\"/>\n   </g>\n   <g id=\"patch_92\">\n    <path d=\"M 319.389318 333.36 \nL 322.432955 333.36 \nL 322.432955 333.36 \nL 319.389318 333.36 \nz\n\" clip-path=\"url(#p0502f47316)\" style=\"opacity: 0.5\"/>\n   </g>\n   <g id=\"patch_93\">\n    <path d=\"M 322.432955 333.36 \nL 325.476591 333.36 \nL 325.476591 332.45701 \nL 322.432955 332.45701 \nz\n\" clip-path=\"url(#p0502f47316)\" style=\"opacity: 0.5\"/>\n   </g>\n   <g id=\"patch_94\">\n    <path d=\"M 325.476591 333.36 \nL 328.520227 333.36 \nL 328.520227 333.36 \nL 325.476591 333.36 \nz\n\" clip-path=\"url(#p0502f47316)\" style=\"opacity: 0.5\"/>\n   </g>\n   <g id=\"patch_95\">\n    <path d=\"M 328.520227 333.36 \nL 331.563864 333.36 \nL 331.563864 333.36 \nL 328.520227 333.36 \nz\n\" clip-path=\"url(#p0502f47316)\" style=\"opacity: 0.5\"/>\n   </g>\n   <g id=\"patch_96\">\n    <path d=\"M 331.563864 333.36 \nL 334.6075 333.36 \nL 334.6075 333.36 \nL 331.563864 333.36 \nz\n\" clip-path=\"url(#p0502f47316)\" style=\"opacity: 0.5\"/>\n   </g>\n   <g id=\"patch_97\">\n    <path d=\"M 334.6075 333.36 \nL 337.651136 333.36 \nL 337.651136 333.36 \nL 334.6075 333.36 \nz\n\" clip-path=\"url(#p0502f47316)\" style=\"opacity: 0.5\"/>\n   </g>\n   <g id=\"patch_98\">\n    <path d=\"M 337.651136 333.36 \nL 340.694773 333.36 \nL 340.694773 333.36 \nL 337.651136 333.36 \nz\n\" clip-path=\"url(#p0502f47316)\" style=\"opacity: 0.5\"/>\n   </g>\n   <g id=\"patch_99\">\n    <path d=\"M 340.694773 333.36 \nL 343.738409 333.36 \nL 343.738409 333.36 \nL 340.694773 333.36 \nz\n\" clip-path=\"url(#p0502f47316)\" style=\"opacity: 0.5\"/>\n   </g>\n   <g id=\"patch_100\">\n    <path d=\"M 343.738409 333.36 \nL 346.782045 333.36 \nL 346.782045 333.36 \nL 343.738409 333.36 \nz\n\" clip-path=\"url(#p0502f47316)\" style=\"opacity: 0.5\"/>\n   </g>\n   <g id=\"patch_101\">\n    <path d=\"M 346.782045 333.36 \nL 349.825682 333.36 \nL 349.825682 333.36 \nL 346.782045 333.36 \nz\n\" clip-path=\"url(#p0502f47316)\" style=\"opacity: 0.5\"/>\n   </g>\n   <g id=\"patch_102\">\n    <path d=\"M 349.825682 333.36 \nL 352.869318 333.36 \nL 352.869318 332.45701 \nL 349.825682 332.45701 \nz\n\" clip-path=\"url(#p0502f47316)\" style=\"opacity: 0.5\"/>\n   </g>\n   <g id=\"matplotlib.axis_1\">\n    <g id=\"xtick_1\">\n     <g id=\"line2d_1\">\n      <defs>\n       <path id=\"m5e5552d653\" d=\"M 0 0 \nL 0 3.5 \n\" style=\"stroke: #000000; stroke-width: 0.8\"/>\n      </defs>\n      <g>\n       <use xlink:href=\"#m5e5552d653\" x=\"41.24515\" y=\"333.36\" style=\"stroke: #000000; stroke-width: 0.8\"/>\n      </g>\n     </g>\n     <g id=\"text_1\">\n      <!-- −4 -->\n      <g transform=\"translate(33.874057 347.958438)scale(0.1 -0.1)\">\n       <defs>\n        <path id=\"DejaVuSans-2212\" d=\"M 678 2272 \nL 4684 2272 \nL 4684 1741 \nL 678 1741 \nL 678 2272 \nz\n\" transform=\"scale(0.015625)\"/>\n        <path id=\"DejaVuSans-34\" d=\"M 2419 4116 \nL 825 1625 \nL 2419 1625 \nL 2419 4116 \nz\nM 2253 4666 \nL 3047 4666 \nL 3047 1625 \nL 3713 1625 \nL 3713 1100 \nL 3047 1100 \nL 3047 0 \nL 2419 0 \nL 2419 1100 \nL 313 1100 \nL 313 1709 \nL 2253 4666 \nz\n\" transform=\"scale(0.015625)\"/>\n       </defs>\n       <use xlink:href=\"#DejaVuSans-2212\"/>\n       <use xlink:href=\"#DejaVuSans-34\" x=\"83.789062\"/>\n      </g>\n     </g>\n    </g>\n    <g id=\"xtick_2\">\n     <g id=\"line2d_2\">\n      <g>\n       <use xlink:href=\"#m5e5552d653\" x=\"112.550109\" y=\"333.36\" style=\"stroke: #000000; stroke-width: 0.8\"/>\n      </g>\n     </g>\n     <g id=\"text_2\">\n      <!-- −2 -->\n      <g transform=\"translate(105.179015 347.958438)scale(0.1 -0.1)\">\n       <defs>\n        <path id=\"DejaVuSans-32\" d=\"M 1228 531 \nL 3431 531 \nL 3431 0 \nL 469 0 \nL 469 531 \nQ 828 903 1448 1529 \nQ 2069 2156 2228 2338 \nQ 2531 2678 2651 2914 \nQ 2772 3150 2772 3378 \nQ 2772 3750 2511 3984 \nQ 2250 4219 1831 4219 \nQ 1534 4219 1204 4116 \nQ 875 4013 500 3803 \nL 500 4441 \nQ 881 4594 1212 4672 \nQ 1544 4750 1819 4750 \nQ 2544 4750 2975 4387 \nQ 3406 4025 3406 3419 \nQ 3406 3131 3298 2873 \nQ 3191 2616 2906 2266 \nQ 2828 2175 2409 1742 \nQ 1991 1309 1228 531 \nz\n\" transform=\"scale(0.015625)\"/>\n       </defs>\n       <use xlink:href=\"#DejaVuSans-2212\"/>\n       <use xlink:href=\"#DejaVuSans-32\" x=\"83.789062\"/>\n      </g>\n     </g>\n    </g>\n    <g id=\"xtick_3\">\n     <g id=\"line2d_3\">\n      <g>\n       <use xlink:href=\"#m5e5552d653\" x=\"183.855067\" y=\"333.36\" style=\"stroke: #000000; stroke-width: 0.8\"/>\n      </g>\n     </g>\n     <g id=\"text_3\">\n      <!-- 0 -->\n      <g transform=\"translate(180.673817 347.958438)scale(0.1 -0.1)\">\n       <defs>\n        <path id=\"DejaVuSans-30\" d=\"M 2034 4250 \nQ 1547 4250 1301 3770 \nQ 1056 3291 1056 2328 \nQ 1056 1369 1301 889 \nQ 1547 409 2034 409 \nQ 2525 409 2770 889 \nQ 3016 1369 3016 2328 \nQ 3016 3291 2770 3770 \nQ 2525 4250 2034 4250 \nz\nM 2034 4750 \nQ 2819 4750 3233 4129 \nQ 3647 3509 3647 2328 \nQ 3647 1150 3233 529 \nQ 2819 -91 2034 -91 \nQ 1250 -91 836 529 \nQ 422 1150 422 2328 \nQ 422 3509 836 4129 \nQ 1250 4750 2034 4750 \nz\n\" transform=\"scale(0.015625)\"/>\n       </defs>\n       <use xlink:href=\"#DejaVuSans-30\"/>\n      </g>\n     </g>\n    </g>\n    <g id=\"xtick_4\">\n     <g id=\"line2d_4\">\n      <g>\n       <use xlink:href=\"#m5e5552d653\" x=\"255.160026\" y=\"333.36\" style=\"stroke: #000000; stroke-width: 0.8\"/>\n      </g>\n     </g>\n     <g id=\"text_4\">\n      <!-- 2 -->\n      <g transform=\"translate(251.978776 347.958438)scale(0.1 -0.1)\">\n       <use xlink:href=\"#DejaVuSans-32\"/>\n      </g>\n     </g>\n    </g>\n    <g id=\"xtick_5\">\n     <g id=\"line2d_5\">\n      <g>\n       <use xlink:href=\"#m5e5552d653\" x=\"326.464984\" y=\"333.36\" style=\"stroke: #000000; stroke-width: 0.8\"/>\n      </g>\n     </g>\n     <g id=\"text_5\">\n      <!-- 4 -->\n      <g transform=\"translate(323.283734 347.958438)scale(0.1 -0.1)\">\n       <use xlink:href=\"#DejaVuSans-34\"/>\n      </g>\n     </g>\n    </g>\n   </g>\n   <g id=\"matplotlib.axis_2\">\n    <g id=\"ytick_1\">\n     <g id=\"line2d_6\">\n      <defs>\n       <path id=\"medd13c7edf\" d=\"M 0 0 \nL -3.5 0 \n\" style=\"stroke: #000000; stroke-width: 0.8\"/>\n      </defs>\n      <g>\n       <use xlink:href=\"#medd13c7edf\" x=\"33.2875\" y=\"333.36\" style=\"stroke: #000000; stroke-width: 0.8\"/>\n      </g>\n     </g>\n     <g id=\"text_6\">\n      <!-- 0 -->\n      <g transform=\"translate(19.925 337.159219)scale(0.1 -0.1)\">\n       <use xlink:href=\"#DejaVuSans-30\"/>\n      </g>\n     </g>\n    </g>\n    <g id=\"ytick_2\">\n     <g id=\"line2d_7\">\n      <g>\n       <use xlink:href=\"#medd13c7edf\" x=\"33.2875\" y=\"288.210498\" style=\"stroke: #000000; stroke-width: 0.8\"/>\n      </g>\n     </g>\n     <g id=\"text_7\">\n      <!-- 50 -->\n      <g transform=\"translate(13.5625 292.009717)scale(0.1 -0.1)\">\n       <defs>\n        <path id=\"DejaVuSans-35\" d=\"M 691 4666 \nL 3169 4666 \nL 3169 4134 \nL 1269 4134 \nL 1269 2991 \nQ 1406 3038 1543 3061 \nQ 1681 3084 1819 3084 \nQ 2600 3084 3056 2656 \nQ 3513 2228 3513 1497 \nQ 3513 744 3044 326 \nQ 2575 -91 1722 -91 \nQ 1428 -91 1123 -41 \nQ 819 9 494 109 \nL 494 744 \nQ 775 591 1075 516 \nQ 1375 441 1709 441 \nQ 2250 441 2565 725 \nQ 2881 1009 2881 1497 \nQ 2881 1984 2565 2268 \nQ 2250 2553 1709 2553 \nQ 1456 2553 1204 2497 \nQ 953 2441 691 2322 \nL 691 4666 \nz\n\" transform=\"scale(0.015625)\"/>\n       </defs>\n       <use xlink:href=\"#DejaVuSans-35\"/>\n       <use xlink:href=\"#DejaVuSans-30\" x=\"63.623047\"/>\n      </g>\n     </g>\n    </g>\n    <g id=\"ytick_3\">\n     <g id=\"line2d_8\">\n      <g>\n       <use xlink:href=\"#medd13c7edf\" x=\"33.2875\" y=\"243.060997\" style=\"stroke: #000000; stroke-width: 0.8\"/>\n      </g>\n     </g>\n     <g id=\"text_8\">\n      <!-- 100 -->\n      <g transform=\"translate(7.2 246.860215)scale(0.1 -0.1)\">\n       <defs>\n        <path id=\"DejaVuSans-31\" d=\"M 794 531 \nL 1825 531 \nL 1825 4091 \nL 703 3866 \nL 703 4441 \nL 1819 4666 \nL 2450 4666 \nL 2450 531 \nL 3481 531 \nL 3481 0 \nL 794 0 \nL 794 531 \nz\n\" transform=\"scale(0.015625)\"/>\n       </defs>\n       <use xlink:href=\"#DejaVuSans-31\"/>\n       <use xlink:href=\"#DejaVuSans-30\" x=\"63.623047\"/>\n       <use xlink:href=\"#DejaVuSans-30\" x=\"127.246094\"/>\n      </g>\n     </g>\n    </g>\n    <g id=\"ytick_4\">\n     <g id=\"line2d_9\">\n      <g>\n       <use xlink:href=\"#medd13c7edf\" x=\"33.2875\" y=\"197.911495\" style=\"stroke: #000000; stroke-width: 0.8\"/>\n      </g>\n     </g>\n     <g id=\"text_9\">\n      <!-- 150 -->\n      <g transform=\"translate(7.2 201.710714)scale(0.1 -0.1)\">\n       <use xlink:href=\"#DejaVuSans-31\"/>\n       <use xlink:href=\"#DejaVuSans-35\" x=\"63.623047\"/>\n       <use xlink:href=\"#DejaVuSans-30\" x=\"127.246094\"/>\n      </g>\n     </g>\n    </g>\n    <g id=\"ytick_5\">\n     <g id=\"line2d_10\">\n      <g>\n       <use xlink:href=\"#medd13c7edf\" x=\"33.2875\" y=\"152.761993\" style=\"stroke: #000000; stroke-width: 0.8\"/>\n      </g>\n     </g>\n     <g id=\"text_10\">\n      <!-- 200 -->\n      <g transform=\"translate(7.2 156.561212)scale(0.1 -0.1)\">\n       <use xlink:href=\"#DejaVuSans-32\"/>\n       <use xlink:href=\"#DejaVuSans-30\" x=\"63.623047\"/>\n       <use xlink:href=\"#DejaVuSans-30\" x=\"127.246094\"/>\n      </g>\n     </g>\n    </g>\n    <g id=\"ytick_6\">\n     <g id=\"line2d_11\">\n      <g>\n       <use xlink:href=\"#medd13c7edf\" x=\"33.2875\" y=\"107.612492\" style=\"stroke: #000000; stroke-width: 0.8\"/>\n      </g>\n     </g>\n     <g id=\"text_11\">\n      <!-- 250 -->\n      <g transform=\"translate(7.2 111.41171)scale(0.1 -0.1)\">\n       <use xlink:href=\"#DejaVuSans-32\"/>\n       <use xlink:href=\"#DejaVuSans-35\" x=\"63.623047\"/>\n       <use xlink:href=\"#DejaVuSans-30\" x=\"127.246094\"/>\n      </g>\n     </g>\n    </g>\n    <g id=\"ytick_7\">\n     <g id=\"line2d_12\">\n      <g>\n       <use xlink:href=\"#medd13c7edf\" x=\"33.2875\" y=\"62.46299\" style=\"stroke: #000000; stroke-width: 0.8\"/>\n      </g>\n     </g>\n     <g id=\"text_12\">\n      <!-- 300 -->\n      <g transform=\"translate(7.2 66.262209)scale(0.1 -0.1)\">\n       <defs>\n        <path id=\"DejaVuSans-33\" d=\"M 2597 2516 \nQ 3050 2419 3304 2112 \nQ 3559 1806 3559 1356 \nQ 3559 666 3084 287 \nQ 2609 -91 1734 -91 \nQ 1441 -91 1130 -33 \nQ 819 25 488 141 \nL 488 750 \nQ 750 597 1062 519 \nQ 1375 441 1716 441 \nQ 2309 441 2620 675 \nQ 2931 909 2931 1356 \nQ 2931 1769 2642 2001 \nQ 2353 2234 1838 2234 \nL 1294 2234 \nL 1294 2753 \nL 1863 2753 \nQ 2328 2753 2575 2939 \nQ 2822 3125 2822 3475 \nQ 2822 3834 2567 4026 \nQ 2313 4219 1838 4219 \nQ 1578 4219 1281 4162 \nQ 984 4106 628 3988 \nL 628 4550 \nQ 988 4650 1302 4700 \nQ 1616 4750 1894 4750 \nQ 2613 4750 3031 4423 \nQ 3450 4097 3450 3541 \nQ 3450 3153 3228 2886 \nQ 3006 2619 2597 2516 \nz\n\" transform=\"scale(0.015625)\"/>\n       </defs>\n       <use xlink:href=\"#DejaVuSans-33\"/>\n       <use xlink:href=\"#DejaVuSans-30\" x=\"63.623047\"/>\n       <use xlink:href=\"#DejaVuSans-30\" x=\"127.246094\"/>\n      </g>\n     </g>\n    </g>\n    <g id=\"ytick_8\">\n     <g id=\"line2d_13\">\n      <g>\n       <use xlink:href=\"#medd13c7edf\" x=\"33.2875\" y=\"17.313488\" style=\"stroke: #000000; stroke-width: 0.8\"/>\n      </g>\n     </g>\n     <g id=\"text_13\">\n      <!-- 350 -->\n      <g transform=\"translate(7.2 21.112707)scale(0.1 -0.1)\">\n       <use xlink:href=\"#DejaVuSans-33\"/>\n       <use xlink:href=\"#DejaVuSans-35\" x=\"63.623047\"/>\n       <use xlink:href=\"#DejaVuSans-30\" x=\"127.246094\"/>\n      </g>\n     </g>\n    </g>\n   </g>\n   <g id=\"line2d_14\">\n    <path d=\"M 48.505682 333.151313 \nL 51.549318 333.071265 \nL 54.592955 332.963452 \nL 57.636591 332.819388 \nL 60.680227 332.628409 \nL 63.723864 332.377247 \nL 66.7675 332.049571 \nL 69.811136 331.625494 \nL 72.854773 331.081068 \nL 75.898409 330.387787 \nL 78.942045 329.512119 \nL 81.985682 328.41511 \nL 85.029318 327.052101 \nL 88.072955 325.372589 \nL 91.116591 323.320306 \nL 94.160227 320.833548 \nL 97.203864 317.845819 \nL 100.2475 314.286833 \nL 103.291136 310.083916 \nL 106.334773 305.163825 \nL 109.378409 299.455008 \nL 112.422045 292.890274 \nL 115.465682 285.409842 \nL 118.509318 276.96469 \nL 121.552955 267.520109 \nL 124.596591 257.059325 \nL 127.640227 245.587023 \nL 130.683864 233.132605 \nL 133.7275 219.752966 \nL 136.771136 205.534598 \nL 139.814773 190.594826 \nL 142.858409 175.081999 \nL 145.902045 159.174498 \nL 148.945682 143.078478 \nL 151.989318 127.024291 \nL 155.032955 111.261646 \nL 158.076591 96.0536 \nL 161.120227 81.669554 \nL 164.163864 68.377511 \nL 167.2075 56.435879 \nL 170.251136 46.085178 \nL 173.294773 37.540016 \nL 176.338409 30.9817 \nL 179.382045 26.551845 \nL 182.425682 24.34729 \nL 185.469318 24.416577 \nL 188.512955 26.758178 \nL 191.556591 31.320547 \nL 194.600227 38.004008 \nL 197.643864 46.664376 \nL 200.6875 57.118129 \nL 203.731136 69.148864 \nL 206.774773 82.514742 \nL 209.818409 96.956535 \nL 212.862045 112.205924 \nL 215.905682 127.993678 \nL 218.949318 144.057361 \nL 221.992955 160.148278 \nL 225.036591 176.037422 \nL 228.080227 191.520237 \nL 231.123864 206.420113 \nL 234.1675 220.59057 \nL 237.211136 233.916174 \nL 240.254773 246.312273 \nL 243.298409 257.723711 \nL 246.342045 268.122674 \nL 249.385682 277.505874 \nL 252.429318 285.891278 \nL 255.472955 293.314568 \nL 258.516591 299.825519 \nL 261.560227 305.484455 \nL 264.603864 310.358916 \nL 267.6475 314.520628 \nL 270.691136 318.04286 \nL 273.734773 320.998188 \nL 276.778409 323.456704 \nL 279.822045 325.484638 \nL 282.865682 327.143378 \nL 285.909318 328.488849 \nL 288.952955 329.571199 \nL 291.996591 330.434735 \nL 295.040227 331.118071 \nL 298.083864 331.654422 \nL 301.1275 332.072004 \nL 304.171136 332.394503 \nL 307.214773 332.641577 \nL 310.258409 332.829357 \nL 313.302045 332.970939 \nL 316.345682 333.076843 \nL 319.389318 333.155436 \nL 322.432955 333.213302 \nL 325.476591 333.255573 \nL 328.520227 333.286211 \nL 331.563864 333.308243 \nL 334.6075 333.323964 \nL 337.651136 333.335094 \nL 340.694773 333.342914 \nL 343.738409 333.348364 \nL 346.782045 333.352134 \nL 349.825682 333.354722 \n\" clip-path=\"url(#p0502f47316)\" style=\"fill: none; stroke: #ff0000; stroke-width: 1.5; stroke-linecap: square\"/>\n   </g>\n   <g id=\"patch_103\">\n    <path d=\"M 33.2875 333.36 \nL 33.2875 7.2 \n\" style=\"fill: none; stroke: #000000; stroke-width: 0.8; stroke-linejoin: miter; stroke-linecap: square\"/>\n   </g>\n   <g id=\"patch_104\">\n    <path d=\"M 368.0875 333.36 \nL 368.0875 7.2 \n\" style=\"fill: none; stroke: #000000; stroke-width: 0.8; stroke-linejoin: miter; stroke-linecap: square\"/>\n   </g>\n   <g id=\"patch_105\">\n    <path d=\"M 33.2875 333.36 \nL 368.0875 333.36 \n\" style=\"fill: none; stroke: #000000; stroke-width: 0.8; stroke-linejoin: miter; stroke-linecap: square\"/>\n   </g>\n   <g id=\"patch_106\">\n    <path d=\"M 33.2875 7.2 \nL 368.0875 7.2 \n\" style=\"fill: none; stroke: #000000; stroke-width: 0.8; stroke-linejoin: miter; stroke-linecap: square\"/>\n   </g>\n  </g>\n </g>\n <defs>\n  <clipPath id=\"p0502f47316\">\n   <rect x=\"33.2875\" y=\"7.2\" width=\"334.8\" height=\"326.16\"/>\n  </clipPath>\n </defs>\n</svg>\n"
          },
          "metadata": {
            "needs_background": "light"
          }
        }
      ]
    },
    {
      "cell_type": "markdown",
      "source": [
        "Parece que ficou bom, mas como avaliar se encaixou?\n"
      ],
      "metadata": {
        "id": "eqsB80z7Xlx7"
      }
    },
    {
      "cell_type": "code",
      "source": [
        "import scipy.stats as stats\n",
        "\n",
        "# test do chi-quadrado para ajustes de modelos\n",
        "stats.chisquare(f_obs=est_pdf, f_exp=fit_gauss)"
      ],
      "metadata": {
        "colab": {
          "base_uri": "https://localhost:8080/"
        },
        "id": "ZK2S2HfCXuq7",
        "outputId": "7bed0668-253a-4f92-c27e-a6fcf99f9fd0"
      },
      "execution_count": null,
      "outputs": [
        {
          "output_type": "execute_result",
          "data": {
            "text/plain": [
              "Power_divergenceResult(statistic=272.2319130369863, pvalue=4.275256158413515e-18)"
            ]
          },
          "metadata": {},
          "execution_count": 69
        }
      ]
    },
    {
      "cell_type": "markdown",
      "source": [
        "Com o valor obtido é menor do que 0,5 (para 95% de confiança) podemos rejeitar a hipótese nula."
      ],
      "metadata": {
        "id": "eR_CrhNNYNsS"
      }
    },
    {
      "cell_type": "code",
      "source": [
        "import numpy as np\n",
        "import matplotlib.pyplot as plt\n",
        "from scipy.optimize import curve_fit\n",
        "\n",
        "# criando uma variavel aleatória gaussiana\n",
        "random.seed(8675309) # por reprodutibilidade\n",
        "samples = 100\n",
        "bins = 11\n",
        "\n",
        "\n",
        "fig, ax = plt.subplots(figsize=(6,6),nrows=1, ncols=1)\n",
        "\n",
        "# definições básicas - média 0 e variancia 1\n",
        "xs = np.random.normal(loc=0, scale=(1)**0.5, size=(samples,))\n",
        "\n",
        "est_pdf, bins, patches = ax.hist(xs, bins=bins, \n",
        "                               color='black',\n",
        "                               alpha=0.5, \n",
        "                               label='$\\mu=0, \\sigma^2=1$');\n",
        "                       \n",
        "# Define the Gaussian function\n",
        "def Gauss(x, A, B):\n",
        "    y = A*np.exp(-1*B*x**2)\n",
        "    return y\n",
        "\n",
        "bins = bins = bins[0:-1]\n",
        "parameters, covariance = curve_fit(Gauss, bins, est_pdf)\n",
        "\n",
        "fit_gauss = Gauss(bins, parameters[0], parameters[1])\n",
        "ax.plot(bins,fit_gauss,'r-')\n",
        "\n",
        "import scipy.stats as stats\n",
        "\n",
        "# test do chi-quadrado para ajustes de modelos\n",
        "stats.chisquare(f_obs=est_pdf, f_exp=fit_gauss)"
      ],
      "metadata": {
        "colab": {
          "base_uri": "https://localhost:8080/",
          "height": 515
        },
        "id": "_l8uwEdEXI4A",
        "outputId": "5e3385bc-fd72-4b78-e084-0df81c8922f0"
      },
      "execution_count": null,
      "outputs": [
        {
          "output_type": "execute_result",
          "data": {
            "text/plain": [
              "Power_divergenceResult(statistic=10.412136941492069, pvalue=0.4051088339117288)"
            ]
          },
          "metadata": {},
          "execution_count": 78
        },
        {
          "output_type": "display_data",
          "data": {
            "text/plain": [
              "<Figure size 432x432 with 1 Axes>"
            ],
            "image/svg+xml": "<?xml version=\"1.0\" encoding=\"utf-8\" standalone=\"no\"?>\n<!DOCTYPE svg PUBLIC \"-//W3C//DTD SVG 1.1//EN\"\n  \"http://www.w3.org/Graphics/SVG/1.1/DTD/svg11.dtd\">\n<svg xmlns:xlink=\"http://www.w3.org/1999/xlink\" width=\"368.925pt\" height=\"357.238125pt\" viewBox=\"0 0 368.925 357.238125\" xmlns=\"http://www.w3.org/2000/svg\" version=\"1.1\">\n <metadata>\n  <rdf:RDF xmlns:dc=\"http://purl.org/dc/elements/1.1/\" xmlns:cc=\"http://creativecommons.org/ns#\" xmlns:rdf=\"http://www.w3.org/1999/02/22-rdf-syntax-ns#\">\n   <cc:Work>\n    <dc:type rdf:resource=\"http://purl.org/dc/dcmitype/StillImage\"/>\n    <dc:date>2022-01-18T22:51:19.451588</dc:date>\n    <dc:format>image/svg+xml</dc:format>\n    <dc:creator>\n     <cc:Agent>\n      <dc:title>Matplotlib v3.5.1, https://matplotlib.org/</dc:title>\n     </cc:Agent>\n    </dc:creator>\n   </cc:Work>\n  </rdf:RDF>\n </metadata>\n <defs>\n  <style type=\"text/css\">*{stroke-linejoin: round; stroke-linecap: butt}</style>\n </defs>\n <g id=\"figure_1\">\n  <g id=\"patch_1\">\n   <path d=\"M -0 357.238125 \nL 368.925 357.238125 \nL 368.925 0 \nL -0 0 \nL -0 357.238125 \nz\n\" style=\"fill: none\"/>\n  </g>\n  <g id=\"axes_1\">\n   <g id=\"patch_2\">\n    <path d=\"M 26.925 333.36 \nL 361.725 333.36 \nL 361.725 7.2 \nL 26.925 7.2 \nz\n\" style=\"fill: #ffffff\"/>\n   </g>\n   <g id=\"patch_3\">\n    <path d=\"M 42.143182 333.36 \nL 69.812603 333.36 \nL 69.812603 320.934857 \nL 42.143182 320.934857 \nz\n\" clip-path=\"url(#pdc5134a4ed)\" style=\"opacity: 0.5\"/>\n   </g>\n   <g id=\"patch_4\">\n    <path d=\"M 69.812603 333.36 \nL 97.482025 333.36 \nL 97.482025 320.934857 \nL 69.812603 320.934857 \nz\n\" clip-path=\"url(#pdc5134a4ed)\" style=\"opacity: 0.5\"/>\n   </g>\n   <g id=\"patch_5\">\n    <path d=\"M 97.482025 333.36 \nL 125.151446 333.36 \nL 125.151446 233.958857 \nL 97.482025 233.958857 \nz\n\" clip-path=\"url(#pdc5134a4ed)\" style=\"opacity: 0.5\"/>\n   </g>\n   <g id=\"patch_6\">\n    <path d=\"M 125.151446 333.36 \nL 152.820868 333.36 \nL 152.820868 221.533714 \nL 125.151446 221.533714 \nz\n\" clip-path=\"url(#pdc5134a4ed)\" style=\"opacity: 0.5\"/>\n   </g>\n   <g id=\"patch_7\">\n    <path d=\"M 152.820868 333.36 \nL 180.490289 333.36 \nL 180.490289 171.833143 \nL 152.820868 171.833143 \nz\n\" clip-path=\"url(#pdc5134a4ed)\" style=\"opacity: 0.5\"/>\n   </g>\n   <g id=\"patch_8\">\n    <path d=\"M 180.490289 333.36 \nL 208.159711 333.36 \nL 208.159711 22.731429 \nL 180.490289 22.731429 \nz\n\" clip-path=\"url(#pdc5134a4ed)\" style=\"opacity: 0.5\"/>\n   </g>\n   <g id=\"patch_9\">\n    <path d=\"M 208.159711 333.36 \nL 235.829132 333.36 \nL 235.829132 171.833143 \nL 208.159711 171.833143 \nz\n\" clip-path=\"url(#pdc5134a4ed)\" style=\"opacity: 0.5\"/>\n   </g>\n   <g id=\"patch_10\">\n    <path d=\"M 235.829132 333.36 \nL 263.498554 333.36 \nL 263.498554 184.258286 \nL 235.829132 184.258286 \nz\n\" clip-path=\"url(#pdc5134a4ed)\" style=\"opacity: 0.5\"/>\n   </g>\n   <g id=\"patch_11\">\n    <path d=\"M 263.498554 333.36 \nL 291.167975 333.36 \nL 291.167975 171.833143 \nL 263.498554 171.833143 \nz\n\" clip-path=\"url(#pdc5134a4ed)\" style=\"opacity: 0.5\"/>\n   </g>\n   <g id=\"patch_12\">\n    <path d=\"M 291.167975 333.36 \nL 318.837397 333.36 \nL 318.837397 308.509714 \nL 291.167975 308.509714 \nz\n\" clip-path=\"url(#pdc5134a4ed)\" style=\"opacity: 0.5\"/>\n   </g>\n   <g id=\"patch_13\">\n    <path d=\"M 318.837397 333.36 \nL 346.506818 333.36 \nL 346.506818 296.084571 \nL 318.837397 296.084571 \nz\n\" clip-path=\"url(#pdc5134a4ed)\" style=\"opacity: 0.5\"/>\n   </g>\n   <g id=\"matplotlib.axis_1\">\n    <g id=\"xtick_1\">\n     <g id=\"line2d_1\">\n      <defs>\n       <path id=\"m23d73a8017\" d=\"M 0 0 \nL 0 3.5 \n\" style=\"stroke: #000000; stroke-width: 0.8\"/>\n      </defs>\n      <g>\n       <use xlink:href=\"#m23d73a8017\" x=\"64.273388\" y=\"333.36\" style=\"stroke: #000000; stroke-width: 0.8\"/>\n      </g>\n     </g>\n     <g id=\"text_1\">\n      <!-- −2 -->\n      <g transform=\"translate(56.902294 347.958438)scale(0.1 -0.1)\">\n       <defs>\n        <path id=\"DejaVuSans-2212\" d=\"M 678 2272 \nL 4684 2272 \nL 4684 1741 \nL 678 1741 \nL 678 2272 \nz\n\" transform=\"scale(0.015625)\"/>\n        <path id=\"DejaVuSans-32\" d=\"M 1228 531 \nL 3431 531 \nL 3431 0 \nL 469 0 \nL 469 531 \nQ 828 903 1448 1529 \nQ 2069 2156 2228 2338 \nQ 2531 2678 2651 2914 \nQ 2772 3150 2772 3378 \nQ 2772 3750 2511 3984 \nQ 2250 4219 1831 4219 \nQ 1534 4219 1204 4116 \nQ 875 4013 500 3803 \nL 500 4441 \nQ 881 4594 1212 4672 \nQ 1544 4750 1819 4750 \nQ 2544 4750 2975 4387 \nQ 3406 4025 3406 3419 \nQ 3406 3131 3298 2873 \nQ 3191 2616 2906 2266 \nQ 2828 2175 2409 1742 \nQ 1991 1309 1228 531 \nz\n\" transform=\"scale(0.015625)\"/>\n       </defs>\n       <use xlink:href=\"#DejaVuSans-2212\"/>\n       <use xlink:href=\"#DejaVuSans-32\" x=\"83.789062\"/>\n      </g>\n     </g>\n    </g>\n    <g id=\"xtick_2\">\n     <g id=\"line2d_2\">\n      <g>\n       <use xlink:href=\"#m23d73a8017\" x=\"127.346204\" y=\"333.36\" style=\"stroke: #000000; stroke-width: 0.8\"/>\n      </g>\n     </g>\n     <g id=\"text_2\">\n      <!-- −1 -->\n      <g transform=\"translate(119.975111 347.958438)scale(0.1 -0.1)\">\n       <defs>\n        <path id=\"DejaVuSans-31\" d=\"M 794 531 \nL 1825 531 \nL 1825 4091 \nL 703 3866 \nL 703 4441 \nL 1819 4666 \nL 2450 4666 \nL 2450 531 \nL 3481 531 \nL 3481 0 \nL 794 0 \nL 794 531 \nz\n\" transform=\"scale(0.015625)\"/>\n       </defs>\n       <use xlink:href=\"#DejaVuSans-2212\"/>\n       <use xlink:href=\"#DejaVuSans-31\" x=\"83.789062\"/>\n      </g>\n     </g>\n    </g>\n    <g id=\"xtick_3\">\n     <g id=\"line2d_3\">\n      <g>\n       <use xlink:href=\"#m23d73a8017\" x=\"190.419021\" y=\"333.36\" style=\"stroke: #000000; stroke-width: 0.8\"/>\n      </g>\n     </g>\n     <g id=\"text_3\">\n      <!-- 0 -->\n      <g transform=\"translate(187.237771 347.958438)scale(0.1 -0.1)\">\n       <defs>\n        <path id=\"DejaVuSans-30\" d=\"M 2034 4250 \nQ 1547 4250 1301 3770 \nQ 1056 3291 1056 2328 \nQ 1056 1369 1301 889 \nQ 1547 409 2034 409 \nQ 2525 409 2770 889 \nQ 3016 1369 3016 2328 \nQ 3016 3291 2770 3770 \nQ 2525 4250 2034 4250 \nz\nM 2034 4750 \nQ 2819 4750 3233 4129 \nQ 3647 3509 3647 2328 \nQ 3647 1150 3233 529 \nQ 2819 -91 2034 -91 \nQ 1250 -91 836 529 \nQ 422 1150 422 2328 \nQ 422 3509 836 4129 \nQ 1250 4750 2034 4750 \nz\n\" transform=\"scale(0.015625)\"/>\n       </defs>\n       <use xlink:href=\"#DejaVuSans-30\"/>\n      </g>\n     </g>\n    </g>\n    <g id=\"xtick_4\">\n     <g id=\"line2d_4\">\n      <g>\n       <use xlink:href=\"#m23d73a8017\" x=\"253.491838\" y=\"333.36\" style=\"stroke: #000000; stroke-width: 0.8\"/>\n      </g>\n     </g>\n     <g id=\"text_4\">\n      <!-- 1 -->\n      <g transform=\"translate(250.310588 347.958438)scale(0.1 -0.1)\">\n       <use xlink:href=\"#DejaVuSans-31\"/>\n      </g>\n     </g>\n    </g>\n    <g id=\"xtick_5\">\n     <g id=\"line2d_5\">\n      <g>\n       <use xlink:href=\"#m23d73a8017\" x=\"316.564655\" y=\"333.36\" style=\"stroke: #000000; stroke-width: 0.8\"/>\n      </g>\n     </g>\n     <g id=\"text_5\">\n      <!-- 2 -->\n      <g transform=\"translate(313.383405 347.958438)scale(0.1 -0.1)\">\n       <use xlink:href=\"#DejaVuSans-32\"/>\n      </g>\n     </g>\n    </g>\n   </g>\n   <g id=\"matplotlib.axis_2\">\n    <g id=\"ytick_1\">\n     <g id=\"line2d_6\">\n      <defs>\n       <path id=\"mbd6711fee0\" d=\"M 0 0 \nL -3.5 0 \n\" style=\"stroke: #000000; stroke-width: 0.8\"/>\n      </defs>\n      <g>\n       <use xlink:href=\"#mbd6711fee0\" x=\"26.925\" y=\"333.36\" style=\"stroke: #000000; stroke-width: 0.8\"/>\n      </g>\n     </g>\n     <g id=\"text_6\">\n      <!-- 0 -->\n      <g transform=\"translate(13.5625 337.159219)scale(0.1 -0.1)\">\n       <use xlink:href=\"#DejaVuSans-30\"/>\n      </g>\n     </g>\n    </g>\n    <g id=\"ytick_2\">\n     <g id=\"line2d_7\">\n      <g>\n       <use xlink:href=\"#mbd6711fee0\" x=\"26.925\" y=\"271.234286\" style=\"stroke: #000000; stroke-width: 0.8\"/>\n      </g>\n     </g>\n     <g id=\"text_7\">\n      <!-- 5 -->\n      <g transform=\"translate(13.5625 275.033504)scale(0.1 -0.1)\">\n       <defs>\n        <path id=\"DejaVuSans-35\" d=\"M 691 4666 \nL 3169 4666 \nL 3169 4134 \nL 1269 4134 \nL 1269 2991 \nQ 1406 3038 1543 3061 \nQ 1681 3084 1819 3084 \nQ 2600 3084 3056 2656 \nQ 3513 2228 3513 1497 \nQ 3513 744 3044 326 \nQ 2575 -91 1722 -91 \nQ 1428 -91 1123 -41 \nQ 819 9 494 109 \nL 494 744 \nQ 775 591 1075 516 \nQ 1375 441 1709 441 \nQ 2250 441 2565 725 \nQ 2881 1009 2881 1497 \nQ 2881 1984 2565 2268 \nQ 2250 2553 1709 2553 \nQ 1456 2553 1204 2497 \nQ 953 2441 691 2322 \nL 691 4666 \nz\n\" transform=\"scale(0.015625)\"/>\n       </defs>\n       <use xlink:href=\"#DejaVuSans-35\"/>\n      </g>\n     </g>\n    </g>\n    <g id=\"ytick_3\">\n     <g id=\"line2d_8\">\n      <g>\n       <use xlink:href=\"#mbd6711fee0\" x=\"26.925\" y=\"209.108571\" style=\"stroke: #000000; stroke-width: 0.8\"/>\n      </g>\n     </g>\n     <g id=\"text_8\">\n      <!-- 10 -->\n      <g transform=\"translate(7.2 212.90779)scale(0.1 -0.1)\">\n       <use xlink:href=\"#DejaVuSans-31\"/>\n       <use xlink:href=\"#DejaVuSans-30\" x=\"63.623047\"/>\n      </g>\n     </g>\n    </g>\n    <g id=\"ytick_4\">\n     <g id=\"line2d_9\">\n      <g>\n       <use xlink:href=\"#mbd6711fee0\" x=\"26.925\" y=\"146.982857\" style=\"stroke: #000000; stroke-width: 0.8\"/>\n      </g>\n     </g>\n     <g id=\"text_9\">\n      <!-- 15 -->\n      <g transform=\"translate(7.2 150.782076)scale(0.1 -0.1)\">\n       <use xlink:href=\"#DejaVuSans-31\"/>\n       <use xlink:href=\"#DejaVuSans-35\" x=\"63.623047\"/>\n      </g>\n     </g>\n    </g>\n    <g id=\"ytick_5\">\n     <g id=\"line2d_10\">\n      <g>\n       <use xlink:href=\"#mbd6711fee0\" x=\"26.925\" y=\"84.857143\" style=\"stroke: #000000; stroke-width: 0.8\"/>\n      </g>\n     </g>\n     <g id=\"text_10\">\n      <!-- 20 -->\n      <g transform=\"translate(7.2 88.656362)scale(0.1 -0.1)\">\n       <use xlink:href=\"#DejaVuSans-32\"/>\n       <use xlink:href=\"#DejaVuSans-30\" x=\"63.623047\"/>\n      </g>\n     </g>\n    </g>\n    <g id=\"ytick_6\">\n     <g id=\"line2d_11\">\n      <g>\n       <use xlink:href=\"#mbd6711fee0\" x=\"26.925\" y=\"22.731429\" style=\"stroke: #000000; stroke-width: 0.8\"/>\n      </g>\n     </g>\n     <g id=\"text_11\">\n      <!-- 25 -->\n      <g transform=\"translate(7.2 26.530647)scale(0.1 -0.1)\">\n       <use xlink:href=\"#DejaVuSans-32\"/>\n       <use xlink:href=\"#DejaVuSans-35\" x=\"63.623047\"/>\n      </g>\n     </g>\n    </g>\n   </g>\n   <g id=\"line2d_12\">\n    <path d=\"M 42.143182 322.330632 \nL 69.812603 302.509306 \nL 97.482025 263.530222 \nL 125.151446 205.45786 \nL 152.820868 143.787046 \nL 180.490289 105.988323 \nL 208.159711 112.682644 \nL 235.829132 160.043224 \nL 263.498554 223.209912 \nL 291.167975 276.711225 \nL 318.837397 309.784679 \n\" clip-path=\"url(#pdc5134a4ed)\" style=\"fill: none; stroke: #ff0000; stroke-width: 1.5; stroke-linecap: square\"/>\n   </g>\n   <g id=\"patch_14\">\n    <path d=\"M 26.925 333.36 \nL 26.925 7.2 \n\" style=\"fill: none; stroke: #000000; stroke-width: 0.8; stroke-linejoin: miter; stroke-linecap: square\"/>\n   </g>\n   <g id=\"patch_15\">\n    <path d=\"M 361.725 333.36 \nL 361.725 7.2 \n\" style=\"fill: none; stroke: #000000; stroke-width: 0.8; stroke-linejoin: miter; stroke-linecap: square\"/>\n   </g>\n   <g id=\"patch_16\">\n    <path d=\"M 26.925 333.36 \nL 361.725 333.36 \n\" style=\"fill: none; stroke: #000000; stroke-width: 0.8; stroke-linejoin: miter; stroke-linecap: square\"/>\n   </g>\n   <g id=\"patch_17\">\n    <path d=\"M 26.925 7.2 \nL 361.725 7.2 \n\" style=\"fill: none; stroke: #000000; stroke-width: 0.8; stroke-linejoin: miter; stroke-linecap: square\"/>\n   </g>\n  </g>\n </g>\n <defs>\n  <clipPath id=\"pdc5134a4ed\">\n   <rect x=\"26.925\" y=\"7.2\" width=\"334.8\" height=\"326.16\"/>\n  </clipPath>\n </defs>\n</svg>\n"
          },
          "metadata": {
            "needs_background": "light"
          }
        }
      ]
    },
    {
      "cell_type": "markdown",
      "source": [
        "## Validação Cruzada"
      ],
      "metadata": {
        "id": "NsIQBMqjcAlJ"
      }
    },
    {
      "cell_type": "markdown",
      "source": [
        "Nosso objetivo como cientistas de dados é por muitas vezes fazer uma modelagem. No entanto, usar um único conjunto de treinamento e teste muitas vezes não é suficiente. A validação cruzada é considerada o padrão-ouro quando se trata de validar o desempenho do modelo e quase sempre é usada ao ajustar os hiperparâmetros do modelo. A partir daqui, vamos nos concentrar na execução da validação cruzada para validar o desempenho do modelo.\n"
      ],
      "metadata": {
        "id": "VNchu2JsZXV8"
      }
    },
    {
      "cell_type": "code",
      "source": [
        "import pandas as pd\n",
        "import numpy as np\n",
        "import matplotlib.pyplot as plt"
      ],
      "metadata": {
        "id": "tCotVpFZZXA1"
      },
      "execution_count": null,
      "outputs": []
    },
    {
      "cell_type": "markdown",
      "source": [
        "Depois de construir vários modelos de classificação baseados no conjunto de dados `tic_tac_toe`, você percebe que alguns modelos não generalizam tão bem quanto outros. Você criou divisões de treinamento e teste exatamente como foi ensinado, então está curioso para saber por que seu processo de validação não está funcionando.\n",
        "\n",
        "Depois de tentar um treinamento diferente, divisão de teste, você notou diferentes precisões para seu modelo de aprendizado de máquina. Antes de ficar muito frustrado com os resultados variados, você decidiu ver o que mais poderia estar acontecendo."
      ],
      "metadata": {
        "id": "I9Kl3yLYZ6R4"
      }
    },
    {
      "cell_type": "markdown",
      "source": [
        "### Carga de dados\n",
        "Vamos carregar dados de jogo da velha para que possamos treinar alguns modelos"
      ],
      "metadata": {
        "id": "na9_ivrZaRns"
      }
    },
    {
      "cell_type": "code",
      "source": [
        "import pandas as pd\n",
        "tic_tac_toe = pd.read_csv('https://raw.githubusercontent.com/natmourajr/data/main/tic-tac-toe.csv')\n",
        "tic_tac_toe.head()"
      ],
      "metadata": {
        "colab": {
          "base_uri": "https://localhost:8080/",
          "height": 250
        },
        "id": "Fwhd8CW8auDR",
        "outputId": "e43d0168-13e6-483f-e568-b75f40fb2334"
      },
      "execution_count": null,
      "outputs": [
        {
          "output_type": "execute_result",
          "data": {
            "text/html": [
              "\n",
              "  <div id=\"df-a2619339-8ced-4205-8846-2ec3980b9658\">\n",
              "    <div class=\"colab-df-container\">\n",
              "      <div>\n",
              "<style scoped>\n",
              "    .dataframe tbody tr th:only-of-type {\n",
              "        vertical-align: middle;\n",
              "    }\n",
              "\n",
              "    .dataframe tbody tr th {\n",
              "        vertical-align: top;\n",
              "    }\n",
              "\n",
              "    .dataframe thead th {\n",
              "        text-align: right;\n",
              "    }\n",
              "</style>\n",
              "<table border=\"1\" class=\"dataframe\">\n",
              "  <thead>\n",
              "    <tr style=\"text-align: right;\">\n",
              "      <th></th>\n",
              "      <th>top-left-square</th>\n",
              "      <th>top-middle-square</th>\n",
              "      <th>top-right-square</th>\n",
              "      <th>middle-left-square</th>\n",
              "      <th>middle-middle-square</th>\n",
              "      <th>middle-right-square</th>\n",
              "      <th>bottom-left-square</th>\n",
              "      <th>bottom-middle-square</th>\n",
              "      <th>bottom-right-square</th>\n",
              "      <th>Class</th>\n",
              "    </tr>\n",
              "  </thead>\n",
              "  <tbody>\n",
              "    <tr>\n",
              "      <th>0</th>\n",
              "      <td>x</td>\n",
              "      <td>x</td>\n",
              "      <td>x</td>\n",
              "      <td>x</td>\n",
              "      <td>o</td>\n",
              "      <td>o</td>\n",
              "      <td>x</td>\n",
              "      <td>o</td>\n",
              "      <td>o</td>\n",
              "      <td>positive</td>\n",
              "    </tr>\n",
              "    <tr>\n",
              "      <th>1</th>\n",
              "      <td>x</td>\n",
              "      <td>x</td>\n",
              "      <td>x</td>\n",
              "      <td>x</td>\n",
              "      <td>o</td>\n",
              "      <td>o</td>\n",
              "      <td>o</td>\n",
              "      <td>x</td>\n",
              "      <td>o</td>\n",
              "      <td>positive</td>\n",
              "    </tr>\n",
              "    <tr>\n",
              "      <th>2</th>\n",
              "      <td>x</td>\n",
              "      <td>x</td>\n",
              "      <td>x</td>\n",
              "      <td>x</td>\n",
              "      <td>o</td>\n",
              "      <td>o</td>\n",
              "      <td>o</td>\n",
              "      <td>o</td>\n",
              "      <td>x</td>\n",
              "      <td>positive</td>\n",
              "    </tr>\n",
              "    <tr>\n",
              "      <th>3</th>\n",
              "      <td>x</td>\n",
              "      <td>x</td>\n",
              "      <td>x</td>\n",
              "      <td>x</td>\n",
              "      <td>o</td>\n",
              "      <td>o</td>\n",
              "      <td>o</td>\n",
              "      <td>b</td>\n",
              "      <td>b</td>\n",
              "      <td>positive</td>\n",
              "    </tr>\n",
              "    <tr>\n",
              "      <th>4</th>\n",
              "      <td>x</td>\n",
              "      <td>x</td>\n",
              "      <td>x</td>\n",
              "      <td>x</td>\n",
              "      <td>o</td>\n",
              "      <td>o</td>\n",
              "      <td>b</td>\n",
              "      <td>o</td>\n",
              "      <td>b</td>\n",
              "      <td>positive</td>\n",
              "    </tr>\n",
              "  </tbody>\n",
              "</table>\n",
              "</div>\n",
              "      <button class=\"colab-df-convert\" onclick=\"convertToInteractive('df-a2619339-8ced-4205-8846-2ec3980b9658')\"\n",
              "              title=\"Convert this dataframe to an interactive table.\"\n",
              "              style=\"display:none;\">\n",
              "        \n",
              "  <svg xmlns=\"http://www.w3.org/2000/svg\" height=\"24px\"viewBox=\"0 0 24 24\"\n",
              "       width=\"24px\">\n",
              "    <path d=\"M0 0h24v24H0V0z\" fill=\"none\"/>\n",
              "    <path d=\"M18.56 5.44l.94 2.06.94-2.06 2.06-.94-2.06-.94-.94-2.06-.94 2.06-2.06.94zm-11 1L8.5 8.5l.94-2.06 2.06-.94-2.06-.94L8.5 2.5l-.94 2.06-2.06.94zm10 10l.94 2.06.94-2.06 2.06-.94-2.06-.94-.94-2.06-.94 2.06-2.06.94z\"/><path d=\"M17.41 7.96l-1.37-1.37c-.4-.4-.92-.59-1.43-.59-.52 0-1.04.2-1.43.59L10.3 9.45l-7.72 7.72c-.78.78-.78 2.05 0 2.83L4 21.41c.39.39.9.59 1.41.59.51 0 1.02-.2 1.41-.59l7.78-7.78 2.81-2.81c.8-.78.8-2.07 0-2.86zM5.41 20L4 18.59l7.72-7.72 1.47 1.35L5.41 20z\"/>\n",
              "  </svg>\n",
              "      </button>\n",
              "      \n",
              "  <style>\n",
              "    .colab-df-container {\n",
              "      display:flex;\n",
              "      flex-wrap:wrap;\n",
              "      gap: 12px;\n",
              "    }\n",
              "\n",
              "    .colab-df-convert {\n",
              "      background-color: #E8F0FE;\n",
              "      border: none;\n",
              "      border-radius: 50%;\n",
              "      cursor: pointer;\n",
              "      display: none;\n",
              "      fill: #1967D2;\n",
              "      height: 32px;\n",
              "      padding: 0 0 0 0;\n",
              "      width: 32px;\n",
              "    }\n",
              "\n",
              "    .colab-df-convert:hover {\n",
              "      background-color: #E2EBFA;\n",
              "      box-shadow: 0px 1px 2px rgba(60, 64, 67, 0.3), 0px 1px 3px 1px rgba(60, 64, 67, 0.15);\n",
              "      fill: #174EA6;\n",
              "    }\n",
              "\n",
              "    [theme=dark] .colab-df-convert {\n",
              "      background-color: #3B4455;\n",
              "      fill: #D2E3FC;\n",
              "    }\n",
              "\n",
              "    [theme=dark] .colab-df-convert:hover {\n",
              "      background-color: #434B5C;\n",
              "      box-shadow: 0px 1px 3px 1px rgba(0, 0, 0, 0.15);\n",
              "      filter: drop-shadow(0px 1px 2px rgba(0, 0, 0, 0.3));\n",
              "      fill: #FFFFFF;\n",
              "    }\n",
              "  </style>\n",
              "\n",
              "      <script>\n",
              "        const buttonEl =\n",
              "          document.querySelector('#df-a2619339-8ced-4205-8846-2ec3980b9658 button.colab-df-convert');\n",
              "        buttonEl.style.display =\n",
              "          google.colab.kernel.accessAllowed ? 'block' : 'none';\n",
              "\n",
              "        async function convertToInteractive(key) {\n",
              "          const element = document.querySelector('#df-a2619339-8ced-4205-8846-2ec3980b9658');\n",
              "          const dataTable =\n",
              "            await google.colab.kernel.invokeFunction('convertToInteractive',\n",
              "                                                     [key], {});\n",
              "          if (!dataTable) return;\n",
              "\n",
              "          const docLinkHtml = 'Like what you see? Visit the ' +\n",
              "            '<a target=\"_blank\" href=https://colab.research.google.com/notebooks/data_table.ipynb>data table notebook</a>'\n",
              "            + ' to learn more about interactive tables.';\n",
              "          element.innerHTML = '';\n",
              "          dataTable['output_type'] = 'display_data';\n",
              "          await google.colab.output.renderOutput(dataTable, element);\n",
              "          const docLink = document.createElement('div');\n",
              "          docLink.innerHTML = docLinkHtml;\n",
              "          element.appendChild(docLink);\n",
              "        }\n",
              "      </script>\n",
              "    </div>\n",
              "  </div>\n",
              "  "
            ],
            "text/plain": [
              "  top-left-square top-middle-square  ... bottom-right-square     Class\n",
              "0               x                 x  ...                   o  positive\n",
              "1               x                 x  ...                   o  positive\n",
              "2               x                 x  ...                   x  positive\n",
              "3               x                 x  ...                   b  positive\n",
              "4               x                 x  ...                   b  positive\n",
              "\n",
              "[5 rows x 10 columns]"
            ]
          },
          "metadata": {},
          "execution_count": 1
        }
      ]
    },
    {
      "cell_type": "code",
      "source": [
        "y = tic_tac_toe['Class'].apply(lambda x: 1 if x == 'positive' else 0)\n",
        "X = tic_tac_toe.drop('Class', axis=1)\n",
        "X = pd.get_dummies(X)"
      ],
      "metadata": {
        "id": "Hl1KVuBRcPH-"
      },
      "execution_count": null,
      "outputs": []
    },
    {
      "cell_type": "code",
      "source": [
        "from sklearn.model_selection import train_test_split\n",
        "from sklearn.ensemble import RandomForestClassifier\n",
        "\n",
        "X_train, X_test, y_train, y_test = train_test_split(X, y, test_size=0.8)\n",
        "rfc = RandomForestClassifier()"
      ],
      "metadata": {
        "id": "vUm51-o5cYv_"
      },
      "execution_count": null,
      "outputs": []
    },
    {
      "cell_type": "code",
      "source": [
        "rfc.fit(X_train, y_train)\n",
        "\n",
        "# Create arrays of predictions\n",
        "classification_predictions = rfc.predict(X_test)\n",
        "probability_predictions = rfc.predict_proba(X_test)\n",
        "\n",
        "# Print the truth\n",
        "print('truth')\n",
        "print(pd.Series(y_test).value_counts())\n",
        "\n",
        "# Print out count of binary predictions\n",
        "print('predictions')\n",
        "print(pd.Series(classification_predictions).value_counts())\n",
        "\n",
        "# Print the first value from probability_predictions\n",
        "print('The predicted probabilities are: {}'.format(probability_predictions[0]))"
      ],
      "metadata": {
        "colab": {
          "base_uri": "https://localhost:8080/"
        },
        "id": "DFvDeQKhcer-",
        "outputId": "f301463c-7f94-4cb5-a4d8-1cee13f4a639"
      },
      "execution_count": null,
      "outputs": [
        {
          "output_type": "stream",
          "name": "stdout",
          "text": [
            "truth\n",
            "1    498\n",
            "0    269\n",
            "Name: Class, dtype: int64\n",
            "predictions\n",
            "1    581\n",
            "0    186\n",
            "dtype: int64\n",
            "The predicted probabilities are: [0.14 0.86]\n"
          ]
        }
      ]
    },
    {
      "cell_type": "code",
      "source": [
        "from sklearn.metrics import precision_score, recall_score\n",
        "\n",
        "y_pred = rfc.predict(X_test)\n",
        "\n",
        "print('Precision: ', precision_score(y_test, y_pred, average=None))\n",
        "print('Recall: ', recall_score(y_test, y_pred, average=None))"
      ],
      "metadata": {
        "colab": {
          "base_uri": "https://localhost:8080/"
        },
        "id": "sHHhtykM_36U",
        "outputId": "1350f7ae-187b-4f1f-8798-d23b07604eb5"
      },
      "execution_count": null,
      "outputs": [
        {
          "output_type": "stream",
          "name": "stdout",
          "text": [
            "Precision:  [0.88172043 0.81927711]\n",
            "Recall:  [0.60966543 0.95582329]\n"
          ]
        }
      ]
    },
    {
      "cell_type": "markdown",
      "source": [
        "Vamos falar um pouco sobre precisão e *recall*\n",
        "\n",
        "<img align=\"center\" width=\"600\" src=\"https://upload.wikimedia.org/wikipedia/commons/thumb/2/26/Precisionrecall.svg/525px-Precisionrecall.svg.png?raw=1\">\n"
      ],
      "metadata": {
        "id": "OLbGU9lBNS-5"
      }
    },
    {
      "cell_type": "markdown",
      "source": [
        "Depois de construir vários modelos de classificação baseados no conjunto de dados de jogo da velha, você percebe que alguns modelos não generalizam tão bem quanto outros. Você criou divisões de treinamento e teste exatamente como foi ensinado, então está curioso para saber por que seu processo de validação não está funcionando.\n",
        "\n",
        "Depois de tentar um treinamento diferente, divisão de teste, você notou diferentes precisões para seu modelo de aprendizado de máquina. Antes de ficar muito frustrado com os resultados variados, você decidiu ver o que mais poderia estar acontecendo."
      ],
      "metadata": {
        "id": "FU6uhuA9aayI"
      }
    },
    {
      "cell_type": "code",
      "source": [
        "# Create two different samples of 200 observations\n",
        "sample1 = tic_tac_toe.sample(n=200, random_state=1111)\n",
        "sample2 = tic_tac_toe.sample(n=200, random_state=1171)\n",
        "\n",
        "# Print the number of common observations\n",
        "print('Number of Common events: ',len([index for index in sample1.index if index in sample2.index]))\n",
        "\n",
        "# Print the number of observations in the Class column for both samples\n",
        "print(sample1['Class'].value_counts())\n",
        "print(sample2['Class'].value_counts())"
      ],
      "metadata": {
        "colab": {
          "base_uri": "https://localhost:8080/"
        },
        "id": "usrQMNOOaPoc",
        "outputId": "90057652-c52f-4a18-cb14-57f6b2370e49"
      },
      "execution_count": null,
      "outputs": [
        {
          "output_type": "stream",
          "name": "stdout",
          "text": [
            "Number of Common events:  40\n",
            "positive    134\n",
            "negative     66\n",
            "Name: Class, dtype: int64\n",
            "positive    123\n",
            "negative     77\n",
            "Name: Class, dtype: int64\n"
          ]
        }
      ]
    },
    {
      "cell_type": "markdown",
      "source": [
        "Agora vamos aplicar diferentes métodos de validação cruzada para que possamos entender como o nosso modelo vai responder para diferentes situações"
      ],
      "metadata": {
        "id": "fEL336r28bHP"
      }
    },
    {
      "cell_type": "markdown",
      "source": [
        "### k-Fold\n",
        "\n",
        "<img align=\"center\" width=\"600\" src=\"https://raw.githubusercontent.com/goodboychan/goodboychan.github.io/ea67aa6da30238be774abae9a9d3a7a6117d3003/_notebooks/image/cv.png?raw=1\">"
      ],
      "metadata": {
        "id": "Tk3iuRwg_is0"
      }
    },
    {
      "cell_type": "code",
      "source": [
        "from sklearn.model_selection import KFold\n",
        "\n",
        "import pandas as pd\n",
        "import numpy as np\n",
        "tic_tac_toe = pd.read_csv('https://raw.githubusercontent.com/natmourajr/data/main/tic-tac-toe.csv')\n",
        "\n",
        "X = tic_tac_toe.drop('Class', axis=1)\n",
        "y = tic_tac_toe['Class'].apply(lambda x: 1 if x == 'positive' else 0)\n",
        "\n",
        "# Usando KFold\n",
        "n_folds = 5\n",
        "kf = KFold(n_splits=n_folds, shuffle=True, random_state=1111)\n",
        "\n",
        "# dividindo o conjunto\n",
        "splits = kf.split(X)\n",
        "\n",
        "precision_mat = np.ones([n_folds])\n",
        "recall_mat = np.ones([n_folds])\n",
        "\n",
        "for ifold,(train_index, val_index) in enumerate(splits):\n",
        "  # buscando os conjuntos de treinamento e avaliação\n",
        "  X_train, y_train = pd.get_dummies(X.loc[train_index,:]), y.loc[train_index]\n",
        "  X_val, y_val = pd.get_dummies(X.loc[val_index,:]), y.loc[val_index]\n",
        "  \n",
        "  rfc = RandomForestClassifier()\n",
        "    \n",
        "  # ajuste do modelo\n",
        "  rfc.fit(X_train, y_train)\n",
        "    \n",
        "  # Make predictions, and print the accuracy\n",
        "  y_pred = rfc.predict(X_val)\n",
        "  print('Fold: %i'%(ifold))\n",
        "  print('Precision: ', precision_score(y_val, y_pred, average=\"macro\"))\n",
        "  print('Recall: ', recall_score(y_val, y_pred, average=\"macro\"))\n",
        "  precision_mat[ifold] = precision_score(y_val, y_pred, average=\"macro\")\n",
        "  recall_mat[ifold] = recall_score(y_val, y_pred, average=\"macro\")\n",
        "\n",
        "\n",
        "from IPython.display import display, Latex\n",
        "\n",
        "display(Latex(f'$CV\\ Precision: %1.3f \\pm %1.3f$'%(precision_mat.mean(),precision_mat.std())))\n",
        "display(Latex(f'$CV\\ Recall: %1.3f \\pm %1.3f$'%(recall_mat.mean(),recall_mat.std())))"
      ],
      "metadata": {
        "colab": {
          "base_uri": "https://localhost:8080/",
          "height": 320
        },
        "id": "NHvIof0PAkB7",
        "outputId": "e551325f-ea79-4b40-fc1c-df1e505137fa"
      },
      "execution_count": null,
      "outputs": [
        {
          "output_type": "stream",
          "name": "stdout",
          "text": [
            "Fold: 0\n",
            "Precision:  0.9962406015037594\n",
            "Recall:  0.9916666666666667\n",
            "Fold: 1\n",
            "Precision:  0.9834710743801653\n",
            "Recall:  0.9733333333333334\n",
            "Fold: 2\n",
            "Precision:  1.0\n",
            "Recall:  1.0\n",
            "Fold: 3\n",
            "Precision:  0.9732121644095985\n",
            "Recall:  0.9703069657615113\n",
            "Fold: 4\n",
            "Precision:  1.0\n",
            "Recall:  1.0\n"
          ]
        },
        {
          "output_type": "display_data",
          "data": {
            "text/latex": "$CV\\ Precision: 0.991 \\pm 0.011$",
            "text/plain": [
              "<IPython.core.display.Latex object>"
            ]
          },
          "metadata": {}
        },
        {
          "output_type": "display_data",
          "data": {
            "text/latex": "$CV\\ Recall: 0.987 \\pm 0.013$",
            "text/plain": [
              "<IPython.core.display.Latex object>"
            ]
          },
          "metadata": {}
        }
      ]
    },
    {
      "cell_type": "markdown",
      "source": [
        "### k-Fold Estratificado pelas classes\n",
        "\n",
        "\n",
        "<img align=\"center\" width=\"600\" src=\"https://miro.medium.com/max/562/0*QKJTHrcriSx2ZNYr.png?raw=1\">\n",
        "\n"
      ],
      "metadata": {
        "id": "Hyfur0y6NEWI"
      }
    },
    {
      "cell_type": "code",
      "source": [
        "from sklearn.model_selection import StratifiedKFold\n",
        "\n",
        "import pandas as pd\n",
        "import numpy as np\n",
        "tic_tac_toe = pd.read_csv('https://raw.githubusercontent.com/natmourajr/data/main/tic-tac-toe.csv')\n",
        "\n",
        "X = pd.get_dummies(tic_tac_toe.drop('Class', axis=1))\n",
        "y = tic_tac_toe['Class'].apply(lambda x: 1 if x == 'positive' else 0)\n",
        "\n",
        "# Usando StratifiedKFold\n",
        "n_folds = 5\n",
        "skf = StratifiedKFold(n_splits=n_folds)\n",
        "\n",
        "# dividindo o conjunto\n",
        "splits = skf.split(X, y)\n",
        "\n",
        "precision_mat = np.ones([n_folds])\n",
        "recall_mat = np.ones([n_folds])\n",
        "\n",
        "for ifold,(train_index, val_index) in enumerate(splits):\n",
        "  # buscando os conjuntos de treinamento e avaliação\n",
        "  X_train, y_train = X.loc[train_index,:], y.loc[train_index]\n",
        "  X_val, y_val = X.loc[val_index,:], y.loc[val_index]\n",
        "  \n",
        "  rfc = RandomForestClassifier()\n",
        "    \n",
        "  # ajuste do modelo\n",
        "  rfc.fit(X_train, y_train)\n",
        "    \n",
        "  # Make predictions, and print the accuracy\n",
        "  y_pred = rfc.predict(X_val)\n",
        "  print('Fold: %i'%(ifold))\n",
        "  print('Precision: ', precision_score(y_val, y_pred, average=\"macro\"))\n",
        "  print('Recall: ', recall_score(y_val, y_pred, average=\"macro\"))\n",
        "  precision_mat[ifold] = precision_score(y_val, y_pred, average=\"macro\")\n",
        "  recall_mat[ifold] = recall_score(y_val, y_pred, average=\"macro\")\n",
        "\n",
        "\n",
        "from IPython.display import display, Latex\n",
        "\n",
        "display(Latex(f'$CV\\ Precision: %1.3f \\pm %1.3f$'%(precision_mat.mean(),precision_mat.std())))\n",
        "display(Latex(f'$CV\\ Recall: %1.3f \\pm %1.3f$'%(recall_mat.mean(),recall_mat.std())))"
      ],
      "metadata": {
        "colab": {
          "base_uri": "https://localhost:8080/",
          "height": 320
        },
        "id": "q0w5fWhtK6iB",
        "outputId": "98cbb4fa-278d-4ade-9956-2bb6517bc2ab"
      },
      "execution_count": null,
      "outputs": [
        {
          "output_type": "stream",
          "name": "stdout",
          "text": [
            "Fold: 0\n",
            "Precision:  0.7419354838709677\n",
            "Recall:  0.7344877344877345\n",
            "Fold: 1\n",
            "Precision:  0.899091459721381\n",
            "Recall:  0.8933731343283582\n",
            "Fold: 2\n",
            "Precision:  0.936802118107517\n",
            "Recall:  0.9530746268656717\n",
            "Fold: 3\n",
            "Precision:  0.9053819444444444\n",
            "Recall:  0.8962424242424243\n",
            "Fold: 4\n",
            "Precision:  0.9664179104477613\n",
            "Recall:  0.9318181818181819\n"
          ]
        },
        {
          "output_type": "display_data",
          "data": {
            "text/latex": "$CV\\ Precision: 0.890 \\pm 0.078$",
            "text/plain": [
              "<IPython.core.display.Latex object>"
            ]
          },
          "metadata": {}
        },
        {
          "output_type": "display_data",
          "data": {
            "text/latex": "$CV\\ Recall: 0.882 \\pm 0.077$",
            "text/plain": [
              "<IPython.core.display.Latex object>"
            ]
          },
          "metadata": {}
        }
      ]
    },
    {
      "cell_type": "markdown",
      "source": [
        "### Shuffle Split"
      ],
      "metadata": {
        "id": "jQmcZDG9QpY_"
      }
    },
    {
      "cell_type": "code",
      "source": [
        "from sklearn.model_selection import ShuffleSplit\n",
        "\n",
        "import pandas as pd\n",
        "import numpy as np\n",
        "tic_tac_toe = pd.read_csv('https://raw.githubusercontent.com/natmourajr/data/main/tic-tac-toe.csv')\n",
        "\n",
        "X = pd.get_dummies(tic_tac_toe.drop('Class', axis=1))\n",
        "y = tic_tac_toe['Class'].apply(lambda x: 1 if x == 'positive' else 0)\n",
        "\n",
        "# Usando StratifiedKFold\n",
        "n_folds = 5\n",
        "rs = ShuffleSplit(n_splits=n_folds, test_size=.25, random_state=0)\n",
        "\n",
        "# dividindo o conjunto\n",
        "splits = rs.split(X, y)\n",
        "\n",
        "precision_mat = np.ones([n_folds])\n",
        "recall_mat = np.ones([n_folds])\n",
        "\n",
        "for ifold,(train_index, val_index) in enumerate(splits):\n",
        "  # buscando os conjuntos de treinamento e avaliação\n",
        "  X_train, y_train = X.loc[train_index,:], y.loc[train_index]\n",
        "  X_val, y_val = X.loc[val_index,:], y.loc[val_index]\n",
        "  \n",
        "  rfc = RandomForestClassifier()\n",
        "    \n",
        "  # ajuste do modelo\n",
        "  rfc.fit(X_train, y_train)\n",
        "    \n",
        "  # Make predictions, and print the accuracy\n",
        "  y_pred = rfc.predict(X_val)\n",
        "  print('Fold: %i'%(ifold))\n",
        "  print('Precision: ', precision_score(y_val, y_pred, average=\"macro\"))\n",
        "  print('Recall: ', recall_score(y_val, y_pred, average=\"macro\"))\n",
        "  precision_mat[ifold] = precision_score(y_val, y_pred, average=\"macro\")\n",
        "  recall_mat[ifold] = recall_score(y_val, y_pred, average=\"macro\")\n",
        "\n",
        "\n",
        "from IPython.display import display, Latex\n",
        "\n",
        "display(Latex(f'$CV\\ Precision: %1.3f \\pm %1.3f$'%(precision_mat.mean(),precision_mat.std())))\n",
        "display(Latex(f'$CV\\ Recall: %1.3f \\pm %1.3f$'%(recall_mat.mean(),recall_mat.std())))"
      ],
      "metadata": {
        "colab": {
          "base_uri": "https://localhost:8080/",
          "height": 320
        },
        "id": "GFqx9ymTPiak",
        "outputId": "631535bd-1840-4aaf-b0f4-6bea1b3fcf39"
      },
      "execution_count": null,
      "outputs": [
        {
          "output_type": "stream",
          "name": "stdout",
          "text": [
            "Fold: 0\n",
            "Precision:  0.9782608695652174\n",
            "Recall:  0.9593023255813953\n",
            "Fold: 1\n",
            "Precision:  0.9903030303030302\n",
            "Recall:  0.9903030303030302\n",
            "Fold: 2\n",
            "Precision:  0.9747628083491462\n",
            "Recall:  0.9633333333333334\n",
            "Fold: 3\n",
            "Precision:  0.9873417721518987\n",
            "Recall:  0.9767441860465116\n",
            "Fold: 4\n",
            "Precision:  0.9724451991355356\n",
            "Recall:  0.9812485258275021\n"
          ]
        },
        {
          "output_type": "display_data",
          "data": {
            "text/latex": "$CV\\ Precision: 0.981 \\pm 0.007$",
            "text/plain": [
              "<IPython.core.display.Latex object>"
            ]
          },
          "metadata": {}
        },
        {
          "output_type": "display_data",
          "data": {
            "text/latex": "$CV\\ Recall: 0.974 \\pm 0.011$",
            "text/plain": [
              "<IPython.core.display.Latex object>"
            ]
          },
          "metadata": {}
        }
      ]
    },
    {
      "cell_type": "code",
      "source": [
        "print(X_val.shape)\n",
        "print(y_val.shape)"
      ],
      "metadata": {
        "colab": {
          "base_uri": "https://localhost:8080/"
        },
        "id": "SNI7GLNEJY-n",
        "outputId": "ac838562-d1cd-4629-8a73-fd2025152652"
      },
      "execution_count": null,
      "outputs": [
        {
          "output_type": "stream",
          "name": "stdout",
          "text": [
            "(192, 24)\n",
            "(192,)\n"
          ]
        }
      ]
    }
  ],
  "metadata": {
    "kernelspec": {
      "display_name": "Python 3",
      "name": "python3"
    },
    "language_info": {
      "name": "python"
    },
    "colab": {
      "name": "4_Estatistica_parte_2.ipynb",
      "provenance": [],
      "collapsed_sections": [],
      "toc_visible": true,
      "include_colab_link": true
    }
  },
  "nbformat": 4,
  "nbformat_minor": 0
}